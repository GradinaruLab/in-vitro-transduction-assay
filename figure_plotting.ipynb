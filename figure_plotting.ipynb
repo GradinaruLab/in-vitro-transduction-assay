{
 "cells": [
  {
   "cell_type": "code",
   "execution_count": null,
   "id": "3d84157d",
   "metadata": {},
   "outputs": [],
   "source": [
    "# Basic imports\n",
    "import numpy as np\n",
    "import pandas as pd\n",
    "\n",
    "# Plotting tools\n",
    "import bokeh\n",
    "from bokeh.models.widgets import Panel, Tabs\n",
    "from bokeh.io import output_file, show\n",
    "from bokeh.plotting import figure\n",
    "from bokeh.models import BasicTicker, ColorBar, LinearColorMapper, ColumnDataSource, PrintfTickFormatter, HoverTool\n",
    "from bokeh.transform import transform\n",
    "from bokeh.palettes import Viridis256\n",
    "\n",
    "import cellseg.plot\n",
    "\n",
    "bokeh.io.output_notebook()"
   ]
  },
  {
   "cell_type": "markdown",
   "id": "b7903420-47f6-4abe-91e1-d63f02be50b7",
   "metadata": {},
   "source": [
    "## Figure plotting\n",
    "The purpose of this code is to generate the figure panels for publication from the data collected by `in_vitro_cell_segmentation.ipynb`"
   ]
  },
  {
   "cell_type": "markdown",
   "id": "ddc22f56-33a9-46ef-8548-f8f71d2c215e",
   "metadata": {},
   "source": [
    "We can start by importing the data that we want to work with, merging the dataframes to connect the condition with the data, and sorting the dataframe:"
   ]
  },
  {
   "cell_type": "code",
   "execution_count": null,
   "id": "25c0cccb",
   "metadata": {},
   "outputs": [],
   "source": [
    "# Use read_csv to create a dataframe from the data csv \n",
    "df_data = pd.read_csv('data/quantification/20220831-data.csv', comment='#')"
   ]
  },
  {
   "cell_type": "code",
   "execution_count": null,
   "id": "ba6d2611",
   "metadata": {},
   "outputs": [],
   "source": [
    "# Use read_csv to create a dataframe from the look up table\n",
    "df_meta = pd.read_csv('data/quantification/20220829_data_lookup_table.csv', comment='#')"
   ]
  },
  {
   "cell_type": "code",
   "execution_count": null,
   "id": "5a0daa1d",
   "metadata": {},
   "outputs": [],
   "source": [
    "# Use merge the two dataframes, using round, plate, and well to combine them\n",
    "df = pd.merge(df_data, df_meta, on=[\"Round\", \"Plate\", \"Well\"])"
   ]
  },
  {
   "cell_type": "code",
   "execution_count": null,
   "id": "47425775",
   "metadata": {},
   "outputs": [],
   "source": [
    "#We can sort the values to ensure they're in a logical order\n",
    "df = df.sort_values(by = ['Round', 'Plate', 'Well'], axis = 0)\n",
    "\n",
    "# Drop any empty rows and reset the index so that it is in sequence\n",
    "df = df.dropna().reset_index(drop=True)"
   ]
  },
  {
   "cell_type": "markdown",
   "id": "3e5ce63d-9ae9-4c2a-bf49-e3eca686e22f",
   "metadata": {},
   "source": [
    "We can perform some initial analysis on the data to determine the percent positive area of each well, the scaled area (to enable plotting at a smaller size), and the total brightness per signal area."
   ]
  },
  {
   "cell_type": "code",
   "execution_count": null,
   "id": "3f32987b",
   "metadata": {},
   "outputs": [],
   "source": [
    "# Determine the percent positive and add it to a new column\n",
    "df['Percent Positive'] = df['Signal Area']*100/df['Bright Field Area']\n",
    "df['Percent Positive Scaled'] = df['Percent Positive']*0.5\n",
    "df['Total Brightness per Signal Area'] = df['Total Brightness']/df['Signal Area']"
   ]
  },
  {
   "cell_type": "markdown",
   "id": "19738c76-090c-4da5-ba0f-65d99f045004",
   "metadata": {},
   "source": [
    "We can then examine the resulting dataframe: "
   ]
  },
  {
   "cell_type": "code",
   "execution_count": null,
   "id": "4f0389cf",
   "metadata": {},
   "outputs": [],
   "source": [
    "# Create a index to only include valid data (selected by experimenter)\n",
    "inds = df['Include'] == True\n",
    "\n",
    "# Create a reduced data frame of this data\n",
    "df_reduced = df.loc[inds]\n",
    "\n",
    "# Look at the dataframe \n",
    "df_reduced.head()"
   ]
  },
  {
   "cell_type": "markdown",
   "id": "8107fa33-bfa4-4e12-b4f9-83bf56b34934",
   "metadata": {},
   "source": [
    "Now that we have our data, we want to generate the figures:"
   ]
  },
  {
   "cell_type": "markdown",
   "id": "63fb12af-61de-46c9-a07a-abea2617d08e",
   "metadata": {
    "tags": []
   },
   "source": [
    "## Extended Data Figure 2"
   ]
  },
  {
   "cell_type": "markdown",
   "id": "3003a766-1e89-4bee-9c0c-096e8d2d99c6",
   "metadata": {},
   "source": [
    "First, we want to compare PHP.eB against AAV9 at a range of doses without a receptor."
   ]
  },
  {
   "cell_type": "code",
   "execution_count": null,
   "id": "3b137b0a-8a8c-4c6b-a9e1-58b06fde7056",
   "metadata": {},
   "outputs": [],
   "source": [
    "# We want to make a new dataframe with just the Ly6a and receptor-free conditions.\n",
    "# First, we can find the indices of these receptors.\n",
    "inds = (df_reduced['Receptor'] == 'Ly6a') | (df_reduced['Receptor'] == 'None')\n",
    "\n",
    "# Make this a new dataframe df_edf2\n",
    "df_edf2 = df_reduced.loc[inds]"
   ]
  },
  {
   "cell_type": "code",
   "execution_count": null,
   "id": "93856fdf-a220-4c90-8e79-636504414a4e",
   "metadata": {},
   "outputs": [],
   "source": [
    "# Next, we can reduce this to just the PHP.eB and AAV9 conditions.\n",
    "inds = (df_edf2['Virus'] == 'PHP.eB') | (df_edf2['Virus'] == 'AAV9')\n",
    "\n",
    "df_edf2 = df_edf2.loc[inds]"
   ]
  },
  {
   "cell_type": "code",
   "execution_count": null,
   "id": "256b09ee-bd94-4a1d-b3d0-2938a4d6a7c9",
   "metadata": {},
   "outputs": [],
   "source": [
    "# We only want to examine a single round, since including data from other rounds could skew the results due to variability. \n",
    "inds = (df_edf2['Round'] == 10)\n",
    "\n",
    "df_edf2 = df_edf2[inds]"
   ]
  },
  {
   "cell_type": "code",
   "execution_count": null,
   "id": "edf1b9ca-7967-4c7e-a646-f8892bc5916d",
   "metadata": {},
   "outputs": [],
   "source": [
    "# We need to convert the dose values to a string to allow us to plot catagorically\n",
    "df_edf2 = df_edf2.astype({\"Dose\": str})"
   ]
  },
  {
   "cell_type": "code",
   "execution_count": null,
   "id": "5b487a95-3d57-466f-9fc3-1a13ff67d454",
   "metadata": {},
   "outputs": [],
   "source": [
    "# We can determine the mean of each of the values\n",
    "df_edf2 = df_edf2.groupby(['Virus', 'Receptor', 'Dose']).mean().reset_index()"
   ]
  },
  {
   "cell_type": "code",
   "execution_count": null,
   "id": "7bfdd949-0886-4ec3-9bbb-415067689682",
   "metadata": {},
   "outputs": [],
   "source": [
    "# Setting our index to only examine data with Receptor none, we can plot the untransfected AAV9 and PHP.eB transfections\n",
    "inds = (df_edf2['Receptor'] == 'None')\n",
    "\n",
    "# Dataframe to use\n",
    "source = ColumnDataSource(df_edf2[inds])\n",
    "\n",
    "# Plotting parameters\n",
    "p = figure(x_range = df_edf2['Virus'].unique(), \n",
    "           y_range = ['500000000.0', '1000000000.0', '5000000000.0', '10000000000.0', '50000000000.0'],\n",
    "           title = 'No Receptor',\n",
    "           y_axis_label = 'Dose (vg/well)',\n",
    "           x_axis_label = 'Virus',\n",
    "          width = 400,\n",
    "          height = 500)\n",
    "\n",
    "# Set the color map based on the median cell brightness in df_edf2\n",
    "color_mapper = LinearColorMapper(palette = Viridis256, low = df_edf2['Total Brightness per Signal Area'].min(), high = df_edf2['Total Brightness per Signal Area'].max())\n",
    "\n",
    "# Add a color bar\n",
    "color_bar = ColorBar(color_mapper = color_mapper,\n",
    "                     location = (0, 0),\n",
    "                     ticker = BasicTicker())\n",
    "\n",
    "p.add_layout(color_bar, 'right')\n",
    "\n",
    "# Plot the percent positive scaled data 0.5*percent positive \n",
    "p.scatter(x = 'Virus', y = 'Dose', size = 'Percent Positive', fill_color = transform('Total Brightness per Signal Area', color_mapper), source = source)\n",
    "\n",
    "p.xaxis.major_label_orientation = np.pi/2\n",
    "\n",
    "p.output_backend = \"svg\"\n",
    "\n",
    "show(p)"
   ]
  },
  {
   "cell_type": "code",
   "execution_count": null,
   "id": "a6a283f5-0ae1-46fb-8dbc-ff1035837507",
   "metadata": {},
   "outputs": [],
   "source": [
    "# Setting our index to only examine data with Receptor Ly6a, we can plot the Ly6a transfected AAV9 and PHP.eB transfections\n",
    "inds = (df_edf2['Receptor'] == 'Ly6a')\n",
    "\n",
    "source = ColumnDataSource(df_edf2[inds])\n",
    "\n",
    "p = figure(x_range = df_edf2['Virus'].unique(), \n",
    "           y_range = ['500000000.0', '1000000000.0', '5000000000.0', '10000000000.0', '50000000000.0'],\n",
    "           title = 'Transfected with Ly6a',\n",
    "           y_axis_label = 'Dose (vg/well)',\n",
    "           x_axis_label = 'Virus',\n",
    "          width = 400,\n",
    "          height = 500)\n",
    "\n",
    "color_mapper = LinearColorMapper(palette = Viridis256, low = df_edf2['Total Brightness per Signal Area'].min(), high = df_edf2['Total Brightness per Signal Area'].max())\n",
    "\n",
    "color_bar = ColorBar(color_mapper = color_mapper,\n",
    "                     location = (0, 0),\n",
    "                     ticker = BasicTicker())\n",
    "\n",
    "p.add_layout(color_bar, 'right')\n",
    "\n",
    "p.scatter(x = 'Virus', y = 'Dose', size = 'Percent Positive', fill_color = transform('Total Brightness per Signal Area', color_mapper), source = source)\n",
    "\n",
    "p.xaxis.major_label_orientation = np.pi/2\n",
    "\n",
    "p.output_backend = \"svg\"\n",
    "\n",
    "show(p)"
   ]
  },
  {
   "cell_type": "code",
   "execution_count": null,
   "id": "e642e24c-345f-48e5-a317-bb2649aa0a9b",
   "metadata": {},
   "outputs": [],
   "source": [
    "min(df_edf2['Percent Positive']), max(df_edf2.loc[inds]['Percent Positive']), df_edf2['Total Brightness per Signal Area'].min(), df_edf2['Total Brightness per Signal Area'].max()"
   ]
  },
  {
   "cell_type": "markdown",
   "id": "492ed56e-685a-4b3a-89f4-42245661e926",
   "metadata": {
    "tags": []
   },
   "source": [
    "## Extended Data Figure 5"
   ]
  },
  {
   "cell_type": "code",
   "execution_count": null,
   "id": "5c5e0160-651c-4d93-92f8-9ebb99c39b18",
   "metadata": {},
   "outputs": [],
   "source": [
    "# We want to make a new dataframe with just the 1e9 dose.\n",
    "# First, we can find the indices of these receptors.\n",
    "inds = (df_reduced['Dose'] == 1e9)\n",
    "\n",
    "# Make this a new dataframe df_edf5\n",
    "df_edf5 = df_reduced.loc[inds]"
   ]
  },
  {
   "cell_type": "code",
   "execution_count": null,
   "id": "708641b7-e43a-49ff-bba7-227e2f481541",
   "metadata": {},
   "outputs": [],
   "source": [
    "# Next, we can reduce this to just to round 7.\n",
    "inds = (((df_edf5['Virus'] != 'PHP.C1') & (df_edf5['Virus'] != 'PHP.C3') & (df_edf5['Round'] == 7)) | ((df_edf5['Virus'] == 'PHP.C1') | (df_edf5['Virus'] == 'PHP.C3')) & (df_edf5['Round'] < 8))\n",
    "\n",
    "df_edf5 = df_edf5.loc[inds]"
   ]
  },
  {
   "cell_type": "code",
   "execution_count": null,
   "id": "bd986481-7453-4422-abc2-1d1aea11be33",
   "metadata": {},
   "outputs": [],
   "source": [
    "# We can determine the mean of each of the values\n",
    "df_edf5 = df_edf5.groupby(['Virus', 'Receptor', 'Dose']).mean().reset_index()"
   ]
  },
  {
   "cell_type": "code",
   "execution_count": null,
   "id": "ef7a3e75-d64c-42a5-9600-2004bc17e709",
   "metadata": {
    "tags": []
   },
   "outputs": [],
   "source": [
    "source = ColumnDataSource(df_edf5)\n",
    "\n",
    "p = figure(x_range = ['PHP.eB',\n",
    "                      'CAP-B10',\n",
    "                      'CAP-B22',\n",
    "                      '9P08',\n",
    "                      '9P16',\n",
    "                      'PHP.N',\n",
    "                      'PHP.C1',\n",
    "                      'PHP.C2',\n",
    "                      'PHP.C3',\n",
    "                      'PHP.C4',\n",
    "                      'AAV-F',\n",
    "                      '9P13',\n",
    "                      '9P33',\n",
    "                      '9P39'],\n",
    "          y_range = ['Cd59',\n",
    "                     'Lynx1',\n",
    "                     'Lypd5',\n",
    "                     'Ly6h',\n",
    "                     'Ly6e', \n",
    "                     'Ly6c1',\n",
    "                     'Ly6a'],\n",
    "           title = 'Receptor screen of Ly6 family',\n",
    "           y_axis_label = 'Receptor',\n",
    "           x_axis_label = 'Virus',\n",
    "           width=800, \n",
    "           height=400)\n",
    "\n",
    "color_mapper = LinearColorMapper(palette = Viridis256, low = df_edf5['Total Brightness per Signal Area'].min(), high = df_edf5['Total Brightness per Signal Area'].max())\n",
    "\n",
    "color_bar = ColorBar(color_mapper = color_mapper,\n",
    "                     location = (0, 0),\n",
    "                     ticker = BasicTicker())\n",
    "\n",
    "p.add_layout(color_bar, 'right')\n",
    "\n",
    "p.scatter(x = 'Virus', y = 'Receptor', size = 'Percent Positive', fill_color = transform('Total Brightness per Signal Area', color_mapper), source = source)\n",
    "\n",
    "p.add_tools(HoverTool(tooltips = [('Round', '@Round'), ('Plate', '@Plate'), ('Well', '@Well'), ('Virus', '@Virus'), ('Receptor', '@Receptor'), ('Dose', '@Dose')]))\n",
    "\n",
    "p.xaxis.major_label_orientation = np.pi/2\n",
    "\n",
    "p.output_backend = \"svg\"\n",
    "\n",
    "show(p)"
   ]
  },
  {
   "cell_type": "code",
   "execution_count": null,
   "id": "0ed75fd2-6b50-4c23-9382-6140cf4c108e",
   "metadata": {},
   "outputs": [],
   "source": [
    "inds = (df_edf5['Virus'] != 'PHP.C1') & (df_edf5['Virus'] != 'PHP.C3')\n",
    "min(df_edf5.loc[inds]['Percent Positive']), max(df_edf5.loc[inds]['Percent Positive']), df_edf5['Total Brightness per Signal Area'].min(), df_edf5['Total Brightness per Signal Area'].max()"
   ]
  },
  {
   "cell_type": "markdown",
   "id": "a67c3c74-4379-4d6c-89d5-71073d647f2c",
   "metadata": {},
   "source": [
    "## Extended Data Figure 6"
   ]
  },
  {
   "cell_type": "code",
   "execution_count": null,
   "id": "5c496392-2b71-4f2c-b97b-ed89ecf123e4",
   "metadata": {},
   "outputs": [],
   "source": [
    "# We want to make a new dataframe with just the 1e9 dose.\n",
    "# First, we can find the indices of these receptors.\n",
    "inds = (df_reduced['Dose'] == 1e9)\n",
    "\n",
    "# Make this a new dataframe df_edf6\n",
    "df_edf6 = df_reduced.loc[inds]"
   ]
  },
  {
   "cell_type": "code",
   "execution_count": null,
   "id": "021b5cac-08a0-43ed-8ff0-a46e965d2dae",
   "metadata": {},
   "outputs": [],
   "source": [
    "inds = (df_edf6['Round'] == 10)\n",
    "\n",
    "df_edf6 = df_edf6.loc[inds]"
   ]
  },
  {
   "cell_type": "code",
   "execution_count": null,
   "id": "c3b4fd6d-1a36-430b-8606-9e56689f779d",
   "metadata": {},
   "outputs": [],
   "source": [
    "# We can determine the mean of each of the values\n",
    "df_edf6 = df_edf6.groupby(['Virus', 'Receptor', 'Dose']).mean().reset_index()"
   ]
  },
  {
   "cell_type": "code",
   "execution_count": null,
   "id": "031237ed-0236-4501-9931-ebae2d08c5ab",
   "metadata": {},
   "outputs": [],
   "source": [
    "source = ColumnDataSource(df_edf6)\n",
    "\n",
    "p = figure(x_range = ['9P31',\n",
    "                      '9P36'],\n",
    "          y_range = ['Car15',\n",
    "                     'Car14',\n",
    "                     'Car12',\n",
    "                     'Car9',\n",
    "                     'Car4'],\n",
    "           title = 'Receptor screen of carbonic anhydrase family',\n",
    "           y_axis_label = 'Receptor',\n",
    "           x_axis_label = 'Virus',\n",
    "           width = 400, \n",
    "           height = 500)\n",
    "\n",
    "color_mapper = LinearColorMapper(palette = Viridis256, low = df_edf6['Total Brightness per Signal Area'].min(), high = df_edf6['Total Brightness per Signal Area'].max())\n",
    "\n",
    "color_bar = ColorBar(color_mapper = color_mapper,\n",
    "                     location = (0, 0),\n",
    "                     ticker = BasicTicker())\n",
    "\n",
    "p.add_layout(color_bar, 'right')\n",
    "\n",
    "p.scatter(x = 'Virus', y = 'Receptor', size = 'Percent Positive', fill_color = transform('Total Brightness per Signal Area', color_mapper), source = source)\n",
    "\n",
    "p.add_tools(HoverTool(tooltips = [('Round', '@Round'), ('Plate', '@Plate'), ('Well', '@Well'), ('Virus', '@Virus'), ('Receptor', '@Receptor'), ('Dose', '@Dose')]))\n",
    "\n",
    "p.xaxis.major_label_orientation = np.pi/2\n",
    "\n",
    "p.output_backend = \"svg\"\n",
    "\n",
    "show(p)"
   ]
  },
  {
   "cell_type": "code",
   "execution_count": null,
   "id": "f434e866-07b8-4f39-9734-fef578f378f8",
   "metadata": {},
   "outputs": [],
   "source": [
    "inds = (df_edf6['Receptor'] == 'Car4') | (df_edf6['Receptor'] == 'Car9') | (df_edf6['Receptor'] == 'Car12') | (df_edf6['Receptor'] == 'Car14') | (df_edf6['Receptor'] == 'Car15')\n",
    "min(df_edf6.loc[inds]['Percent Positive']), max(df_edf6.loc[inds]['Percent Positive']), df_edf6['Total Brightness per Signal Area'].min(), df_edf6['Total Brightness per Signal Area'].max()"
   ]
  },
  {
   "cell_type": "markdown",
   "id": "40e9d37a-cd94-462e-a7f0-d5cd3e5688f1",
   "metadata": {},
   "source": [
    "## Extended Data Figure 8"
   ]
  },
  {
   "cell_type": "code",
   "execution_count": null,
   "id": "83d443e5-904a-4070-93db-0f61153f32cf",
   "metadata": {},
   "outputs": [],
   "source": [
    "#We can sort the values to ensure they're in a logical order\n",
    "inds = (df_reduced['Dose'] == 1e9)\n",
    "\n",
    "df_edf8 = df_reduced.loc[inds]"
   ]
  },
  {
   "cell_type": "code",
   "execution_count": null,
   "id": "3665d3fc-7ba1-4c25-9079-228badb00ecf",
   "metadata": {},
   "outputs": [],
   "source": [
    "# Next, we can reduce this to just to round 7.\n",
    "inds = (((df_edf8['Virus'] != 'PHP.C1') & (df_edf8['Virus'] != 'PHP.C3') & (df_edf8['Virus'] != '9P13') & (df_edf8['Virus'] != '9P33')) & (df_edf8['Round'] < 8)) | \\\n",
    "        ((df_edf8['Virus'] == 'PHP.C1') | (df_edf8['Virus'] == 'PHP.C3')) & (df_edf8['Round'] < 7)\n",
    "\n",
    "df_edf8 = df_edf8.loc[inds]"
   ]
  },
  {
   "cell_type": "code",
   "execution_count": null,
   "id": "7c684d3b-f269-4fc4-8979-216e6ae9658f",
   "metadata": {},
   "outputs": [],
   "source": [
    "# We can determine the mean of each of the values\n",
    "df_edf8 = df_edf8.groupby(['Virus', 'Receptor', 'Dose']).mean().reset_index()"
   ]
  },
  {
   "cell_type": "code",
   "execution_count": null,
   "id": "0ca35c56-c504-426e-a06c-110db13df72f",
   "metadata": {},
   "outputs": [],
   "source": [
    "source = ColumnDataSource(df_edf8)\n",
    "\n",
    "p = figure(x_range = ['PHP.eB',\n",
    "                      'CAP-B10',\n",
    "                      'CAP-B22',\n",
    "                      'PHP.N',\n",
    "                      'PHP.C1',\n",
    "                      'PHP.C2',\n",
    "                      'PHP.C3',\n",
    "                      'PHP.C4',\n",
    "                      'AAV-F'],\n",
    "                      #'9P31',\n",
    "                      #'9P36'],\n",
    "          y_range = ['Tek',\n",
    "                     'Slco1c1',\n",
    "                     'Slco1a4',\n",
    "                     'Slc7a1',\n",
    "                     'Slc6a6',\n",
    "                     'Slc2a1', \n",
    "                     'Slc22a8',\n",
    "                     'Serinc3',\n",
    "                     'Prom1',\n",
    "                     'Podxl',\n",
    "                     'Pecam1', \n",
    "                     'Paqr5', \n",
    "                     'Ocln', \n",
    "                     'Ly6e', \n",
    "                     'Ly6c1', \n",
    "                     'Ly6a', \n",
    "                     'Kitl', \n",
    "                     'Kdr', \n",
    "                     'Itm2b', \n",
    "                     'Igf1r', \n",
    "                     'Ifitm3', \n",
    "                     'Ifitm2', \n",
    "                     'Flt1', \n",
    "                     'Fcgrt', \n",
    "                     'Esam', \n",
    "                     'Eng',\n",
    "                     'Clic4', \n",
    "                     'Clic1', \n",
    "                     'Clec2d', \n",
    "                     'Cldn5', \n",
    "                     'Cdh5', \n",
    "                     'Cd34', \n",
    "                     'Car4', \n",
    "                     'Bsg', \n",
    "                     'App', \n",
    "                     'Adgrl4',\n",
    "                     'Adgrf5', \n",
    "                     'Acvrl1', \n",
    "                     'Abcg2', \n",
    "                     'Abcb1a'],\n",
    "           title = 'Candidate Receptors',\n",
    "           y_axis_label = 'Receptor',\n",
    "           x_axis_label = 'Virus',\n",
    "           width=800, \n",
    "           height=1000)\n",
    "\n",
    "color_mapper = LinearColorMapper(palette = Viridis256, low = df_edf8['Total Brightness per Signal Area'].min(), high = df_edf8['Total Brightness per Signal Area'].max())\n",
    "\n",
    "color_bar = ColorBar(color_mapper = color_mapper,\n",
    "                     location = (0, 0),\n",
    "                     ticker = BasicTicker())\n",
    "\n",
    "p.add_layout(color_bar, 'right')\n",
    "\n",
    "p.scatter(x = 'Virus', y = 'Receptor', size = 'Percent Positive', fill_color = transform('Total Brightness per Signal Area', color_mapper), source = source)\n",
    "\n",
    "p.add_tools(HoverTool(tooltips = [('Round', '@Round'), ('Plate', '@Plate'), ('Well', '@Well'), ('Virus', '@Virus'), ('Receptor', '@Receptor'), ('Dose', '@Dose')]))\n",
    "\n",
    "p.xaxis.major_label_orientation = np.pi/2\n",
    "\n",
    "p.output_backend = \"svg\"\n",
    "\n",
    "show(p)"
   ]
  },
  {
   "cell_type": "code",
   "execution_count": null,
   "id": "e9bf460e-2799-4a5a-bb2f-37f68a6f7b62",
   "metadata": {},
   "outputs": [],
   "source": [
    "min(df_edf8['Percent Positive']), max(df_edf8['Percent Positive']), df_edf8['Total Brightness per Signal Area'].min(), df_edf8['Total Brightness per Signal Area'].max()"
   ]
  },
  {
   "cell_type": "code",
   "execution_count": null,
   "id": "d599b379-ab5e-41b6-a4e3-84f75b1a8cf1",
   "metadata": {},
   "outputs": [],
   "source": [
    "inds = (df_reduced['Dose'] == 1e9)\n",
    "\n",
    "df_edf8_2 = df_reduced.loc[inds]"
   ]
  },
  {
   "cell_type": "code",
   "execution_count": null,
   "id": "4618cb50-ec21-45a9-a5b9-9cfbcfa4b98a",
   "metadata": {},
   "outputs": [],
   "source": [
    "# Next, we can reduce this to just to round 7.\n",
    "inds = ((df_edf8_2['Virus'] == '9P31') | (df_edf8_2['Virus'] == '9P36')) & ((df_edf8_2['Round'] > 6) & (df_edf8_2['Round'] < 10))\n",
    "\n",
    "df_edf8_2 = df_edf8_2.loc[inds]"
   ]
  },
  {
   "cell_type": "code",
   "execution_count": null,
   "id": "4c5a4289-ff5b-4136-b1da-8b1497436505",
   "metadata": {},
   "outputs": [],
   "source": [
    "# We can determine the mean of each of the values\n",
    "df_edf8_2 = df_edf8_2.groupby(['Virus', 'Receptor', 'Dose']).mean().reset_index()"
   ]
  },
  {
   "cell_type": "code",
   "execution_count": null,
   "id": "8328d18f-aace-4574-8ba6-a9db9c827f3c",
   "metadata": {},
   "outputs": [],
   "source": [
    "source = ColumnDataSource(df_edf8_2)\n",
    "\n",
    "p = figure(x_range = ['9P31',\n",
    "                      '9P36'],\n",
    "          y_range = ['Tek',\n",
    "                     'Sclo1c1',\n",
    "                     'Slco1a4',\n",
    "                     'Slc7a1',\n",
    "                     'Slc6a6',\n",
    "                     'Slc2a1', \n",
    "                     'Slc22a8',\n",
    "                     'Serinc3',\n",
    "                     'Prom1',\n",
    "                     'Podxl',\n",
    "                     'Pecam1', \n",
    "                     'Paqr5', \n",
    "                     'Ocln', \n",
    "                     'Ly6e', \n",
    "                     'Ly6c1', \n",
    "                     'Ly6a', \n",
    "                     'Kitl', \n",
    "                     'Kdr', \n",
    "                     'Itm2b', \n",
    "                     'Igf1r', \n",
    "                     'Ifitm3', \n",
    "                     'Ifitm2', \n",
    "                     'Flt1', \n",
    "                     'Fcgrt', \n",
    "                     'Esam', \n",
    "                     'Eng',\n",
    "                     'Clic4', \n",
    "                     'Clic1', \n",
    "                     'Clec2d', \n",
    "                     'Cldn5', \n",
    "                     'Cdh5', \n",
    "                     'Cd34', \n",
    "                     'Car4', \n",
    "                     'Bsg', \n",
    "                     'App', \n",
    "                     'Adgrl4',\n",
    "                     'Adgrf5', \n",
    "                     'Acvrl1', \n",
    "                     'Abcg2', \n",
    "                     'Abcb1a'],\n",
    "           title = 'Candidate Receptors',\n",
    "           y_axis_label = 'Receptor',\n",
    "           x_axis_label = 'Virus',\n",
    "           width=300, \n",
    "           height=1000)\n",
    "\n",
    "color_mapper = LinearColorMapper(palette = Viridis256, low = df_edf8['Total Brightness per Signal Area'].min(), high = df_edf8['Total Brightness per Signal Area'].max())\n",
    "\n",
    "color_bar = ColorBar(color_mapper = color_mapper,\n",
    "                     location = (0, 0),\n",
    "                     ticker = BasicTicker())\n",
    "\n",
    "p.add_layout(color_bar, 'right')\n",
    "\n",
    "p.scatter(x = 'Virus', y = 'Receptor', size = 'Percent Positive Scaled', fill_color = transform('Total Brightness per Signal Area', color_mapper), source = source)\n",
    "\n",
    "p.add_tools(HoverTool(tooltips = [('Round', '@Round'), ('Plate', '@Plate'), ('Well', '@Well'), ('Virus', '@Virus'), ('Receptor', '@Receptor'), ('Dose', '@Dose')]))\n",
    "\n",
    "p.xaxis.major_label_orientation = np.pi/2\n",
    "\n",
    "p.output_backend = \"svg\"\n",
    "\n",
    "show(p)"
   ]
  },
  {
   "cell_type": "code",
   "execution_count": null,
   "id": "7c0175b0-72ea-4e39-9c67-2371b9a61db8",
   "metadata": {},
   "outputs": [],
   "source": [
    "inds = (df_edf8_2['Virus'] != 'PHP.C1') & (df_edf8_2['Virus'] != 'PHP.C3')\n",
    "min(df_edf8_2.loc[inds]['Percent Positive']), max(df_edf8_2.loc[inds]['Percent Positive']), min(df_edf8_2.loc[inds]['Total Brightness per Signal Area']), max(df_edf8_2.loc[inds]['Total Brightness per Signal Area'])"
   ]
  },
  {
   "cell_type": "markdown",
   "id": "163d400b-98ac-4413-b62c-1825a0292a58",
   "metadata": {},
   "source": [
    "## Extended Data Figure 10"
   ]
  },
  {
   "cell_type": "code",
   "execution_count": null,
   "id": "6cf1ce42-d268-4a11-b022-a875db4ff1d6",
   "metadata": {},
   "outputs": [],
   "source": [
    "# Select the round for the corresponding figure\n",
    "inds = (df_reduced['Round'] == 11) & (df_reduced['Dose'] != 5e8)\n",
    "\n",
    "# Make this a new dataframe df_edf10\n",
    "df_edf10 = df_reduced.loc[inds]"
   ]
  },
  {
   "cell_type": "code",
   "execution_count": null,
   "id": "f3b43940-2bf0-47b3-bb51-38ba65e9f147",
   "metadata": {},
   "outputs": [],
   "source": [
    "# We need to convert the dose values to a string to allow us to plot catagorically\n",
    "df_edf10 = df_edf10.astype({\"Dose\": str})"
   ]
  },
  {
   "cell_type": "code",
   "execution_count": null,
   "id": "4833ed3b-a722-4234-8b90-796ac95f2592",
   "metadata": {},
   "outputs": [],
   "source": [
    "# We can determine the mean of each of the values\n",
    "df_edf10 = df_edf10.groupby(['Virus', 'Receptor', 'Dose']).mean().reset_index()"
   ]
  },
  {
   "cell_type": "code",
   "execution_count": null,
   "id": "0dc3b586-6f5d-4f64-b8be-a4d9a49302a0",
   "metadata": {},
   "outputs": [],
   "source": [
    "df_edf10"
   ]
  },
  {
   "cell_type": "code",
   "execution_count": null,
   "id": "2e57b09e-eab8-4caf-9b3c-47c64def2a26",
   "metadata": {},
   "outputs": [],
   "source": [
    "for virus in ['PHP.eB', 'PHP.C2', 'AAV-F', 'eC 1', 'eC 3', 'eC 4', 'eC 5', 'eC 8','eC 9', 'eC 11', 'eC 12', 'eC 14', 'eC 15', 'eC 16', 'eC 19']:\n",
    "    inds = (df_edf10['Virus'] == virus)\n",
    "    \n",
    "    source = ColumnDataSource(df_edf10[inds])\n",
    "\n",
    "    p = figure(x_range = ['None',\n",
    "                         'Ly6c1'],\n",
    "              y_range = ['50000000.0',\n",
    "                         '100000000.0',\n",
    "                         '1000000000.0'],\n",
    "               title = virus,\n",
    "               x_axis_label = 'Receptor',\n",
    "               y_axis_label = 'Dose',\n",
    "               width=400, \n",
    "               height=400)\n",
    "\n",
    "    color_mapper = LinearColorMapper(palette = Viridis256, low = df_edf10['Total Brightness per Signal Area'].min(), high = df_edf10['Total Brightness per Signal Area'].max())\n",
    "\n",
    "    color_bar = ColorBar(color_mapper = color_mapper,\n",
    "                         location = (0, 0),\n",
    "                         ticker = BasicTicker())\n",
    "\n",
    "    p.add_layout(color_bar, 'right')\n",
    "\n",
    "    p.scatter(x = 'Receptor', y = 'Dose', size = 'Percent Positive', fill_color = transform('Total Brightness per Signal Area', color_mapper), source = source)\n",
    "\n",
    "    p.add_tools(HoverTool(tooltips = [('Round', '@Round'), ('Plate', '@Plate'), ('Well', '@Well'), ('Virus', '@Virus'), ('Receptor', '@Receptor'), ('Dose', '@Dose')]))\n",
    "\n",
    "    p.xaxis.major_label_orientation = np.pi/2\n",
    "\n",
    "    p.output_backend = \"svg\"\n",
    "\n",
    "    show(p)"
   ]
  },
  {
   "cell_type": "code",
   "execution_count": null,
   "id": "2c2ff5b2-fa53-4693-9c3c-f0739cb7fccb",
   "metadata": {},
   "outputs": [],
   "source": [
    "min(df_edf10['Percent Positive']), max(df_edf10['Percent Positive']), min(df_edf10['Total Brightness per Signal Area']), max(df_edf10['Total Brightness per Signal Area'])"
   ]
  },
  {
   "cell_type": "markdown",
   "id": "b9c0f94d-aa5f-4be8-996a-7f9da374ff63",
   "metadata": {},
   "source": [
    "## Figure 4"
   ]
  },
  {
   "cell_type": "markdown",
   "id": "013f28e2-4ef3-4c9c-9b74-c64ef9876517",
   "metadata": {},
   "source": [
    "### Ly6a mutated"
   ]
  },
  {
   "cell_type": "code",
   "execution_count": null,
   "id": "caaae2a8-a8ed-4301-9210-49edd7e9e8cf",
   "metadata": {},
   "outputs": [],
   "source": [
    "inds = (df_reduced['Virus'] == 'PHP.eB') & (df_reduced['Round'] == 12) & (df_reduced['Dose'] != 1e10) \n",
    "\n",
    "df_4_pt1 = df_reduced.loc[inds]"
   ]
  },
  {
   "cell_type": "code",
   "execution_count": null,
   "id": "126cd8fe-7bc8-4219-bb87-a16c763943b9",
   "metadata": {
    "tags": []
   },
   "outputs": [],
   "source": [
    "# We need to convert the dose values to a string to allow us to plot catagorically\n",
    "df_4_pt1 = df_4_pt1.astype({\"Dose\": str})"
   ]
  },
  {
   "cell_type": "code",
   "execution_count": null,
   "id": "76994e22-15cc-4fed-b332-cc1bd3eebc7d",
   "metadata": {},
   "outputs": [],
   "source": [
    "# We can determine the mean of each of the values\n",
    "df_4_pt1 = df_4_pt1.groupby(['Virus', 'Receptor', 'Dose']).mean().reset_index()"
   ]
  },
  {
   "cell_type": "code",
   "execution_count": null,
   "id": "fb81a339-0b7d-44fd-acc4-152cf1fa4ffa",
   "metadata": {},
   "outputs": [],
   "source": [
    "df_4_pt1"
   ]
  },
  {
   "cell_type": "code",
   "execution_count": null,
   "id": "b29f7907-66fd-4d40-92fb-81bcfd1da8d7",
   "metadata": {},
   "outputs": [],
   "source": [
    "source = ColumnDataSource(df_4_pt1)\n",
    "\n",
    "p = figure(x_range = ['10000000.0',\n",
    "                      '100000000.0',\n",
    "                      '1000000000.0'],\n",
    "          y_range = ['Ly6a A58R',\n",
    "                     'Ly6a'],\n",
    "           title = 'Mutated Ly6a Infectivity Assay',\n",
    "           x_axis_label = 'Dose',\n",
    "           y_axis_label = 'Receptor',\n",
    "           width=400, \n",
    "           height=300)\n",
    "\n",
    "color_mapper = LinearColorMapper(palette = Viridis256, low = df_4_pt1['Total Brightness per Signal Area'].min(), high = df_4_pt1['Total Brightness per Signal Area'].max())\n",
    "\n",
    "color_bar = ColorBar(color_mapper = color_mapper,\n",
    "                     location = (0, 0),\n",
    "                     ticker = BasicTicker())\n",
    "\n",
    "p.add_layout(color_bar, 'right')\n",
    "\n",
    "p.scatter(x = 'Dose', y = 'Receptor', size = 'Percent Positive', fill_color = transform('Total Brightness per Signal Area', color_mapper), source = source)\n",
    "\n",
    "p.add_tools(HoverTool(tooltips = [('Round', '@Round'), ('Plate', '@Plate'), ('Well', '@Well'), ('Virus', '@Virus'), ('Receptor', '@Receptor'), ('Dose', '@Dose')]))\n",
    "\n",
    "p.xaxis.major_label_orientation = np.pi/2\n",
    "\n",
    "p.output_backend = \"svg\"\n",
    "\n",
    "show(p)"
   ]
  },
  {
   "cell_type": "code",
   "execution_count": null,
   "id": "79c0b4bc-0d81-4a9d-8378-3958dcfe5f97",
   "metadata": {},
   "outputs": [],
   "source": [
    "min(df_4_pt1['Percent Positive']), max(df_4_pt1['Percent Positive']), min(df_4_pt1['Total Brightness per Signal Area']), max(df_4_pt1['Total Brightness per Signal Area'])"
   ]
  },
  {
   "cell_type": "code",
   "execution_count": null,
   "id": "bf79d505-aeb8-40b4-8e41-0bffe4c813ee",
   "metadata": {},
   "outputs": [],
   "source": [
    "inds = (df_reduced['Virus'] == '9P31') & (df_reduced['Round'] == 12) & (df_reduced['Dose'] != 1e10) \n",
    "\n",
    "df_4_pt2 = df_reduced.loc[inds]"
   ]
  },
  {
   "cell_type": "code",
   "execution_count": null,
   "id": "c16196bd-473b-4eeb-a5d3-072444f2b0f8",
   "metadata": {},
   "outputs": [],
   "source": [
    "# We need to convert the dose values to a string to allow us to plot catagorically\n",
    "df_4_pt2 = df_4_pt2.astype({\"Dose\": str})"
   ]
  },
  {
   "cell_type": "code",
   "execution_count": null,
   "id": "efadda3a-a675-47f5-b855-d67ec85239a7",
   "metadata": {},
   "outputs": [],
   "source": [
    "# We can determine the mean of each of the values\n",
    "df_4_pt2 = df_4_pt2.groupby(['Virus', 'Receptor', 'Dose']).mean().reset_index()"
   ]
  },
  {
   "cell_type": "code",
   "execution_count": null,
   "id": "9e73dd33-327c-47bb-8ac3-6ee48f8f44cc",
   "metadata": {},
   "outputs": [],
   "source": [
    "df_4_pt2"
   ]
  },
  {
   "cell_type": "code",
   "execution_count": null,
   "id": "8c96eadc-85b9-4a40-bca4-6ac3359e1c87",
   "metadata": {},
   "outputs": [],
   "source": [
    "source = ColumnDataSource(df_4_pt2)\n",
    "\n",
    "p = figure(x_range = ['10000000.0',\n",
    "                      '100000000.0',\n",
    "                      '1000000000.0'],\n",
    "          y_range = ['msCar4 L71R',\n",
    "                     'msCar4'],\n",
    "           title = 'Mutated Car4 Infectivity Assay',\n",
    "           x_axis_label = 'Dose',\n",
    "           y_axis_label = 'Receptor',\n",
    "           width=400, \n",
    "           height=300)\n",
    "\n",
    "color_mapper = LinearColorMapper(palette = Viridis256, low = df_4_pt2['Total Brightness per Signal Area'].min(), high = df_4_pt2['Total Brightness per Signal Area'].max())\n",
    "\n",
    "color_bar = ColorBar(color_mapper = color_mapper,\n",
    "                     location = (0, 0),\n",
    "                     ticker = BasicTicker())\n",
    "\n",
    "p.add_layout(color_bar, 'right')\n",
    "\n",
    "p.scatter(x = 'Dose', y = 'Receptor', size = 'Percent Positive Scaled', fill_color = transform('Total Brightness per Signal Area', color_mapper), source = source)\n",
    "\n",
    "p.add_tools(HoverTool(tooltips = [('Round', '@Round'), ('Plate', '@Plate'), ('Well', '@Well'), ('Virus', '@Virus'), ('Receptor', '@Receptor'), ('Dose', '@Dose')]))\n",
    "\n",
    "p.xaxis.major_label_orientation = np.pi/2\n",
    "\n",
    "p.output_backend = \"svg\"\n",
    "\n",
    "show(p)"
   ]
  },
  {
   "cell_type": "code",
   "execution_count": null,
   "id": "5ca0f00e-901f-452c-b0ed-24e6a6331967",
   "metadata": {},
   "outputs": [],
   "source": [
    "min(df_4_pt2['Percent Positive']), max(df_4_pt2['Percent Positive']), min(df_4_pt2['Total Brightness per Signal Area']), max(df_4_pt2['Total Brightness per Signal Area'])"
   ]
  },
  {
   "cell_type": "code",
   "execution_count": null,
   "id": "36cbcbf4-ad94-4120-88f3-e940282886e9",
   "metadata": {},
   "outputs": [],
   "source": [
    "inds = (df_reduced['Dose'] == 1e9) & (df_reduced['Round'] == 10)\n",
    "\n",
    "df_4_pt3 = df_reduced.loc[inds]"
   ]
  },
  {
   "cell_type": "code",
   "execution_count": null,
   "id": "d94875fd-16ed-4e71-b8bd-3085bfaa4129",
   "metadata": {},
   "outputs": [],
   "source": [
    "inds = (df_4_pt3['Virus'] == '9P31') | (df_4_pt3['Virus'] == '9P36')\n",
    "\n",
    "df_4_pt3 = df_4_pt3.loc[inds]"
   ]
  },
  {
   "cell_type": "code",
   "execution_count": null,
   "id": "97152c8b-f3e8-4216-95a5-42997592104d",
   "metadata": {},
   "outputs": [],
   "source": [
    "inds = (df_4_pt3['Receptor'] == 'Car4') | (df_4_pt3['Receptor'] == 'rsCar4') | (df_4_pt3['Receptor'] == 'hsCar4')\n",
    "\n",
    "df_4_pt3 = df_4_pt3.loc[inds]"
   ]
  },
  {
   "cell_type": "code",
   "execution_count": null,
   "id": "051486fc-6122-45c8-8964-47cab27008c1",
   "metadata": {},
   "outputs": [],
   "source": [
    "# We can determine the mean of each of the values\n",
    "df_4_pt3 = df_4_pt3.groupby(['Virus', 'Receptor', 'Dose']).mean().reset_index()"
   ]
  },
  {
   "cell_type": "code",
   "execution_count": null,
   "id": "1113b51b-7377-46e6-8345-c581a15f1833",
   "metadata": {},
   "outputs": [],
   "source": [
    "source = ColumnDataSource(df_4_pt3)\n",
    "\n",
    "p = figure(x_range = ['Car4',\n",
    "                     'rsCar4',\n",
    "                     'hsCar4'],\n",
    "          y_range = ['9P36',\n",
    "                     '9P31'],\n",
    "           title = 'Car4 comparison',\n",
    "           x_axis_label = 'Receptor',\n",
    "           y_axis_label = 'Virus',\n",
    "           width=400, \n",
    "           height=300)\n",
    "\n",
    "color_mapper = LinearColorMapper(palette = Viridis256, low = df_4_pt3['Total Brightness per Signal Area'].min(), high = df_4_pt3['Total Brightness per Signal Area'].max())\n",
    "\n",
    "color_bar = ColorBar(color_mapper = color_mapper,\n",
    "                     location = (0, 0),\n",
    "                     ticker = BasicTicker())\n",
    "\n",
    "p.add_layout(color_bar, 'right')\n",
    "\n",
    "p.scatter(x = 'Receptor', y = 'Virus', size = 'Percent Positive', fill_color = transform('Total Brightness per Signal Area', color_mapper), source = source)\n",
    "\n",
    "p.add_tools(HoverTool(tooltips = [('Round', '@Round'), ('Plate', '@Plate'), ('Well', '@Well'), ('Virus', '@Virus'), ('Receptor', '@Receptor'), ('Dose', '@Dose')]))\n",
    "\n",
    "p.xaxis.major_label_orientation = np.pi/2\n",
    "\n",
    "p.output_backend = \"svg\"\n",
    "\n",
    "show(p)"
   ]
  },
  {
   "cell_type": "code",
   "execution_count": null,
   "id": "b2fafa86-dcd3-4660-8a8c-12c370584da6",
   "metadata": {},
   "outputs": [],
   "source": [
    "min(df_4_pt3['Percent Positive']), max(df_4_pt3['Percent Positive']), min(df_4_pt3['Total Brightness per Signal Area']), max(df_4_pt3['Total Brightness per Signal Area'])"
   ]
  },
  {
   "cell_type": "code",
   "execution_count": null,
   "id": "a7400127-95c8-4a75-80b6-d4784036f655",
   "metadata": {},
   "outputs": [],
   "source": [
    "inds = (df_reduced['Round'] == 12)\n",
    "\n",
    "df_4_pt4 = df_reduced.loc[inds]"
   ]
  },
  {
   "cell_type": "code",
   "execution_count": null,
   "id": "9cf85c9e-237d-4a54-992b-e4bb7015dc40",
   "metadata": {},
   "outputs": [],
   "source": [
    "inds = (df_4_pt4['Virus'] == '9P31') | (df_4_pt4['Virus'] == '9P36')\n",
    "\n",
    "df_4_pt4 = df_4_pt4.loc[inds]"
   ]
  },
  {
   "cell_type": "code",
   "execution_count": null,
   "id": "d8caf22d-2b38-4328-84cb-1cea256531a4",
   "metadata": {},
   "outputs": [],
   "source": [
    "# We need to convert the dose values to a string to allow us to plot catagorically\n",
    "df_4_pt4 = df_4_pt4.astype({\"Dose\": str})"
   ]
  },
  {
   "cell_type": "code",
   "execution_count": null,
   "id": "2e388f52-0cd6-46a4-a707-dcf41838d704",
   "metadata": {},
   "outputs": [],
   "source": [
    "# We can determine the mean of each of the values\n",
    "df_4_pt4 = df_4_pt4.groupby(['Virus', 'Receptor', 'Dose']).mean().reset_index()"
   ]
  },
  {
   "cell_type": "code",
   "execution_count": null,
   "id": "03334d17-90ec-4100-8cab-82da2418821b",
   "metadata": {},
   "outputs": [],
   "source": [
    "df_4_pt4"
   ]
  },
  {
   "cell_type": "code",
   "execution_count": null,
   "id": "115c3a78-84ae-466f-96b8-aa93e5a0e363",
   "metadata": {},
   "outputs": [],
   "source": [
    "for receptor in ['msCar4', 'huCar4', 'TM 118', 'TM 119', 'TM 120', 'TM 121']:\n",
    "    inds = (df_4_pt4['Receptor'] == receptor)\n",
    "    \n",
    "    source = ColumnDataSource(df_4_pt4[inds])\n",
    "\n",
    "    p = figure(x_range = ['9P31',\n",
    "                          '9P36'],\n",
    "              y_range = ['10000000.0',\n",
    "                         '100000000.0',\n",
    "                         '1000000000.0',\n",
    "                         '10000000000.0'],\n",
    "               title = receptor,\n",
    "               x_axis_label = 'Virus',\n",
    "               y_axis_label = 'Dose',\n",
    "               width=400, \n",
    "               height=400)\n",
    "\n",
    "    color_mapper = LinearColorMapper(palette = Viridis256, low = df_4_pt4['Total Brightness per Signal Area'].min(), high = df_4_pt4['Total Brightness per Signal Area'].max())\n",
    "\n",
    "    color_bar = ColorBar(color_mapper = color_mapper,\n",
    "                         location = (0, 0),\n",
    "                         ticker = BasicTicker())\n",
    "\n",
    "    p.add_layout(color_bar, 'right')\n",
    "\n",
    "    p.scatter(x = 'Virus', y = 'Dose', size = 'Percent Positive Scaled', fill_color = transform('Total Brightness per Signal Area', color_mapper), source = source)\n",
    "\n",
    "    p.add_tools(HoverTool(tooltips = [('Round', '@Round'), ('Plate', '@Plate'), ('Well', '@Well'), ('Virus', '@Virus'), ('Receptor', '@Receptor'), ('Dose', '@Dose')]))\n",
    "\n",
    "    p.xaxis.major_label_orientation = np.pi/2\n",
    "\n",
    "    p.output_backend = \"svg\"\n",
    "\n",
    "    show(p)"
   ]
  },
  {
   "cell_type": "code",
   "execution_count": null,
   "id": "05369cd8-18e6-4499-a158-65df5817f96e",
   "metadata": {},
   "outputs": [],
   "source": [
    "inds = (df_reduced['Dose'] == 1e9) & (df_reduced['Round'] == 12)\n",
    "\n",
    "df_4_pt4 = df_reduced.loc[inds]"
   ]
  },
  {
   "cell_type": "code",
   "execution_count": null,
   "id": "d42add6f-f983-403c-91ce-7f169d0714f2",
   "metadata": {},
   "outputs": [],
   "source": [
    "inds = (df_4_pt4['Virus'] == '9P31') | (df_4_pt4['Virus'] == '9P36')\n",
    "\n",
    "df_4_pt4 = df_4_pt4.loc[inds]"
   ]
  },
  {
   "cell_type": "code",
   "execution_count": null,
   "id": "dc9f49ca-d243-4e62-a5c7-9507fbe52ef9",
   "metadata": {},
   "outputs": [],
   "source": [
    "inds = (df_4_pt4['Receptor'] == 'msCar4') | (df_4_pt4['Receptor'] == 'huCar4') | (df_4_pt4['Receptor'] == 'TM 118') | (df_4_pt4['Receptor'] == 'TM 119') | (df_4_pt4['Receptor'] == 'TM 120') | (df_4_pt4['Receptor'] == 'TM 121')\n",
    " \n",
    "df_4_pt4 = df_4_pt4.loc[inds]"
   ]
  },
  {
   "cell_type": "code",
   "execution_count": null,
   "id": "765637b5-f49e-4516-a160-89309a54124d",
   "metadata": {},
   "outputs": [],
   "source": [
    "# We can determine the mean of each of the values\n",
    "df_4_pt4 = df_4_pt4.groupby(['Virus', 'Receptor', 'Dose']).mean().reset_index()"
   ]
  },
  {
   "cell_type": "code",
   "execution_count": null,
   "id": "301e5f55-90dd-4090-b134-26f9958429a2",
   "metadata": {},
   "outputs": [],
   "source": [
    "source = ColumnDataSource(df_4_pt4)\n",
    "\n",
    "p = figure(x_range = ['msCar4', \n",
    "                      'huCar4', \n",
    "                      'TM 118', \n",
    "                      'TM 119', \n",
    "                      'TM 120', \n",
    "                      'TM 121'],\n",
    "          y_range = ['9P36',\n",
    "                     '9P31'],\n",
    "           title = 'Receptor comparison',\n",
    "           x_axis_label = 'Receptor',\n",
    "           y_axis_label = 'Virus',\n",
    "           width=400, \n",
    "           height=300)\n",
    "\n",
    "color_mapper = LinearColorMapper(palette = Viridis256, low = df_4_pt4['Total Brightness per Signal Area'].min(), high = df_4_pt4['Total Brightness per Signal Area'].max())\n",
    "\n",
    "color_bar = ColorBar(color_mapper = color_mapper,\n",
    "                     location = (0, 0),\n",
    "                     ticker = BasicTicker())\n",
    "\n",
    "p.add_layout(color_bar, 'right')\n",
    "\n",
    "p.scatter(x = 'Receptor', y = 'Virus', size = 'Percent Positive Scaled', fill_color = transform('Total Brightness per Signal Area', color_mapper), source = source)\n",
    "\n",
    "p.add_tools(HoverTool(tooltips = [('Round', '@Round'), ('Plate', '@Plate'), ('Well', '@Well'), ('Virus', '@Virus'), ('Receptor', '@Receptor'), ('Dose', '@Dose')]))\n",
    "\n",
    "p.xaxis.major_label_orientation = np.pi/2\n",
    "\n",
    "p.output_backend = \"svg\"\n",
    "\n",
    "show(p)"
   ]
  },
  {
   "cell_type": "markdown",
   "id": "d59ee7e3-0bf3-4dac-9122-3d12bcc3d958",
   "metadata": {},
   "source": [
    "---------"
   ]
  },
  {
   "cell_type": "code",
   "execution_count": null,
   "id": "21bcf1ac-6c9f-4839-878e-2cbb815e68da",
   "metadata": {},
   "outputs": [],
   "source": [
    "# Use read_csv to create a dataframe from the data csv \n",
    "df_data = pd.read_csv('data/quantification/20220831-data.csv', comment='#')\n",
    "\n",
    "# Use read_csv to create a dataframe from the look up table\n",
    "df_meta = pd.read_csv('data/quantification/20220829_data_lookup_table.csv', comment='#')"
   ]
  },
  {
   "cell_type": "code",
   "execution_count": null,
   "id": "7b0cbc0b-c68c-4545-8e82-e19871e26961",
   "metadata": {},
   "outputs": [],
   "source": [
    "# Use merge the two dataframes, using round, plate, and well to combine them\n",
    "df = pd.merge(df_data, df_meta, on=[\"Round\", \"Plate\", \"Well\"])"
   ]
  },
  {
   "cell_type": "code",
   "execution_count": null,
   "id": "0a16d726-ccfc-401b-a37d-d51827189a36",
   "metadata": {},
   "outputs": [],
   "source": [
    "#We can sort the values to ensure they're in a logical order\n",
    "df = df.sort_values(by = ['Round', 'Plate', 'Well'], axis = 0)\n",
    "\n",
    "# Drop any empty rows and reset the index so that it is in sequence\n",
    "df = df.dropna().reset_index(drop=True)"
   ]
  },
  {
   "cell_type": "code",
   "execution_count": null,
   "id": "608f27f3-4cdf-4c54-9ae8-6bf529948608",
   "metadata": {},
   "outputs": [],
   "source": [
    "# Determine the percent positive and add it to a new column\n",
    "df['Percent Positive'] = df['Signal Area']*100/df['Bright Field Area']\n",
    "df['Percent Positive Scaled'] = df['Percent Positive']*0.5\n",
    "df['Total Brightness per Signal Area'] = df['Total Brightness'].astype(float)/df['Signal Area']"
   ]
  },
  {
   "cell_type": "code",
   "execution_count": null,
   "id": "34544f21-ad48-4e85-97bd-1d6f3124adf5",
   "metadata": {},
   "outputs": [],
   "source": [
    "# Create a index to only include valid data (selected by experimenter)\n",
    "inds = df['Include'] == True\n",
    "\n",
    "# Create a reduced data frame of this data\n",
    "df_reduced = df.loc[inds]\n",
    "\n",
    "# Look at the dataframe \n",
    "df_reduced.head()"
   ]
  },
  {
   "cell_type": "code",
   "execution_count": null,
   "id": "0e1911e2-399b-4cc3-b362-d9e5b1df98a5",
   "metadata": {},
   "outputs": [],
   "source": [
    "inds = (df_reduced['DMSO (%)'] == 0.3)\n",
    "\n",
    "df_x = df_reduced.loc[inds]"
   ]
  },
  {
   "cell_type": "code",
   "execution_count": null,
   "id": "d5f8eab3-1cad-4eb6-8cd6-b3c954cce122",
   "metadata": {},
   "outputs": [],
   "source": [
    "inds = df_x['Signal Area'].astype(float) < df_x['Bright Field Area']*1\n",
    "df_x_tempfix = df_x.loc[inds]"
   ]
  },
  {
   "cell_type": "code",
   "execution_count": null,
   "id": "b3387d69-0508-4f99-bb6f-25c4f97a7f8e",
   "metadata": {},
   "outputs": [],
   "source": [
    "# We can determine the mean of each of the values\n",
    "df_x_grouped = df_x_tempfix.groupby(['Virus', 'Receptor', 'Dose', 'Brinzolamide (nM)']).mean().reset_index()"
   ]
  },
  {
   "cell_type": "code",
   "execution_count": null,
   "id": "aa9cbbcc-6799-490f-b651-9637e4efa248",
   "metadata": {},
   "outputs": [],
   "source": [
    "df_x_grouped"
   ]
  },
  {
   "cell_type": "code",
   "execution_count": null,
   "id": "ecb156d4-27b0-40ae-bbdf-e26f827fb99f",
   "metadata": {},
   "outputs": [],
   "source": [
    "# We need to convert the dose values to a string to allow us to plot catagorically\n",
    "df_x_grouped = df_x_grouped.astype({\"Brinzolamide (nM)\": str})\n",
    "df_x_grouped = df_x_grouped.astype({\"Dose\": str})"
   ]
  },
  {
   "cell_type": "code",
   "execution_count": null,
   "id": "d263a0ef-a496-44a4-996d-4facf8a61e17",
   "metadata": {},
   "outputs": [],
   "source": [
    "for receptor in ['msCar4', 'Ly6a']:\n",
    "    for virus in ['9P31', '9P36', 'PHP.eB']:\n",
    "        inds = (df_x_grouped['Receptor'] == receptor) & (df_x_grouped['Virus'] == virus)\n",
    "\n",
    "        source = ColumnDataSource(df_x_grouped[inds])\n",
    "\n",
    "        p = figure(x_range = ['500000000.0',\n",
    "                              '1000000000.0'],\n",
    "                  y_range = ['0.0',\n",
    "                             '1.0',\n",
    "                             '100.0',\n",
    "                             '300.0'],\n",
    "                   title = receptor + ' and ' + virus,\n",
    "                   x_axis_label = 'Virus',\n",
    "                   y_axis_label = 'Dose',\n",
    "                   width=300, \n",
    "                   height=400)\n",
    "\n",
    "        color_mapper = LinearColorMapper(palette = Viridis256, low = df_x_grouped[ 'Total Brightness per Signal Area'].min(), high = df_x_grouped['Total Brightness per Signal Area'].max())\n",
    "\n",
    "        color_bar = ColorBar(color_mapper = color_mapper,\n",
    "                             location = (0, 0),\n",
    "                             ticker = BasicTicker())\n",
    "\n",
    "        p.add_layout(color_bar, 'right')\n",
    "\n",
    "        p.scatter(x = 'Dose', y = 'Brinzolamide (nM)', size = 'Percent Positive Scaled', fill_color = transform('Total Brightness per Signal Area', color_mapper), source = source)\n",
    "\n",
    "        p.add_tools(HoverTool(tooltips = [('Round', '@Round'), ('Plate', '@Plate'), ('Well', '@Well'), ('Virus', '@Virus'), ('Receptor', '@Receptor'), ('Dose', '@Dose')]))\n",
    "\n",
    "        p.xaxis.major_label_orientation = np.pi/2\n",
    "\n",
    "        p.output_backend = \"svg\"\n",
    "\n",
    "        show(p)"
   ]
  },
  {
   "cell_type": "markdown",
   "id": "f6cee4dc-b899-49fe-849d-16f00f5a2b3f",
   "metadata": {},
   "source": [
    "----------"
   ]
  },
  {
   "cell_type": "code",
   "execution_count": null,
   "id": "30128389-959a-4002-9226-4ea405b88e2f",
   "metadata": {},
   "outputs": [],
   "source": [
    "# Use read_csv to create a dataframe from the data csv \n",
    "df_data = pd.read_csv('data/quantification/20220831-data.csv', comment='#')"
   ]
  },
  {
   "cell_type": "code",
   "execution_count": null,
   "id": "f0ae7130-cfed-4c86-81db-9b53d1f10bfe",
   "metadata": {},
   "outputs": [],
   "source": [
    "# Use read_csv to create a dataframe from the look up table\n",
    "df_meta = pd.read_csv('data/quantification/20220829_data_lookup_table.csv', comment='#')"
   ]
  },
  {
   "cell_type": "code",
   "execution_count": null,
   "id": "d9d41dcc-ff8d-48e4-8a64-7b393647fb18",
   "metadata": {},
   "outputs": [],
   "source": [
    "# Use merge the two dataframes, using round, plate, and well to combine them\n",
    "df = pd.merge(df_data, df_meta, on=[\"Round\", \"Plate\", \"Well\"])"
   ]
  },
  {
   "cell_type": "code",
   "execution_count": null,
   "id": "1295b34a-eddb-4ecc-af0c-6d3ca88ccd27",
   "metadata": {},
   "outputs": [],
   "source": [
    "#We can sort the values to ensure they're in a logical order\n",
    "df = df.sort_values(by = ['Round', 'Plate', 'Well'], axis = 0)\n",
    "\n",
    "# Drop any empty rows and reset the index so that it is in sequence\n",
    "df = df.dropna().reset_index(drop=True)"
   ]
  },
  {
   "cell_type": "code",
   "execution_count": null,
   "id": "c03f6902-10f2-4e31-8a03-1fb55066ead9",
   "metadata": {},
   "outputs": [],
   "source": [
    "# Determine the percent positive and add it to a new column\n",
    "df['Percent Positive'] = df['Signal Area']*100/df['Bright Field Area']\n",
    "df['Percent Positive Scaled'] = df['Percent Positive']*0.5\n",
    "df['Total Brightness per Signal Area'] = df['Total Brightness']/df['Signal Area']"
   ]
  },
  {
   "cell_type": "code",
   "execution_count": null,
   "id": "d3f9c526-64c3-486d-9ac6-1e5b31226b8d",
   "metadata": {},
   "outputs": [],
   "source": [
    "# Create a index to only include valid data (selected by experimenter)\n",
    "inds = df['Include'] == True\n",
    "\n",
    "# Create a reduced data frame of this data\n",
    "df_reduced = df.loc[inds]\n",
    "\n",
    "# Look at the dataframe \n",
    "df_reduced.head()"
   ]
  },
  {
   "cell_type": "code",
   "execution_count": null,
   "id": "2ffde974-3a10-4584-bd58-0ae789e54736",
   "metadata": {},
   "outputs": [],
   "source": [
    "inds = (df_reduced['Round'] == 15) & (df_reduced['Dose'] == 1e9)\n",
    "df_y = df_reduced.loc[inds]"
   ]
  },
  {
   "cell_type": "code",
   "execution_count": null,
   "id": "8bfe2ff0-84c8-4ac0-a015-aaad02a7efef",
   "metadata": {},
   "outputs": [],
   "source": [
    "# We can determine the mean of each of the values\n",
    "df_y_grouped = df_y.groupby(['Virus', 'Receptor', 'Dose']).mean().reset_index()"
   ]
  },
  {
   "cell_type": "code",
   "execution_count": null,
   "id": "a349e77b-5208-4165-93dc-3e99d7b9542d",
   "metadata": {},
   "outputs": [],
   "source": [
    "inds = (df_y_grouped['Virus'] == 'TM126') | (df_y_grouped['Virus'] == 'TM127')\n",
    "\n",
    "df_y_grouped = df_y_grouped.loc[inds]"
   ]
  },
  {
   "cell_type": "code",
   "execution_count": null,
   "id": "5d7391ef-9422-41cc-bd38-bff360140941",
   "metadata": {},
   "outputs": [],
   "source": [
    "source = ColumnDataSource(df_y_grouped)\n",
    "\n",
    "p = figure(x_range = ['None',\n",
    "                      'msCar4',\n",
    "                      'rhCar4',\n",
    "                      'huCar4'],\n",
    "          y_range = ['TM127',\n",
    "                     'TM126'],\n",
    "           title = 'Car4 comparison',\n",
    "           x_axis_label = 'Receptor',\n",
    "           y_axis_label = 'Virus',\n",
    "           width=300, \n",
    "           height=300)\n",
    "\n",
    "color_mapper = LinearColorMapper(palette = Viridis256, low = df_y_grouped['Total Brightness per Signal Area'].min(), high = df_y_grouped['Total Brightness per Signal Area'].max())\n",
    "\n",
    "color_bar = ColorBar(color_mapper = color_mapper,\n",
    "                     location = (0, 0),\n",
    "                     ticker = BasicTicker())\n",
    "\n",
    "p.add_layout(color_bar, 'right')\n",
    "\n",
    "p.scatter(x = 'Receptor', y = 'Virus', size = 'Percent Positive', fill_color = transform('Total Brightness per Signal Area', color_mapper), source = source)\n",
    "\n",
    "p.add_tools(HoverTool(tooltips = [('Round', '@Round'), ('Plate', '@Plate'), ('Well', '@Well'), ('Virus', '@Virus'), ('Receptor', '@Receptor'), ('Dose', '@Dose')]))\n",
    "\n",
    "p.xaxis.major_label_orientation = np.pi/2\n",
    "\n",
    "p.output_backend = \"svg\"\n",
    "\n",
    "show(p)"
   ]
  },
  {
   "cell_type": "code",
   "execution_count": null,
   "id": "ff1a1c72-f91d-4723-ac68-6fb8a4c3c1f1",
   "metadata": {},
   "outputs": [],
   "source": [
    "# We can determine the mean of each of the values\n",
    "df_y_grouped = df_y.groupby(['Virus', 'Receptor', 'Dose']).mean().reset_index()"
   ]
  },
  {
   "cell_type": "code",
   "execution_count": null,
   "id": "177861de-b67d-46c6-867c-b3e9c683b784",
   "metadata": {},
   "outputs": [],
   "source": [
    "inds = (df_y_grouped['Virus'] == 'RR045') | (df_y_grouped['Virus'] == 'RR475') | \\\n",
    "(df_y_grouped['Virus'] == 'RD4') | (df_y_grouped['Virus'] == 'RDC16') | (df_y_grouped['Virus'] == 'MP3') | (df_y_grouped['Virus'] == 'RDM18') | \\\n",
    "(df_y_grouped['Virus'] == 'MP1A') | (df_y_grouped['Virus'] == 'RDM5') | (df_y_grouped['Virus'] == 'RD2') | (df_y_grouped['Virus'] == 'RDC9') | \\\n",
    "(df_y_grouped['Virus'] == 'RM174') | (df_y_grouped['Virus'] == 'RD5') | (df_y_grouped['Virus'] == 'MR2') | (df_y_grouped['Virus'] == 'RDC8')| \\\n",
    "(df_y_grouped['Virus'] == 'MP13') | (df_y_grouped['Virus'] == 'RM222')\n",
    "\n",
    "df_y_grouped = df_y_grouped.loc[inds]"
   ]
  },
  {
   "cell_type": "code",
   "execution_count": null,
   "id": "e86da011-8874-42f5-aee0-c7ce7ba9500e",
   "metadata": {},
   "outputs": [],
   "source": [
    "source = ColumnDataSource(df_y_grouped)\n",
    "\n",
    "p = figure(x_range = ['None',\n",
    "                      'msCar4',\n",
    "                      'rhCar4',\n",
    "                      'huCar4'],\n",
    "          y_range = ['RR045',\n",
    "                     'RR475',\n",
    "                     'RD4',\n",
    "                     'RDC16',\n",
    "                     'MP3',\n",
    "                     'RDM18',\n",
    "                     'MP1A',\n",
    "                     'RDM5',\n",
    "                     'RD2',\n",
    "                     'RDC9',\n",
    "                     'RM174',\n",
    "                     'RD5',\n",
    "                     'MR2',\n",
    "                     'RDC8',\n",
    "                     'MP13',\n",
    "                     'RM222'],\n",
    "           title = 'Car4 comparison',\n",
    "           x_axis_label = 'Receptor',\n",
    "           y_axis_label = 'Virus',\n",
    "           width=300, \n",
    "           height=700)\n",
    "\n",
    "color_mapper = LinearColorMapper(palette = Viridis256, low = df_y_grouped['Total Brightness per Signal Area'].min(), high = df_y_grouped['Total Brightness per Signal Area'].max())\n",
    "\n",
    "color_bar = ColorBar(color_mapper = color_mapper,\n",
    "                     location = (0, 0),\n",
    "                     ticker = BasicTicker())\n",
    "\n",
    "p.add_layout(color_bar, 'right')\n",
    "\n",
    "p.scatter(x = 'Receptor', y = 'Virus', size = 'Percent Positive', fill_color = transform('Total Brightness per Signal Area', color_mapper), source = source)\n",
    "\n",
    "p.add_tools(HoverTool(tooltips = [('Round', '@Round'), ('Plate', '@Plate'), ('Well', '@Well'), ('Virus', '@Virus'), ('Receptor', '@Receptor'), ('Dose', '@Dose')]))\n",
    "\n",
    "p.xaxis.major_label_orientation = np.pi/2\n",
    "\n",
    "p.output_backend = \"svg\"\n",
    "\n",
    "show(p)"
   ]
  },
  {
   "cell_type": "markdown",
   "id": "8b971372-2fff-456f-af56-c210d71a6d88",
   "metadata": {},
   "source": [
    "----------------"
   ]
  },
  {
   "cell_type": "code",
   "execution_count": null,
   "id": "b4e8ccba-d39e-4049-8e6d-603f720e2245",
   "metadata": {},
   "outputs": [],
   "source": [
    "# We want to make a new dataframe with just the 1e9 dose.\n",
    "# First, we can find the indices of these receptors.\n",
    "inds = (df_reduced['Round'] == 13) & (df_reduced['Dose'] == 1e9)\n",
    "\n",
    "# Make this a new dataframe df_edf5\n",
    "df_3c = df_reduced.loc[inds]"
   ]
  },
  {
   "cell_type": "code",
   "execution_count": null,
   "id": "aad81a16-b94d-4fca-9441-a0b40184b8bd",
   "metadata": {},
   "outputs": [],
   "source": [
    "# We can determine the mean of each of the values\n",
    "df_3c = df_3c.groupby(['Virus', 'Receptor', 'Dose']).mean().reset_index()"
   ]
  },
  {
   "cell_type": "code",
   "execution_count": null,
   "id": "5fa9d4e4-2107-4024-8bfd-7511b650f693",
   "metadata": {
    "tags": []
   },
   "outputs": [],
   "source": [
    "source = ColumnDataSource(df_3c)\n",
    "\n",
    "p = figure(x_range = ['PHP.eB',\n",
    "                      'CAP-B10',\n",
    "                      'CAP-B22',\n",
    "                      '9P08',\n",
    "                      '9P16',\n",
    "                      'PHP.N',\n",
    "                      'PHP.C1',\n",
    "                      'PHP.C2',\n",
    "                      'PHP.C3',\n",
    "                      'PHP.C4',\n",
    "                      'AAV-F',\n",
    "                      '9P13',\n",
    "                      '9P33',\n",
    "                      '9P39'],\n",
    "          y_range = ['Ly6S',\n",
    "                     'Lynx1',\n",
    "                     'Lypd5',\n",
    "                     'Ly6h',\n",
    "                     'Ly6e', \n",
    "                     'Ly6c1',\n",
    "                     'Ly6a'],\n",
    "           title = 'Receptor screen of Ly6 family',\n",
    "           y_axis_label = 'Receptor',\n",
    "           x_axis_label = 'Virus',\n",
    "           width=800, \n",
    "           height=400)\n",
    "\n",
    "color_mapper = LinearColorMapper(palette = Viridis256, low = df_3c['Total Brightness per Signal Area'].min(), high = df_3c['Total Brightness per Signal Area'].max())\n",
    "\n",
    "color_bar = ColorBar(color_mapper = color_mapper,\n",
    "                     location = (0, 0),\n",
    "                     ticker = BasicTicker())\n",
    "\n",
    "p.add_layout(color_bar, 'right')\n",
    "\n",
    "p.scatter(x = 'Virus', y = 'Receptor', size = 'Percent Positive', fill_color = transform('Total Brightness per Signal Area', color_mapper), source = source)\n",
    "\n",
    "p.add_tools(HoverTool(tooltips = [('Round', '@Round'), ('Plate', '@Plate'), ('Well', '@Well'), ('Virus', '@Virus'), ('Receptor', '@Receptor'), ('Dose', '@Dose')]))\n",
    "\n",
    "p.xaxis.major_label_orientation = np.pi/2\n",
    "\n",
    "p.output_backend = \"svg\"\n",
    "\n",
    "show(p)"
   ]
  },
  {
   "cell_type": "code",
   "execution_count": null,
   "id": "65d70ffa-7b7b-47b4-9f67-756232d5a165",
   "metadata": {},
   "outputs": [],
   "source": []
  }
 ],
 "metadata": {
  "kernelspec": {
   "display_name": "Python 3 (ipykernel)",
   "language": "python",
   "name": "python3"
  },
  "language_info": {
   "codemirror_mode": {
    "name": "ipython",
    "version": 3
   },
   "file_extension": ".py",
   "mimetype": "text/x-python",
   "name": "python",
   "nbconvert_exporter": "python",
   "pygments_lexer": "ipython3",
   "version": "3.8.11"
  }
 },
 "nbformat": 4,
 "nbformat_minor": 5
}
