{
 "cells": [
  {
   "cell_type": "code",
   "execution_count": null,
   "metadata": {},
   "outputs": [],
   "source": [
    "# Basic imports\n",
    "import numpy as np\n",
    "import pandas as pd\n",
    "\n",
    "# Plotting tools\n",
    "import bokeh\n",
    "from bokeh.models.widgets import Panel, Tabs\n",
    "from bokeh.io import output_file, show\n",
    "from bokeh.plotting import figure\n",
    "from bokeh.models import BasicTicker, ColorBar, LinearColorMapper, ColumnDataSource, PrintfTickFormatter, HoverTool\n",
    "from bokeh.transform import transform\n",
    "from bokeh.palettes import Viridis256\n",
    "\n",
    "import cellseg.plot\n",
    "\n",
    "bokeh.io.output_notebook()"
   ]
  },
  {
   "cell_type": "markdown",
   "metadata": {},
   "source": [
    "## Figure plotting\n",
    "The purpose of this code is to generate the figure panels for publication from the data collected by `in_vitro_cell_segmentation.ipynb`"
   ]
  },
  {
   "cell_type": "markdown",
   "metadata": {},
   "source": [
    "We can start by importing the data that we want to work with, merging the dataframes to connect the condition with the data, and sorting the dataframe:"
   ]
  },
  {
   "cell_type": "code",
   "execution_count": null,
   "metadata": {},
   "outputs": [],
   "source": [
    "# Use read_csv to create a dataframe from the data csv \n",
    "df_data = pd.read_csv('data/quantification/20220831-data.csv', comment='#')"
   ]
  },
  {
   "cell_type": "code",
   "execution_count": null,
   "metadata": {},
   "outputs": [],
   "source": [
    "# Use read_csv to create a dataframe from the look up table\n",
    "df_meta = pd.read_csv('data/quantification/20220915_data_lookup_table.csv', comment='#')"
   ]
  },
  {
   "cell_type": "code",
   "execution_count": null,
   "metadata": {},
   "outputs": [],
   "source": [
    "# Use merge the two dataframes, using round, plate, and well to combine them\n",
    "df = pd.merge(df_data, df_meta, on=[\"Round\", \"Plate\", \"Well\"])"
   ]
  },
  {
   "cell_type": "code",
   "execution_count": null,
   "metadata": {},
   "outputs": [],
   "source": [
    "#We can sort the values to ensure they're in a logical order\n",
    "df = df.sort_values(by = ['Round', 'Plate', 'Well'], axis = 0)\n",
    "\n",
    "# Drop any empty rows and reset the index so that it is in sequence\n",
    "df = df.dropna().reset_index(drop=True)"
   ]
  },
  {
   "cell_type": "markdown",
   "metadata": {},
   "source": [
    "We can perform some initial analysis on the data to determine the percent positive area of each well, the scaled area (to enable plotting at a smaller size), and the total brightness per signal area."
   ]
  },
  {
   "cell_type": "code",
   "execution_count": null,
   "metadata": {},
   "outputs": [],
   "source": [
    "# Determine the percent positive and add it to a new column\n",
    "df['Percent Positive'] = df['Signal Area']*100/df['Bright Field Area']\n",
    "df['Percent Positive Scaled'] = df['Percent Positive']*0.5\n",
    "df['Total Brightness per Signal Area'] = df['Total Brightness']/df['Signal Area']"
   ]
  },
  {
   "cell_type": "markdown",
   "metadata": {},
   "source": [
    "We can then examine the resulting dataframe: "
   ]
  },
  {
   "cell_type": "code",
   "execution_count": null,
   "metadata": {},
   "outputs": [],
   "source": [
    "# Create a index to only include valid data (selected by experimenter)\n",
    "inds = df['Include'] == True\n",
    "\n",
    "# Create a reduced data frame of this data\n",
    "df_reduced = df.loc[inds]\n",
    "\n",
    "# Look at the dataframe \n",
    "df_reduced.head()"
   ]
  },
  {
   "cell_type": "markdown",
   "metadata": {},
   "source": [
    "Now that we have our data, we want to generate the figures:"
   ]
  },
  {
   "cell_type": "markdown",
   "metadata": {
    "tags": []
   },
   "source": [
    "## Extended Data Figure 2"
   ]
  },
  {
   "cell_type": "markdown",
   "metadata": {},
   "source": [
    "First, we want to compare PHP.eB against AAV9 at a range of doses without a receptor."
   ]
  },
  {
   "cell_type": "code",
   "execution_count": null,
   "metadata": {},
   "outputs": [],
   "source": [
    "# We want to make a new dataframe with just the Ly6a and receptor-free conditions.\n",
    "# First, we can find the indices of these receptors.\n",
    "inds = (df_reduced['Receptor'] == 'Ly6a') | (df_reduced['Receptor'] == 'None')\n",
    "\n",
    "# Make this a new dataframe df_edf2\n",
    "df_edf2 = df_reduced.loc[inds]"
   ]
  },
  {
   "cell_type": "code",
   "execution_count": null,
   "metadata": {},
   "outputs": [],
   "source": [
    "# Next, we can reduce this to just the PHP.eB and AAV9 conditions.\n",
    "inds = (df_edf2['Virus'] == 'PHP.eB') | (df_edf2['Virus'] == 'AAV9')\n",
    "\n",
    "df_edf2 = df_edf2.loc[inds]"
   ]
  },
  {
   "cell_type": "code",
   "execution_count": null,
   "metadata": {},
   "outputs": [],
   "source": [
    "# We only want to examine a single round, since including data from other rounds could skew the results due to variability. \n",
    "inds = (df_edf2['Round'] == 10)\n",
    "\n",
    "df_edf2 = df_edf2[inds]"
   ]
  },
  {
   "cell_type": "code",
   "execution_count": null,
   "metadata": {},
   "outputs": [],
   "source": [
    "# We need to convert the dose values to a string to allow us to plot catagorically\n",
    "df_edf2 = df_edf2.astype({\"Dose\": str})"
   ]
  },
  {
   "cell_type": "code",
   "execution_count": null,
   "metadata": {},
   "outputs": [],
   "source": [
    "# We can determine the mean of each of the values\n",
    "df_edf2 = df_edf2.groupby(['Virus', 'Receptor', 'Dose']).mean().reset_index()"
   ]
  },
  {
   "cell_type": "code",
   "execution_count": null,
   "metadata": {},
   "outputs": [],
   "source": [
    "# Setting our index to only examine data with Receptor none, we can plot the untransfected AAV9 and PHP.eB transfections\n",
    "inds = (df_edf2['Receptor'] == 'None')\n",
    "\n",
    "# Dataframe to use\n",
    "source = ColumnDataSource(df_edf2[inds])\n",
    "\n",
    "# Plotting parameters\n",
    "p = figure(x_range = df_edf2['Virus'].unique(), \n",
    "           y_range = ['500000000.0', '1000000000.0', '5000000000.0', '10000000000.0', '50000000000.0'],\n",
    "           title = 'No Receptor',\n",
    "           y_axis_label = 'Dose (vg/well)',\n",
    "           x_axis_label = 'Virus',\n",
    "          width = 400,\n",
    "          height = 500)\n",
    "\n",
    "# Set the color map based on the median cell brightness in df_edf2\n",
    "color_mapper = LinearColorMapper(palette = Viridis256, low = df_edf2['Total Brightness per Signal Area'].min(), high = df_edf2['Total Brightness per Signal Area'].max())\n",
    "\n",
    "# Add a color bar\n",
    "color_bar = ColorBar(color_mapper = color_mapper,\n",
    "                     location = (0, 0),\n",
    "                     ticker = BasicTicker())\n",
    "\n",
    "p.add_layout(color_bar, 'right')\n",
    "\n",
    "# Plot the percent positive scaled data 0.5*percent positive \n",
    "p.scatter(x = 'Virus', y = 'Dose', size = 'Percent Positive', fill_color = transform('Total Brightness per Signal Area', color_mapper), source = source)\n",
    "\n",
    "p.xaxis.major_label_orientation = np.pi/2\n",
    "\n",
    "#p.output_backend = \"svg\"\n",
    "\n",
    "show(p)"
   ]
  },
  {
   "cell_type": "code",
   "execution_count": null,
   "metadata": {},
   "outputs": [],
   "source": [
    "# Setting our index to only examine data with Receptor Ly6a, we can plot the Ly6a transfected AAV9 and PHP.eB transfections\n",
    "inds = (df_edf2['Receptor'] == 'Ly6a')\n",
    "\n",
    "source = ColumnDataSource(df_edf2[inds])\n",
    "\n",
    "p = figure(x_range = df_edf2['Virus'].unique(), \n",
    "           y_range = ['500000000.0', '1000000000.0', '5000000000.0', '10000000000.0', '50000000000.0'],\n",
    "           title = 'Transfected with Ly6a',\n",
    "           y_axis_label = 'Dose (vg/well)',\n",
    "           x_axis_label = 'Virus',\n",
    "          width = 400,\n",
    "          height = 500)\n",
    "\n",
    "color_mapper = LinearColorMapper(palette = Viridis256, low = df_edf2['Total Brightness per Signal Area'].min(), high = df_edf2['Total Brightness per Signal Area'].max())\n",
    "\n",
    "color_bar = ColorBar(color_mapper = color_mapper,\n",
    "                     location = (0, 0),\n",
    "                     ticker = BasicTicker())\n",
    "\n",
    "p.add_layout(color_bar, 'right')\n",
    "\n",
    "p.scatter(x = 'Virus', y = 'Dose', size = 'Percent Positive', fill_color = transform('Total Brightness per Signal Area', color_mapper), source = source)\n",
    "\n",
    "p.xaxis.major_label_orientation = np.pi/2\n",
    "\n",
    "#p.output_backend = \"svg\"\n",
    "\n",
    "show(p)"
   ]
  },
  {
   "cell_type": "code",
   "execution_count": null,
   "metadata": {},
   "outputs": [],
   "source": [
    "min(df_edf2['Percent Positive']), max(df_edf2.loc[inds]['Percent Positive']), df_edf2['Total Brightness per Signal Area'].min(), df_edf2['Total Brightness per Signal Area'].max()"
   ]
  },
  {
   "cell_type": "markdown",
   "metadata": {
    "tags": []
   },
   "source": [
    "## Extended Data Figure 5"
   ]
  },
  {
   "cell_type": "code",
   "execution_count": null,
   "metadata": {},
   "outputs": [],
   "source": [
    "# We want to make a new dataframe with just the 1e9 dose.\n",
    "# First, we can find the indices of these receptors.\n",
    "inds = (df_reduced['Dose'] == 1e9)\n",
    "\n",
    "# Make this a new dataframe df_edf5\n",
    "df_edf5 = df_reduced.loc[inds]"
   ]
  },
  {
   "cell_type": "code",
   "execution_count": null,
   "metadata": {},
   "outputs": [],
   "source": [
    "# Next, we can reduce this to just to round 7.\n",
    "inds = (((df_edf5['Virus'] != 'PHP.C1') & (df_edf5['Virus'] != 'PHP.C3') & (df_edf5['Round'] == 7)) | ((df_edf5['Virus'] == 'PHP.C1') | (df_edf5['Virus'] == 'PHP.C3')) & (df_edf5['Round'] < 8))\n",
    "\n",
    "df_edf5 = df_edf5.loc[inds]"
   ]
  },
  {
   "cell_type": "code",
   "execution_count": null,
   "metadata": {},
   "outputs": [],
   "source": [
    "# We can determine the mean of each of the values\n",
    "df_edf5 = df_edf5.groupby(['Virus', 'Receptor', 'Dose']).mean().reset_index()"
   ]
  },
  {
   "cell_type": "code",
   "execution_count": null,
   "metadata": {
    "tags": []
   },
   "outputs": [],
   "source": [
    "source = ColumnDataSource(df_edf5)\n",
    "\n",
    "p = figure(x_range = ['PHP.eB',\n",
    "                      'CAP-B10',\n",
    "                      'CAP-B22',\n",
    "                      '9P08',\n",
    "                      '9P16',\n",
    "                      'PHP.N',\n",
    "                      'PHP.C1',\n",
    "                      'PHP.C2',\n",
    "                      'PHP.C3',\n",
    "                      'PHP.C4',\n",
    "                      'AAV-F',\n",
    "                      '9P13',\n",
    "                      '9P33',\n",
    "                      '9P39'],\n",
    "          y_range = ['Cd59',\n",
    "                     'Lynx1',\n",
    "                     'Lypd5',\n",
    "                     'Ly6h',\n",
    "                     'Ly6e', \n",
    "                     'Ly6c1',\n",
    "                     'Ly6a'],\n",
    "           title = 'Receptor screen of Ly6 family',\n",
    "           y_axis_label = 'Receptor',\n",
    "           x_axis_label = 'Virus',\n",
    "           width=800, \n",
    "           height=400)\n",
    "\n",
    "color_mapper = LinearColorMapper(palette = Viridis256, low = df_edf5['Total Brightness per Signal Area'].min(), high = df_edf5['Total Brightness per Signal Area'].max())\n",
    "\n",
    "color_bar = ColorBar(color_mapper = color_mapper,\n",
    "                     location = (0, 0),\n",
    "                     ticker = BasicTicker())\n",
    "\n",
    "p.add_layout(color_bar, 'right')\n",
    "\n",
    "p.scatter(x = 'Virus', y = 'Receptor', size = 'Percent Positive', fill_color = transform('Total Brightness per Signal Area', color_mapper), source = source)\n",
    "\n",
    "p.add_tools(HoverTool(tooltips = [('Round', '@Round'), ('Plate', '@Plate'), ('Well', '@Well'), ('Virus', '@Virus'), ('Receptor', '@Receptor'), ('Dose', '@Dose')]))\n",
    "\n",
    "p.xaxis.major_label_orientation = np.pi/2\n",
    "\n",
    "#p.output_backend = \"svg\"\n",
    "\n",
    "show(p)"
   ]
  },
  {
   "cell_type": "code",
   "execution_count": null,
   "metadata": {},
   "outputs": [],
   "source": [
    "inds = (df_edf5['Virus'] != 'PHP.C1') & (df_edf5['Virus'] != 'PHP.C3')\n",
    "min(df_edf5.loc[inds]['Percent Positive']), max(df_edf5.loc[inds]['Percent Positive']), df_edf5['Total Brightness per Signal Area'].min(), df_edf5['Total Brightness per Signal Area'].max()"
   ]
  },
  {
   "cell_type": "markdown",
   "metadata": {},
   "source": [
    "## Extended Data Figure 6"
   ]
  },
  {
   "cell_type": "code",
   "execution_count": null,
   "metadata": {},
   "outputs": [],
   "source": [
    "# We want to make a new dataframe with just the 1e9 dose.\n",
    "# First, we can find the indices of these receptors.\n",
    "inds = (df_reduced['Dose'] == 1e9)\n",
    "\n",
    "# Make this a new dataframe df_edf6\n",
    "df_edf6 = df_reduced.loc[inds]"
   ]
  },
  {
   "cell_type": "code",
   "execution_count": null,
   "metadata": {},
   "outputs": [],
   "source": [
    "inds = (df_edf6['Round'] == 10)\n",
    "\n",
    "df_edf6 = df_edf6.loc[inds]"
   ]
  },
  {
   "cell_type": "code",
   "execution_count": null,
   "metadata": {},
   "outputs": [],
   "source": [
    "# We can determine the mean of each of the values\n",
    "df_edf6 = df_edf6.groupby(['Virus', 'Receptor', 'Dose']).mean().reset_index()"
   ]
  },
  {
   "cell_type": "code",
   "execution_count": null,
   "metadata": {},
   "outputs": [],
   "source": [
    "source = ColumnDataSource(df_edf6)\n",
    "\n",
    "p = figure(x_range = ['9P31',\n",
    "                      '9P36'],\n",
    "          y_range = ['Car15',\n",
    "                     'Car14',\n",
    "                     'Car12',\n",
    "                     'Car9',\n",
    "                     'Car4'],\n",
    "           title = 'Receptor screen of carbonic anhydrase family',\n",
    "           y_axis_label = 'Receptor',\n",
    "           x_axis_label = 'Virus',\n",
    "           width = 400, \n",
    "           height = 500)\n",
    "\n",
    "color_mapper = LinearColorMapper(palette = Viridis256, low = df_edf6['Total Brightness per Signal Area'].min(), high = df_edf6['Total Brightness per Signal Area'].max())\n",
    "\n",
    "color_bar = ColorBar(color_mapper = color_mapper,\n",
    "                     location = (0, 0),\n",
    "                     ticker = BasicTicker())\n",
    "\n",
    "p.add_layout(color_bar, 'right')\n",
    "\n",
    "p.scatter(x = 'Virus', y = 'Receptor', size = 'Percent Positive', fill_color = transform('Total Brightness per Signal Area', color_mapper), source = source)\n",
    "\n",
    "p.add_tools(HoverTool(tooltips = [('Round', '@Round'), ('Plate', '@Plate'), ('Well', '@Well'), ('Virus', '@Virus'), ('Receptor', '@Receptor'), ('Dose', '@Dose')]))\n",
    "\n",
    "p.xaxis.major_label_orientation = np.pi/2\n",
    "\n",
    "#p.output_backend = \"svg\"\n",
    "\n",
    "show(p)"
   ]
  },
  {
   "cell_type": "code",
   "execution_count": null,
   "metadata": {},
   "outputs": [],
   "source": [
    "inds = (df_edf6['Receptor'] == 'Car4') | (df_edf6['Receptor'] == 'Car9') | (df_edf6['Receptor'] == 'Car12') | (df_edf6['Receptor'] == 'Car14') | (df_edf6['Receptor'] == 'Car15')\n",
    "min(df_edf6.loc[inds]['Percent Positive']), max(df_edf6.loc[inds]['Percent Positive']), df_edf6['Total Brightness per Signal Area'].min(), df_edf6['Total Brightness per Signal Area'].max()"
   ]
  },
  {
   "cell_type": "markdown",
   "metadata": {},
   "source": [
    "## Extended Data Figure 8"
   ]
  },
  {
   "cell_type": "code",
   "execution_count": null,
   "metadata": {},
   "outputs": [],
   "source": [
    "#We can sort the values to ensure they're in a logical order\n",
    "inds = (df_reduced['Dose'] == 1e9)\n",
    "\n",
    "df_edf8 = df_reduced.loc[inds]"
   ]
  },
  {
   "cell_type": "code",
   "execution_count": null,
   "metadata": {},
   "outputs": [],
   "source": [
    "# Next, we can reduce this to just to round 7.\n",
    "inds = (((df_edf8['Virus'] != 'PHP.C1') & (df_edf8['Virus'] != 'PHP.C3') & (df_edf8['Virus'] != '9P13') & (df_edf8['Virus'] != '9P33')) & (df_edf8['Round'] < 8)) | \\\n",
    "        ((df_edf8['Virus'] == 'PHP.C1') | (df_edf8['Virus'] == 'PHP.C3')) & (df_edf8['Round'] < 7)\n",
    "\n",
    "df_edf8 = df_edf8.loc[inds]"
   ]
  },
  {
   "cell_type": "code",
   "execution_count": null,
   "metadata": {},
   "outputs": [],
   "source": [
    "# We can determine the mean of each of the values\n",
    "df_edf8 = df_edf8.groupby(['Virus', 'Receptor', 'Dose']).mean().reset_index()"
   ]
  },
  {
   "cell_type": "code",
   "execution_count": null,
   "metadata": {},
   "outputs": [],
   "source": [
    "source = ColumnDataSource(df_edf8)\n",
    "\n",
    "p = figure(x_range = ['PHP.eB',\n",
    "                      'CAP-B10',\n",
    "                      'CAP-B22',\n",
    "                      'PHP.N',\n",
    "                      'PHP.C1',\n",
    "                      'PHP.C2',\n",
    "                      'PHP.C3',\n",
    "                      'PHP.C4',\n",
    "                      'AAV-F'],\n",
    "                      #'9P31',\n",
    "                      #'9P36'],\n",
    "          y_range = ['Tek',\n",
    "                     'Slco1c1',\n",
    "                     'Slco1a4',\n",
    "                     'Slc7a1',\n",
    "                     'Slc6a6',\n",
    "                     'Slc2a1', \n",
    "                     'Slc22a8',\n",
    "                     'Serinc3',\n",
    "                     'Prom1',\n",
    "                     'Podxl',\n",
    "                     'Pecam1', \n",
    "                     'Paqr5', \n",
    "                     'Ocln', \n",
    "                     'Ly6e', \n",
    "                     'Ly6c1', \n",
    "                     'Ly6a', \n",
    "                     'Kitl', \n",
    "                     'Kdr', \n",
    "                     'Itm2b', \n",
    "                     'Igf1r', \n",
    "                     'Ifitm3', \n",
    "                     'Ifitm2', \n",
    "                     'Flt1', \n",
    "                     'Fcgrt', \n",
    "                     'Esam', \n",
    "                     'Eng',\n",
    "                     'Clic4', \n",
    "                     'Clic1', \n",
    "                     'Clec2d', \n",
    "                     'Cldn5', \n",
    "                     'Cdh5', \n",
    "                     'Cd34', \n",
    "                     'Car4', \n",
    "                     'Bsg', \n",
    "                     'App', \n",
    "                     'Adgrl4',\n",
    "                     'Adgrf5', \n",
    "                     'Acvrl1', \n",
    "                     'Abcg2', \n",
    "                     'Abcb1a'],\n",
    "           title = 'Candidate Receptors',\n",
    "           y_axis_label = 'Receptor',\n",
    "           x_axis_label = 'Virus',\n",
    "           width=800, \n",
    "           height=1000)\n",
    "\n",
    "color_mapper = LinearColorMapper(palette = Viridis256, low = df_edf8['Total Brightness per Signal Area'].min(), high = df_edf8['Total Brightness per Signal Area'].max())\n",
    "\n",
    "color_bar = ColorBar(color_mapper = color_mapper,\n",
    "                     location = (0, 0),\n",
    "                     ticker = BasicTicker())\n",
    "\n",
    "p.add_layout(color_bar, 'right')\n",
    "\n",
    "p.scatter(x = 'Virus', y = 'Receptor', size = 'Percent Positive', fill_color = transform('Total Brightness per Signal Area', color_mapper), source = source)\n",
    "\n",
    "p.add_tools(HoverTool(tooltips = [('Round', '@Round'), ('Plate', '@Plate'), ('Well', '@Well'), ('Virus', '@Virus'), ('Receptor', '@Receptor'), ('Dose', '@Dose')]))\n",
    "\n",
    "p.xaxis.major_label_orientation = np.pi/2\n",
    "\n",
    "#p.output_backend = \"svg\"\n",
    "\n",
    "show(p)"
   ]
  },
  {
   "cell_type": "code",
   "execution_count": null,
   "metadata": {},
   "outputs": [],
   "source": [
    "min(df_edf8['Percent Positive']), max(df_edf8['Percent Positive']), df_edf8['Total Brightness per Signal Area'].min(), df_edf8['Total Brightness per Signal Area'].max()"
   ]
  },
  {
   "cell_type": "code",
   "execution_count": null,
   "metadata": {},
   "outputs": [],
   "source": [
    "inds = (df_reduced['Dose'] == 1e9)\n",
    "\n",
    "df_edf8_2 = df_reduced.loc[inds]"
   ]
  },
  {
   "cell_type": "code",
   "execution_count": null,
   "metadata": {},
   "outputs": [],
   "source": [
    "# Next, we can reduce this to just to round 7.\n",
    "inds = ((df_edf8_2['Virus'] == '9P31') | (df_edf8_2['Virus'] == '9P36')) & ((df_edf8_2['Round'] > 6) & (df_edf8_2['Round'] < 10))\n",
    "\n",
    "df_edf8_2 = df_edf8_2.loc[inds]"
   ]
  },
  {
   "cell_type": "code",
   "execution_count": null,
   "metadata": {},
   "outputs": [],
   "source": [
    "# We can determine the mean of each of the values\n",
    "df_edf8_2 = df_edf8_2.groupby(['Virus', 'Receptor', 'Dose']).mean().reset_index()"
   ]
  },
  {
   "cell_type": "code",
   "execution_count": null,
   "metadata": {},
   "outputs": [],
   "source": [
    "source = ColumnDataSource(df_edf8_2)\n",
    "\n",
    "p = figure(x_range = ['9P31',\n",
    "                      '9P36'],\n",
    "          y_range = ['Tek',\n",
    "                     'Sclo1c1',\n",
    "                     'Slco1a4',\n",
    "                     'Slc7a1',\n",
    "                     'Slc6a6',\n",
    "                     'Slc2a1', \n",
    "                     'Slc22a8',\n",
    "                     'Serinc3',\n",
    "                     'Prom1',\n",
    "                     'Podxl',\n",
    "                     'Pecam1', \n",
    "                     'Paqr5', \n",
    "                     'Ocln', \n",
    "                     'Ly6e', \n",
    "                     'Ly6c1', \n",
    "                     'Ly6a', \n",
    "                     'Kitl', \n",
    "                     'Kdr', \n",
    "                     'Itm2b', \n",
    "                     'Igf1r', \n",
    "                     'Ifitm3', \n",
    "                     'Ifitm2', \n",
    "                     'Flt1', \n",
    "                     'Fcgrt', \n",
    "                     'Esam', \n",
    "                     'Eng',\n",
    "                     'Clic4', \n",
    "                     'Clic1', \n",
    "                     'Clec2d', \n",
    "                     'Cldn5', \n",
    "                     'Cdh5', \n",
    "                     'Cd34', \n",
    "                     'Car4', \n",
    "                     'Bsg', \n",
    "                     'App', \n",
    "                     'Adgrl4',\n",
    "                     'Adgrf5', \n",
    "                     'Acvrl1', \n",
    "                     'Abcg2', \n",
    "                     'Abcb1a'],\n",
    "           title = 'Candidate Receptors',\n",
    "           y_axis_label = 'Receptor',\n",
    "           x_axis_label = 'Virus',\n",
    "           width=300, \n",
    "           height=1000)\n",
    "\n",
    "color_mapper = LinearColorMapper(palette = Viridis256, low = df_edf8['Total Brightness per Signal Area'].min(), high = df_edf8['Total Brightness per Signal Area'].max())\n",
    "\n",
    "color_bar = ColorBar(color_mapper = color_mapper,\n",
    "                     location = (0, 0),\n",
    "                     ticker = BasicTicker())\n",
    "\n",
    "p.add_layout(color_bar, 'right')\n",
    "\n",
    "p.scatter(x = 'Virus', y = 'Receptor', size = 'Percent Positive Scaled', fill_color = transform('Total Brightness per Signal Area', color_mapper), source = source)\n",
    "\n",
    "p.add_tools(HoverTool(tooltips = [('Round', '@Round'), ('Plate', '@Plate'), ('Well', '@Well'), ('Virus', '@Virus'), ('Receptor', '@Receptor'), ('Dose', '@Dose')]))\n",
    "\n",
    "p.xaxis.major_label_orientation = np.pi/2\n",
    "\n",
    "#p.output_backend = \"svg\"\n",
    "\n",
    "show(p)"
   ]
  },
  {
   "cell_type": "code",
   "execution_count": null,
   "metadata": {},
   "outputs": [],
   "source": [
    "inds = (df_edf8_2['Virus'] != 'PHP.C1') & (df_edf8_2['Virus'] != 'PHP.C3')\n",
    "min(df_edf8_2.loc[inds]['Percent Positive']), max(df_edf8_2.loc[inds]['Percent Positive']), min(df_edf8_2.loc[inds]['Total Brightness per Signal Area']), max(df_edf8_2.loc[inds]['Total Brightness per Signal Area'])"
   ]
  },
  {
   "cell_type": "markdown",
   "metadata": {},
   "source": [
    "## Extended Data Figure 10"
   ]
  },
  {
   "cell_type": "code",
   "execution_count": null,
   "metadata": {},
   "outputs": [],
   "source": [
    "# Select the round for the corresponding figure\n",
    "inds = (df_reduced['Round'] == 11) & (df_reduced['Dose'] != 5e8)\n",
    "\n",
    "# Make this a new dataframe df_edf10\n",
    "df_edf10 = df_reduced.loc[inds]"
   ]
  },
  {
   "cell_type": "code",
   "execution_count": null,
   "metadata": {},
   "outputs": [],
   "source": [
    "# We need to convert the dose values to a string to allow us to plot catagorically\n",
    "df_edf10 = df_edf10.astype({\"Dose\": str})"
   ]
  },
  {
   "cell_type": "code",
   "execution_count": null,
   "metadata": {},
   "outputs": [],
   "source": [
    "# We can determine the mean of each of the values\n",
    "df_edf10 = df_edf10.groupby(['Virus', 'Receptor', 'Dose']).mean().reset_index()"
   ]
  },
  {
   "cell_type": "code",
   "execution_count": null,
   "metadata": {},
   "outputs": [],
   "source": [
    "df_edf10"
   ]
  },
  {
   "cell_type": "code",
   "execution_count": null,
   "metadata": {},
   "outputs": [],
   "source": [
    "for virus in ['PHP.eB', 'PHP.C2', 'AAV-F', 'eC 1', 'eC 3', 'eC 4', 'eC 5', 'eC 8','eC 9', 'eC 11', 'eC 12', 'eC 14', 'eC 15', 'eC 16', 'eC 19']:\n",
    "    inds = (df_edf10['Virus'] == virus)\n",
    "    \n",
    "    source = ColumnDataSource(df_edf10[inds])\n",
    "\n",
    "    p = figure(x_range = ['None',\n",
    "                         'Ly6c1'],\n",
    "              y_range = ['50000000.0',\n",
    "                         '100000000.0',\n",
    "                         '1000000000.0'],\n",
    "               title = virus,\n",
    "               x_axis_label = 'Receptor',\n",
    "               y_axis_label = 'Dose',\n",
    "               width=400, \n",
    "               height=400)\n",
    "\n",
    "    color_mapper = LinearColorMapper(palette = Viridis256, low = df_edf10['Total Brightness per Signal Area'].min(), high = df_edf10['Total Brightness per Signal Area'].max())\n",
    "\n",
    "    color_bar = ColorBar(color_mapper = color_mapper,\n",
    "                         location = (0, 0),\n",
    "                         ticker = BasicTicker())\n",
    "\n",
    "    p.add_layout(color_bar, 'right')\n",
    "\n",
    "    p.scatter(x = 'Receptor', y = 'Dose', size = 'Percent Positive', fill_color = transform('Total Brightness per Signal Area', color_mapper), source = source)\n",
    "\n",
    "    p.add_tools(HoverTool(tooltips = [('Round', '@Round'), ('Plate', '@Plate'), ('Well', '@Well'), ('Virus', '@Virus'), ('Receptor', '@Receptor'), ('Dose', '@Dose')]))\n",
    "\n",
    "    p.xaxis.major_label_orientation = np.pi/2\n",
    "\n",
    "    #p.output_backend = \"svg\"\n",
    "\n",
    "    show(p)"
   ]
  },
  {
   "cell_type": "code",
   "execution_count": null,
   "metadata": {},
   "outputs": [],
   "source": [
    "min(df_edf10['Percent Positive']), max(df_edf10['Percent Positive']), min(df_edf10['Total Brightness per Signal Area']), max(df_edf10['Total Brightness per Signal Area'])"
   ]
  },
  {
   "cell_type": "markdown",
   "metadata": {},
   "source": [
    "## Figure 4"
   ]
  },
  {
   "cell_type": "markdown",
   "metadata": {},
   "source": [
    "### Ly6a mutated"
   ]
  },
  {
   "cell_type": "code",
   "execution_count": null,
   "metadata": {},
   "outputs": [],
   "source": [
    "inds = (df_reduced['Virus'] == 'PHP.eB') & (df_reduced['Round'] == 12) & (df_reduced['Dose'] != 1e10) \n",
    "\n",
    "df_4_pt1 = df_reduced.loc[inds]"
   ]
  },
  {
   "cell_type": "code",
   "execution_count": null,
   "metadata": {
    "tags": []
   },
   "outputs": [],
   "source": [
    "# We need to convert the dose values to a string to allow us to plot catagorically\n",
    "df_4_pt1 = df_4_pt1.astype({\"Dose\": str})"
   ]
  },
  {
   "cell_type": "code",
   "execution_count": null,
   "metadata": {},
   "outputs": [],
   "source": [
    "# We can determine the mean of each of the values\n",
    "df_4_pt1 = df_4_pt1.groupby(['Virus', 'Receptor', 'Dose']).mean().reset_index()"
   ]
  },
  {
   "cell_type": "code",
   "execution_count": null,
   "metadata": {},
   "outputs": [],
   "source": [
    "df_4_pt1"
   ]
  },
  {
   "cell_type": "code",
   "execution_count": null,
   "metadata": {},
   "outputs": [],
   "source": [
    "source = ColumnDataSource(df_4_pt1)\n",
    "\n",
    "p = figure(x_range = ['10000000.0',\n",
    "                      '100000000.0',\n",
    "                      '1000000000.0'],\n",
    "          y_range = ['Ly6a A58R',\n",
    "                     'Ly6a'],\n",
    "           title = 'Mutated Ly6a Infectivity Assay',\n",
    "           x_axis_label = 'Dose',\n",
    "           y_axis_label = 'Receptor',\n",
    "           width=400, \n",
    "           height=300)\n",
    "\n",
    "color_mapper = LinearColorMapper(palette = Viridis256, low = df_4_pt1['Total Brightness per Signal Area'].min(), high = df_4_pt1['Total Brightness per Signal Area'].max())\n",
    "\n",
    "color_bar = ColorBar(color_mapper = color_mapper,\n",
    "                     location = (0, 0),\n",
    "                     ticker = BasicTicker())\n",
    "\n",
    "p.add_layout(color_bar, 'right')\n",
    "\n",
    "p.scatter(x = 'Dose', y = 'Receptor', size = 'Percent Positive', fill_color = transform('Total Brightness per Signal Area', color_mapper), source = source)\n",
    "\n",
    "p.add_tools(HoverTool(tooltips = [('Round', '@Round'), ('Plate', '@Plate'), ('Well', '@Well'), ('Virus', '@Virus'), ('Receptor', '@Receptor'), ('Dose', '@Dose')]))\n",
    "\n",
    "p.xaxis.major_label_orientation = np.pi/2\n",
    "\n",
    "#p.output_backend = \"svg\"\n",
    "\n",
    "show(p)"
   ]
  },
  {
   "cell_type": "code",
   "execution_count": null,
   "metadata": {},
   "outputs": [],
   "source": [
    "min(df_4_pt1['Percent Positive']), max(df_4_pt1['Percent Positive']), min(df_4_pt1['Total Brightness per Signal Area']), max(df_4_pt1['Total Brightness per Signal Area'])"
   ]
  },
  {
   "cell_type": "code",
   "execution_count": null,
   "metadata": {},
   "outputs": [],
   "source": [
    "inds = (df_reduced['Virus'] == '9P31') & (df_reduced['Round'] == 12) & (df_reduced['Dose'] != 1e10) \n",
    "\n",
    "df_4_pt2 = df_reduced.loc[inds]"
   ]
  },
  {
   "cell_type": "code",
   "execution_count": null,
   "metadata": {},
   "outputs": [],
   "source": [
    "# We need to convert the dose values to a string to allow us to plot catagorically\n",
    "df_4_pt2 = df_4_pt2.astype({\"Dose\": str})"
   ]
  },
  {
   "cell_type": "code",
   "execution_count": null,
   "metadata": {},
   "outputs": [],
   "source": [
    "# We can determine the mean of each of the values\n",
    "df_4_pt2 = df_4_pt2.groupby(['Virus', 'Receptor', 'Dose']).mean().reset_index()"
   ]
  },
  {
   "cell_type": "code",
   "execution_count": null,
   "metadata": {},
   "outputs": [],
   "source": [
    "df_4_pt2"
   ]
  },
  {
   "cell_type": "code",
   "execution_count": null,
   "metadata": {},
   "outputs": [],
   "source": [
    "source = ColumnDataSource(df_4_pt2)\n",
    "\n",
    "p = figure(x_range = ['10000000.0',\n",
    "                      '100000000.0',\n",
    "                      '1000000000.0'],\n",
    "          y_range = ['msCar4 L71R',\n",
    "                     'msCar4'],\n",
    "           title = 'Mutated Car4 Infectivity Assay',\n",
    "           x_axis_label = 'Dose',\n",
    "           y_axis_label = 'Receptor',\n",
    "           width=400, \n",
    "           height=300)\n",
    "\n",
    "color_mapper = LinearColorMapper(palette = Viridis256, low = df_4_pt2['Total Brightness per Signal Area'].min(), high = df_4_pt2['Total Brightness per Signal Area'].max())\n",
    "\n",
    "color_bar = ColorBar(color_mapper = color_mapper,\n",
    "                     location = (0, 0),\n",
    "                     ticker = BasicTicker())\n",
    "\n",
    "p.add_layout(color_bar, 'right')\n",
    "\n",
    "p.scatter(x = 'Dose', y = 'Receptor', size = 'Percent Positive Scaled', fill_color = transform('Total Brightness per Signal Area', color_mapper), source = source)\n",
    "\n",
    "p.add_tools(HoverTool(tooltips = [('Round', '@Round'), ('Plate', '@Plate'), ('Well', '@Well'), ('Virus', '@Virus'), ('Receptor', '@Receptor'), ('Dose', '@Dose')]))\n",
    "\n",
    "p.xaxis.major_label_orientation = np.pi/2\n",
    "\n",
    "#p.output_backend = \"svg\"\n",
    "\n",
    "show(p)"
   ]
  },
  {
   "cell_type": "code",
   "execution_count": null,
   "metadata": {},
   "outputs": [],
   "source": [
    "min(df_4_pt2['Percent Positive']), max(df_4_pt2['Percent Positive']), min(df_4_pt2['Total Brightness per Signal Area']), max(df_4_pt2['Total Brightness per Signal Area'])"
   ]
  },
  {
   "cell_type": "code",
   "execution_count": null,
   "metadata": {},
   "outputs": [],
   "source": [
    "inds = (df_reduced['Dose'] == 1e9) & (df_reduced['Round'] == 10)\n",
    "\n",
    "df_4_pt3 = df_reduced.loc[inds]"
   ]
  },
  {
   "cell_type": "code",
   "execution_count": null,
   "metadata": {},
   "outputs": [],
   "source": [
    "inds = (df_4_pt3['Virus'] == '9P31') | (df_4_pt3['Virus'] == '9P36')\n",
    "\n",
    "df_4_pt3 = df_4_pt3.loc[inds]"
   ]
  },
  {
   "cell_type": "code",
   "execution_count": null,
   "metadata": {},
   "outputs": [],
   "source": [
    "inds = (df_4_pt3['Receptor'] == 'Car4') | (df_4_pt3['Receptor'] == 'rsCar4') | (df_4_pt3['Receptor'] == 'hsCar4')\n",
    "\n",
    "df_4_pt3 = df_4_pt3.loc[inds]"
   ]
  },
  {
   "cell_type": "code",
   "execution_count": null,
   "metadata": {},
   "outputs": [],
   "source": [
    "# We can determine the mean of each of the values\n",
    "df_4_pt3 = df_4_pt3.groupby(['Virus', 'Receptor', 'Dose']).mean().reset_index()"
   ]
  },
  {
   "cell_type": "code",
   "execution_count": null,
   "metadata": {},
   "outputs": [],
   "source": [
    "source = ColumnDataSource(df_4_pt3)\n",
    "\n",
    "p = figure(x_range = ['Car4',\n",
    "                     'rsCar4',\n",
    "                     'hsCar4'],\n",
    "          y_range = ['9P36',\n",
    "                     '9P31'],\n",
    "           title = 'Car4 comparison',\n",
    "           x_axis_label = 'Receptor',\n",
    "           y_axis_label = 'Virus',\n",
    "           width=400, \n",
    "           height=300)\n",
    "\n",
    "color_mapper = LinearColorMapper(palette = Viridis256, low = df_4_pt3['Total Brightness per Signal Area'].min(), high = df_4_pt3['Total Brightness per Signal Area'].max())\n",
    "\n",
    "color_bar = ColorBar(color_mapper = color_mapper,\n",
    "                     location = (0, 0),\n",
    "                     ticker = BasicTicker())\n",
    "\n",
    "p.add_layout(color_bar, 'right')\n",
    "\n",
    "p.scatter(x = 'Receptor', y = 'Virus', size = 'Percent Positive', fill_color = transform('Total Brightness per Signal Area', color_mapper), source = source)\n",
    "\n",
    "p.add_tools(HoverTool(tooltips = [('Round', '@Round'), ('Plate', '@Plate'), ('Well', '@Well'), ('Virus', '@Virus'), ('Receptor', '@Receptor'), ('Dose', '@Dose')]))\n",
    "\n",
    "p.xaxis.major_label_orientation = np.pi/2\n",
    "\n",
    "#p.output_backend = \"svg\"\n",
    "\n",
    "show(p)"
   ]
  },
  {
   "cell_type": "code",
   "execution_count": null,
   "metadata": {},
   "outputs": [],
   "source": [
    "min(df_4_pt3['Percent Positive']), max(df_4_pt3['Percent Positive']), min(df_4_pt3['Total Brightness per Signal Area']), max(df_4_pt3['Total Brightness per Signal Area'])"
   ]
  },
  {
   "cell_type": "code",
   "execution_count": null,
   "metadata": {},
   "outputs": [],
   "source": [
    "inds = (df_reduced['Round'] == 12)\n",
    "\n",
    "df_4_pt4 = df_reduced.loc[inds]"
   ]
  },
  {
   "cell_type": "code",
   "execution_count": null,
   "metadata": {},
   "outputs": [],
   "source": [
    "inds = (df_4_pt4['Virus'] == '9P31') | (df_4_pt4['Virus'] == '9P36')\n",
    "\n",
    "df_4_pt4 = df_4_pt4.loc[inds]"
   ]
  },
  {
   "cell_type": "code",
   "execution_count": null,
   "metadata": {},
   "outputs": [],
   "source": [
    "# We need to convert the dose values to a string to allow us to plot catagorically\n",
    "df_4_pt4 = df_4_pt4.astype({\"Dose\": str})"
   ]
  },
  {
   "cell_type": "code",
   "execution_count": null,
   "metadata": {},
   "outputs": [],
   "source": [
    "# We can determine the mean of each of the values\n",
    "df_4_pt4 = df_4_pt4.groupby(['Virus', 'Receptor', 'Dose']).mean().reset_index()"
   ]
  },
  {
   "cell_type": "code",
   "execution_count": null,
   "metadata": {},
   "outputs": [],
   "source": [
    "df_4_pt4"
   ]
  },
  {
   "cell_type": "code",
   "execution_count": null,
   "metadata": {},
   "outputs": [],
   "source": [
    "for receptor in ['msCar4', 'huCar4', 'TM 118', 'TM 119', 'TM 120', 'TM 121']:\n",
    "    inds = (df_4_pt4['Receptor'] == receptor)\n",
    "    \n",
    "    source = ColumnDataSource(df_4_pt4[inds])\n",
    "\n",
    "    p = figure(x_range = ['9P31',\n",
    "                          '9P36'],\n",
    "              y_range = ['10000000.0',\n",
    "                         '100000000.0',\n",
    "                         '1000000000.0',\n",
    "                         '10000000000.0'],\n",
    "               title = receptor,\n",
    "               x_axis_label = 'Virus',\n",
    "               y_axis_label = 'Dose',\n",
    "               width=400, \n",
    "               height=400)\n",
    "\n",
    "    color_mapper = LinearColorMapper(palette = Viridis256, low = df_4_pt4['Total Brightness per Signal Area'].min(), high = df_4_pt4['Total Brightness per Signal Area'].max())\n",
    "\n",
    "    color_bar = ColorBar(color_mapper = color_mapper,\n",
    "                         location = (0, 0),\n",
    "                         ticker = BasicTicker())\n",
    "\n",
    "    p.add_layout(color_bar, 'right')\n",
    "\n",
    "    p.scatter(x = 'Virus', y = 'Dose', size = 'Percent Positive Scaled', fill_color = transform('Total Brightness per Signal Area', color_mapper), source = source)\n",
    "\n",
    "    p.add_tools(HoverTool(tooltips = [('Round', '@Round'), ('Plate', '@Plate'), ('Well', '@Well'), ('Virus', '@Virus'), ('Receptor', '@Receptor'), ('Dose', '@Dose')]))\n",
    "\n",
    "    p.xaxis.major_label_orientation = np.pi/2\n",
    "\n",
    "    #p.output_backend = \"svg\"\n",
    "\n",
    "    show(p)"
   ]
  },
  {
   "cell_type": "code",
   "execution_count": null,
   "metadata": {},
   "outputs": [],
   "source": [
    "inds = (df_reduced['Dose'] == 1e9) & (df_reduced['Round'] == 12)\n",
    "\n",
    "df_4_pt4 = df_reduced.loc[inds]"
   ]
  },
  {
   "cell_type": "code",
   "execution_count": null,
   "metadata": {},
   "outputs": [],
   "source": [
    "inds = (df_4_pt4['Virus'] == '9P31') | (df_4_pt4['Virus'] == '9P36')\n",
    "\n",
    "df_4_pt4 = df_4_pt4.loc[inds]"
   ]
  },
  {
   "cell_type": "code",
   "execution_count": null,
   "metadata": {},
   "outputs": [],
   "source": [
    "inds = (df_4_pt4['Receptor'] == 'msCar4') | (df_4_pt4['Receptor'] == 'huCar4') | (df_4_pt4['Receptor'] == 'TM 118') | (df_4_pt4['Receptor'] == 'TM 119') | (df_4_pt4['Receptor'] == 'TM 120') | (df_4_pt4['Receptor'] == 'TM 121')\n",
    " \n",
    "df_4_pt4 = df_4_pt4.loc[inds]"
   ]
  },
  {
   "cell_type": "code",
   "execution_count": null,
   "metadata": {},
   "outputs": [],
   "source": [
    "# We can determine the mean of each of the values\n",
    "df_4_pt4 = df_4_pt4.groupby(['Virus', 'Receptor', 'Dose']).mean().reset_index()"
   ]
  },
  {
   "cell_type": "code",
   "execution_count": null,
   "metadata": {},
   "outputs": [],
   "source": [
    "source = ColumnDataSource(df_4_pt4)\n",
    "\n",
    "p = figure(x_range = ['msCar4', \n",
    "                      'huCar4', \n",
    "                      'TM 118', \n",
    "                      'TM 119', \n",
    "                      'TM 120', \n",
    "                      'TM 121'],\n",
    "          y_range = ['9P36',\n",
    "                     '9P31'],\n",
    "           title = 'Receptor comparison',\n",
    "           x_axis_label = 'Receptor',\n",
    "           y_axis_label = 'Virus',\n",
    "           width=400, \n",
    "           height=300)\n",
    "\n",
    "color_mapper = LinearColorMapper(palette = Viridis256, low = df_4_pt4['Total Brightness per Signal Area'].min(), high = df_4_pt4['Total Brightness per Signal Area'].max())\n",
    "\n",
    "color_bar = ColorBar(color_mapper = color_mapper,\n",
    "                     location = (0, 0),\n",
    "                     ticker = BasicTicker())\n",
    "\n",
    "p.add_layout(color_bar, 'right')\n",
    "\n",
    "p.scatter(x = 'Receptor', y = 'Virus', size = 'Percent Positive Scaled', fill_color = transform('Total Brightness per Signal Area', color_mapper), source = source)\n",
    "\n",
    "p.add_tools(HoverTool(tooltips = [('Round', '@Round'), ('Plate', '@Plate'), ('Well', '@Well'), ('Virus', '@Virus'), ('Receptor', '@Receptor'), ('Dose', '@Dose')]))\n",
    "\n",
    "p.xaxis.major_label_orientation = np.pi/2\n",
    "\n",
    "#p.output_backend = \"svg\"\n",
    "\n",
    "show(p)"
   ]
  },
  {
   "cell_type": "markdown",
   "metadata": {},
   "source": [
    "---------"
   ]
  },
  {
   "cell_type": "code",
   "execution_count": null,
   "metadata": {},
   "outputs": [],
   "source": [
    "inds = (df_reduced['DMSO (%)'] == 0.3)\n",
    "\n",
    "df_x = df_reduced.loc[inds]"
   ]
  },
  {
   "cell_type": "code",
   "execution_count": null,
   "metadata": {},
   "outputs": [],
   "source": [
    "inds = df_x['Signal Area'].astype(float) < df_x['Bright Field Area']*1\n",
    "df_x_tempfix = df_x.loc[inds]"
   ]
  },
  {
   "cell_type": "code",
   "execution_count": null,
   "metadata": {},
   "outputs": [],
   "source": [
    "# We can determine the mean of each of the values\n",
    "df_x_grouped = df_x_tempfix.groupby(['Virus', 'Receptor', 'Dose', 'Brinzolamide (nM)']).mean().reset_index()"
   ]
  },
  {
   "cell_type": "code",
   "execution_count": null,
   "metadata": {},
   "outputs": [],
   "source": [
    "df_x_grouped"
   ]
  },
  {
   "cell_type": "code",
   "execution_count": null,
   "metadata": {},
   "outputs": [],
   "source": [
    "# We need to convert the dose values to a string to allow us to plot catagorically\n",
    "df_x_grouped = df_x_grouped.astype({\"Brinzolamide (nM)\": str})\n",
    "df_x_grouped = df_x_grouped.astype({\"Dose\": str})"
   ]
  },
  {
   "cell_type": "code",
   "execution_count": null,
   "metadata": {},
   "outputs": [],
   "source": [
    "for receptor in ['msCar4', 'Ly6a']:\n",
    "    for virus in ['9P31', '9P36', 'PHP.eB']:\n",
    "        inds = (df_x_grouped['Receptor'] == receptor) & (df_x_grouped['Virus'] == virus)\n",
    "\n",
    "        source = ColumnDataSource(df_x_grouped[inds])\n",
    "\n",
    "        p = figure(x_range = ['500000000.0',\n",
    "                              '1000000000.0'],\n",
    "                  y_range = ['0.0',\n",
    "                             '1.0',\n",
    "                             '100.0',\n",
    "                             '300.0'],\n",
    "                   title = receptor + ' and ' + virus,\n",
    "                   x_axis_label = 'Virus',\n",
    "                   y_axis_label = 'Dose',\n",
    "                   width=300, \n",
    "                   height=400)\n",
    "\n",
    "        color_mapper = LinearColorMapper(palette = Viridis256, low = df_x_grouped[ 'Total Brightness per Signal Area'].min(), high = df_x_grouped['Total Brightness per Signal Area'].max())\n",
    "\n",
    "        color_bar = ColorBar(color_mapper = color_mapper,\n",
    "                             location = (0, 0),\n",
    "                             ticker = BasicTicker())\n",
    "\n",
    "        p.add_layout(color_bar, 'right')\n",
    "\n",
    "        p.scatter(x = 'Dose', y = 'Brinzolamide (nM)', size = 'Percent Positive Scaled', fill_color = transform('Total Brightness per Signal Area', color_mapper), source = source)\n",
    "\n",
    "        p.add_tools(HoverTool(tooltips = [('Round', '@Round'), ('Plate', '@Plate'), ('Well', '@Well'), ('Virus', '@Virus'), ('Receptor', '@Receptor'), ('Dose', '@Dose')]))\n",
    "\n",
    "        p.xaxis.major_label_orientation = np.pi/2\n",
    "\n",
    "        #p.output_backend = \"svg\"\n",
    "\n",
    "        show(p)"
   ]
  },
  {
   "cell_type": "markdown",
   "metadata": {},
   "source": [
    "----------"
   ]
  },
  {
   "cell_type": "code",
   "execution_count": null,
   "metadata": {},
   "outputs": [],
   "source": [
    "inds = (df_reduced['Round'] == 15) & (df_reduced['Dose'] == 1e9)\n",
    "df_y = df_reduced.loc[inds]"
   ]
  },
  {
   "cell_type": "code",
   "execution_count": null,
   "metadata": {},
   "outputs": [],
   "source": [
    "# We can determine the mean of each of the values\n",
    "df_y_grouped = df_y.groupby(['Virus', 'Receptor', 'Dose']).mean().reset_index()"
   ]
  },
  {
   "cell_type": "code",
   "execution_count": null,
   "metadata": {},
   "outputs": [],
   "source": [
    "inds = (df_y_grouped['Virus'] == 'TM126') | (df_y_grouped['Virus'] == 'TM127')\n",
    "\n",
    "df_y_grouped = df_y_grouped.loc[inds]"
   ]
  },
  {
   "cell_type": "code",
   "execution_count": null,
   "metadata": {},
   "outputs": [],
   "source": [
    "source = ColumnDataSource(df_y_grouped)\n",
    "\n",
    "p = figure(x_range = ['None',\n",
    "                      'msCar4',\n",
    "                      'rhCar4',\n",
    "                      'huCar4'],\n",
    "          y_range = ['TM127',\n",
    "                     'TM126'],\n",
    "           title = 'Car4 comparison',\n",
    "           x_axis_label = 'Receptor',\n",
    "           y_axis_label = 'Virus',\n",
    "           width=300, \n",
    "           height=300)\n",
    "\n",
    "color_mapper = LinearColorMapper(palette = Viridis256, low = df_y_grouped['Total Brightness per Signal Area'].min(), high = df_y_grouped['Total Brightness per Signal Area'].max())\n",
    "\n",
    "color_bar = ColorBar(color_mapper = color_mapper,\n",
    "                     location = (0, 0),\n",
    "                     ticker = BasicTicker())\n",
    "\n",
    "p.add_layout(color_bar, 'right')\n",
    "\n",
    "p.scatter(x = 'Receptor', y = 'Virus', size = 'Percent Positive', fill_color = transform('Total Brightness per Signal Area', color_mapper), source = source)\n",
    "\n",
    "p.add_tools(HoverTool(tooltips = [('Round', '@Round'), ('Plate', '@Plate'), ('Well', '@Well'), ('Virus', '@Virus'), ('Receptor', '@Receptor'), ('Dose', '@Dose')]))\n",
    "\n",
    "p.xaxis.major_label_orientation = np.pi/2\n",
    "\n",
    "#p.output_backend = \"svg\"\n",
    "\n",
    "show(p)"
   ]
  },
  {
   "cell_type": "code",
   "execution_count": null,
   "metadata": {},
   "outputs": [],
   "source": [
    "# We can determine the mean of each of the values\n",
    "df_y_grouped = df_y.groupby(['Virus', 'Receptor', 'Dose']).mean().reset_index()"
   ]
  },
  {
   "cell_type": "code",
   "execution_count": null,
   "metadata": {},
   "outputs": [],
   "source": [
    "inds = (df_y_grouped['Virus'] == 'RR045') | (df_y_grouped['Virus'] == 'RR475') | \\\n",
    "(df_y_grouped['Virus'] == 'RD4') | (df_y_grouped['Virus'] == 'RDC16') | (df_y_grouped['Virus'] == 'MP3') | (df_y_grouped['Virus'] == 'RDM18') | \\\n",
    "(df_y_grouped['Virus'] == 'MP1A') | (df_y_grouped['Virus'] == 'RDM5') | (df_y_grouped['Virus'] == 'RD2') | (df_y_grouped['Virus'] == 'RDC9') | \\\n",
    "(df_y_grouped['Virus'] == 'RM174') | (df_y_grouped['Virus'] == 'RD5') | (df_y_grouped['Virus'] == 'MR2') | (df_y_grouped['Virus'] == 'RDC8')| \\\n",
    "(df_y_grouped['Virus'] == 'MP13') | (df_y_grouped['Virus'] == 'RM222')\n",
    "\n",
    "df_y_grouped = df_y_grouped.loc[inds]"
   ]
  },
  {
   "cell_type": "code",
   "execution_count": null,
   "metadata": {},
   "outputs": [],
   "source": [
    "source = ColumnDataSource(df_y_grouped)\n",
    "\n",
    "p = figure(x_range = ['None',\n",
    "                      'msCar4',\n",
    "                      'rhCar4',\n",
    "                      'huCar4'],\n",
    "          y_range = ['RR045',\n",
    "                     'RR475',\n",
    "                     'RD4',\n",
    "                     'RDC16',\n",
    "                     'MP3',\n",
    "                     'RDM18',\n",
    "                     'MP1A',\n",
    "                     'RDM5',\n",
    "                     'RD2',\n",
    "                     'RDC9',\n",
    "                     'RM174',\n",
    "                     'RD5',\n",
    "                     'MR2',\n",
    "                     'RDC8',\n",
    "                     'MP13',\n",
    "                     'RM222'],\n",
    "           title = 'Car4 comparison',\n",
    "           x_axis_label = 'Receptor',\n",
    "           y_axis_label = 'Virus',\n",
    "           width=300, \n",
    "           height=700)\n",
    "\n",
    "color_mapper = LinearColorMapper(palette = Viridis256, low = df_y_grouped['Total Brightness per Signal Area'].min(), high = df_y_grouped['Total Brightness per Signal Area'].max())\n",
    "\n",
    "color_bar = ColorBar(color_mapper = color_mapper,\n",
    "                     location = (0, 0),\n",
    "                     ticker = BasicTicker())\n",
    "\n",
    "p.add_layout(color_bar, 'right')\n",
    "\n",
    "p.scatter(x = 'Receptor', y = 'Virus', size = 'Percent Positive', fill_color = transform('Total Brightness per Signal Area', color_mapper), source = source)\n",
    "\n",
    "p.add_tools(HoverTool(tooltips = [('Round', '@Round'), ('Plate', '@Plate'), ('Well', '@Well'), ('Virus', '@Virus'), ('Receptor', '@Receptor'), ('Dose', '@Dose')]))\n",
    "\n",
    "p.xaxis.major_label_orientation = np.pi/2\n",
    "\n",
    "#p.output_backend = \"svg\"\n",
    "\n",
    "show(p)"
   ]
  },
  {
   "cell_type": "markdown",
   "metadata": {},
   "source": [
    "----------------"
   ]
  },
  {
   "cell_type": "code",
   "execution_count": null,
   "metadata": {},
   "outputs": [],
   "source": [
    "# We want to make a new dataframe with just the 1e9 dose.\n",
    "# First, we can find the indices of these receptors.\n",
    "inds = (df_reduced['Round'] == 13) & (df_reduced['Dose'] == 1e9)\n",
    "\n",
    "# Make this a new dataframe df_edf5\n",
    "df_3c = df_reduced.loc[inds]"
   ]
  },
  {
   "cell_type": "code",
   "execution_count": null,
   "metadata": {},
   "outputs": [],
   "source": [
    "# We can determine the mean of each of the values\n",
    "df_3c = df_3c.groupby(['Virus', 'Receptor', 'Dose']).mean().reset_index()"
   ]
  },
  {
   "cell_type": "code",
   "execution_count": null,
   "metadata": {
    "tags": []
   },
   "outputs": [],
   "source": [
    "source = ColumnDataSource(df_3c)\n",
    "\n",
    "p = figure(x_range = ['PHP.eB',\n",
    "                      'CAP-B10',\n",
    "                      'CAP-B22',\n",
    "                      '9P08',\n",
    "                      '9P16',\n",
    "                      'PHP.N',\n",
    "                      'PHP.C1',\n",
    "                      'PHP.C2',\n",
    "                      'PHP.C3',\n",
    "                      'PHP.C4',\n",
    "                      'AAV-F',\n",
    "                      '9P13',\n",
    "                      '9P33',\n",
    "                      '9P39'],\n",
    "          y_range = ['Ly6S',\n",
    "                     'Lynx1',\n",
    "                     'Lypd5',\n",
    "                     'Ly6h',\n",
    "                     'Ly6e', \n",
    "                     'Ly6c1',\n",
    "                     'Ly6a'],\n",
    "           title = 'Receptor screen of Ly6 family',\n",
    "           y_axis_label = 'Receptor',\n",
    "           x_axis_label = 'Virus',\n",
    "           width=800, \n",
    "           height=400)\n",
    "\n",
    "color_mapper = LinearColorMapper(palette = Viridis256, low = df_3c['Total Brightness per Signal Area'].min(), high = df_3c['Total Brightness per Signal Area'].max())\n",
    "\n",
    "color_bar = ColorBar(color_mapper = color_mapper,\n",
    "                     location = (0, 0),\n",
    "                     ticker = BasicTicker())\n",
    "\n",
    "p.add_layout(color_bar, 'right')\n",
    "\n",
    "p.scatter(x = 'Virus', y = 'Receptor', size = 'Percent Positive', fill_color = transform('Total Brightness per Signal Area', color_mapper), source = source)\n",
    "\n",
    "p.add_tools(HoverTool(tooltips = [('Round', '@Round'), ('Plate', '@Plate'), ('Well', '@Well'), ('Virus', '@Virus'), ('Receptor', '@Receptor'), ('Dose', '@Dose')]))\n",
    "\n",
    "p.xaxis.major_label_orientation = np.pi/2\n",
    "\n",
    "#p.output_backend = \"svg\"\n",
    "\n",
    "show(p)"
   ]
  },
  {
   "cell_type": "markdown",
   "metadata": {},
   "source": [
    "--------------"
   ]
  },
  {
   "cell_type": "code",
   "execution_count": null,
   "metadata": {},
   "outputs": [],
   "source": [
    "inds = (df_reduced['Round'] == 16) & (df_reduced['Dose'] == 1e9)\n",
    "df_z = df_reduced.loc[inds]"
   ]
  },
  {
   "cell_type": "code",
   "execution_count": null,
   "metadata": {},
   "outputs": [],
   "source": [
    "# We can determine the mean of each of the values\n",
    "df_z_grouped = df_z.groupby(['Virus', 'Receptor', 'Dose']).mean().reset_index()"
   ]
  },
  {
   "cell_type": "code",
   "execution_count": null,
   "metadata": {},
   "outputs": [],
   "source": [
    "df_z_grouped['Virus'].unique()\n"
   ]
  },
  {
   "cell_type": "code",
   "execution_count": null,
   "metadata": {},
   "outputs": [],
   "source": [
    "source = ColumnDataSource(df_z_grouped)\n",
    "\n",
    "p = figure(x_range = ['None',\n",
    "                      'msCar4',\n",
    "                      'rhCar4',\n",
    "                      'huCar4'],\n",
    "          y_range = ['TM127', 'TM126', '9P36', '9P31', 'PHP.eB'],\n",
    "           title = 'Car4 comparison',\n",
    "           x_axis_label = 'Receptor',\n",
    "           y_axis_label = 'Virus',\n",
    "           width=300, \n",
    "           height=800)\n",
    "\n",
    "color_mapper = LinearColorMapper(palette = Viridis256, low = df_z_grouped['Total Brightness per Signal Area'].min(), high = df_z_grouped['Total Brightness per Signal Area'].max())\n",
    "\n",
    "color_bar = ColorBar(color_mapper = color_mapper,\n",
    "                     location = (0, 0),\n",
    "                     ticker = BasicTicker())\n",
    "\n",
    "p.add_layout(color_bar, 'right')\n",
    "\n",
    "p.scatter(x = 'Receptor', y = 'Virus', size = 'Percent Positive', fill_color = transform('Total Brightness per Signal Area', color_mapper), source = source)\n",
    "\n",
    "p.add_tools(HoverTool(tooltips = [('Round', '@Round'), ('Plate', '@Plate'), ('Well', '@Well'), ('Virus', '@Virus'), ('Receptor', '@Receptor'), ('Dose', '@Dose')]))\n",
    "\n",
    "p.xaxis.major_label_orientation = np.pi/2\n",
    "\n",
    "#p.output_backend = \"svg\"\n",
    "\n",
    "show(p)"
   ]
  },
  {
   "cell_type": "code",
   "execution_count": null,
   "metadata": {},
   "outputs": [],
   "source": [
    "min(df_z_grouped['Percent Positive']), max(df_z_grouped['Percent Positive']), min(df_z_grouped['Total Brightness per Signal Area']), max(df_z_grouped['Total Brightness per Signal Area'])"
   ]
  },
  {
   "cell_type": "markdown",
   "metadata": {},
   "source": [
    "-----------------"
   ]
  },
  {
   "cell_type": "code",
   "execution_count": null,
   "metadata": {},
   "outputs": [],
   "source": [
    "inds = (df_reduced['Round'] == 17) & (df_reduced['Dose'] == 1e9)\n",
    "df_a = df_reduced.loc[inds]"
   ]
  },
  {
   "cell_type": "code",
   "execution_count": null,
   "metadata": {},
   "outputs": [],
   "source": [
    "# We can determine the mean of each of the values\n",
    "df_a_grouped = df_a.groupby(['Virus', 'Receptor', 'Dose']).mean().reset_index()"
   ]
  },
  {
   "cell_type": "code",
   "execution_count": null,
   "metadata": {},
   "outputs": [],
   "source": [
    "df_a_grouped['Virus'].unique(), df_a_grouped['Receptor'].unique() "
   ]
  },
  {
   "cell_type": "code",
   "execution_count": null,
   "metadata": {},
   "outputs": [],
   "source": [
    "source = ColumnDataSource(df_a_grouped)\n",
    "\n",
    "p = figure(x_range = ['None',\n",
    "                      'Ly6a',\n",
    "                      'Marmoset Ly6E',\n",
    "                      'Marmoset LyPD5',\n",
    "                     'Marmoset Lynx1'],\n",
    "          y_range = ['CAP-B22','CAP-B10', 'PHP.eB'],\n",
    "           title = 'Marmoset Receptor Comparison',\n",
    "           x_axis_label = 'Receptor',\n",
    "           y_axis_label = 'Virus',\n",
    "           width=400, \n",
    "           height=400)\n",
    "\n",
    "color_mapper = LinearColorMapper(palette = Viridis256, low = df_a_grouped['Total Brightness per Signal Area'].min(), high = df_a_grouped['Total Brightness per Signal Area'].max())\n",
    "\n",
    "color_bar = ColorBar(color_mapper = color_mapper,\n",
    "                     location = (0, 0),\n",
    "                     ticker = BasicTicker())\n",
    "\n",
    "p.add_layout(color_bar, 'right')\n",
    "\n",
    "p.scatter(x = 'Receptor', y = 'Virus', size = 'Percent Positive', fill_color = transform('Total Brightness per Signal Area', color_mapper), source = source)\n",
    "\n",
    "p.add_tools(HoverTool(tooltips = [('Round', '@Round'), ('Plate', '@Plate'), ('Well', '@Well'), ('Virus', '@Virus'), ('Receptor', '@Receptor'), ('Dose', '@Dose')]))\n",
    "\n",
    "p.xaxis.major_label_orientation = np.pi/2\n",
    "\n",
    "#p.output_backend = \"svg\"\n",
    "\n",
    "show(p)"
   ]
  },
  {
   "cell_type": "code",
   "execution_count": null,
   "metadata": {},
   "outputs": [],
   "source": [
    "source = ColumnDataSource(df_a_grouped)\n",
    "\n",
    "p = figure(x_range = ['None',\n",
    "                      'msCar4', \n",
    "                      'msCar4 L71A',\n",
    "                      'msCar4 L71E'],\n",
    "          y_range = ['9P36',\n",
    "                     '9P31'],\n",
    "           title = 'Mouse Car4 Mutants',\n",
    "           x_axis_label = 'Receptor',\n",
    "           y_axis_label = 'Virus',\n",
    "           width=500, \n",
    "           height=400)\n",
    "\n",
    "color_mapper = LinearColorMapper(palette = Viridis256, low = df_a_grouped['Total Brightness per Signal Area'].min(), high = df_a_grouped['Total Brightness per Signal Area'].max())\n",
    "\n",
    "color_bar = ColorBar(color_mapper = color_mapper,\n",
    "                     location = (0, 0),\n",
    "                     ticker = BasicTicker())\n",
    "\n",
    "p.add_layout(color_bar, 'right')\n",
    "\n",
    "p.scatter(x = 'Receptor', y = 'Virus', size = 'Percent Positive', fill_color = transform('Total Brightness per Signal Area', color_mapper), source = source)\n",
    "\n",
    "p.add_tools(HoverTool(tooltips = [('Round', '@Round'), ('Plate', '@Plate'), ('Well', '@Well'), ('Virus', '@Virus'), ('Receptor', '@Receptor'), ('Dose', '@Dose')]))\n",
    "\n",
    "p.xaxis.major_label_orientation = np.pi/2\n",
    "\n",
    "#p.output_backend = \"svg\"\n",
    "\n",
    "show(p)"
   ]
  },
  {
   "cell_type": "code",
   "execution_count": null,
   "metadata": {},
   "outputs": [],
   "source": [
    "source = ColumnDataSource(df_a_grouped)\n",
    "\n",
    "p = figure(x_range = ['None',\n",
    "                      'Ly6c1', \n",
    "                      'Ly6c1 E31R', \n",
    "                      'Ly6c1 Q56A',\n",
    "                      'Ly6c1 S94E', \n",
    "                      'Ly6c1 triple mutant'],\n",
    "          y_range = ['PHP.C2',\n",
    "                     'PHP.C1'],\n",
    "           title = 'Ly6c1 Mutants',\n",
    "           x_axis_label = 'Receptor',\n",
    "           y_axis_label = 'Virus',\n",
    "           width=600, \n",
    "           height=400)\n",
    "\n",
    "color_mapper = LinearColorMapper(palette = Viridis256, low = df_a_grouped['Total Brightness per Signal Area'].min(), high = df_a_grouped['Total Brightness per Signal Area'].max())\n",
    "\n",
    "color_bar = ColorBar(color_mapper = color_mapper,\n",
    "                     location = (0, 0),\n",
    "                     ticker = BasicTicker())\n",
    "\n",
    "p.add_layout(color_bar, 'right')\n",
    "\n",
    "p.scatter(x = 'Receptor', y = 'Virus', size = 'Percent Positive', fill_color = transform('Total Brightness per Signal Area', color_mapper), source = source)\n",
    "\n",
    "p.add_tools(HoverTool(tooltips = [('Round', '@Round'), ('Plate', '@Plate'), ('Well', '@Well'), ('Virus', '@Virus'), ('Receptor', '@Receptor'), ('Dose', '@Dose')]))\n",
    "\n",
    "p.xaxis.major_label_orientation = np.pi/2\n",
    "\n",
    "#p.output_backend = \"svg\"\n",
    "\n",
    "show(p)"
   ]
  },
  {
   "cell_type": "code",
   "execution_count": null,
   "metadata": {},
   "outputs": [],
   "source": [
    "source = ColumnDataSource(df_a_grouped)\n",
    "\n",
    "p = figure(x_range = ['None',\n",
    "                      'msCar4',\n",
    "                      'msCar4 Q63G', \n",
    "                      'rhCar4', \n",
    "                      'rhCar4 G63Q'],\n",
    "          y_range = ['TTD-008',\n",
    "                     'TTD-004',\n",
    "                     'TTD-001',\n",
    "                     '9P36',\n",
    "                     '9P31'],\n",
    "           title = 'Mouse and Rhesus Comparison',\n",
    "           x_axis_label = 'Receptor',\n",
    "           y_axis_label = 'Virus',\n",
    "           width=600, \n",
    "           height=500)\n",
    "\n",
    "color_mapper = LinearColorMapper(palette = Viridis256, low = df_a_grouped['Total Brightness per Signal Area'].min(), high = df_a_grouped['Total Brightness per Signal Area'].max())\n",
    "\n",
    "color_bar = ColorBar(color_mapper = color_mapper,\n",
    "                     location = (0, 0),\n",
    "                     ticker = BasicTicker())\n",
    "\n",
    "p.add_layout(color_bar, 'right')\n",
    "\n",
    "p.scatter(x = 'Receptor', y = 'Virus', size = 'Percent Positive', fill_color = transform('Total Brightness per Signal Area', color_mapper), source = source)\n",
    "\n",
    "p.add_tools(HoverTool(tooltips = [('Round', '@Round'), ('Plate', '@Plate'), ('Well', '@Well'), ('Virus', '@Virus'), ('Receptor', '@Receptor'), ('Dose', '@Dose')]))\n",
    "\n",
    "p.xaxis.major_label_orientation = np.pi/2\n",
    "\n",
    "#p.output_backend = \"svg\"\n",
    "\n",
    "show(p)"
   ]
  },
  {
   "cell_type": "code",
   "execution_count": null,
   "metadata": {},
   "outputs": [],
   "source": []
  }
 ],
 "metadata": {
  "kernelspec": {
   "display_name": "Python 3",
   "language": "python",
   "name": "python3"
  },
  "language_info": {
   "codemirror_mode": {
    "name": "ipython",
    "version": 3
   },
   "file_extension": ".py",
   "mimetype": "text/x-python",
   "name": "python",
   "nbconvert_exporter": "python",
   "pygments_lexer": "ipython3",
   "version": "3.6.8"
  }
 },
 "nbformat": 4,
 "nbformat_minor": 5
}
