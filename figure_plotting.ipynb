{
 "cells": [
  {
   "cell_type": "code",
   "execution_count": 1,
   "id": "3314e698",
   "metadata": {},
   "outputs": [
    {
     "data": {
      "text/html": [
       "<div class=\"bk-root\">\n",
       "        <a href=\"https://bokeh.org\" target=\"_blank\" class=\"bk-logo bk-logo-small bk-logo-notebook\"></a>\n",
       "        <span id=\"1002\">Loading BokehJS ...</span>\n",
       "    </div>\n"
      ]
     },
     "metadata": {},
     "output_type": "display_data"
    },
    {
     "data": {
      "application/javascript": [
       "(function(root) {\n",
       "  function now() {\n",
       "    return new Date();\n",
       "  }\n",
       "\n",
       "  const force = true;\n",
       "\n",
       "  if (typeof root._bokeh_onload_callbacks === \"undefined\" || force === true) {\n",
       "    root._bokeh_onload_callbacks = [];\n",
       "    root._bokeh_is_loading = undefined;\n",
       "  }\n",
       "\n",
       "const JS_MIME_TYPE = 'application/javascript';\n",
       "  const HTML_MIME_TYPE = 'text/html';\n",
       "  const EXEC_MIME_TYPE = 'application/vnd.bokehjs_exec.v0+json';\n",
       "  const CLASS_NAME = 'output_bokeh rendered_html';\n",
       "\n",
       "  /**\n",
       "   * Render data to the DOM node\n",
       "   */\n",
       "  function render(props, node) {\n",
       "    const script = document.createElement(\"script\");\n",
       "    node.appendChild(script);\n",
       "  }\n",
       "\n",
       "  /**\n",
       "   * Handle when an output is cleared or removed\n",
       "   */\n",
       "  function handleClearOutput(event, handle) {\n",
       "    const cell = handle.cell;\n",
       "\n",
       "    const id = cell.output_area._bokeh_element_id;\n",
       "    const server_id = cell.output_area._bokeh_server_id;\n",
       "    // Clean up Bokeh references\n",
       "    if (id != null && id in Bokeh.index) {\n",
       "      Bokeh.index[id].model.document.clear();\n",
       "      delete Bokeh.index[id];\n",
       "    }\n",
       "\n",
       "    if (server_id !== undefined) {\n",
       "      // Clean up Bokeh references\n",
       "      const cmd_clean = \"from bokeh.io.state import curstate; print(curstate().uuid_to_server['\" + server_id + \"'].get_sessions()[0].document.roots[0]._id)\";\n",
       "      cell.notebook.kernel.execute(cmd_clean, {\n",
       "        iopub: {\n",
       "          output: function(msg) {\n",
       "            const id = msg.content.text.trim();\n",
       "            if (id in Bokeh.index) {\n",
       "              Bokeh.index[id].model.document.clear();\n",
       "              delete Bokeh.index[id];\n",
       "            }\n",
       "          }\n",
       "        }\n",
       "      });\n",
       "      // Destroy server and session\n",
       "      const cmd_destroy = \"import bokeh.io.notebook as ion; ion.destroy_server('\" + server_id + \"')\";\n",
       "      cell.notebook.kernel.execute(cmd_destroy);\n",
       "    }\n",
       "  }\n",
       "\n",
       "  /**\n",
       "   * Handle when a new output is added\n",
       "   */\n",
       "  function handleAddOutput(event, handle) {\n",
       "    const output_area = handle.output_area;\n",
       "    const output = handle.output;\n",
       "\n",
       "    // limit handleAddOutput to display_data with EXEC_MIME_TYPE content only\n",
       "    if ((output.output_type != \"display_data\") || (!Object.prototype.hasOwnProperty.call(output.data, EXEC_MIME_TYPE))) {\n",
       "      return\n",
       "    }\n",
       "\n",
       "    const toinsert = output_area.element.find(\".\" + CLASS_NAME.split(' ')[0]);\n",
       "\n",
       "    if (output.metadata[EXEC_MIME_TYPE][\"id\"] !== undefined) {\n",
       "      toinsert[toinsert.length - 1].firstChild.textContent = output.data[JS_MIME_TYPE];\n",
       "      // store reference to embed id on output_area\n",
       "      output_area._bokeh_element_id = output.metadata[EXEC_MIME_TYPE][\"id\"];\n",
       "    }\n",
       "    if (output.metadata[EXEC_MIME_TYPE][\"server_id\"] !== undefined) {\n",
       "      const bk_div = document.createElement(\"div\");\n",
       "      bk_div.innerHTML = output.data[HTML_MIME_TYPE];\n",
       "      const script_attrs = bk_div.children[0].attributes;\n",
       "      for (let i = 0; i < script_attrs.length; i++) {\n",
       "        toinsert[toinsert.length - 1].firstChild.setAttribute(script_attrs[i].name, script_attrs[i].value);\n",
       "        toinsert[toinsert.length - 1].firstChild.textContent = bk_div.children[0].textContent\n",
       "      }\n",
       "      // store reference to server id on output_area\n",
       "      output_area._bokeh_server_id = output.metadata[EXEC_MIME_TYPE][\"server_id\"];\n",
       "    }\n",
       "  }\n",
       "\n",
       "  function register_renderer(events, OutputArea) {\n",
       "\n",
       "    function append_mime(data, metadata, element) {\n",
       "      // create a DOM node to render to\n",
       "      const toinsert = this.create_output_subarea(\n",
       "        metadata,\n",
       "        CLASS_NAME,\n",
       "        EXEC_MIME_TYPE\n",
       "      );\n",
       "      this.keyboard_manager.register_events(toinsert);\n",
       "      // Render to node\n",
       "      const props = {data: data, metadata: metadata[EXEC_MIME_TYPE]};\n",
       "      render(props, toinsert[toinsert.length - 1]);\n",
       "      element.append(toinsert);\n",
       "      return toinsert\n",
       "    }\n",
       "\n",
       "    /* Handle when an output is cleared or removed */\n",
       "    events.on('clear_output.CodeCell', handleClearOutput);\n",
       "    events.on('delete.Cell', handleClearOutput);\n",
       "\n",
       "    /* Handle when a new output is added */\n",
       "    events.on('output_added.OutputArea', handleAddOutput);\n",
       "\n",
       "    /**\n",
       "     * Register the mime type and append_mime function with output_area\n",
       "     */\n",
       "    OutputArea.prototype.register_mime_type(EXEC_MIME_TYPE, append_mime, {\n",
       "      /* Is output safe? */\n",
       "      safe: true,\n",
       "      /* Index of renderer in `output_area.display_order` */\n",
       "      index: 0\n",
       "    });\n",
       "  }\n",
       "\n",
       "  // register the mime type if in Jupyter Notebook environment and previously unregistered\n",
       "  if (root.Jupyter !== undefined) {\n",
       "    const events = require('base/js/events');\n",
       "    const OutputArea = require('notebook/js/outputarea').OutputArea;\n",
       "\n",
       "    if (OutputArea.prototype.mime_types().indexOf(EXEC_MIME_TYPE) == -1) {\n",
       "      register_renderer(events, OutputArea);\n",
       "    }\n",
       "  }\n",
       "  if (typeof (root._bokeh_timeout) === \"undefined\" || force === true) {\n",
       "    root._bokeh_timeout = Date.now() + 5000;\n",
       "    root._bokeh_failed_load = false;\n",
       "  }\n",
       "\n",
       "  const NB_LOAD_WARNING = {'data': {'text/html':\n",
       "     \"<div style='background-color: #fdd'>\\n\"+\n",
       "     \"<p>\\n\"+\n",
       "     \"BokehJS does not appear to have successfully loaded. If loading BokehJS from CDN, this \\n\"+\n",
       "     \"may be due to a slow or bad network connection. Possible fixes:\\n\"+\n",
       "     \"</p>\\n\"+\n",
       "     \"<ul>\\n\"+\n",
       "     \"<li>re-rerun `output_notebook()` to attempt to load from CDN again, or</li>\\n\"+\n",
       "     \"<li>use INLINE resources instead, as so:</li>\\n\"+\n",
       "     \"</ul>\\n\"+\n",
       "     \"<code>\\n\"+\n",
       "     \"from bokeh.resources import INLINE\\n\"+\n",
       "     \"output_notebook(resources=INLINE)\\n\"+\n",
       "     \"</code>\\n\"+\n",
       "     \"</div>\"}};\n",
       "\n",
       "  function display_loaded() {\n",
       "    const el = document.getElementById(\"1002\");\n",
       "    if (el != null) {\n",
       "      el.textContent = \"BokehJS is loading...\";\n",
       "    }\n",
       "    if (root.Bokeh !== undefined) {\n",
       "      if (el != null) {\n",
       "        el.textContent = \"BokehJS \" + root.Bokeh.version + \" successfully loaded.\";\n",
       "      }\n",
       "    } else if (Date.now() < root._bokeh_timeout) {\n",
       "      setTimeout(display_loaded, 100)\n",
       "    }\n",
       "  }\n",
       "\n",
       "  function run_callbacks() {\n",
       "    try {\n",
       "      root._bokeh_onload_callbacks.forEach(function(callback) {\n",
       "        if (callback != null)\n",
       "          callback();\n",
       "      });\n",
       "    } finally {\n",
       "      delete root._bokeh_onload_callbacks\n",
       "    }\n",
       "    console.debug(\"Bokeh: all callbacks have finished\");\n",
       "  }\n",
       "\n",
       "  function load_libs(css_urls, js_urls, callback) {\n",
       "    if (css_urls == null) css_urls = [];\n",
       "    if (js_urls == null) js_urls = [];\n",
       "\n",
       "    root._bokeh_onload_callbacks.push(callback);\n",
       "    if (root._bokeh_is_loading > 0) {\n",
       "      console.debug(\"Bokeh: BokehJS is being loaded, scheduling callback at\", now());\n",
       "      return null;\n",
       "    }\n",
       "    if (js_urls == null || js_urls.length === 0) {\n",
       "      run_callbacks();\n",
       "      return null;\n",
       "    }\n",
       "    console.debug(\"Bokeh: BokehJS not loaded, scheduling load and callback at\", now());\n",
       "    root._bokeh_is_loading = css_urls.length + js_urls.length;\n",
       "\n",
       "    function on_load() {\n",
       "      root._bokeh_is_loading--;\n",
       "      if (root._bokeh_is_loading === 0) {\n",
       "        console.debug(\"Bokeh: all BokehJS libraries/stylesheets loaded\");\n",
       "        run_callbacks()\n",
       "      }\n",
       "    }\n",
       "\n",
       "    function on_error(url) {\n",
       "      console.error(\"failed to load \" + url);\n",
       "    }\n",
       "\n",
       "    for (let i = 0; i < css_urls.length; i++) {\n",
       "      const url = css_urls[i];\n",
       "      const element = document.createElement(\"link\");\n",
       "      element.onload = on_load;\n",
       "      element.onerror = on_error.bind(null, url);\n",
       "      element.rel = \"stylesheet\";\n",
       "      element.type = \"text/css\";\n",
       "      element.href = url;\n",
       "      console.debug(\"Bokeh: injecting link tag for BokehJS stylesheet: \", url);\n",
       "      document.body.appendChild(element);\n",
       "    }\n",
       "\n",
       "    for (let i = 0; i < js_urls.length; i++) {\n",
       "      const url = js_urls[i];\n",
       "      const element = document.createElement('script');\n",
       "      element.onload = on_load;\n",
       "      element.onerror = on_error.bind(null, url);\n",
       "      element.async = false;\n",
       "      element.src = url;\n",
       "      console.debug(\"Bokeh: injecting script tag for BokehJS library: \", url);\n",
       "      document.head.appendChild(element);\n",
       "    }\n",
       "  };\n",
       "\n",
       "  function inject_raw_css(css) {\n",
       "    const element = document.createElement(\"style\");\n",
       "    element.appendChild(document.createTextNode(css));\n",
       "    document.body.appendChild(element);\n",
       "  }\n",
       "\n",
       "  const js_urls = [\"https://cdn.bokeh.org/bokeh/release/bokeh-2.4.3.min.js\", \"https://cdn.bokeh.org/bokeh/release/bokeh-gl-2.4.3.min.js\", \"https://cdn.bokeh.org/bokeh/release/bokeh-widgets-2.4.3.min.js\", \"https://cdn.bokeh.org/bokeh/release/bokeh-tables-2.4.3.min.js\", \"https://cdn.bokeh.org/bokeh/release/bokeh-mathjax-2.4.3.min.js\"];\n",
       "  const css_urls = [];\n",
       "\n",
       "  const inline_js = [    function(Bokeh) {\n",
       "      Bokeh.set_log_level(\"info\");\n",
       "    },\n",
       "function(Bokeh) {\n",
       "    }\n",
       "  ];\n",
       "\n",
       "  function run_inline_js() {\n",
       "    if (root.Bokeh !== undefined || force === true) {\n",
       "          for (let i = 0; i < inline_js.length; i++) {\n",
       "      inline_js[i].call(root, root.Bokeh);\n",
       "    }\n",
       "if (force === true) {\n",
       "        display_loaded();\n",
       "      }} else if (Date.now() < root._bokeh_timeout) {\n",
       "      setTimeout(run_inline_js, 100);\n",
       "    } else if (!root._bokeh_failed_load) {\n",
       "      console.log(\"Bokeh: BokehJS failed to load within specified timeout.\");\n",
       "      root._bokeh_failed_load = true;\n",
       "    } else if (force !== true) {\n",
       "      const cell = $(document.getElementById(\"1002\")).parents('.cell').data().cell;\n",
       "      cell.output_area.append_execute_result(NB_LOAD_WARNING)\n",
       "    }\n",
       "  }\n",
       "\n",
       "  if (root._bokeh_is_loading === 0) {\n",
       "    console.debug(\"Bokeh: BokehJS loaded, going straight to plotting\");\n",
       "    run_inline_js();\n",
       "  } else {\n",
       "    load_libs(css_urls, js_urls, function() {\n",
       "      console.debug(\"Bokeh: BokehJS plotting callback run at\", now());\n",
       "      run_inline_js();\n",
       "    });\n",
       "  }\n",
       "}(window));"
      ],
      "application/vnd.bokehjs_load.v0+json": "(function(root) {\n  function now() {\n    return new Date();\n  }\n\n  const force = true;\n\n  if (typeof root._bokeh_onload_callbacks === \"undefined\" || force === true) {\n    root._bokeh_onload_callbacks = [];\n    root._bokeh_is_loading = undefined;\n  }\n\n\n  if (typeof (root._bokeh_timeout) === \"undefined\" || force === true) {\n    root._bokeh_timeout = Date.now() + 5000;\n    root._bokeh_failed_load = false;\n  }\n\n  const NB_LOAD_WARNING = {'data': {'text/html':\n     \"<div style='background-color: #fdd'>\\n\"+\n     \"<p>\\n\"+\n     \"BokehJS does not appear to have successfully loaded. If loading BokehJS from CDN, this \\n\"+\n     \"may be due to a slow or bad network connection. Possible fixes:\\n\"+\n     \"</p>\\n\"+\n     \"<ul>\\n\"+\n     \"<li>re-rerun `output_notebook()` to attempt to load from CDN again, or</li>\\n\"+\n     \"<li>use INLINE resources instead, as so:</li>\\n\"+\n     \"</ul>\\n\"+\n     \"<code>\\n\"+\n     \"from bokeh.resources import INLINE\\n\"+\n     \"output_notebook(resources=INLINE)\\n\"+\n     \"</code>\\n\"+\n     \"</div>\"}};\n\n  function display_loaded() {\n    const el = document.getElementById(\"1002\");\n    if (el != null) {\n      el.textContent = \"BokehJS is loading...\";\n    }\n    if (root.Bokeh !== undefined) {\n      if (el != null) {\n        el.textContent = \"BokehJS \" + root.Bokeh.version + \" successfully loaded.\";\n      }\n    } else if (Date.now() < root._bokeh_timeout) {\n      setTimeout(display_loaded, 100)\n    }\n  }\n\n  function run_callbacks() {\n    try {\n      root._bokeh_onload_callbacks.forEach(function(callback) {\n        if (callback != null)\n          callback();\n      });\n    } finally {\n      delete root._bokeh_onload_callbacks\n    }\n    console.debug(\"Bokeh: all callbacks have finished\");\n  }\n\n  function load_libs(css_urls, js_urls, callback) {\n    if (css_urls == null) css_urls = [];\n    if (js_urls == null) js_urls = [];\n\n    root._bokeh_onload_callbacks.push(callback);\n    if (root._bokeh_is_loading > 0) {\n      console.debug(\"Bokeh: BokehJS is being loaded, scheduling callback at\", now());\n      return null;\n    }\n    if (js_urls == null || js_urls.length === 0) {\n      run_callbacks();\n      return null;\n    }\n    console.debug(\"Bokeh: BokehJS not loaded, scheduling load and callback at\", now());\n    root._bokeh_is_loading = css_urls.length + js_urls.length;\n\n    function on_load() {\n      root._bokeh_is_loading--;\n      if (root._bokeh_is_loading === 0) {\n        console.debug(\"Bokeh: all BokehJS libraries/stylesheets loaded\");\n        run_callbacks()\n      }\n    }\n\n    function on_error(url) {\n      console.error(\"failed to load \" + url);\n    }\n\n    for (let i = 0; i < css_urls.length; i++) {\n      const url = css_urls[i];\n      const element = document.createElement(\"link\");\n      element.onload = on_load;\n      element.onerror = on_error.bind(null, url);\n      element.rel = \"stylesheet\";\n      element.type = \"text/css\";\n      element.href = url;\n      console.debug(\"Bokeh: injecting link tag for BokehJS stylesheet: \", url);\n      document.body.appendChild(element);\n    }\n\n    for (let i = 0; i < js_urls.length; i++) {\n      const url = js_urls[i];\n      const element = document.createElement('script');\n      element.onload = on_load;\n      element.onerror = on_error.bind(null, url);\n      element.async = false;\n      element.src = url;\n      console.debug(\"Bokeh: injecting script tag for BokehJS library: \", url);\n      document.head.appendChild(element);\n    }\n  };\n\n  function inject_raw_css(css) {\n    const element = document.createElement(\"style\");\n    element.appendChild(document.createTextNode(css));\n    document.body.appendChild(element);\n  }\n\n  const js_urls = [\"https://cdn.bokeh.org/bokeh/release/bokeh-2.4.3.min.js\", \"https://cdn.bokeh.org/bokeh/release/bokeh-gl-2.4.3.min.js\", \"https://cdn.bokeh.org/bokeh/release/bokeh-widgets-2.4.3.min.js\", \"https://cdn.bokeh.org/bokeh/release/bokeh-tables-2.4.3.min.js\", \"https://cdn.bokeh.org/bokeh/release/bokeh-mathjax-2.4.3.min.js\"];\n  const css_urls = [];\n\n  const inline_js = [    function(Bokeh) {\n      Bokeh.set_log_level(\"info\");\n    },\nfunction(Bokeh) {\n    }\n  ];\n\n  function run_inline_js() {\n    if (root.Bokeh !== undefined || force === true) {\n          for (let i = 0; i < inline_js.length; i++) {\n      inline_js[i].call(root, root.Bokeh);\n    }\nif (force === true) {\n        display_loaded();\n      }} else if (Date.now() < root._bokeh_timeout) {\n      setTimeout(run_inline_js, 100);\n    } else if (!root._bokeh_failed_load) {\n      console.log(\"Bokeh: BokehJS failed to load within specified timeout.\");\n      root._bokeh_failed_load = true;\n    } else if (force !== true) {\n      const cell = $(document.getElementById(\"1002\")).parents('.cell').data().cell;\n      cell.output_area.append_execute_result(NB_LOAD_WARNING)\n    }\n  }\n\n  if (root._bokeh_is_loading === 0) {\n    console.debug(\"Bokeh: BokehJS loaded, going straight to plotting\");\n    run_inline_js();\n  } else {\n    load_libs(css_urls, js_urls, function() {\n      console.debug(\"Bokeh: BokehJS plotting callback run at\", now());\n      run_inline_js();\n    });\n  }\n}(window));"
     },
     "metadata": {},
     "output_type": "display_data"
    }
   ],
   "source": [
    "# Basic imports\n",
    "import numpy as np\n",
    "import pandas as pd\n",
    "\n",
    "# Plotting tools\n",
    "import bokeh\n",
    "from bokeh.io import show\n",
    "\n",
    "import cellseg.plot\n",
    "\n",
    "bokeh.io.output_notebook()"
   ]
  },
  {
   "cell_type": "markdown",
   "id": "fbce6a7e",
   "metadata": {},
   "source": [
    "## Figure plotting\n",
    "The purpose of this code is to generate the figure panels for publication from the data collected by `in_vitro_cell_segmentation.ipynb`"
   ]
  },
  {
   "cell_type": "markdown",
   "id": "42f2918c",
   "metadata": {},
   "source": [
    "We can start by importing the data that we want to work with:"
   ]
  },
  {
   "cell_type": "code",
   "execution_count": 2,
   "id": "9625b97e",
   "metadata": {},
   "outputs": [],
   "source": [
    "# Use read_csv to create a dataframe from the data csv \n",
    "df_data = pd.read_csv('data/quantification/20220927-data.csv', comment='#')\n",
    "\n",
    "# Use read_csv to create a dataframe from the look up table\n",
    "df_meta = pd.read_csv('data/quantification/20220927_data_lookup_table.csv', comment='#')"
   ]
  },
  {
   "cell_type": "markdown",
   "id": "c58e1a71-fb19-4da8-91ee-804a6ce51537",
   "metadata": {},
   "source": [
    "Then, we can merge the dataframes to connect the metadata with the measured data:"
   ]
  },
  {
   "cell_type": "code",
   "execution_count": 3,
   "id": "8b952ab6",
   "metadata": {},
   "outputs": [],
   "source": [
    "# Use merge the two dataframes, using round, plate, and well to combine them\n",
    "df = pd.merge(df_data, df_meta, on=[\"Round\", \"Plate\", \"Well\"])"
   ]
  },
  {
   "cell_type": "markdown",
   "id": "2414d06a-8d8d-407d-a41a-64bd73d4a2b5",
   "metadata": {},
   "source": [
    "We can sort and curate the resulting dataframe: "
   ]
  },
  {
   "cell_type": "code",
   "execution_count": 4,
   "id": "37971204",
   "metadata": {},
   "outputs": [],
   "source": [
    "#We can sort the values to ensure they're in a logical order\n",
    "df = df.sort_values(by = ['Round', 'Plate', 'Well'], axis = 0)\n",
    "\n",
    "# Drop any empty rows and reset the index so that it is in sequence\n",
    "df = df.dropna().reset_index(drop=True)"
   ]
  },
  {
   "cell_type": "markdown",
   "id": "5165720e",
   "metadata": {},
   "source": [
    "We can perform some initial analysis on the data to determine the percent positive area of each well, the scaled area (to enable plotting at a smaller size), and the total brightness per signal area."
   ]
  },
  {
   "cell_type": "code",
   "execution_count": 5,
   "id": "62244265",
   "metadata": {},
   "outputs": [],
   "source": [
    "# Determine the percent positive and add it to a new column\n",
    "df['Percent Positive'] = df['Signal Area']*100/df['Bright Field Area']\n",
    "df['Percent Positive Scaled'] = df['Percent Positive']*0.5\n",
    "df['Total Brightness per Signal Area'] = df['Total Brightness']/df['Signal Area']"
   ]
  },
  {
   "cell_type": "markdown",
   "id": "f095e64b",
   "metadata": {},
   "source": [
    "We can then examine the resulting dataframe: "
   ]
  },
  {
   "cell_type": "code",
   "execution_count": 6,
   "id": "24da4f01",
   "metadata": {},
   "outputs": [
    {
     "data": {
      "text/html": [
       "<div>\n",
       "<style scoped>\n",
       "    .dataframe tbody tr th:only-of-type {\n",
       "        vertical-align: middle;\n",
       "    }\n",
       "\n",
       "    .dataframe tbody tr th {\n",
       "        vertical-align: top;\n",
       "    }\n",
       "\n",
       "    .dataframe thead th {\n",
       "        text-align: right;\n",
       "    }\n",
       "</style>\n",
       "<table border=\"1\" class=\"dataframe\">\n",
       "  <thead>\n",
       "    <tr style=\"text-align: right;\">\n",
       "      <th></th>\n",
       "      <th>Date</th>\n",
       "      <th>Round</th>\n",
       "      <th>Plate</th>\n",
       "      <th>Well</th>\n",
       "      <th>Count</th>\n",
       "      <th>Cells Quantified</th>\n",
       "      <th>Brightness List</th>\n",
       "      <th>Bright Field Area</th>\n",
       "      <th>Signal Area</th>\n",
       "      <th>Total Brightness</th>\n",
       "      <th>...</th>\n",
       "      <th>90% Confidence Interval</th>\n",
       "      <th>Virus</th>\n",
       "      <th>Receptor</th>\n",
       "      <th>Include</th>\n",
       "      <th>Dose</th>\n",
       "      <th>DMSO (%)</th>\n",
       "      <th>Brinzolamide (nM)</th>\n",
       "      <th>Percent Positive</th>\n",
       "      <th>Percent Positive Scaled</th>\n",
       "      <th>Total Brightness per Signal Area</th>\n",
       "    </tr>\n",
       "  </thead>\n",
       "  <tbody>\n",
       "    <tr>\n",
       "      <th>0</th>\n",
       "      <td>2022-08-31 18:07:15.091087</td>\n",
       "      <td>1</td>\n",
       "      <td>1</td>\n",
       "      <td>1</td>\n",
       "      <td>293</td>\n",
       "      <td>[  1   2   3   4   5   6   7   8   9  10  11  ...</td>\n",
       "      <td>{'1': 0.0800825593395253, '2': 0.0833759590792...</td>\n",
       "      <td>166689</td>\n",
       "      <td>14092</td>\n",
       "      <td>3534.819608</td>\n",
       "      <td>...</td>\n",
       "      <td>[0.064593837535014, 0.4457565667776543]</td>\n",
       "      <td>PHP.eB</td>\n",
       "      <td>Ly6a</td>\n",
       "      <td>True</td>\n",
       "      <td>1.000000e+09</td>\n",
       "      <td>0.0</td>\n",
       "      <td>0.0</td>\n",
       "      <td>8.454067</td>\n",
       "      <td>4.227034</td>\n",
       "      <td>0.250839</td>\n",
       "    </tr>\n",
       "    <tr>\n",
       "      <th>1</th>\n",
       "      <td>2022-08-31 18:07:16.537289</td>\n",
       "      <td>1</td>\n",
       "      <td>1</td>\n",
       "      <td>2</td>\n",
       "      <td>408</td>\n",
       "      <td>[  1   2   3   4   5   6   7   8   9  10  11  ...</td>\n",
       "      <td>{'1': 0.38899619549312264, '2': 0.093681917211...</td>\n",
       "      <td>152698</td>\n",
       "      <td>13466</td>\n",
       "      <td>3199.658824</td>\n",
       "      <td>...</td>\n",
       "      <td>[0.06732026143790851, 0.43567486253760757]</td>\n",
       "      <td>PHP.eB</td>\n",
       "      <td>Ly6a</td>\n",
       "      <td>True</td>\n",
       "      <td>1.000000e+09</td>\n",
       "      <td>0.0</td>\n",
       "      <td>0.0</td>\n",
       "      <td>8.818714</td>\n",
       "      <td>4.409357</td>\n",
       "      <td>0.237610</td>\n",
       "    </tr>\n",
       "    <tr>\n",
       "      <th>2</th>\n",
       "      <td>2022-08-31 18:07:18.101663</td>\n",
       "      <td>1</td>\n",
       "      <td>1</td>\n",
       "      <td>3</td>\n",
       "      <td>501</td>\n",
       "      <td>[  1   2   3   4   5   6   7   8   9  10  11  ...</td>\n",
       "      <td>{'1': 0.07352941176470587, '2': 0.108650519031...</td>\n",
       "      <td>166536</td>\n",
       "      <td>15691</td>\n",
       "      <td>4430.505882</td>\n",
       "      <td>...</td>\n",
       "      <td>[0.0784313725490196, 0.49664650907091806]</td>\n",
       "      <td>PHP.eB</td>\n",
       "      <td>Ly6a</td>\n",
       "      <td>True</td>\n",
       "      <td>1.000000e+09</td>\n",
       "      <td>0.0</td>\n",
       "      <td>0.0</td>\n",
       "      <td>9.421987</td>\n",
       "      <td>4.710993</td>\n",
       "      <td>0.282360</td>\n",
       "    </tr>\n",
       "    <tr>\n",
       "      <th>3</th>\n",
       "      <td>2022-08-31 18:07:19.502329</td>\n",
       "      <td>1</td>\n",
       "      <td>1</td>\n",
       "      <td>4</td>\n",
       "      <td>351</td>\n",
       "      <td>[  1   2   3   4   5   6   7   8   9  10  11  ...</td>\n",
       "      <td>{'1': 0.3840607210626185, '2': 0.1131907308377...</td>\n",
       "      <td>164404</td>\n",
       "      <td>12472</td>\n",
       "      <td>3075.960784</td>\n",
       "      <td>...</td>\n",
       "      <td>[0.06686274509803922, 0.43730278436160797]</td>\n",
       "      <td>PHP.eB</td>\n",
       "      <td>Ly6a</td>\n",
       "      <td>True</td>\n",
       "      <td>5.000000e+08</td>\n",
       "      <td>0.0</td>\n",
       "      <td>0.0</td>\n",
       "      <td>7.586190</td>\n",
       "      <td>3.793095</td>\n",
       "      <td>0.246629</td>\n",
       "    </tr>\n",
       "    <tr>\n",
       "      <th>4</th>\n",
       "      <td>2022-08-31 18:07:20.939185</td>\n",
       "      <td>1</td>\n",
       "      <td>1</td>\n",
       "      <td>5</td>\n",
       "      <td>397</td>\n",
       "      <td>[  1   2   3   4   5   6   7   8   9  10  11  ...</td>\n",
       "      <td>{'1': 0.2784313725490196, '2': 0.1019607843137...</td>\n",
       "      <td>179028</td>\n",
       "      <td>13464</td>\n",
       "      <td>3490.862745</td>\n",
       "      <td>...</td>\n",
       "      <td>[0.06845938375350141, 0.44557593077716917]</td>\n",
       "      <td>PHP.eB</td>\n",
       "      <td>Ly6a</td>\n",
       "      <td>True</td>\n",
       "      <td>5.000000e+08</td>\n",
       "      <td>0.0</td>\n",
       "      <td>0.0</td>\n",
       "      <td>7.520611</td>\n",
       "      <td>3.760306</td>\n",
       "      <td>0.259274</td>\n",
       "    </tr>\n",
       "  </tbody>\n",
       "</table>\n",
       "<p>5 rows × 21 columns</p>\n",
       "</div>"
      ],
      "text/plain": [
       "                         Date  Round  Plate  Well  Count  \\\n",
       "0  2022-08-31 18:07:15.091087      1      1     1    293   \n",
       "1  2022-08-31 18:07:16.537289      1      1     2    408   \n",
       "2  2022-08-31 18:07:18.101663      1      1     3    501   \n",
       "3  2022-08-31 18:07:19.502329      1      1     4    351   \n",
       "4  2022-08-31 18:07:20.939185      1      1     5    397   \n",
       "\n",
       "                                    Cells Quantified  \\\n",
       "0  [  1   2   3   4   5   6   7   8   9  10  11  ...   \n",
       "1  [  1   2   3   4   5   6   7   8   9  10  11  ...   \n",
       "2  [  1   2   3   4   5   6   7   8   9  10  11  ...   \n",
       "3  [  1   2   3   4   5   6   7   8   9  10  11  ...   \n",
       "4  [  1   2   3   4   5   6   7   8   9  10  11  ...   \n",
       "\n",
       "                                     Brightness List  Bright Field Area  \\\n",
       "0  {'1': 0.0800825593395253, '2': 0.0833759590792...             166689   \n",
       "1  {'1': 0.38899619549312264, '2': 0.093681917211...             152698   \n",
       "2  {'1': 0.07352941176470587, '2': 0.108650519031...             166536   \n",
       "3  {'1': 0.3840607210626185, '2': 0.1131907308377...             164404   \n",
       "4  {'1': 0.2784313725490196, '2': 0.1019607843137...             179028   \n",
       "\n",
       "   Signal Area  Total Brightness  ...  \\\n",
       "0        14092       3534.819608  ...   \n",
       "1        13466       3199.658824  ...   \n",
       "2        15691       4430.505882  ...   \n",
       "3        12472       3075.960784  ...   \n",
       "4        13464       3490.862745  ...   \n",
       "\n",
       "                      90% Confidence Interval   Virus Receptor Include  \\\n",
       "0     [0.064593837535014, 0.4457565667776543]  PHP.eB     Ly6a    True   \n",
       "1  [0.06732026143790851, 0.43567486253760757]  PHP.eB     Ly6a    True   \n",
       "2   [0.0784313725490196, 0.49664650907091806]  PHP.eB     Ly6a    True   \n",
       "3  [0.06686274509803922, 0.43730278436160797]  PHP.eB     Ly6a    True   \n",
       "4  [0.06845938375350141, 0.44557593077716917]  PHP.eB     Ly6a    True   \n",
       "\n",
       "           Dose  DMSO (%)  Brinzolamide (nM)  Percent Positive  \\\n",
       "0  1.000000e+09       0.0                0.0          8.454067   \n",
       "1  1.000000e+09       0.0                0.0          8.818714   \n",
       "2  1.000000e+09       0.0                0.0          9.421987   \n",
       "3  5.000000e+08       0.0                0.0          7.586190   \n",
       "4  5.000000e+08       0.0                0.0          7.520611   \n",
       "\n",
       "   Percent Positive Scaled  Total Brightness per Signal Area  \n",
       "0                 4.227034                          0.250839  \n",
       "1                 4.409357                          0.237610  \n",
       "2                 4.710993                          0.282360  \n",
       "3                 3.793095                          0.246629  \n",
       "4                 3.760306                          0.259274  \n",
       "\n",
       "[5 rows x 21 columns]"
      ]
     },
     "execution_count": 6,
     "metadata": {},
     "output_type": "execute_result"
    }
   ],
   "source": [
    "# Create a index to only include valid data (selected by experimenter)\n",
    "inds = df['Include'] == True\n",
    "\n",
    "# Create a reduced data frame of this data\n",
    "df_reduced = df.loc[inds]\n",
    "\n",
    "# Look at the dataframe \n",
    "df_reduced.head()"
   ]
  },
  {
   "cell_type": "markdown",
   "id": "9cfebb17",
   "metadata": {},
   "source": [
    "Now that we have our data, we can use it to generate the figures.\n",
    "\n",
    "---"
   ]
  },
  {
   "cell_type": "code",
   "execution_count": 86,
   "id": "69408584-adf4-433f-9878-eb5dabf9776d",
   "metadata": {},
   "outputs": [],
   "source": [
    "def df_simplification(df,\n",
    "                      receptors = None,\n",
    "                      viruses = None,\n",
    "                      rounds = None,\n",
    "                      doses = None,\n",
    "                      dmso = None):\n",
    "    \n",
    "    receptor_inds = 1\n",
    "    virus_inds = 1\n",
    "    round_inds = 1\n",
    "    doses_inds = 1\n",
    "    dmso_inds = 1\n",
    "    \n",
    "    if receptors != None:\n",
    "        receptor_inds = df['Receptor'].isin(receptors)\n",
    "    \n",
    "    if viruses != None:\n",
    "        virus_inds = df['Virus'].isin(viruses)\n",
    "    \n",
    "    if rounds != None:\n",
    "        round_inds = df['Round'].isin(rounds)\n",
    "        \n",
    "    if doses != None:\n",
    "        doses_inds = df['Dose'].isin(doses)\n",
    "        \n",
    "    if dmso != None:\n",
    "        dmso_inds = df['DMSO %'].isin(dmso)\n",
    "    \n",
    "    inds = np.ones_like(df.index)\n",
    "    \n",
    "    for indices in [receptor_inds, virus_inds, round_inds, doses_inds, dmso_inds]:\n",
    "        inds *= indices\n",
    "            \n",
    "    df_fig = df.loc[inds]\n",
    "    \n",
    "    df_fig = df_fig.astype({\"Dose\": str})\n",
    "    \n",
    "    return(df_fig)"
   ]
  },
  {
   "cell_type": "markdown",
   "id": "e8569e19-b3b4-4355-a188-1d46c41cff3a",
   "metadata": {},
   "source": [
    "# Main Figures"
   ]
  },
  {
   "cell_type": "markdown",
   "id": "d97df825",
   "metadata": {
    "tags": []
   },
   "source": [
    "## Figure 2"
   ]
  },
  {
   "cell_type": "markdown",
   "id": "1bd4eb01-34a0-4ade-b8dc-757b3f7b6632",
   "metadata": {},
   "source": [
    "### Part C"
   ]
  },
  {
   "cell_type": "markdown",
   "id": "b181233f",
   "metadata": {},
   "source": [
    "First, we want to compare PHP.eB against AAV9 at a range of doses without a receptor."
   ]
  },
  {
   "cell_type": "code",
   "execution_count": 91,
   "id": "e92ef44a",
   "metadata": {},
   "outputs": [],
   "source": [
    "# We want to make a new dataframe with just the Ly6a and receptor-free conditions.\n",
    "# First, we can find the indices of these receptors.\n",
    "receptor_inds = df_reduced['Receptor'].isin(['Ly6a', 'None'])\n",
    "virus_inds = df_reduced['Virus'].isin(['PHP.eB', 'AAV9'])\n",
    "round_inds = df_reduced['Round'] == 10\n",
    "\n",
    "inds = receptor_inds & virus_inds & round_inds\n",
    "\n",
    "# Make this a new dataframe df_f2c\n",
    "df_f2c = df_reduced.loc[inds]\n",
    "\n",
    "# We need to convert the dose values to a string to allow us to plot catagorically\n",
    "df_f2c = df_f2c.astype({\"Dose\": str})\n",
    "\n",
    "# We can determine the mean of each of the values\n",
    "df_f2c = df_f2c.groupby(['Virus', 'Receptor', 'Dose']).mean(numeric_only = True).reset_index()"
   ]
  },
  {
   "cell_type": "code",
   "execution_count": 92,
   "id": "d75201fc-ee32-48f3-93b3-1811b8a46363",
   "metadata": {},
   "outputs": [
    {
     "data": {
      "text/html": [
       "\n",
       "  <div class=\"bk-root\" id=\"129c3b75-0390-4c41-a2b2-4284d87e05be\" data-root-id=\"4979\"></div>\n"
      ]
     },
     "metadata": {},
     "output_type": "display_data"
    },
    {
     "data": {
      "application/javascript": [
       "(function(root) {\n",
       "  function embed_document(root) {\n",
       "  const docs_json = {\"2d5b0d4a-e120-4cc1-8d92-54b8cb424da2\":{\"defs\":[],\"roots\":{\"references\":[{\"attributes\":{\"below\":[{\"id\":\"4989\"}],\"center\":[{\"id\":\"4991\"},{\"id\":\"4994\"}],\"height\":500,\"left\":[{\"id\":\"4992\"}],\"output_backend\":\"svg\",\"renderers\":[{\"id\":\"5016\"}],\"right\":[{\"id\":\"5011\"}],\"title\":null,\"toolbar\":{\"id\":\"5002\"},\"width\":350,\"x_range\":{\"id\":\"4981\"},\"x_scale\":{\"id\":\"4985\"},\"y_range\":{\"id\":\"4983\"},\"y_scale\":{\"id\":\"4987\"}},\"id\":\"4979\",\"subtype\":\"Figure\",\"type\":\"Plot\"},{\"attributes\":{\"factors\":[\"AAV9\",\"PHP.eB\"]},\"id\":\"4981\",\"type\":\"FactorRange\"},{\"attributes\":{},\"id\":\"4987\",\"type\":\"CategoricalScale\"},{\"attributes\":{\"axis\":{\"id\":\"4989\"},\"coordinates\":null,\"group\":null,\"ticker\":null},\"id\":\"4991\",\"type\":\"Grid\"},{\"attributes\":{\"overlay\":{\"id\":\"5001\"}},\"id\":\"4997\",\"type\":\"BoxZoomTool\"},{\"attributes\":{},\"id\":\"5235\",\"type\":\"CategoricalTickFormatter\"},{\"attributes\":{},\"id\":\"4998\",\"type\":\"SaveTool\"},{\"attributes\":{\"color_mapper\":{\"id\":\"5009\"},\"coordinates\":null,\"group\":null,\"location\":[0,0],\"major_label_policy\":{\"id\":\"5233\"},\"ticker\":{\"id\":\"5010\"}},\"id\":\"5011\",\"type\":\"ColorBar\"},{\"attributes\":{},\"id\":\"5233\",\"type\":\"NoOverlap\"},{\"attributes\":{},\"id\":\"4993\",\"type\":\"CategoricalTicker\"},{\"attributes\":{},\"id\":\"5238\",\"type\":\"Selection\"},{\"attributes\":{\"bottom_units\":\"screen\",\"coordinates\":null,\"fill_alpha\":0.5,\"fill_color\":\"lightgrey\",\"group\":null,\"left_units\":\"screen\",\"level\":\"overlay\",\"line_alpha\":1.0,\"line_color\":\"black\",\"line_dash\":[4,4],\"line_width\":2,\"right_units\":\"screen\",\"syncable\":false,\"top_units\":\"screen\"},\"id\":\"5001\",\"type\":\"BoxAnnotation\"},{\"attributes\":{},\"id\":\"4996\",\"type\":\"WheelZoomTool\"},{\"attributes\":{\"source\":{\"id\":\"4978\"}},\"id\":\"5017\",\"type\":\"CDSView\"},{\"attributes\":{},\"id\":\"4990\",\"type\":\"CategoricalTicker\"},{\"attributes\":{\"coordinates\":null,\"formatter\":{\"id\":\"5235\"},\"group\":null,\"major_label_orientation\":1.5707963267948966,\"major_label_policy\":{\"id\":\"5236\"},\"ticker\":{\"id\":\"4990\"}},\"id\":\"4989\",\"type\":\"CategoricalAxis\"},{\"attributes\":{\"factors\":[\"500000000.0\",\"1000000000.0\",\"5000000000.0\",\"10000000000.0\",\"50000000000.0\"]},\"id\":\"4983\",\"type\":\"FactorRange\"},{\"attributes\":{},\"id\":\"5231\",\"type\":\"CategoricalTickFormatter\"},{\"attributes\":{},\"id\":\"4995\",\"type\":\"PanTool\"},{\"attributes\":{},\"id\":\"5010\",\"type\":\"BasicTicker\"},{\"attributes\":{},\"id\":\"5236\",\"type\":\"AllLabels\"},{\"attributes\":{},\"id\":\"5232\",\"type\":\"AllLabels\"},{\"attributes\":{\"fill_alpha\":{\"value\":0.2},\"fill_color\":{\"field\":\"Total Brightness per Signal Area\",\"transform\":{\"id\":\"5009\"}},\"hatch_alpha\":{\"value\":0.2},\"line_alpha\":{\"value\":0.2},\"line_color\":{\"value\":\"#1f77b4\"},\"size\":{\"field\":\"Percent Positive\"},\"x\":{\"field\":\"Virus\"},\"y\":{\"field\":\"Dose\"}},\"id\":\"5015\",\"type\":\"Scatter\"},{\"attributes\":{\"coordinates\":null,\"data_source\":{\"id\":\"4978\"},\"glyph\":{\"id\":\"5013\"},\"group\":null,\"hover_glyph\":null,\"muted_glyph\":{\"id\":\"5015\"},\"nonselection_glyph\":{\"id\":\"5014\"},\"view\":{\"id\":\"5017\"}},\"id\":\"5016\",\"type\":\"GlyphRenderer\"},{\"attributes\":{\"axis\":{\"id\":\"4992\"},\"coordinates\":null,\"dimension\":1,\"group\":null,\"ticker\":null},\"id\":\"4994\",\"type\":\"Grid\"},{\"attributes\":{},\"id\":\"4999\",\"type\":\"ResetTool\"},{\"attributes\":{},\"id\":\"5237\",\"type\":\"UnionRenderers\"},{\"attributes\":{\"fill_alpha\":{\"value\":0.1},\"fill_color\":{\"field\":\"Total Brightness per Signal Area\",\"transform\":{\"id\":\"5009\"}},\"hatch_alpha\":{\"value\":0.1},\"line_alpha\":{\"value\":0.1},\"line_color\":{\"value\":\"#1f77b4\"},\"size\":{\"field\":\"Percent Positive\"},\"x\":{\"field\":\"Virus\"},\"y\":{\"field\":\"Dose\"}},\"id\":\"5014\",\"type\":\"Scatter\"},{\"attributes\":{\"high\":0.7858374349615155,\"low\":0.39131495294074886,\"palette\":[\"#440154\",\"#440255\",\"#440357\",\"#450558\",\"#45065A\",\"#45085B\",\"#46095C\",\"#460B5E\",\"#460C5F\",\"#460E61\",\"#470F62\",\"#471163\",\"#471265\",\"#471466\",\"#471567\",\"#471669\",\"#47186A\",\"#48196B\",\"#481A6C\",\"#481C6E\",\"#481D6F\",\"#481E70\",\"#482071\",\"#482172\",\"#482273\",\"#482374\",\"#472575\",\"#472676\",\"#472777\",\"#472878\",\"#472A79\",\"#472B7A\",\"#472C7B\",\"#462D7C\",\"#462F7C\",\"#46307D\",\"#46317E\",\"#45327F\",\"#45347F\",\"#453580\",\"#453681\",\"#443781\",\"#443982\",\"#433A83\",\"#433B83\",\"#433C84\",\"#423D84\",\"#423E85\",\"#424085\",\"#414186\",\"#414286\",\"#404387\",\"#404487\",\"#3F4587\",\"#3F4788\",\"#3E4888\",\"#3E4989\",\"#3D4A89\",\"#3D4B89\",\"#3D4C89\",\"#3C4D8A\",\"#3C4E8A\",\"#3B508A\",\"#3B518A\",\"#3A528B\",\"#3A538B\",\"#39548B\",\"#39558B\",\"#38568B\",\"#38578C\",\"#37588C\",\"#37598C\",\"#365A8C\",\"#365B8C\",\"#355C8C\",\"#355D8C\",\"#345E8D\",\"#345F8D\",\"#33608D\",\"#33618D\",\"#32628D\",\"#32638D\",\"#31648D\",\"#31658D\",\"#31668D\",\"#30678D\",\"#30688D\",\"#2F698D\",\"#2F6A8D\",\"#2E6B8E\",\"#2E6C8E\",\"#2E6D8E\",\"#2D6E8E\",\"#2D6F8E\",\"#2C708E\",\"#2C718E\",\"#2C728E\",\"#2B738E\",\"#2B748E\",\"#2A758E\",\"#2A768E\",\"#2A778E\",\"#29788E\",\"#29798E\",\"#287A8E\",\"#287A8E\",\"#287B8E\",\"#277C8E\",\"#277D8E\",\"#277E8E\",\"#267F8E\",\"#26808E\",\"#26818E\",\"#25828E\",\"#25838D\",\"#24848D\",\"#24858D\",\"#24868D\",\"#23878D\",\"#23888D\",\"#23898D\",\"#22898D\",\"#228A8D\",\"#228B8D\",\"#218C8D\",\"#218D8C\",\"#218E8C\",\"#208F8C\",\"#20908C\",\"#20918C\",\"#1F928C\",\"#1F938B\",\"#1F948B\",\"#1F958B\",\"#1F968B\",\"#1E978A\",\"#1E988A\",\"#1E998A\",\"#1E998A\",\"#1E9A89\",\"#1E9B89\",\"#1E9C89\",\"#1E9D88\",\"#1E9E88\",\"#1E9F88\",\"#1EA087\",\"#1FA187\",\"#1FA286\",\"#1FA386\",\"#20A485\",\"#20A585\",\"#21A685\",\"#21A784\",\"#22A784\",\"#23A883\",\"#23A982\",\"#24AA82\",\"#25AB81\",\"#26AC81\",\"#27AD80\",\"#28AE7F\",\"#29AF7F\",\"#2AB07E\",\"#2BB17D\",\"#2CB17D\",\"#2EB27C\",\"#2FB37B\",\"#30B47A\",\"#32B57A\",\"#33B679\",\"#35B778\",\"#36B877\",\"#38B976\",\"#39B976\",\"#3BBA75\",\"#3DBB74\",\"#3EBC73\",\"#40BD72\",\"#42BE71\",\"#44BE70\",\"#45BF6F\",\"#47C06E\",\"#49C16D\",\"#4BC26C\",\"#4DC26B\",\"#4FC369\",\"#51C468\",\"#53C567\",\"#55C666\",\"#57C665\",\"#59C764\",\"#5BC862\",\"#5EC961\",\"#60C960\",\"#62CA5F\",\"#64CB5D\",\"#67CC5C\",\"#69CC5B\",\"#6BCD59\",\"#6DCE58\",\"#70CE56\",\"#72CF55\",\"#74D054\",\"#77D052\",\"#79D151\",\"#7CD24F\",\"#7ED24E\",\"#81D34C\",\"#83D34B\",\"#86D449\",\"#88D547\",\"#8BD546\",\"#8DD644\",\"#90D643\",\"#92D741\",\"#95D73F\",\"#97D83E\",\"#9AD83C\",\"#9DD93A\",\"#9FD938\",\"#A2DA37\",\"#A5DA35\",\"#A7DB33\",\"#AADB32\",\"#ADDC30\",\"#AFDC2E\",\"#B2DD2C\",\"#B5DD2B\",\"#B7DD29\",\"#BADE27\",\"#BDDE26\",\"#BFDF24\",\"#C2DF22\",\"#C5DF21\",\"#C7E01F\",\"#CAE01E\",\"#CDE01D\",\"#CFE11C\",\"#D2E11B\",\"#D4E11A\",\"#D7E219\",\"#DAE218\",\"#DCE218\",\"#DFE318\",\"#E1E318\",\"#E4E318\",\"#E7E419\",\"#E9E419\",\"#ECE41A\",\"#EEE51B\",\"#F1E51C\",\"#F3E51E\",\"#F6E61F\",\"#F8E621\",\"#FAE622\",\"#FDE724\"]},\"id\":\"5009\",\"type\":\"LinearColorMapper\"},{\"attributes\":{\"tools\":[{\"id\":\"4995\"},{\"id\":\"4996\"},{\"id\":\"4997\"},{\"id\":\"4998\"},{\"id\":\"4999\"},{\"id\":\"5000\"},{\"id\":\"5018\"}]},\"id\":\"5002\",\"type\":\"Toolbar\"},{\"attributes\":{},\"id\":\"5000\",\"type\":\"HelpTool\"},{\"attributes\":{\"coordinates\":null,\"formatter\":{\"id\":\"5231\"},\"group\":null,\"major_label_policy\":{\"id\":\"5232\"},\"ticker\":{\"id\":\"4993\"}},\"id\":\"4992\",\"type\":\"CategoricalAxis\"},{\"attributes\":{\"fill_color\":{\"field\":\"Total Brightness per Signal Area\",\"transform\":{\"id\":\"5009\"}},\"line_color\":{\"value\":\"#1f77b4\"},\"size\":{\"field\":\"Percent Positive\"},\"x\":{\"field\":\"Virus\"},\"y\":{\"field\":\"Dose\"}},\"id\":\"5013\",\"type\":\"Scatter\"},{\"attributes\":{},\"id\":\"4985\",\"type\":\"CategoricalScale\"},{\"attributes\":{\"data\":{\"Bright Field Area\":{\"__ndarray__\":\"AAAAAFBA/kCrqqqqGm78QKuqqqpiAgJBAAAAAKBc/kBVVVVVFVf6QFVVVVUNaQNBq6qqqmpIAUFVVVVV1WsFQQAAAADQVQBBVVVVVeV4AUE=\",\"dtype\":\"float64\",\"order\":\"little\",\"shape\":[10]},\"Brinzolamide (nM)\":{\"__ndarray__\":\"AAAAAAAAAAAAAAAAAAAAAAAAAAAAAAAAAAAAAAAAAAAAAAAAAAAAAAAAAAAAAAAAAAAAAAAAAAAAAAAAAAAAAAAAAAAAAAAAAAAAAAAAAAA=\",\"dtype\":\"float64\",\"order\":\"little\",\"shape\":[10]},\"Count\":{\"__ndarray__\":\"AAAAAABAeEBVVVVVVaGRQFVVVVVVVXJAAAAAAAB4jkCrqqqqqv6UQAAAAAAAkHtAVVVVVVWVnUAAAAAAAGBzQAAAAAAABJhAAAAAAAAKoEA=\",\"dtype\":\"float64\",\"order\":\"little\",\"shape\":[10]},\"DMSO (%)\":{\"__ndarray__\":\"AAAAAAAAAAAAAAAAAAAAAAAAAAAAAAAAAAAAAAAAAAAAAAAAAAAAAAAAAAAAAAAAAAAAAAAAAAAAAAAAAAAAAAAAAAAAAAAAAAAAAAAAAAA=\",\"dtype\":\"float64\",\"order\":\"little\",\"shape\":[10]},\"Dose\":[\"1000000000.0\",\"10000000000.0\",\"500000000.0\",\"5000000000.0\",\"50000000000.0\",\"1000000000.0\",\"10000000000.0\",\"500000000.0\",\"5000000000.0\",\"50000000000.0\"],\"Percent Positive\":{\"__ndarray__\":\"0xHNhoIeGECvLmnXmZFBQIQM0PlBgg9Ac+zBhBMtOUCdYVBY40FKQHi8OinMRxpAVzSON1kgSEAs64Iibh0JQLrwIqmsrEJApM8yl6i4UkA=\",\"dtype\":\"float64\",\"order\":\"little\",\"shape\":[10]},\"Percent Positive Scaled\":{\"__ndarray__\":\"0xHNhoIeCECvLmnXmZExQIQM0PlBgv8/c+zBhBMtKUCdYVBY40E6QHi8OinMRwpAVzSON1kgOEAs64Iibh35P7rwIqmsrDJApM8yl6i4QkA=\",\"dtype\":\"float64\",\"order\":\"little\",\"shape\":[10]},\"Plate\":{\"__ndarray__\":\"AAAAAAAAEEAAAAAAAAAQQAAAAAAAABBAAAAAAAAAEEAAAAAAAAAQQAAAAAAAABBAAAAAAAAAEEAAAAAAAAAQQAAAAAAAABBAAAAAAAAAEEA=\",\"dtype\":\"float64\",\"order\":\"little\",\"shape\":[10]},\"Receptor\":[\"None\",\"None\",\"None\",\"None\",\"None\",\"None\",\"None\",\"None\",\"None\",\"None\"],\"Round\":{\"__ndarray__\":\"AAAAAAAAJEAAAAAAAAAkQAAAAAAAACRAAAAAAAAAJEAAAAAAAAAkQAAAAAAAACRAAAAAAAAAJEAAAAAAAAAkQAAAAAAAACRAAAAAAAAAJEA=\",\"dtype\":\"float64\",\"order\":\"little\",\"shape\":[10]},\"Signal Area\":{\"__ndarray__\":\"VVVVVVXMvEBVVVVVNcfjQKuqqqqqm7ZAVVVVVVWR3kCrqqqqSuPrQFVVVVVVt8NAVVVVVRWu8EAAAAAAAIu1QFVVVVVV1+hAAAAAAMAs+kA=\",\"dtype\":\"float64\",\"order\":\"little\",\"shape\":[10]},\"Total Brightness\":{\"__ndarray__\":\"BwUFBQVDqED8T6X6z1XXQJ9I851Iq6FAREVFRcVM0EAdcscc8pbiQA0ODg4OZrFAI3bLIFab50BnZmZmZkChQIEt2IKtVOBAMofcMReY9EA=\",\"dtype\":\"float64\",\"order\":\"little\",\"shape\":[10]},\"Total Brightness per Signal Area\":{\"__ndarray__\":\"8Z7c3Y3V2j8BbF/0gN3iPy8+VN9NC9k/XJZaYwII4T+m/Su8etXkP8RwAVcUu9s/LGR2HtKG5j/roKss0abZP4VJuqXZmOQ/RztkjJQl6T8=\",\"dtype\":\"float64\",\"order\":\"little\",\"shape\":[10]},\"Virus\":[\"AAV9\",\"AAV9\",\"AAV9\",\"AAV9\",\"AAV9\",\"PHP.eB\",\"PHP.eB\",\"PHP.eB\",\"PHP.eB\",\"PHP.eB\"],\"Well\":{\"__ndarray__\":\"AAAAAAAAJkAAAAAAAAAUQAAAAAAAACxAAAAAAAAAIEAAAAAAAAAAQAAAAAAAADpAAAAAAAAANEAAAAAAAAA9QAAAAAAAADdAAAAAAAAAMUA=\",\"dtype\":\"float64\",\"order\":\"little\",\"shape\":[10]},\"index\":[2,3,4,5,6,9,10,11,12,13]},\"selected\":{\"id\":\"5238\"},\"selection_policy\":{\"id\":\"5237\"}},\"id\":\"4978\",\"type\":\"ColumnDataSource\"},{\"attributes\":{\"callback\":null,\"tooltips\":[[\"Round\",\"@Round\"],[\"Plate\",\"@Plate\"],[\"Well\",\"@Well\"],[\"Virus\",\"@Virus\"],[\"Receptor\",\"@Receptor\"],[\"Dose\",\"@Dose\"]]},\"id\":\"5018\",\"type\":\"HoverTool\"}],\"root_ids\":[\"4979\"]},\"title\":\"Bokeh Application\",\"version\":\"2.4.3\"}};\n",
       "  const render_items = [{\"docid\":\"2d5b0d4a-e120-4cc1-8d92-54b8cb424da2\",\"root_ids\":[\"4979\"],\"roots\":{\"4979\":\"129c3b75-0390-4c41-a2b2-4284d87e05be\"}}];\n",
       "  root.Bokeh.embed.embed_items_notebook(docs_json, render_items);\n",
       "  }\n",
       "  if (root.Bokeh !== undefined) {\n",
       "    embed_document(root);\n",
       "  } else {\n",
       "    let attempts = 0;\n",
       "    const timer = setInterval(function(root) {\n",
       "      if (root.Bokeh !== undefined) {\n",
       "        clearInterval(timer);\n",
       "        embed_document(root);\n",
       "      } else {\n",
       "        attempts++;\n",
       "        if (attempts > 100) {\n",
       "          clearInterval(timer);\n",
       "          console.log(\"Bokeh: ERROR: Unable to run BokehJS code because BokehJS library is missing\");\n",
       "        }\n",
       "      }\n",
       "    }, 10, root)\n",
       "  }\n",
       "})(window);"
      ],
      "application/vnd.bokehjs_exec.v0+json": ""
     },
     "metadata": {
      "application/vnd.bokehjs_exec.v0+json": {
       "id": "4979"
      }
     },
     "output_type": "display_data"
    },
    {
     "name": "stdout",
     "output_type": "stream",
     "text": [
      "The most positive value is: 74.89 \n",
      "The least positive value is: 3.14 \n",
      "The brightest value is: 0.79 \n",
      "The dimmest value is: 0.39\n"
     ]
    }
   ],
   "source": [
    "# Setting our index to only examine data with Receptor none, we can plot the untransfected AAV9 and PHP.eB transfections\n",
    "inds = (df_f2c['Receptor'] == 'None')\n",
    "\n",
    "p, min_pos, max_pos, min_brightness, max_brightness = cellseg.plot.bubble_plot(df_f2c[inds], \n",
    "                                                                               'Virus', \n",
    "                                                                               'Dose', \n",
    "                                                                               y_values = ['500000000.0', '1000000000.0', '5000000000.0', '10000000000.0', '50000000000.0'], \n",
    "                                                                               plot_width = 350, \n",
    "                                                                               plot_height = 500)\n",
    "\n",
    "bokeh.io.show(p)\n",
    "\n",
    "print(\"The most positive value is: %0.2f \\nThe least positive value is: %0.2f \\nThe brightest value is: %0.2f \\nThe dimmest value is: %0.2f\" % (max_pos, min_pos, max_brightness, min_brightness))"
   ]
  },
  {
   "cell_type": "code",
   "execution_count": 34,
   "id": "7525c959-8783-4233-822c-fddfb1132ba2",
   "metadata": {},
   "outputs": [
    {
     "data": {
      "text/html": [
       "\n",
       "  <div class=\"bk-root\" id=\"9e33b568-8c31-44ae-aa62-81a2f63d0d89\" data-root-id=\"4336\"></div>\n"
      ]
     },
     "metadata": {},
     "output_type": "display_data"
    },
    {
     "data": {
      "application/javascript": [
       "(function(root) {\n",
       "  function embed_document(root) {\n",
       "  const docs_json = {\"81ea9b99-9dd2-4333-a106-bdc035451c33\":{\"defs\":[],\"roots\":{\"references\":[{\"attributes\":{\"below\":[{\"id\":\"4346\"}],\"center\":[{\"id\":\"4348\"},{\"id\":\"4351\"}],\"height\":500,\"left\":[{\"id\":\"4349\"}],\"output_backend\":\"svg\",\"renderers\":[{\"id\":\"4373\"}],\"right\":[{\"id\":\"4368\"}],\"title\":null,\"toolbar\":{\"id\":\"4359\"},\"width\":350,\"x_range\":{\"id\":\"4338\"},\"x_scale\":{\"id\":\"4342\"},\"y_range\":{\"id\":\"4340\"},\"y_scale\":{\"id\":\"4344\"}},\"id\":\"4336\",\"subtype\":\"Figure\",\"type\":\"Plot\"},{\"attributes\":{},\"id\":\"4570\",\"type\":\"CategoricalTickFormatter\"},{\"attributes\":{\"callback\":null,\"tooltips\":[[\"Round\",\"@Round\"],[\"Plate\",\"@Plate\"],[\"Well\",\"@Well\"],[\"Virus\",\"@Virus\"],[\"Receptor\",\"@Receptor\"],[\"Dose\",\"@Dose\"]]},\"id\":\"4375\",\"type\":\"HoverTool\"},{\"attributes\":{},\"id\":\"4347\",\"type\":\"CategoricalTicker\"},{\"attributes\":{\"fill_alpha\":{\"value\":0.1},\"fill_color\":{\"field\":\"Total Brightness per Signal Area\",\"transform\":{\"id\":\"4366\"}},\"hatch_alpha\":{\"value\":0.1},\"line_alpha\":{\"value\":0.1},\"line_color\":{\"value\":\"#1f77b4\"},\"size\":{\"field\":\"Percent Positive\"},\"x\":{\"field\":\"Virus\"},\"y\":{\"field\":\"Dose\"}},\"id\":\"4371\",\"type\":\"Scatter\"},{\"attributes\":{\"factors\":[\"500000000.0\",\"1000000000.0\",\"5000000000.0\",\"10000000000.0\",\"50000000000.0\"]},\"id\":\"4340\",\"type\":\"FactorRange\"},{\"attributes\":{\"coordinates\":null,\"formatter\":{\"id\":\"4566\"},\"group\":null,\"major_label_policy\":{\"id\":\"4567\"},\"ticker\":{\"id\":\"4350\"}},\"id\":\"4349\",\"type\":\"CategoricalAxis\"},{\"attributes\":{},\"id\":\"4568\",\"type\":\"NoOverlap\"},{\"attributes\":{},\"id\":\"4571\",\"type\":\"AllLabels\"},{\"attributes\":{\"fill_color\":{\"field\":\"Total Brightness per Signal Area\",\"transform\":{\"id\":\"4366\"}},\"line_color\":{\"value\":\"#1f77b4\"},\"size\":{\"field\":\"Percent Positive\"},\"x\":{\"field\":\"Virus\"},\"y\":{\"field\":\"Dose\"}},\"id\":\"4370\",\"type\":\"Scatter\"},{\"attributes\":{},\"id\":\"4367\",\"type\":\"BasicTicker\"},{\"attributes\":{},\"id\":\"4573\",\"type\":\"Selection\"},{\"attributes\":{},\"id\":\"4356\",\"type\":\"ResetTool\"},{\"attributes\":{},\"id\":\"4344\",\"type\":\"CategoricalScale\"},{\"attributes\":{},\"id\":\"4352\",\"type\":\"PanTool\"},{\"attributes\":{\"bottom_units\":\"screen\",\"coordinates\":null,\"fill_alpha\":0.5,\"fill_color\":\"lightgrey\",\"group\":null,\"left_units\":\"screen\",\"level\":\"overlay\",\"line_alpha\":1.0,\"line_color\":\"black\",\"line_dash\":[4,4],\"line_width\":2,\"right_units\":\"screen\",\"syncable\":false,\"top_units\":\"screen\"},\"id\":\"4358\",\"type\":\"BoxAnnotation\"},{\"attributes\":{\"factors\":[\"AAV9\",\"PHP.eB\"]},\"id\":\"4338\",\"type\":\"FactorRange\"},{\"attributes\":{},\"id\":\"4353\",\"type\":\"WheelZoomTool\"},{\"attributes\":{\"axis\":{\"id\":\"4349\"},\"coordinates\":null,\"dimension\":1,\"group\":null,\"ticker\":null},\"id\":\"4351\",\"type\":\"Grid\"},{\"attributes\":{\"fill_alpha\":{\"value\":0.2},\"fill_color\":{\"field\":\"Total Brightness per Signal Area\",\"transform\":{\"id\":\"4366\"}},\"hatch_alpha\":{\"value\":0.2},\"line_alpha\":{\"value\":0.2},\"line_color\":{\"value\":\"#1f77b4\"},\"size\":{\"field\":\"Percent Positive\"},\"x\":{\"field\":\"Virus\"},\"y\":{\"field\":\"Dose\"}},\"id\":\"4372\",\"type\":\"Scatter\"},{\"attributes\":{\"overlay\":{\"id\":\"4358\"}},\"id\":\"4354\",\"type\":\"BoxZoomTool\"},{\"attributes\":{},\"id\":\"4342\",\"type\":\"CategoricalScale\"},{\"attributes\":{},\"id\":\"4355\",\"type\":\"SaveTool\"},{\"attributes\":{\"color_mapper\":{\"id\":\"4366\"},\"coordinates\":null,\"group\":null,\"location\":[0,0],\"major_label_policy\":{\"id\":\"4568\"},\"ticker\":{\"id\":\"4367\"}},\"id\":\"4368\",\"type\":\"ColorBar\"},{\"attributes\":{\"coordinates\":null,\"formatter\":{\"id\":\"4570\"},\"group\":null,\"major_label_orientation\":1.5707963267948966,\"major_label_policy\":{\"id\":\"4571\"},\"ticker\":{\"id\":\"4347\"}},\"id\":\"4346\",\"type\":\"CategoricalAxis\"},{\"attributes\":{\"coordinates\":null,\"data_source\":{\"id\":\"4335\"},\"glyph\":{\"id\":\"4370\"},\"group\":null,\"hover_glyph\":null,\"muted_glyph\":{\"id\":\"4372\"},\"nonselection_glyph\":{\"id\":\"4371\"},\"view\":{\"id\":\"4374\"}},\"id\":\"4373\",\"type\":\"GlyphRenderer\"},{\"attributes\":{},\"id\":\"4572\",\"type\":\"UnionRenderers\"},{\"attributes\":{},\"id\":\"4566\",\"type\":\"CategoricalTickFormatter\"},{\"attributes\":{\"high\":0.7148811413308174,\"low\":0.40224720314580614,\"palette\":[\"#440154\",\"#440255\",\"#440357\",\"#450558\",\"#45065A\",\"#45085B\",\"#46095C\",\"#460B5E\",\"#460C5F\",\"#460E61\",\"#470F62\",\"#471163\",\"#471265\",\"#471466\",\"#471567\",\"#471669\",\"#47186A\",\"#48196B\",\"#481A6C\",\"#481C6E\",\"#481D6F\",\"#481E70\",\"#482071\",\"#482172\",\"#482273\",\"#482374\",\"#472575\",\"#472676\",\"#472777\",\"#472878\",\"#472A79\",\"#472B7A\",\"#472C7B\",\"#462D7C\",\"#462F7C\",\"#46307D\",\"#46317E\",\"#45327F\",\"#45347F\",\"#453580\",\"#453681\",\"#443781\",\"#443982\",\"#433A83\",\"#433B83\",\"#433C84\",\"#423D84\",\"#423E85\",\"#424085\",\"#414186\",\"#414286\",\"#404387\",\"#404487\",\"#3F4587\",\"#3F4788\",\"#3E4888\",\"#3E4989\",\"#3D4A89\",\"#3D4B89\",\"#3D4C89\",\"#3C4D8A\",\"#3C4E8A\",\"#3B508A\",\"#3B518A\",\"#3A528B\",\"#3A538B\",\"#39548B\",\"#39558B\",\"#38568B\",\"#38578C\",\"#37588C\",\"#37598C\",\"#365A8C\",\"#365B8C\",\"#355C8C\",\"#355D8C\",\"#345E8D\",\"#345F8D\",\"#33608D\",\"#33618D\",\"#32628D\",\"#32638D\",\"#31648D\",\"#31658D\",\"#31668D\",\"#30678D\",\"#30688D\",\"#2F698D\",\"#2F6A8D\",\"#2E6B8E\",\"#2E6C8E\",\"#2E6D8E\",\"#2D6E8E\",\"#2D6F8E\",\"#2C708E\",\"#2C718E\",\"#2C728E\",\"#2B738E\",\"#2B748E\",\"#2A758E\",\"#2A768E\",\"#2A778E\",\"#29788E\",\"#29798E\",\"#287A8E\",\"#287A8E\",\"#287B8E\",\"#277C8E\",\"#277D8E\",\"#277E8E\",\"#267F8E\",\"#26808E\",\"#26818E\",\"#25828E\",\"#25838D\",\"#24848D\",\"#24858D\",\"#24868D\",\"#23878D\",\"#23888D\",\"#23898D\",\"#22898D\",\"#228A8D\",\"#228B8D\",\"#218C8D\",\"#218D8C\",\"#218E8C\",\"#208F8C\",\"#20908C\",\"#20918C\",\"#1F928C\",\"#1F938B\",\"#1F948B\",\"#1F958B\",\"#1F968B\",\"#1E978A\",\"#1E988A\",\"#1E998A\",\"#1E998A\",\"#1E9A89\",\"#1E9B89\",\"#1E9C89\",\"#1E9D88\",\"#1E9E88\",\"#1E9F88\",\"#1EA087\",\"#1FA187\",\"#1FA286\",\"#1FA386\",\"#20A485\",\"#20A585\",\"#21A685\",\"#21A784\",\"#22A784\",\"#23A883\",\"#23A982\",\"#24AA82\",\"#25AB81\",\"#26AC81\",\"#27AD80\",\"#28AE7F\",\"#29AF7F\",\"#2AB07E\",\"#2BB17D\",\"#2CB17D\",\"#2EB27C\",\"#2FB37B\",\"#30B47A\",\"#32B57A\",\"#33B679\",\"#35B778\",\"#36B877\",\"#38B976\",\"#39B976\",\"#3BBA75\",\"#3DBB74\",\"#3EBC73\",\"#40BD72\",\"#42BE71\",\"#44BE70\",\"#45BF6F\",\"#47C06E\",\"#49C16D\",\"#4BC26C\",\"#4DC26B\",\"#4FC369\",\"#51C468\",\"#53C567\",\"#55C666\",\"#57C665\",\"#59C764\",\"#5BC862\",\"#5EC961\",\"#60C960\",\"#62CA5F\",\"#64CB5D\",\"#67CC5C\",\"#69CC5B\",\"#6BCD59\",\"#6DCE58\",\"#70CE56\",\"#72CF55\",\"#74D054\",\"#77D052\",\"#79D151\",\"#7CD24F\",\"#7ED24E\",\"#81D34C\",\"#83D34B\",\"#86D449\",\"#88D547\",\"#8BD546\",\"#8DD644\",\"#90D643\",\"#92D741\",\"#95D73F\",\"#97D83E\",\"#9AD83C\",\"#9DD93A\",\"#9FD938\",\"#A2DA37\",\"#A5DA35\",\"#A7DB33\",\"#AADB32\",\"#ADDC30\",\"#AFDC2E\",\"#B2DD2C\",\"#B5DD2B\",\"#B7DD29\",\"#BADE27\",\"#BDDE26\",\"#BFDF24\",\"#C2DF22\",\"#C5DF21\",\"#C7E01F\",\"#CAE01E\",\"#CDE01D\",\"#CFE11C\",\"#D2E11B\",\"#D4E11A\",\"#D7E219\",\"#DAE218\",\"#DCE218\",\"#DFE318\",\"#E1E318\",\"#E4E318\",\"#E7E419\",\"#E9E419\",\"#ECE41A\",\"#EEE51B\",\"#F1E51C\",\"#F3E51E\",\"#F6E61F\",\"#F8E621\",\"#FAE622\",\"#FDE724\"]},\"id\":\"4366\",\"type\":\"LinearColorMapper\"},{\"attributes\":{},\"id\":\"4357\",\"type\":\"HelpTool\"},{\"attributes\":{\"source\":{\"id\":\"4335\"}},\"id\":\"4374\",\"type\":\"CDSView\"},{\"attributes\":{\"axis\":{\"id\":\"4346\"},\"coordinates\":null,\"group\":null,\"ticker\":null},\"id\":\"4348\",\"type\":\"Grid\"},{\"attributes\":{},\"id\":\"4567\",\"type\":\"AllLabels\"},{\"attributes\":{\"tools\":[{\"id\":\"4352\"},{\"id\":\"4353\"},{\"id\":\"4354\"},{\"id\":\"4355\"},{\"id\":\"4356\"},{\"id\":\"4357\"},{\"id\":\"4375\"}]},\"id\":\"4359\",\"type\":\"Toolbar\"},{\"attributes\":{\"data\":{\"Bright Field Area\":{\"__ndarray__\":\"q6qqqroy9kBVVVVV1br8QKuqqqq66PxAAAAAADA1/kA=\",\"dtype\":\"float64\",\"order\":\"little\",\"shape\":[4]},\"Brinzolamide (nM)\":{\"__ndarray__\":\"AAAAAAAAAAAAAAAAAAAAAAAAAAAAAAAAAAAAAAAAAAA=\",\"dtype\":\"float64\",\"order\":\"little\",\"shape\":[4]},\"Count\":{\"__ndarray__\":\"AAAAAAAAeUAAAAAAAKB3QKuqqqqqmolAVVVVVVW1c0A=\",\"dtype\":\"float64\",\"order\":\"little\",\"shape\":[4]},\"DMSO (%)\":{\"__ndarray__\":\"AAAAAAAAAAAAAAAAAAAAAAAAAAAAAAAAAAAAAAAAAAA=\",\"dtype\":\"float64\",\"order\":\"little\",\"shape\":[4]},\"Dose\":[\"1000000000.0\",\"500000000.0\",\"1000000000.0\",\"500000000.0\"],\"Percent Positive\":{\"__ndarray__\":\"zsVDc7kbIkDdG2Y5YOUWQAX4wuY0uENA9QrleSnuD0A=\",\"dtype\":\"float64\",\"order\":\"little\",\"shape\":[4]},\"Percent Positive Scaled\":{\"__ndarray__\":\"zsVDc7kbEkDdG2Y5YOUGQAX4wuY0uDNA9QrleSnu/z8=\",\"dtype\":\"float64\",\"order\":\"little\",\"shape\":[4]},\"Plate\":{\"__ndarray__\":\"AAAAAAAAAEAAAAAAAAAAQAAAAAAAAABAAAAAAAAAAEA=\",\"dtype\":\"float64\",\"order\":\"little\",\"shape\":[4]},\"Receptor\":[\"Ly6a\",\"Ly6a\",\"Ly6a\",\"Ly6a\"],\"Round\":{\"__ndarray__\":\"AAAAAAAAJEAAAAAAAAAkQAAAAAAAACRAAAAAAAAAJEA=\",\"dtype\":\"float64\",\"order\":\"little\",\"shape\":[4]},\"Signal Area\":{\"__ndarray__\":\"AAAAAAAGwEBVVVVVVeC6QFVVVVWVOudAq6qqqqogs0A=\",\"dtype\":\"float64\",\"order\":\"little\",\"shape\":[4]},\"Total Brightness\":{\"__ndarray__\":\"uQ1juA1Nr0DhijXgilOsQO9Dme6D3uBAfSvWgCvGnkA=\",\"dtype\":\"float64\",\"order\":\"little\",\"shape\":[4]},\"Total Brightness per Signal Area\":{\"__ndarray__\":\"43YRu8hA3z9T5GxEsaHfP2BgUWpO4OY/E8yaDWu+2T8=\",\"dtype\":\"float64\",\"order\":\"little\",\"shape\":[4]},\"Virus\":[\"AAV9\",\"AAV9\",\"PHP.eB\",\"PHP.eB\"],\"Well\":{\"__ndarray__\":\"AAAAAAAAVEAAAAAAAMBUQAAAAAAAAE9AAAAAAABAUEA=\",\"dtype\":\"float64\",\"order\":\"little\",\"shape\":[4]},\"index\":[0,1,7,8]},\"selected\":{\"id\":\"4573\"},\"selection_policy\":{\"id\":\"4572\"}},\"id\":\"4335\",\"type\":\"ColumnDataSource\"},{\"attributes\":{},\"id\":\"4350\",\"type\":\"CategoricalTicker\"}],\"root_ids\":[\"4336\"]},\"title\":\"Bokeh Application\",\"version\":\"2.4.3\"}};\n",
       "  const render_items = [{\"docid\":\"81ea9b99-9dd2-4333-a106-bdc035451c33\",\"root_ids\":[\"4336\"],\"roots\":{\"4336\":\"9e33b568-8c31-44ae-aa62-81a2f63d0d89\"}}];\n",
       "  root.Bokeh.embed.embed_items_notebook(docs_json, render_items);\n",
       "  }\n",
       "  if (root.Bokeh !== undefined) {\n",
       "    embed_document(root);\n",
       "  } else {\n",
       "    let attempts = 0;\n",
       "    const timer = setInterval(function(root) {\n",
       "      if (root.Bokeh !== undefined) {\n",
       "        clearInterval(timer);\n",
       "        embed_document(root);\n",
       "      } else {\n",
       "        attempts++;\n",
       "        if (attempts > 100) {\n",
       "          clearInterval(timer);\n",
       "          console.log(\"Bokeh: ERROR: Unable to run BokehJS code because BokehJS library is missing\");\n",
       "        }\n",
       "      }\n",
       "    }, 10, root)\n",
       "  }\n",
       "})(window);"
      ],
      "application/vnd.bokehjs_exec.v0+json": ""
     },
     "metadata": {
      "application/vnd.bokehjs_exec.v0+json": {
       "id": "4336"
      }
     },
     "output_type": "display_data"
    },
    {
     "name": "stdout",
     "output_type": "stream",
     "text": [
      "The most positive value is: 39.44 \n",
      "The least positive value is: 3.99 \n",
      "The brightest value is: 0.71 \n",
      "The dimmest value is: 0.40\n"
     ]
    }
   ],
   "source": [
    "# Setting our index to only examine data with Receptor none, we can plot the untransfected AAV9 and PHP.eB transfections\n",
    "inds = (df_f2c['Receptor'] == 'Ly6a')\n",
    "\n",
    "p, min_pos, max_pos, min_brightness, max_brightness = cellseg.plot.bubble_plot(df_f2c[inds], \n",
    "                                                                               'Virus', \n",
    "                                                                               'Dose', \n",
    "                                                                               y_values = ['500000000.0', '1000000000.0', '5000000000.0', '10000000000.0', '50000000000.0'], \n",
    "                                                                               plot_width = 350, \n",
    "                                                                               plot_height = 500)\n",
    "\n",
    "bokeh.io.show(p)\n",
    "\n",
    "print(\"The most positive value is: %0.2f \\nThe least positive value is: %0.2f \\nThe brightest value is: %0.2f \\nThe dimmest value is: %0.2f\" % (max_pos, min_pos, max_brightness, min_brightness))"
   ]
  },
  {
   "cell_type": "markdown",
   "id": "0341b547-7fe7-45fc-bf02-51ae5a8acb3c",
   "metadata": {},
   "source": [
    "### Part D"
   ]
  },
  {
   "cell_type": "markdown",
   "id": "1b916cbb-5c70-47a2-a679-50f963b540fa",
   "metadata": {},
   "source": [
    "For part D, we want to compare transduction rates across virus and receptor combinations. To do this, we match the dose and compare across rounds. Due to some issues with viral prep, Round 8 was excluded for PHP.C1 and PHP.C3. "
   ]
  },
  {
   "cell_type": "code",
   "execution_count": 10,
   "id": "07e673a5-cb8c-4c90-b081-f26a1d0bc2a0",
   "metadata": {},
   "outputs": [],
   "source": [
    "dose_inds = df_reduced['Dose'] == 1e9\n",
    "round_inds = df_reduced['Round'] <= 7\n",
    "virus_inds = df_reduced['Virus'].isin(['PHP.eB',\n",
    "                                       'CAP-B10',\n",
    "                                       'CAP-B22',\n",
    "                                       'PHP.N',\n",
    "                                       'PHP.C1',\n",
    "                                       'PHP.C2',\n",
    "                                       'PHP.C3',\n",
    "                                       'PHP.C4',\n",
    "                                       'AAV-F'])\n",
    "\n",
    "receptor_inds = df_reduced['Receptor'].isin(['Tek',\n",
    "                                             'Slco1c1',\n",
    "                                             'Slco1a4',\n",
    "                                             'Slc7a1',\n",
    "                                             'Slc6a6',\n",
    "                                             'Slc2a1', \n",
    "                                             'Slc22a8',\n",
    "                                             'Serinc3',\n",
    "                                             'Prom1',\n",
    "                                             'Podxl',\n",
    "                                             'Pecam1', \n",
    "                                             'Paqr5', \n",
    "                                             'Ocln', \n",
    "                                             'Ly6e', \n",
    "                                             'Ly6c1', \n",
    "                                             'Ly6a', \n",
    "                                             'Kitl', \n",
    "                                             'Kdr', \n",
    "                                             'Itm2b', \n",
    "                                             'Igf1r', \n",
    "                                             'Ifitm3', \n",
    "                                             'Ifitm2', \n",
    "                                             'Flt1', \n",
    "                                             'Fcgrt', \n",
    "                                             'Esam', \n",
    "                                             'Eng',\n",
    "                                             'Clic4', \n",
    "                                             'Clic1', \n",
    "                                             'Clec2d', \n",
    "                                             'Cldn5', \n",
    "                                             'Cdh5', \n",
    "                                             'Cd34', \n",
    "                                             'Car4', \n",
    "                                             'Bsg', \n",
    "                                             'App', \n",
    "                                             'Adgrl4',\n",
    "                                             'Adgrf5', \n",
    "                                             'Acvrl1', \n",
    "                                             'Abcg2', \n",
    "                                             'Abcb1a'])\n",
    "\n",
    "inds = receptor_inds & virus_inds & round_inds & dose_inds\n",
    "\n",
    "df_f2d_1 = df_reduced.loc[inds]\n",
    "\n",
    "inds = (df['Round'] == 7) & (df['Virus'].isin(['PHP.C1','PHP.C3']))\n",
    "\n",
    "df_f2d_1 = df_f2d_1.loc[~inds]\n",
    "\n",
    "# We can determine the mean of each of the values\n",
    "df_f2d_1 = df_f2d_1.groupby(['Virus', 'Receptor', 'Dose']).mean(numeric_only = True).reset_index()"
   ]
  },
  {
   "cell_type": "code",
   "execution_count": 11,
   "id": "4d18a7d4-2ac9-40c1-b96a-9fb87799b338",
   "metadata": {},
   "outputs": [
    {
     "data": {
      "text/html": [
       "\n",
       "  <div class=\"bk-root\" id=\"1ce143c0-fe7a-47bc-847f-fe108b355c75\" data-root-id=\"1231\"></div>\n"
      ]
     },
     "metadata": {},
     "output_type": "display_data"
    },
    {
     "data": {
      "application/javascript": [
       "(function(root) {\n",
       "  function embed_document(root) {\n",
       "  const docs_json = {\"7c07981b-4356-424f-936c-24f4f8434e66\":{\"defs\":[],\"roots\":{\"references\":[{\"attributes\":{\"below\":[{\"id\":\"1241\"}],\"center\":[{\"id\":\"1243\"},{\"id\":\"1246\"}],\"height\":1200,\"left\":[{\"id\":\"1244\"}],\"output_backend\":\"svg\",\"renderers\":[{\"id\":\"1268\"}],\"right\":[{\"id\":\"1263\"}],\"title\":null,\"toolbar\":{\"id\":\"1254\"},\"x_range\":{\"id\":\"1233\"},\"x_scale\":{\"id\":\"1237\"},\"y_range\":{\"id\":\"1235\"},\"y_scale\":{\"id\":\"1239\"}},\"id\":\"1231\",\"subtype\":\"Figure\",\"type\":\"Plot\"},{\"attributes\":{\"overlay\":{\"id\":\"1253\"}},\"id\":\"1249\",\"type\":\"BoxZoomTool\"},{\"attributes\":{},\"id\":\"1297\",\"type\":\"AllLabels\"},{\"attributes\":{\"color_mapper\":{\"id\":\"1261\"},\"coordinates\":null,\"group\":null,\"location\":[0,0],\"major_label_policy\":{\"id\":\"1298\"},\"ticker\":{\"id\":\"1262\"}},\"id\":\"1263\",\"type\":\"ColorBar\"},{\"attributes\":{\"tools\":[{\"id\":\"1247\"},{\"id\":\"1248\"},{\"id\":\"1249\"},{\"id\":\"1250\"},{\"id\":\"1251\"},{\"id\":\"1252\"},{\"id\":\"1270\"}]},\"id\":\"1254\",\"type\":\"Toolbar\"},{\"attributes\":{\"coordinates\":null,\"formatter\":{\"id\":\"1300\"},\"group\":null,\"major_label_orientation\":1.5707963267948966,\"major_label_policy\":{\"id\":\"1301\"},\"ticker\":{\"id\":\"1242\"}},\"id\":\"1241\",\"type\":\"CategoricalAxis\"},{\"attributes\":{},\"id\":\"1302\",\"type\":\"UnionRenderers\"},{\"attributes\":{},\"id\":\"1298\",\"type\":\"NoOverlap\"},{\"attributes\":{\"factors\":[\"PHP.eB\",\"CAP-B10\",\"CAP-B22\",\"PHP.N\",\"PHP.C1\",\"PHP.C2\",\"PHP.C3\",\"PHP.C4\",\"AAV-F\"]},\"id\":\"1233\",\"type\":\"FactorRange\"},{\"attributes\":{\"high\":0.5542153680797345,\"low\":0.05999309439074179,\"palette\":[\"#440154\",\"#440255\",\"#440357\",\"#450558\",\"#45065A\",\"#45085B\",\"#46095C\",\"#460B5E\",\"#460C5F\",\"#460E61\",\"#470F62\",\"#471163\",\"#471265\",\"#471466\",\"#471567\",\"#471669\",\"#47186A\",\"#48196B\",\"#481A6C\",\"#481C6E\",\"#481D6F\",\"#481E70\",\"#482071\",\"#482172\",\"#482273\",\"#482374\",\"#472575\",\"#472676\",\"#472777\",\"#472878\",\"#472A79\",\"#472B7A\",\"#472C7B\",\"#462D7C\",\"#462F7C\",\"#46307D\",\"#46317E\",\"#45327F\",\"#45347F\",\"#453580\",\"#453681\",\"#443781\",\"#443982\",\"#433A83\",\"#433B83\",\"#433C84\",\"#423D84\",\"#423E85\",\"#424085\",\"#414186\",\"#414286\",\"#404387\",\"#404487\",\"#3F4587\",\"#3F4788\",\"#3E4888\",\"#3E4989\",\"#3D4A89\",\"#3D4B89\",\"#3D4C89\",\"#3C4D8A\",\"#3C4E8A\",\"#3B508A\",\"#3B518A\",\"#3A528B\",\"#3A538B\",\"#39548B\",\"#39558B\",\"#38568B\",\"#38578C\",\"#37588C\",\"#37598C\",\"#365A8C\",\"#365B8C\",\"#355C8C\",\"#355D8C\",\"#345E8D\",\"#345F8D\",\"#33608D\",\"#33618D\",\"#32628D\",\"#32638D\",\"#31648D\",\"#31658D\",\"#31668D\",\"#30678D\",\"#30688D\",\"#2F698D\",\"#2F6A8D\",\"#2E6B8E\",\"#2E6C8E\",\"#2E6D8E\",\"#2D6E8E\",\"#2D6F8E\",\"#2C708E\",\"#2C718E\",\"#2C728E\",\"#2B738E\",\"#2B748E\",\"#2A758E\",\"#2A768E\",\"#2A778E\",\"#29788E\",\"#29798E\",\"#287A8E\",\"#287A8E\",\"#287B8E\",\"#277C8E\",\"#277D8E\",\"#277E8E\",\"#267F8E\",\"#26808E\",\"#26818E\",\"#25828E\",\"#25838D\",\"#24848D\",\"#24858D\",\"#24868D\",\"#23878D\",\"#23888D\",\"#23898D\",\"#22898D\",\"#228A8D\",\"#228B8D\",\"#218C8D\",\"#218D8C\",\"#218E8C\",\"#208F8C\",\"#20908C\",\"#20918C\",\"#1F928C\",\"#1F938B\",\"#1F948B\",\"#1F958B\",\"#1F968B\",\"#1E978A\",\"#1E988A\",\"#1E998A\",\"#1E998A\",\"#1E9A89\",\"#1E9B89\",\"#1E9C89\",\"#1E9D88\",\"#1E9E88\",\"#1E9F88\",\"#1EA087\",\"#1FA187\",\"#1FA286\",\"#1FA386\",\"#20A485\",\"#20A585\",\"#21A685\",\"#21A784\",\"#22A784\",\"#23A883\",\"#23A982\",\"#24AA82\",\"#25AB81\",\"#26AC81\",\"#27AD80\",\"#28AE7F\",\"#29AF7F\",\"#2AB07E\",\"#2BB17D\",\"#2CB17D\",\"#2EB27C\",\"#2FB37B\",\"#30B47A\",\"#32B57A\",\"#33B679\",\"#35B778\",\"#36B877\",\"#38B976\",\"#39B976\",\"#3BBA75\",\"#3DBB74\",\"#3EBC73\",\"#40BD72\",\"#42BE71\",\"#44BE70\",\"#45BF6F\",\"#47C06E\",\"#49C16D\",\"#4BC26C\",\"#4DC26B\",\"#4FC369\",\"#51C468\",\"#53C567\",\"#55C666\",\"#57C665\",\"#59C764\",\"#5BC862\",\"#5EC961\",\"#60C960\",\"#62CA5F\",\"#64CB5D\",\"#67CC5C\",\"#69CC5B\",\"#6BCD59\",\"#6DCE58\",\"#70CE56\",\"#72CF55\",\"#74D054\",\"#77D052\",\"#79D151\",\"#7CD24F\",\"#7ED24E\",\"#81D34C\",\"#83D34B\",\"#86D449\",\"#88D547\",\"#8BD546\",\"#8DD644\",\"#90D643\",\"#92D741\",\"#95D73F\",\"#97D83E\",\"#9AD83C\",\"#9DD93A\",\"#9FD938\",\"#A2DA37\",\"#A5DA35\",\"#A7DB33\",\"#AADB32\",\"#ADDC30\",\"#AFDC2E\",\"#B2DD2C\",\"#B5DD2B\",\"#B7DD29\",\"#BADE27\",\"#BDDE26\",\"#BFDF24\",\"#C2DF22\",\"#C5DF21\",\"#C7E01F\",\"#CAE01E\",\"#CDE01D\",\"#CFE11C\",\"#D2E11B\",\"#D4E11A\",\"#D7E219\",\"#DAE218\",\"#DCE218\",\"#DFE318\",\"#E1E318\",\"#E4E318\",\"#E7E419\",\"#E9E419\",\"#ECE41A\",\"#EEE51B\",\"#F1E51C\",\"#F3E51E\",\"#F6E61F\",\"#F8E621\",\"#FAE622\",\"#FDE724\"]},\"id\":\"1261\",\"type\":\"LinearColorMapper\"},{\"attributes\":{},\"id\":\"1242\",\"type\":\"CategoricalTicker\"},{\"attributes\":{},\"id\":\"1262\",\"type\":\"BasicTicker\"},{\"attributes\":{\"fill_alpha\":{\"value\":0.1},\"fill_color\":{\"field\":\"Total Brightness per Signal Area\",\"transform\":{\"id\":\"1261\"}},\"hatch_alpha\":{\"value\":0.1},\"line_alpha\":{\"value\":0.1},\"line_color\":{\"value\":\"#1f77b4\"},\"size\":{\"field\":\"Percent Positive\"},\"x\":{\"field\":\"Virus\"},\"y\":{\"field\":\"Receptor\"}},\"id\":\"1266\",\"type\":\"Scatter\"},{\"attributes\":{\"bottom_units\":\"screen\",\"coordinates\":null,\"fill_alpha\":0.5,\"fill_color\":\"lightgrey\",\"group\":null,\"left_units\":\"screen\",\"level\":\"overlay\",\"line_alpha\":1.0,\"line_color\":\"black\",\"line_dash\":[4,4],\"line_width\":2,\"right_units\":\"screen\",\"syncable\":false,\"top_units\":\"screen\"},\"id\":\"1253\",\"type\":\"BoxAnnotation\"},{\"attributes\":{\"data\":{\"Bright Field Area\":{\"__ndarray__\":\"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\",\"dtype\":\"float64\",\"order\":\"little\",\"shape\":[334]},\"Brinzolamide (nM)\":{\"__ndarray__\":\"AAAAAAAAAAAAAAAAAAAAAAAAAAAAAAAAAAAAAAAAAAAAAAAAAAAAAAAAAAAAAAAAAAAAAAAAAAAAAAAAAAAAAAAAAAAAAAAAAAAAAAAAAAAAAAAAAAAAAAAAAAAAAAAAAAAAAAAAAAAAAAAAAAAAAAAAAAAAAAAAAAAAAAAAAAAAAAAAAAAAAAAAAAAAAAAAAAAAAAAAAAAAAAAAAAAAAAAAAAAAAAAAAAAAAAAAAAAAAAAAAAAAAAAAAAAAAAAAAAAAAAAAAAAAAAAAAAAAAAAAAAAAAAAAAAAAAAAAAAAAAAAAAAAAAAAAAAAAAAAAAAAAAAAAAAAAAAAAAAAAAAAAAAAAAAAAAAAAAAAAAAAAAAAAAAAAAAAAAAAAAAAAAAAAAAAAAAAAAAAAAAAAAAAAAAAAAAAAAAAAAAAAAAAAAAAAAAAAAAAAAAAAAAAAAAAAAAAAAAAAAAAAAAAAAAAAAAAAAAAAAAAAAAAAAAAAAAAAAAAAAAAAAAAAAAAAAAAAAAAAAAAAAAAAAAAAAAAAAAAAAAAAAAAAAAAAAAAAAAAAAAAAAAAAAAAAAAAAAAAAAAAAAAAAAAAAAAAAAAAAAAAAAAAAAAAAAAAAAAAAAAAAAAAAAAAAAAAAAAAAAAAAAAAAAAAAAAAAAAAAAAAAAAAAAAAAAAAAAAAAAAAAAAAAAAAAAAAAAAAAAAAAAAAAAAAAAAAAAAAAAAAAAAAAAAAAAAAAAAAAAAAAAAAAAAAAAAAAAAAAAAAAAAAAAAAAAAAAAAAAAAAAAAAAAAAAAAAAAAAAAAAAAAAAAAAAAAAAAAAAAAAAAAAAAAAAAAAAAAAAAAAAAAAAAAAAAAAAAAAAAAAAAAAAAAAAAAAAAAAAAAAAAAAAAAAAAAAAAAAAAAAAAAAAAAAAAAAAAAAAAAAAAAAAAAAAAAAAAAAAAAAAAAAAAAAAAAAAAAAAAAAAAAAAAAAAAAAAAAAAAAAAAAAAAAAAAAAAAAAAAAAAAAAAAAAAAAAAAAAAAAAAAAAAAAAAAAAAAAAAAAAAAAAAAAAAAAAAAAAAAAAAAAAAAAAAAAAAAAAAAAAAAAAAAAAAAAAAAAAAAAAAAAAAAAAAAAAAAAAAAAAAAAAAAAAAAAAAAAAAAAAAAAAAAAAAAAAAAAAAAAAAAAAAAAAAAAAAAAAAAAAAAAAAAAAAAAAAAAAAAAAAAAAAAAAAAAAAAAAAAAAAAAAAAAAAAAAAAAAAAAAAAAAAAAAAAAAAAAAAAAAAAAAAAAAAAAAAAAAAAAAAAAAAAAAAAAAAAAAAAAAAAAAAAAAAAAAAAAAAAAAAAAAAAAAAAAAAAAAAAAAAAAAAAAAAAAAAAAAAAAAAAAAAAAAAAAAAAAAAAAAAAAAAAAAAAAAAAAAAAAAAAAAAAAAAAAAAAAAAAAAAAAAAAAAAAAAAAAAAAAAAAAAAAAAAAAAAAAAAAAAAAAAAAAAAAAAAAAAAAAAAAAAAAAAAAAAAAAAAAAAAAAAAAAAAAAAAAAAAAAAAAAAAAAAAAAAAAAAAAAAAAAAAAAAAAAAAAAAAAAAAAAAAAAAAAAAAAAAAAAAAAAAAAAAAAAAAAAAAAAAAAAAAAAAAAAAAAAAAAAAAAAAAAAAAAAAAAAAAAAAAAAAAAAAAAAAAAAAAAAAAAAAAAAAAAAAAAAAAAAAAAAAAAAAAAAAAAAAAAAAAAAAAAAAAAAAAAAAAAAAAAAAAAAAAAAAAAAAAAAAAAAAAAAAAAAAAAAAAAAAAAAAAAAAAAAAAAAAAAAAAAAAAAAAAAAAAAAAAAAAAAAAAAAAAAAAAAAAAAAAAAAAAAAAAAAAAAAAAAAAAAAAAAAAAAAAAAAAAAAAAAAAAAAAAAAAAAAAAAAAAAAAAAAAAAAAAAAAAAAAAAAAAAAAAAAAAAAAAAAAAAAAAAAAAAAAAAAAAAAAAAAAAAAAAAAAAAAAAAAAAAAAAAAAAAAAAAAAAAAAAAAAAAAAAAAAAAAAAAAAAAAAAAAAAAAAAAAAAAAAAAAAAAAAAAAAAAAAAAAAAAAAAAAAAAAAAAAAAAAAAAAAAAAAAAAAAAAAAAAAAAAAAAAAAAAAAAAAAAAAAAAAAAAAAAAAAAAAAAAAAAAAAAAAAAAAAAAAAAAAAAAAAAAAAAAAAAAAAAAAAAAAAAAAAAAAAAAAAAAAAAAAAAAAAAAAAAAAAAAAAAAAAAAAAAAAAAAAAAAAAAAAAAAAAAAAAAAAAAAAAAAAAAAAAAAAAAAAAAAAAAAAAAAAAAAAAAAAAAAAAAAAAAAAAAAAAAAAAAAAAAAAAAAAAAAAAAAAAAAAAAAAAAAAAAAAAAAAAAAAAAAAAAAAAAAAAAAAAAAAAAAAAAAAAAAAAAAAAAAAAAAAAAAAAAAAAAAAAAAAAAAAAAAAAAAAAAAAAAAAAAAAAAAAAAAAAAAAAAAAAAAAAAAAAAAAAAAAAAAAAAAAAAAAAAAAAAAAAAAAAAAAAAAAAAAAAAAAAAAAAAAAAAAAAAAAAAAAAAAAAAAAAAAAAAAAAAAAAAAAAAAAAAAAAAAAAAAAAAAAAAAAAAAAAAAAAAAAAAAAAAAAAAAAAAAAAAAAAAAAAAAAAAAAAAAAAAAAAAAAAAAAAAAAAAAAAAAAAAAAAAAAAAAAAAAAAAAAAAAAAAAAAAAAAAAAAAAAAAAAAAAAAAAAAAAAAAAAAAAAAAAAAAAAAAAAAAAAAAAAAAAAAAAAAAAAAAAAAAAAAAAAAAAAAAAAAAAAAAAAAAAAAAAAAAAAAAAAAAAAAAAAAAAAAAAAAAAAAAAAAAAAAAAAAAAAAAAAAAAAAAAAAAAAAAAAAAAAAAAAAAAAAAAAAAAAAAAAAAAAAAAAAAAAAAAAAAAAAAAAAAAAAAAAAAAAAAAAAAAAAAAAAAAAAAAAAAAAAAAAAAAAAAAAAAAAAAAAAAAAAAAAAAAAAAAAAAAAAAAAAAAAAAAAAAAAAAAAAAAAAAAAAAAAAAAAAAAAAAAAAAAAAAAAAAAAAAAAAAAAAAAAAAAAAAAAAAAAAAAAAAAAAAAAAAAAAAAAAAAAAAAAAAAAAAAAAAAAAAAAAAAAAAAAAAAAAAAAAAAAAAAAAAAAAAAAAAAAAAAAAAAAAAAAAAAAAAAAAAAAAAAAAAAAAAAAAAAAAAAAAAAAAAAAAAAAAAAAAAAAAAAAAAAAAAAAAAAAAAAAAAAAAAAAAAAAAAAAAAAAAAAAAAAAAAAAAAAAAAAAAAAAAAAAAAAAAAAAAAAAAAAAAAAAAAAAAAAAAAAAAAAAAAAAAAAAAAAAAAAAAAAAAAAAAAAAAAAAAAAAAAAAAAAAAAAAAAAAAAAAAAAAAAAAAAAAAAAAAAAAAAAAAAAAAAAAAAAAAAAAAAAAAAAAAAAAAAAAAAAAAAAAAAAAAAAAAAAAAAAAAAAAAAAAAAAAAAAAAAAAAAAAAAAAAAAAAAAAAAAAAAAAAAAAAAAAAAAAAAAAAAAAAAAAAAAAAAAAAAAAAAAAAAAAAAAAAAAAAAAAAAAAAAAAAAAAAAAAAAAAAAAAAAAAAAAAAAAAAAAA=\",\"dtype\":\"float64\",\"order\":\"little\",\"shape\":[334]},\"Count\":{\"__ndarray__\":\"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\",\"dtype\":\"float64\",\"order\":\"little\",\"shape\":[334]},\"DMSO (%)\":{\"__ndarray__\":\"AAAAAAAAAAAAAAAAAAAAAAAAAAAAAAAAAAAAAAAAAAAAAAAAAAAAAAAAAAAAAAAAAAAAAAAAAAAAAAAAAAAAAAAAAAAAAAAAAAAAAAAAAAAAAAAAAAAAAAAAAAAAAAAAAAAAAAAAAAAAAAAAAAAAAAAAAAAAAAAAAAAAAAAAAAAAAAAAAAAAAAAAAAAAAAAAAAAAAAAAAAAAAAAAAAAAAAAAAAAAAAAAAAAAAAAAAAAAAAAAAAAAAAAAAAAAAAAAAAAAAAAAAAAAAAAAAAAAAAAAAAAAAAAAAAAAAAAAAAAAAAAAAAAAAAAAAAAAAAAAAAAAAAAAAAAAAAAAAAAAAAAAAAAAAAAAAAAAAAAAAAAAAAAAAAAAAAAAAAAAAAAAAAAAAAAAAAAAAAAAAAAAAAAAAAAAAAAAAAAAAAAAAAAAAAAAAAAAAAAAAAAAAAAAAAAAAAAAAAAAAAAAAAAAAAAAAAAAAAAAAAAAAAAAAAAAAAAAAAAAAAAAAAAAAAAAAAAAAAAAAAAAAAAAAAAAAAAAAAAAAAAAAAAAAAAAAAAAAAAAAAAAAAAAAAAAAAAAAAAAAAAAAAAAAAAAAAAAAAAAAAAAAAAAAAAAAAAAAAAAAAAAAAAAAAAAAAAAAAAAAAAAAAAAAAAAAAAAAAAAAAAAAAAAAAAAAAAAAAAAAAAAAAAAAAAAAAAAAAAAAAAAAAAAAAAAAAAAAAAAAAAAAAAAAAAAAAAAAAAAAAAAAAAAAAAAAAAAAAAAAAAAAAAAAAAAAAAAAAAAAAAAAAAAAAAAAAAAAAAAAAAAAAAAAAAAAAAAAAAAAAAAAAAAAAAAAAAAAAAAAAAAAAAAAAAAAAAAAAAAAAAAAAAAAAAAAAAAAAAAAAAAAAAAAAAAAAAAAAAAAAAAAAAAAAAAAAAAAAAAAAAAAAAAAAAAAAAAAAAAAAAAAAAAAAAAAAAAAAAAAAAAAAAAAAAAAAAAAAAAAAAAAAAAAAAAAAAAAAAAAAAAAAAAAAAAAAAAAAAAAAAAAAAAAAAAAAAAAAAAAAAAAAAAAAAAAAAAAAAAAAAAAAAAAAAAAAAAAAAAAAAAAAAAAAAAAAAAAAAAAAAAAAAAAAAAAAAAAAAAAAAAAAAAAAAAAAAAAAAAAAAAAAAAAAAAAAAAAAAAAAAAAAAAAAAAAAAAAAAAAAAAAAAAAAAAAAAAAAAAAAAAAAAAAAAAAAAAAAAAAAAAAAAAAAAAAAAAAAAAAAAAAAAAAAAAAAAAAAAAAAAAAAAAAAAAAAAAAAAAAAAAAAAAAAAAAAAAAAAAAAAAAAAAAAAAAAAAAAAAAAAAAAAAAAAAAAAAAAAAAAAAAAAAAAAAAAAAAAAAAAAAAAAAAAAAAAAAAAAAAAAAAAAAAAAAAAAAAAAAAAAAAAAAAAAAAAAAAAAAAAAAAAAAAAAAAAAAAAAAAAAAAAAAAAAAAAAAAAAAAAAAAAAAAAAAAAAAAAAAAAAAAAAAAAAAAAAAAAAAAAAAAAAAAAAAAAAAAAAAAAAAAAAAAAAAAAAAAAAAAAAAAAAAAAAAAAAAAAAAAAAAAAAAAAAAAAAAAAAAAAAAAAAAAAAAAAAAAAAAAAAAAAAAAAAAAAAAAAAAAAAAAAAAAAAAAAAAAAAAAAAAAAAAAAAAAAAAAAAAAAAAAAAAAAAAAAAAAAAAAAAAAAAAAAAAAAAAAAAAAAAAAAAAAAAAAAAAAAAAAAAAAAAAAAAAAAAAAAAAAAAAAAAAAAAAAAAAAAAAAAAAAAAAAAAAAAAAAAAAAAAAAAAAAAAAAAAAAAAAAAAAAAAAAAAAAAAAAAAAAAAAAAAAAAAAAAAAAAAAAAAAAAAAAAAAAAAAAAAAAAAAAAAAAAAAAAAAAAAAAAAAAAAAAAAAAAAAAAAAAAAAAAAAAAAAAAAAAAAAAAAAAAAAAAAAAAAAAAAAAAAAAAAAAAAAAAAAAAAAAAAAAAAAAAAAAAAAAAAAAAAAAAAAAAAAAAAAAAAAAAAAAAAAAAAAAAAAAAAAAAAAAAAAAAAAAAAAAAAAAAAAAAAAAAAAAAAAAAAAAAAAAAAAAAAAAAAAAAAAAAAAAAAAAAAAAAAAAAAAAAAAAAAAAAAAAAAAAAAAAAAAAAAAAAAAAAAAAAAAAAAAAAAAAAAAAAAAAAAAAAAAAAAAAAAAAAAAAAAAAAAAAAAAAAAAAAAAAAAAAAAAAAAAAAAAAAAAAAAAAAAAAAAAAAAAAAAAAAAAAAAAAAAAAAAAAAAAAAAAAAAAAAAAAAAAAAAAAAAAAAAAAAAAAAAAAAAAAAAAAAAAAAAAAAAAAAAAAAAAAAAAAAAAAAAAAAAAAAAAAAAAAAAAAAAAAAAAAAAAAAAAAAAAAAAAAAAAAAAAAAAAAAAAAAAAAAAAAAAAAAAAAAAAAAAAAAAAAAAAAAAAAAAAAAAAAAAAAAAAAAAAAAAAAAAAAAAAAAAAAAAAAAAAAAAAAAAAAAAAAAAAAAAAAAAAAAAAAAAAAAAAAAAAAAAAAAAAAAAAAAAAAAAAAAAAAAAAAAAAAAAAAAAAAAAAAAAAAAAAAAAAAAAAAAAAAAAAAAAAAAAAAAAAAAAAAAAAAAAAAAAAAAAAAAAAAAAAAAAAAAAAAAAAAAAAAAAAAAAAAAAAAAAAAAAAAAAAAAAAAAAAAAAAAAAAAAAAAAAAAAAAAAAAAAAAAAAAAAAAAAAAAAAAAAAAAAAAAAAAAAAAAAAAAAAAAAAAAAAAAAAAAAAAAAAAAAAAAAAAAAAAAAAAAAAAAAAAAAAAAAAAAAAAAAAAAAAAAAAAAAAAAAAAAAAAAAAAAAAAAAAAAAAAAAAAAAAAAAAAAAAAAAAAAAAAAAAAAAAAAAAAAAAAAAAAAAAAAAAAAAAAAAAAAAAAAAAAAAAAAAAAAAAAAAAAAAAAAAAAAAAAAAAAAAAAAAAAAAAAAAAAAAAAAAAAAAAAAAAAAAAAAAAAAAAAAAAAAAAAAAAAAAAAAAAAAAAAAAAAAAAAAAAAAAAAAAAAAAAAAAAAAAAAAAAAAAAAAAAAAAAAAAAAAAAAAAAAAAAAAAAAAAAAAAAAAAAAAAAAAAAAAAAAAAAAAAAAAAAAAAAAAAAAAAAAAAAAAAAAAAAAAAAAAAAAAAAAAAAAAAAAAAAAAAAAAAAAAAAAAAAAAAAAAAAAAAAAAAAAAAAAAAAAAAAAAAAAAAAAAAAAAAAAAAAAAAAAAAAAAAAAAAAAAAAAAAAAAAAAAAAAAAAAAAAAAAAAAAAAAAAAAAAAAAAAAAAAAAAAAAAAAAAAAAAAAAAAAAAAAAAAAAAAAAAAAAAAAAAAAAAAAAAAAAAAAAAAAAAAAAAAAAAAAAAAAAAAAAAAAAAAAAAAAAAAAAAAAAAAAAAAAAAAAAAAAAAAAAAAAAAAAAAAAAAAAAAAAAAAAAAAAAAAAAAAAAAAAAAAAAAAAAAAAAAAAAAAAAAAAAAAAAAAAAAAAAAAAAAAAAAAAAAAAAAAAAAAAAAAAAAAAAAAAAAAAAAAAAAAAAAAAAAAAAAAAAAAAAAAAAAAAAAAAAAAAAAAAAAAAAA=\",\"dtype\":\"float64\",\"order\":\"little\",\"shape\":[334]},\"Dose\":{\"__ndarray__\":\"AAAAAGXNzUEAAAAAZc3NQQAAAABlzc1BAAAAAGXNzUEAAAAAZc3NQQAAAABlzc1BAAAAAGXNzUEAAAAAZc3NQQAAAABlzc1BAAAAAGXNzUEAAAAAZc3NQQAAAABlzc1BAAAAAGXNzUEAAAAAZc3NQQAAAABlzc1BAAAAAGXNzUEAAAAAZc3NQQAAAABlzc1BAAAAAGXNzUEAAAAAZc3NQQAAAABlzc1BAAAAAGXNzUEAAAAAZc3NQQAAAABlzc1BAAAAAGXNzUEAAAAAZc3NQQAAAABlzc1BAAAAAGXNzUEAAAAAZc3NQQAAAABlzc1BAAAAAGXNzUEAAAAAZc3NQQAAAABlzc1BAAAAAGXNzUEAAAAAZc3NQQAAAABlzc1BAAAAAGXNzUEAAAAAZc3NQQAAAABlzc1BAAAAAGXNzUEAAAAAZc3NQQAAAABlzc1BAAAAAGXNzUEAAAAAZc3NQQAAAABlzc1BAAAAAGXNzUEAAAAAZc3NQQAAAABlzc1BAAAAAGXNzUEAAAAAZc3NQQAAAABlzc1BAAAAAGXNzUEAAAAAZc3NQQAAAABlzc1BAAAAAGXNzUEAAAAAZc3NQQAAAABlzc1BAAAAAGXNzUEAAAAAZc3NQQAAAABlzc1BAAAAAGXNzUEAAAAAZc3NQQAAAABlzc1BAAAAAGXNzUEAAAAAZc3NQQAAAABlzc1BAAAAAGXNzUEAAAAAZc3NQQAAAABlzc1BAAAAAGXNzUEAAAAAZc3NQQAAAABlzc1BAAAAAGXNzUEAAAAAZc3NQQAAAABlzc1BAAAAAGXNzUEAAAAAZc3NQQAAAABlzc1BAAAAAGXNzUEAAAAAZc3NQQAAAABlzc1BAAAAAGXNzUEAAAAAZc3NQQAAAABlzc1BAAAAAGXNzUEAAAAAZc3NQQAAAABlzc1BAAAAAGXNzUEAAAAAZc3NQQAAAABlzc1BAAAAAGXNzUEAAAAAZc3NQQAAAABlzc1BAAAAAGXNzUEAAAAAZc3NQQAAAABlzc1BAAAAAGXNzUEAAAAAZc3NQQAAAABlzc1BAAAAAGXNzUEAAAAAZc3NQQAAAABlzc1BAAAAAGXNzUEAAAAAZc3NQQAAAABlzc1BAAAAAGXNzUEAAAAAZc3NQQAAAABlzc1BAAAAAGXNzUEAAAAAZc3NQQAAAABlzc1BAAAAAGXNzUEAAAAAZc3NQQAAAABlzc1BAAAAAGXNzUEAAAAAZc3NQQAAAABlzc1BAAAAAGXNzUEAAAAAZc3NQQAAAABlzc1BAAAAAGXNzUEAAAAAZc3NQQAAAABlzc1BAAAAAGXNzUEAAAAAZc3NQQAAAABlzc1BAAAAAGXNzUEAAAAAZc3NQQAAAABlzc1BAAAAAGXNzUEAAAAAZc3NQQAAAABlzc1BAAAAAGXNzUEAAAAAZc3NQQAAAABlzc1BAAAAAGXNzUEAAAAAZc3NQQAAAABlzc1BAAAAAGXNzUEAAAAAZc3NQQAAAABlzc1BAAAAAGXNzUEAAAAAZc3NQQAAAABlzc1BAAAAAGXNzUEAAAAAZc3NQQAAAABlzc1BAAAAAGXNzUEAAAAAZc3NQQAAAABlzc1BAAAAAGXNzUEAAAAAZc3NQQAAAABlzc1BAAAAAGXNzUEAAAAAZc3NQQAAAABlzc1BAAAAAGXNzUEAAAAAZc3NQQAAAABlzc1BAAAAAGXNzUEAAAAAZc3NQQAAAABlzc1BAAAAAGXNzUEAAAAAZc3NQQAAAABlzc1BAAAAAGXNzUEAAAAAZc3NQQAAAABlzc1BAAAAAGXNzUEAAAAAZc3NQQAAAABlzc1BAAAAAGXNzUEAAAAAZc3NQQAAAABlzc1BAAAAAGXNzUEAAAAAZc3NQQAAAABlzc1BAAAAAGXNzUEAAAAAZc3NQQAAAABlzc1BAAAAAGXNzUEAAAAAZc3NQQAAAABlzc1BAAAAAGXNzUEAAAAAZc3NQQAAAABlzc1BAAAAAGXNzUEAAAAAZc3NQQAAAABlzc1BAAAAAGXNzUEAAAAAZc3NQQAAAABlzc1BAAAAAGXNzUEAAAAAZc3NQQAAAABlzc1BAAAAAGXNzUEAAAAAZc3NQQAAAABlzc1BAAAAAGXNzUEAAAAAZc3NQQAAAABlzc1BAAAAAGXNzUEAAAAAZc3NQQAAAABlzc1BAAAAAGXNzUEAAAAAZc3NQQAAAABlzc1BAAAAAGXNzUEAAAAAZc3NQQAAAABlzc1BAAAAAGXNzUEAAAAAZc3NQQAAAABlzc1BAAAAAGXNzUEAAAAAZc3NQQAAAABlzc1BAAAAAGXNzUEAAAAAZc3NQQAAAABlzc1BAAAAAGXNzUEAAAAAZc3NQQAAAABlzc1BAAAAAGXNzUEAAAAAZc3NQQAAAABlzc1BAAAAAGXNzUEAAAAAZc3NQQAAAABlzc1BAAAAAGXNzUEAAAAAZc3NQQAAAABlzc1BAAAAAGXNzUEAAAAAZc3NQQAAAABlzc1BAAAAAGXNzUEAAAAAZc3NQQAAAABlzc1BAAAAAGXNzUEAAAAAZc3NQQAAAABlzc1BAAAAAGXNzUEAAAAAZc3NQQAAAABlzc1BAAAAAGXNzUEAAAAAZc3NQQAAAABlzc1BAAAAAGXNzUEAAAAAZc3NQQAAAABlzc1BAAAAAGXNzUEAAAAAZc3NQQAAAABlzc1BAAAAAGXNzUEAAAAAZc3NQQAAAABlzc1BAAAAAGXNzUEAAAAAZc3NQQAAAABlzc1BAAAAAGXNzUEAAAAAZc3NQQAAAABlzc1BAAAAAGXNzUEAAAAAZc3NQQAAAABlzc1BAAAAAGXNzUEAAAAAZc3NQQAAAABlzc1BAAAAAGXNzUEAAAAAZc3NQQAAAABlzc1BAAAAAGXNzUEAAAAAZc3NQQAAAABlzc1BAAAAAGXNzUEAAAAAZc3NQQAAAABlzc1BAAAAAGXNzUEAAAAAZc3NQQAAAABlzc1BAAAAAGXNzUEAAAAAZc3NQQAAAABlzc1BAAAAAGXNzUEAAAAAZc3NQQAAAABlzc1BAAAAAGXNzUEAAAAAZc3NQQAAAABlzc1BAAAAAGXNzUEAAAAAZc3NQQAAAABlzc1BAAAAAGXNzUEAAAAAZc3NQQAAAABlzc1BAAAAAGXNzUEAAAAAZc3NQQAAAABlzc1BAAAAAGXNzUEAAAAAZc3NQQAAAABlzc1BAAAAAGXNzUEAAAAAZc3NQQAAAABlzc1BAAAAAGXNzUEAAAAAZc3NQQAAAABlzc1BAAAAAGXNzUEAAAAAZc3NQQAAAABlzc1BAAAAAGXNzUEAAAAAZc3NQQAAAABlzc1BAAAAAGXNzUEAAAAAZc3NQQAAAABlzc1BAAAAAGXNzUEAAAAAZc3NQQAAAABlzc1BAAAAAGXNzUEAAAAAZc3NQQAAAABlzc1BAAAAAGXNzUEAAAAAZc3NQQAAAABlzc1BAAAAAGXNzUEAAAAAZc3NQQAAAABlzc1BAAAAAGXNzUEAAAAAZc3NQQAAAABlzc1BAAAAAGXNzUEAAAAAZc3NQQAAAABlzc1BAAAAAGXNzUE=\",\"dtype\":\"float64\",\"order\":\"little\",\"shape\":[334]},\"Percent Positive\":{\"__ndarray__\":\"9Z2qdXflCkAvGNONy7IeQBYZYuQoxBNAE+d0ABatBED8qBjoiAQUQAL1P/fUkBFAnOmphAc6GkBxRKQHkzEAQPuudwZGCwFAlQDtZZBXAEDEAqvcnrEMQGPhPLBRohBA9S3Fc9GmGUBc28xX+DQAQMDGDbRXAx1Au4R/koYyCUB9sFSOEN0AQJfgGNWrnwRATfKsrhMlG0B4+GrovWAIQGnbNkbYrAJAS6Kzhj+bGkDrHwJUwBEYQI3uVMbPbEBAKJ981zGXGkDMscQqbt0RQNUOmA3zIgFAH+mPYbQFAUA3WVJUpS0VQH3vUd6hQhJA97fBQj+QF0C/VQDow1wWQKlwoblk+fo/0yiYHODJB0BESwTQuaobQPMxQ2PZ7QBA0CmwHBVWJUBgKTwtlTYPQM3PO4ArDw5AE15lzv+DG0CVwhrRZwceQGWDomyGshdAbbbv10gVHUAVmDHx1PgeQDVRxFzQqQ5AzbxGp2ZCDUC95FNlPpseQDje6J4vCxxA7b9Jb73PGkBRuASmqpocQKjixrgcYBtAf9QbyILaGUC5AKL+dTcQQLX+UTCNtSBAqx1u4myXLkDfptTqnxMXQF+XCWmlzxhAY19DruaTGkAL4WSMdHoMQFiLKy6whhxAyCoEZfewGUCnoUjpYAkfQMhWye092BtAh4Z4LQlpCUBhtScxtwgZQFDbXPSvGSdA0zHRgGeeGEAzbTNbnEcSQMVd8rUfZSJAgKIr6HBzE0ABY2UzWJEQQPRgnnTraA5AkATwcglXDkBVgjRpaj0OQDu31Cq5zxJAyCrufCJZDUDXYVk3XNQRQIPFggQy0hJA3dMP15nuDkBDYC6LdgAOQLcQ0Slxiw9AOH35vjhBEEAPdS9XDP8QQIeDAS3iHxZAlZsfmuLiD0AnucwTqCAQQF3vpI2SAQ1Aje2uX5POEkAPbcAgo28PQKMNNwdDuxNAVj2Htin5K0D5WWNtisoSQGJFYVvs0hhAGDRiXI1tDkANE9v61M0MQGQHHX2gWxJA+VHQVKsoD0D7BUW/ACoLQOuEngOBYApAw894rcNlEkAc4Vh7mA0QQFkrQoRHrgdAp3SgUWvqE0CoGllR2ivvP8WEVi9NQCBAV/oADGHoEUAA9gD6oM8LQLuHIYgxJQ5A7QYDFNr6EEBZtHuJD5wQQA0vUPazCwpASFNJJNo59j+nP3eHknoUQFnXGvfvvg9A4EluHV38DUDkX0HkUaAIQFiHNSILhA1AnS/3QedC9z+PuZxtc8gZQOMHLdyW6Q1AgPTiX6b1CEA/pK+A9OURQPjGG+asKwhAaZGJ14UJCUClXEbonBnvPwyz1UZ6zAxAlspKWMc+EEAXG9ro4WwjQI+8vBUh4gpA14DX9evkJkADn7Z5I1UMQO2bRy8S/hJA6z5N23FOCECwH17EnzsIQIupmEGMDfc/tR6iVd6z6T+IOhT0KvT4P6tBXGzDRxBA9eCoGZNlBkCY/vfqdVgNQFFk16kzmA1A8Fp9YIOiDUCRnAiKX1ggQMghDlireBFA0UCsJ0anA0C3UfPmczAQQDlN5iiPbAlAcPQnst5f/T+emtdUZ0kRQIk1c6e4FwpAzZY47OI+FUA23eShBSYDQPjjc4pIMP0/fBL1XYKk+T8J8tlg+IsaQAnvFJJWqCJAaxvdJZScFEDepf8L2kABQE+6qwyOWhdAw5LqxKFVAkAphDPwTWcJQIvVs3skaQJAA5dnbhmbGEBHCiEsV30LQNVSoZ+xFQFAY46GOEPMFkBT5ftNQWURQOUnLl2/Zz5ANkGNJTH2EECdJufdyVoIQBBOsQVWrBNAnHAU2H0i/z+jEVeukOgVQLgPp/HtRQ5AvG8G9RT4EUD1KVn7a+gVQOU/nbrb9P0/E7rlpSicBECNua1ThH4XQMMzr+oYZfg/W34LdkdEL0D7HQdsTAoKQDOC2bm2mBJASVnETVNIEUDN9LBj51IOQDPVE+bwhAZA8KWhFCqpBUBM15Ze+jMMQKAmnI3jFQxA9VKZq8x+BkDSNKsQDpAQQMdGWhWxTQ5A68YOEAmlBUBj1tCdJG0SQLrKxLpwKRBAsYmi5+6VEUAZDX3c6kb5PwtEPL02MBFA90Nc51v1EEC7IoyM4KgMQIBvH91nNw1A59QuQ11TDUCXb03jIR8QQOfS4R61eBBAN7rA4JSBFUD0iQJRdIQOQKt4ya9DNy1A3VOs2xYBDUD95IhemloRQCneCbZcBAtAJQ71phQGD0BNSBmAKtUMQE4PEP8QJxJASVfxMIejDUBliBtkT8IMQJFsquq2HhFANuIH3dvUEEBzc/aF2wrAP0jG8PqAIQ1Apc/RaVw1IEBR0QvmtkYRQAm86XOnNhBAOPFeKNmGIkBRIE6oZGgfQGBbtsRzvR5AU28/UcVZHUChKsYffBIWQO2EYi/4Fx5A60SU4WrpBUDrEK+rezcZQJDqPONjbARA6wKIWS0bGkALI1iO6z0XQIEerfq9EBtAyyMrHcRlGEAj8HTMMy4cQE0mTO15dyBAuS2aTxgsCEAtl7PyX1cdQC18CXAfEBlAb2yjlvmICUBde7Y08HAaQAkIKt0w7xxAvVIYK4F3HkD6JoJ8gR5AQD3lIsb6LSBA3JXfcexnFECNiYmQp38IQCSBQUchaRxAMNi+ABavG0B/CMry7L8gQNGGBPivGCFAQ2mWoYDfGECxwxGSiGYcQGxr/kOVmwpAzc0WbjULH0D/JM+ggUa4P3wipw9IbCVAnRAhMw8EGkCgdXjmM7kEQDPwz4LBphNAFQZmbqZPAECpQbPR7HsCQFVZXXRk6QpA7yI3uSB8F0CRf+/6RdH8PxzMh0qZWvo/bZFCKXny+D+celXlTD4HQNQdop5qHRBA3cRfr38eGUAI0ECIF8X2Px9Tl730oRpA5Z2pLKvr/z9FdiuvtQEJQHHZTJyHgAJAtAvfzkayFECHvJVo6XwFQFmke0ppxfs/S8eoXqlCEkBg2dxFlwQhQCDtGVrwridAR9iYyplFF0DVJZiyW3MIQOrQtxrfwgBA5ZxHc1eQAECPnl812xwPQHnEKbrIowpAHRbbZ1akEUDcEKD00uAWQLxzvGQcOfc/3aJ7dn9GBUDtN84F0CwaQJ8uHlnjBOo/HBlYci2TJkAzimdcNl4NQK0p+UCpNRhA85Xwa8hNHkARCC5IQLwaQCWP0pvyshBAIbeVc7duEUAV0UyYM5EUQNuob/B0jxZARRcuSayoGEA5VzJQhKIXQKzATs+4pAxANyYl5XwzGEAbLGrERFgbQMPF5KuWERhAMJuouVtPF0DxyWNgr4ESQFVd1BtDIBlAIJnrxQYvDUC9hkKBARwYQLAVALl/VhZAAR8ynIgCGEC33/OlM00TQDxA/JNPlRpADkICEAaCLECfJVxKpuAXQJ1vMcUIrBlA6YAP7uGsF0BZqphdYIsWQAqc/kSChBFAo1aJ9u7bGEAl6EjcCwERQEiDD2M5bhlA8I+MZPBKF0Bgkzx5G9sRQNCvS/H2OBhA5QzOWnAdGEDVohFz4JsOQLQ4CIYGISZAlZvJQmJBEUA=\",\"dtype\":\"float64\",\"order\":\"little\",\"shape\":[334]},\"Percent Positive Scaled\":{\"__ndarray__\":\"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\",\"dtype\":\"float64\",\"order\":\"little\",\"shape\":[334]},\"Plate\":{\"__ndarray__\":\"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\",\"dtype\":\"float64\",\"order\":\"little\",\"shape\":[334]},\"Receptor\":[\"Abcb1a\",\"Abcg2\",\"Acvrl1\",\"Adgrl4\",\"App\",\"Car4\",\"Cd34\",\"Cdh5\",\"Cldn5\",\"Clec2d\",\"Clic1\",\"Clic4\",\"Eng\",\"Esam\",\"Fcgrt\",\"Flt1\",\"Ifitm2\",\"Ifitm3\",\"Igf1r\",\"Itm2b\",\"Kdr\",\"Kitl\",\"Ly6a\",\"Ly6c1\",\"Ly6e\",\"Ocln\",\"Paqr5\",\"Pecam1\",\"Podxl\",\"Prom1\",\"Serinc3\",\"Slc22a8\",\"Slc2a1\",\"Slc6a6\",\"Slc7a1\",\"Slco1a4\",\"Slco1c1\",\"Tek\",\"Abcb1a\",\"Abcg2\",\"Acvrl1\",\"App\",\"Car4\",\"Cd34\",\"Cdh5\",\"Clec2d\",\"Clic1\",\"Clic4\",\"Eng\",\"Fcgrt\",\"Ifitm2\",\"Igf1r\",\"Itm2b\",\"Kitl\",\"Ly6a\",\"Ly6c1\",\"Ly6e\",\"Ocln\",\"Paqr5\",\"Podxl\",\"Prom1\",\"Serinc3\",\"Slc22a8\",\"Slc6a6\",\"Slc7a1\",\"Slco1c1\",\"Tek\",\"Abcb1a\",\"Abcg2\",\"Acvrl1\",\"Adgrf5\",\"Adgrl4\",\"App\",\"Car4\",\"Cd34\",\"Cdh5\",\"Cldn5\",\"Clec2d\",\"Clic1\",\"Clic4\",\"Eng\",\"Esam\",\"Fcgrt\",\"Flt1\",\"Ifitm2\",\"Ifitm3\",\"Igf1r\",\"Itm2b\",\"Kdr\",\"Kitl\",\"Ly6a\",\"Ly6c1\",\"Ly6e\",\"Ocln\",\"Paqr5\",\"Pecam1\",\"Podxl\",\"Prom1\",\"Serinc3\",\"Slc22a8\",\"Slc2a1\",\"Slc6a6\",\"Slc7a1\",\"Slco1a4\",\"Slco1c1\",\"Tek\",\"Abcb1a\",\"Abcg2\",\"Acvrl1\",\"Adgrf5\",\"Adgrl4\",\"App\",\"Car4\",\"Cd34\",\"Cdh5\",\"Cldn5\",\"Clec2d\",\"Clic1\",\"Clic4\",\"Eng\",\"Esam\",\"Fcgrt\",\"Flt1\",\"Ifitm2\",\"Igf1r\",\"Itm2b\",\"Kdr\",\"Kitl\",\"Ly6a\",\"Ly6c1\",\"Ly6e\",\"Ocln\",\"Paqr5\",\"Pecam1\",\"Podxl\",\"Prom1\",\"Serinc3\",\"Slc22a8\",\"Slc2a1\",\"Slc6a6\",\"Slc7a1\",\"Slco1a4\",\"Slco1c1\",\"Tek\",\"Abcb1a\",\"Abcg2\",\"Acvrl1\",\"Adgrl4\",\"App\",\"Car4\",\"Cd34\",\"Cdh5\",\"Cldn5\",\"Clec2d\",\"Clic1\",\"Clic4\",\"Eng\",\"Esam\",\"Fcgrt\",\"Flt1\",\"Ifitm2\",\"Ifitm3\",\"Igf1r\",\"Itm2b\",\"Kdr\",\"Kitl\",\"Ly6a\",\"Ly6c1\",\"Ly6e\",\"Ocln\",\"Paqr5\",\"Pecam1\",\"Podxl\",\"Prom1\",\"Serinc3\",\"Slc22a8\",\"Slc2a1\",\"Slc6a6\",\"Slc7a1\",\"Slco1a4\",\"Slco1c1\",\"Tek\",\"Abcb1a\",\"Abcg2\",\"Acvrl1\",\"Adgrf5\",\"Adgrl4\",\"App\",\"Car4\",\"Cd34\",\"Cdh5\",\"Cldn5\",\"Clec2d\",\"Clic1\",\"Clic4\",\"Eng\",\"Esam\",\"Fcgrt\",\"Flt1\",\"Ifitm2\",\"Ifitm3\",\"Igf1r\",\"Itm2b\",\"Kdr\",\"Kitl\",\"Ly6a\",\"Ly6c1\",\"Ly6e\",\"Ocln\",\"Paqr5\",\"Pecam1\",\"Podxl\",\"Prom1\",\"Serinc3\",\"Slc22a8\",\"Slc2a1\",\"Slc6a6\",\"Slc7a1\",\"Slco1a4\",\"Slco1c1\",\"Tek\",\"Abcb1a\",\"Abcg2\",\"Acvrl1\",\"Adgrl4\",\"App\",\"Car4\",\"Cd34\",\"Cdh5\",\"Cldn5\",\"Clec2d\",\"Clic1\",\"Clic4\",\"Eng\",\"Esam\",\"Fcgrt\",\"Flt1\",\"Ifitm2\",\"Ifitm3\",\"Igf1r\",\"Itm2b\",\"Kdr\",\"Kitl\",\"Ly6a\",\"Ly6c1\",\"Ly6e\",\"Ocln\",\"Paqr5\",\"Pecam1\",\"Podxl\",\"Prom1\",\"Serinc3\",\"Slc22a8\",\"Slc2a1\",\"Slc6a6\",\"Slc7a1\",\"Slco1a4\",\"Slco1c1\",\"Tek\",\"Abcb1a\",\"Acvrl1\",\"Adgrl4\",\"App\",\"Car4\",\"Cd34\",\"Cdh5\",\"Cldn5\",\"Clec2d\",\"Clic1\",\"Clic4\",\"Eng\",\"Esam\",\"Fcgrt\",\"Flt1\",\"Ifitm2\",\"Ifitm3\",\"Igf1r\",\"Itm2b\",\"Kdr\",\"Kitl\",\"Ly6a\",\"Ly6c1\",\"Ly6e\",\"Ocln\",\"Paqr5\",\"Pecam1\",\"Podxl\",\"Prom1\",\"Serinc3\",\"Slc22a8\",\"Slc2a1\",\"Slc6a6\",\"Slc7a1\",\"Slco1a4\",\"Slco1c1\",\"Tek\",\"Abcb1a\",\"Abcg2\",\"Acvrl1\",\"Adgrf5\",\"Adgrl4\",\"App\",\"Car4\",\"Cd34\",\"Cdh5\",\"Cldn5\",\"Clec2d\",\"Clic1\",\"Clic4\",\"Eng\",\"Esam\",\"Fcgrt\",\"Flt1\",\"Ifitm2\",\"Igf1r\",\"Itm2b\",\"Kdr\",\"Kitl\",\"Ly6a\",\"Ly6c1\",\"Ly6e\",\"Ocln\",\"Paqr5\",\"Pecam1\",\"Podxl\",\"Prom1\",\"Serinc3\",\"Slc22a8\",\"Slc2a1\",\"Slc6a6\",\"Slc7a1\",\"Slco1a4\",\"Slco1c1\",\"Tek\"],\"Round\":{\"__ndarray__\":\"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\",\"dtype\":\"float64\",\"order\":\"little\",\"shape\":[334]},\"Signal Area\":{\"__ndarray__\":\"q6qqqqrGuUCrqqqqKhPAQKuqqqqqxq5Aq6qqqqpvsEAAAAAAABSrQAAAAACAxMFAAAAAAADHxkCrqqqqKmGwQAAAAAAAf7FAVVVVVdWusEAAAAAAAKarQAAAAAAAzbBAVVVVVVVgxkAAAAAAAICrQKuqqqoqHMlAVVVVVVXuuUBVVVVVVe+iQFVVVVVVk7RAVVVVVdUzx0CrqqqqKtK0QFVVVVVVRbJAq6qqqqqquEAAAAAAgPO/QFVVVVV1u+hAVVVVVVVfvkAAAAAAABS3QFVVVVVVOZ5Aq6qqqqrtsEAAAAAAALyzQAAAAAAAwaxAVVVVVVUVtUBVVVVVVR/FQFVVVVVVnatAq6qqqqq/tEBVVVVVVTXJQFVVVVVV/6tAVVVVVTXu0UAAAAAAgETBQKuqqqoqp7tAVVVVVVVtwECrqqqqqqC2QFVVVVVVVrJAq6qqqqrfykBVVVVV1bfJQFVVVVUVM8BAq6qqqqpDvEAAAAAAAHC+QAAAAAAAcLtAVVVVVdVvx0CrqqqqqnvHQFVVVVVV07lAAAAAAIBCxUBVVVVVVfK4QFVVVVVVPb5AchzHcZx90kCrqqqqKhPAQFVVVVVVur1Aq6qqqqrDy0AAAAAAAJqnQAAAAAAAdbpAq6qqqqo9s0Crqqqqqu67QFVVVVXV+8dAVVVVVdUrtkBVVVVV1fnHQKuqqqpqNNNAAAAAAIABy0AAAAAAAE66QKuqqqqqbb1Aq6qqqipVwEBVVVVVVT68QAAAAAAA+LxAVVVVVVW4uEBVVVVVVRu/QFVVVVXVBMNAAAAAAADfvUCrqqqqql++QFVVVVXVNcJAq6qqqqrduUBVVVVVVV63QAAAAAAAjLxAVVVVVVUnv0Crqqqqqtu5QFVVVVVVrMNAVVVVVVW+uEAAAAAAAIu8QAAAAAAAQ7lAq6qqqiq2wkAAAAAAAAq7QKuqqqqqWLhAq6qqqqpI1UAAAAAAAJC6QKuqqqoqWsFAVVVVVVVSvUCrqqqqqge7QKuqqqqqd8FAq6qqqqrcuUBVVVVVVR+xQAAAAAAAtrZAq6qqqiofwEAAAAAAAFG8QFVVVVVV5bVAVVVVVVWYv0BVVVVVVZGUQKuqqqoqadBAq6qqqqqDuEBVVVVVVU25QAAAAAAABKdAq6qqqqoav0Crqqqqqu+9QFVVVVVVWrdAq6qqqqrkoUCrqqqqqrrDQKuqqqoqFcBAq6qqqqrAvECrqqqqqr21QAAAAAAAOr5AAAAAAADWpEAAAAAAgG7GQFVVVVVV97tAAAAAAAD8tkAAAAAAAHi9QKuqqqqq57ZAAAAAAAAbt0AAAAAAAFibQAAAAAAA6LxAVVVVVVV8uUBVVVVV1V7FQDMzMzMzcLdAAAAAAMD/2UAAAAAAAEOtQKuqqqqqisFAq6qqqqp0tEAAAAAAABW2QAAAAAAA6qNAVVVVVVUVhUAAAAAAAOqjQAAAAAAAlr9AAAAAAABStUCrqqqqqju6QAAAAAAAy7lAq6qqqqozuEAAAAAAwHXQQFVVVVVVq71AAAAAAAAEtECrqqqqqsKiQAAAAAAAGKZAq6qqqqrmp0CrqqqqqlCqQKuqqqqqebpAq6qqqipJxkCrqqqqKgq0QKuqqqqqaq1AVVVVVVWQrEAAAAAAAI65QKuqqqoq38JAVVVVVdXew0CrqqqqqlauQAAAAACAPMVAAAAAAADIs0BVVVVVVWGsQKuqqqqqj7FAq6qqqqrWxEBVVVVVVQC9QKuqqqqqoq9AAAAAAADzuUCrqqqq6u24QAAAAADg6+ZAq6qqqiqwskAAAAAAAPS2QFVVVVXVVbBAAAAAAADcrkBVVVVVVR26QAAAAAAAeKlAVVVVVVXcskCrqqqqKgHDQFVVVVVVqa5AVVVVVVXyskAAAAAAgJfFQFVVVVVVFaVAAAAAAIAY20Crqqqqqkq8QFVVVVVVTMBAq6qqqqrpsEAAAAAAALS/QFVVVVVVnLtAq6qqqqqStUCrqqqqqkO5QKuqqqqq6LhAq6qqqqpMs0AAAAAAgDXBQKuqqqqqKLxAVVVVVVVOtkCrqqqqqnK7QKuqqqqqSsBAAAAAAIB3wkBVVVVVVRGZQAAAAAAAUMFAAAAAAAB0u0AAAAAAAJK8QFVVVVVVQr1Aq6qqqqqwtEAAAAAAABfAQAAAAACAjL9Aq6qqqqrFvUBERERERKy3QKuqqqpqW9pAAAAAAIBbsECrqqqqKjLCQAAAAAAAertAq6qqqqrgvUBVVVVVVXiyQAAAAACAvLhAAAAAAADctUBVVVVVVdGxQKuqqqqqTMBAq6qqqqr+vUBVVVVVVVVuQFVVVVVVjbhAVVVVVdWkz0BVVVVVVWm7QAAAAAAAh75AAAAAAABmxkCrqqqqqo+8QAAAAAAAQMxAq6qqqqqytUCrqqqqqqLGQAAAAAAAVc5Aq6qqqqqDt0BVVVVV1SnJQAAAAAAAbbZAq6qqqqp9uEBVVVVVVd21QKuqqqqq78hAVVVVVVXFxEAAAAAAgNDKQAAAAACAvsxAAAAAAADMqEBVVVVVVX3MQAAAAAAAislAq6qqqipwuECrqqqqKujKQFVVVVVVqL1AVVVVVXXoxkBVVVVVlRzrQAAAAAAAtsFAq6qqqiqFxECrqqqqqkypQKuqqqqqrMxAq6qqqqopvkCrqqqqqq22QFVVVVXVhsBAq6qqqqrLxkBVVVVVVRLNQAAAAACA7LlAq6qqqqpry0BVVVVVVXViQAAAAACAt9JAVVVVVVU7yUCrqqqqKjG2QKuqqqqqk7NAVVVVVVXDqkBVVVVVVUGaQFVVVVVVTrtAVVVVVVXeyECrqqqqquivQAAAAAAAqKhAAAAAAADErkCrqqqqqhCpQAAAAAAAVKtAVVVVVVVsxkBVVVVVVUGgQKuqqqqqKMZAAAAAAACAqEBVVVVVVbunQAAAAAAAh7FAAAAAAID7wkBVVVVVVauzQFVVVVVVM69AAAAAAACJskAAAAAAoOfHQAAAAACggNJAVVVVVVW3u0BVVVVVVb+2QFVVVVVVt6BAq6qqqqqasECrqqqqqrCwQFVVVVVVmZpAAAAAAACuq0CrqqqqqkfDQKuqqqqqhKdAq6qqqqphtUCrqqqqKvTHQAAAAAAAqJRAVVVVVXVy00CrqqqqqvG/QAAAAABAFsdAAAAAAIA3wUAAAAAAALO/QKuqqqqq9b5AVVVVVVVkvkBVVVVV1fW1QAAAAACAy8VAVVVVVVU/xUAAAAAAAJ/IQAAAAAAAkblAq6qqqmpBx0Crqqqqqp+9QFVVVVXVlblAAAAAAADwwkCrqqqqqibEQAAAAAAAAcZAAAAAAAAFv0AAAAAAAJ+9QAAAAADAbcFAVVVVVVUhxUCrqqqqKpi9QFVVVVVVz7hAzczMzKy50UBVVVVVlS/AQFVVVVVVx79AVVVVVdUuxkBVVVVVVQu7QAAAAAAA7b5Aq6qqqirBu0AAAAAAAEGuQAAAAACA77pAAAAAAMDHwkAAAAAAAJvCQAAAAAAAKMVAAAAAAIDaxEAAAAAAAE+5QFVVVVW1TtNAVVVVVdUEvEA=\",\"dtype\":\"float64\",\"order\":\"little\",\"shape\":[334]},\"Total Brightness\":{\"__ndarray__\":\"gzDbhTBXi0D4ok34ok2MQPynUv2nsnZAuQ9lug/VdEBA65VA6zV3QBAODg4O9o1AYGFhYWEhnUCL4TaM4XZ5QMFrFsFr9nxA09TU1NSMe0CrVP+pVC95QHNzc3Nz83lAp/pPpfpDmUCcmpqamop1QOM2jOE2rJhACAgICAhAhUAle9Ale5BzQB1yxxxyR4BAzMzMzMywlUDFxsbGxkaDQBxxxhtxxnlAJSUlJSVdg0AxhtswhiqQQK+urq7uI9tArVkEr1mAj0BI851I82WDQIgx3IYxjGpAt2ALtmDrd0DQeiXQegV9QIiJiYmJzXNAWVlZWVkZfkDf39/f3/OTQIEq1X8qdXRAHHDFGnDZgkBrFL9pFCObQB3HcRzHMXNA29nZ2dlIrUB1Is13IgWOQAsLCwsLe5FAhC3Ygi0gk0D8+/v7+wuIQMcdc8gdq4JAmZmZmZmBo0Agy3Ugy7ujQOHe3t7ePJZAycrKysp6l0Dj4eHh4UGTQLRgC7Zg841ACV6zCF6PoECdnp6enl6dQDWL4DWL2IpAwGsWwWvum0DDGG7DGLKNQCyB1iuBvo1AOazIjwEtuUDXLYPYLUOVQHEcx3EcAZFAMduFMNvBpEC1tbW1taV4QJSUlJSUxIlAchvGcBuWgEAFCAgICOiPQMHDw8PDf55AJXzRJny1i0B80SZ80cqgQH0n0nwn6bJA6ZQ/6pT1pEB7zyR6z6yEQBQVFRUVuZBAy8vLy8uLjEBBQ0NDQ9uJQIWEhISEfIdAbRjDbRjLgkCVP+qUP+KLQJ/1SqD1YpVA6efn5+efi0AddMkedAmGQOTi4uLiUpBAUVFRUVHhjkDMdyLNdwqIQB3Ich3IGotA3TCG2zDmiUAwg9gtg+iCQHl4eHh42I1A2dnZ2dlhhEC1C2G2C9mHQFNSUlJSYoZAlek+lOlujUBBQUFBQQGIQMsgdssgfotAInbLIPZOv0Afy3Ugy52SQBupjMVTp5RAXV5eXl5mh0DAFWvAFdOGQFOp/lOp3o1Az87Ozs5+iUDkjjnkjvl8QH0o030oY4NA1YAr1oDbjUCAKtV/KnWCQMEVa8AVc4hAUKX6T6W6jUAZGxsbG5tbQC8uLi4ujKhA70OZ7kN5g0DfM4neM9mPQFUCrVcCLXpA1YAr1oA/k0AZxG4ZxNaTQB/LdSDL/YhAplD7pVAbc0BUqf5TqSKaQKFK9Z9KOZVAbW5ubm72kUCELtmDLrGGQEtLS0tLT5BAZmNjY2PTdUCJM96IMyirQLYLYbYLxZFABa9ZBK85h0CbRvGbRrmRQNXU1NTUFIdAPeaQO+bwikDt6+vr66twQOI1i+A1g5FA1dTU1NRUi0ATab4TaQanQCoqKioqwotA34o14ArVw0BwG8ZwGxqBQBW+aBO+kJZAKSoqKio6h0BcB7JcB5KHQF2xBlyxxndAO5DlOpBlVkAREhISEhJ4QKRO+aNOrZZA//39/f3dhUCT5zyS55CQQFitAlitWpBAPDs7OztDh0CFg4ODgy+rQEec8UacHZJAXwm0XglEhECrqqqqqkpqQEed8kedknFA9Umf9Em/bUDynEfynPdzQJDmO5Hma4VAtFwHslyvmkAfyHIdyAaGQEFAQEBAgHRAM4jdMogtd0CjoqKiovKGQG3DGG7DUJdALy8vLy/fkUCd8ked8jd2QNB7JtF7PpNA7+3t7e29fEB1HslzHkl7QGm/FGq/tHVAXwm0XgkIlEDm5ubm5kiQQIzfNIrfJHZAzXcizXeagkC7u7u7uw2HQNeBLNdBddlAGBgYGBhofkBdswhes8iAQIAp1H4pBIFACwwMDAxMdkBzHchyHVSQQO3t7e3tHXJAELtlELtlfkD1SZ/0STeSQCrWgCvW0HRAOTo6Ojo6gEBnvBFnvNGTQHUizXciDW1AhIKCggJ4wkB5JdB6JeCIQGxsbGxseJBAy3YhzHZxgEDw8PDw8KyRQP9WrAFXZIxA0dDQ0NAogECD1yyC11SJQBcXFxcXv4pAT6X6T6XChUATab4TafaRQAiyXAeynIhAsLCwsLDQiEATExMTExuVQAVZrgNZjpVApaenp6frl0BnZ2dnZ4diQOfl5eXl5ZJAKCkpKSnJh0C/FGq/FGqTQHFxcXFx2YlArQFXrAH/h0BISEhISOiQQN8zid4zWZBAFr9pFL85lUBAUWJzhI2GQCgnJycnPsVA0Hol0HqVf0BFRUVFRW2ZQDg6Ojo6uolAXQizXQiDi0BraWlpaYGBQDg3Nzc3t4dAuLi4uLggh0CAgICAgKiAQPhOpPlORIxAA1itAlgFkEB0yR50yR4wQKb8Uaf8+YRA0CR6zyTGpkBgX19fX4eKQPOcR/Kc3ZZAHHPIHXOUnUCHL9qEL5KKQDfhizbhZ6NAzMzMzMycg0AjISEhIfGVQE/5o075t6hAX7QJX7Qdh0D4oUz3odieQMHBwcHBcYVAs1wHslzfhkCJM96IM5aDQP2mUfymI6FADQ4ODg7Ol0BswRZswZyiQEDqlD/qvqRAGW/EGW+8c0BlELtlENGkQNgrgdYr1Z1A1X4p1H4Ni0CH3DGH3OWiQN3b29vbU4tAdXV1dXWBnkBgC7ZgSyjeQKdS/adSL5JAA61XAq2nk0BtbW1tbU12QOHf39/fG6VA0dDQ0NBgiUBcsAVbsOWAQM15JM95fI1Ara2tra0dnEBzHchyHUakQEaa70Sa35BAYWBgYGCao0AIXbIHXbIhQDmO4ziOvrFAu7q6urpelkBcsQZcsWKIQLOysrKykoBAizXgijXQcEBtbGxsbGxjQBfBaxbBO4VA7UKY7UKcm0Azit80ig94QMgdc8gds3BA6z+V6j9leED7+vr6+rp2QGAJtF4JBHpA5TuR5jtJk0CZQ+6YQy5jQNMle9AlA5ZA030o032IcECf9Emf9PlwQOno6OjoqHlA5zyS5zz6kEBB7JZB7P6AQOvq6urqunVAhdwxh9yReUC8u7u7uzeoQHXLIHZLF7lABbFbBrE7jkBzxxxyx2x/QE+i90yi12hAzXUgy3WQeEDVLILXLJJ4QHV3d3d3V2dAmULtl0J9ckCxBVuwBcuMQB3Jcx7JM3BATqT5TqTNgEBAleo/lZKXQHTJHnTJnltAP0BAQMCWsECrqampqQmXQGRkZGRkup9A0SZ80SbslEA1Nzc3N2uOQFP+qFP+cItARENDQ0OzhkAODw8PDweEQLNdCLNdkptArKysrKw8n0A134k03+SgQEFBQUFB+YRA5eTk5OQ5oUDTKH7TKLiQQAu2YAu2DIlAaxbBaxYjlkAo030o0+GTQDuQ5TqQLZxAvb6+vr6Wi0D7pVD7payKQHV1dXV1b5RAPOeRPOfrlkAp1H4p1JaIQH19fX19NYdAPQrXo/AUt0CB1iuB1iONQHt6enp6ypFABwcHBwf/lkC5DmS5DqSHQFuvBFqvBIpA9J5J9J6hi0AICAgICGB7QFxcXFxcOIdAGXDFGnCpk0Dh4ODg4MiRQM/Ozs7O6JdAMDAwMDDAmUAgdMkedNGEQN40it80s7FAiuA1i+AzkEA=\",\"dtype\":\"float64\",\"order\":\"little\",\"shape\":[334]},\"Total Brightness per Signal Area\":{\"__ndarray__\":\"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\",\"dtype\":\"float64\",\"order\":\"little\",\"shape\":[334]},\"Virus\":[\"AAV-F\",\"AAV-F\",\"AAV-F\",\"AAV-F\",\"AAV-F\",\"AAV-F\",\"AAV-F\",\"AAV-F\",\"AAV-F\",\"AAV-F\",\"AAV-F\",\"AAV-F\",\"AAV-F\",\"AAV-F\",\"AAV-F\",\"AAV-F\",\"AAV-F\",\"AAV-F\",\"AAV-F\",\"AAV-F\",\"AAV-F\",\"AAV-F\",\"AAV-F\",\"AAV-F\",\"AAV-F\",\"AAV-F\",\"AAV-F\",\"AAV-F\",\"AAV-F\",\"AAV-F\",\"AAV-F\",\"AAV-F\",\"AAV-F\",\"AAV-F\",\"AAV-F\",\"AAV-F\",\"AAV-F\",\"AAV-F\",\"CAP-B10\",\"CAP-B10\",\"CAP-B10\",\"CAP-B10\",\"CAP-B10\",\"CAP-B10\",\"CAP-B10\",\"CAP-B10\",\"CAP-B10\",\"CAP-B10\",\"CAP-B10\",\"CAP-B10\",\"CAP-B10\",\"CAP-B10\",\"CAP-B10\",\"CAP-B10\",\"CAP-B10\",\"CAP-B10\",\"CAP-B10\",\"CAP-B10\",\"CAP-B10\",\"CAP-B10\",\"CAP-B10\",\"CAP-B10\",\"CAP-B10\",\"CAP-B10\",\"CAP-B10\",\"CAP-B10\",\"CAP-B10\",\"CAP-B22\",\"CAP-B22\",\"CAP-B22\",\"CAP-B22\",\"CAP-B22\",\"CAP-B22\",\"CAP-B22\",\"CAP-B22\",\"CAP-B22\",\"CAP-B22\",\"CAP-B22\",\"CAP-B22\",\"CAP-B22\",\"CAP-B22\",\"CAP-B22\",\"CAP-B22\",\"CAP-B22\",\"CAP-B22\",\"CAP-B22\",\"CAP-B22\",\"CAP-B22\",\"CAP-B22\",\"CAP-B22\",\"CAP-B22\",\"CAP-B22\",\"CAP-B22\",\"CAP-B22\",\"CAP-B22\",\"CAP-B22\",\"CAP-B22\",\"CAP-B22\",\"CAP-B22\",\"CAP-B22\",\"CAP-B22\",\"CAP-B22\",\"CAP-B22\",\"CAP-B22\",\"CAP-B22\",\"CAP-B22\",\"PHP.C1\",\"PHP.C1\",\"PHP.C1\",\"PHP.C1\",\"PHP.C1\",\"PHP.C1\",\"PHP.C1\",\"PHP.C1\",\"PHP.C1\",\"PHP.C1\",\"PHP.C1\",\"PHP.C1\",\"PHP.C1\",\"PHP.C1\",\"PHP.C1\",\"PHP.C1\",\"PHP.C1\",\"PHP.C1\",\"PHP.C1\",\"PHP.C1\",\"PHP.C1\",\"PHP.C1\",\"PHP.C1\",\"PHP.C1\",\"PHP.C1\",\"PHP.C1\",\"PHP.C1\",\"PHP.C1\",\"PHP.C1\",\"PHP.C1\",\"PHP.C1\",\"PHP.C1\",\"PHP.C1\",\"PHP.C1\",\"PHP.C1\",\"PHP.C1\",\"PHP.C1\",\"PHP.C1\",\"PHP.C2\",\"PHP.C2\",\"PHP.C2\",\"PHP.C2\",\"PHP.C2\",\"PHP.C2\",\"PHP.C2\",\"PHP.C2\",\"PHP.C2\",\"PHP.C2\",\"PHP.C2\",\"PHP.C2\",\"PHP.C2\",\"PHP.C2\",\"PHP.C2\",\"PHP.C2\",\"PHP.C2\",\"PHP.C2\",\"PHP.C2\",\"PHP.C2\",\"PHP.C2\",\"PHP.C2\",\"PHP.C2\",\"PHP.C2\",\"PHP.C2\",\"PHP.C2\",\"PHP.C2\",\"PHP.C2\",\"PHP.C2\",\"PHP.C2\",\"PHP.C2\",\"PHP.C2\",\"PHP.C2\",\"PHP.C2\",\"PHP.C2\",\"PHP.C2\",\"PHP.C2\",\"PHP.C2\",\"PHP.C3\",\"PHP.C3\",\"PHP.C3\",\"PHP.C3\",\"PHP.C3\",\"PHP.C3\",\"PHP.C3\",\"PHP.C3\",\"PHP.C3\",\"PHP.C3\",\"PHP.C3\",\"PHP.C3\",\"PHP.C3\",\"PHP.C3\",\"PHP.C3\",\"PHP.C3\",\"PHP.C3\",\"PHP.C3\",\"PHP.C3\",\"PHP.C3\",\"PHP.C3\",\"PHP.C3\",\"PHP.C3\",\"PHP.C3\",\"PHP.C3\",\"PHP.C3\",\"PHP.C3\",\"PHP.C3\",\"PHP.C3\",\"PHP.C3\",\"PHP.C3\",\"PHP.C3\",\"PHP.C3\",\"PHP.C3\",\"PHP.C3\",\"PHP.C3\",\"PHP.C3\",\"PHP.C3\",\"PHP.C3\",\"PHP.C4\",\"PHP.C4\",\"PHP.C4\",\"PHP.C4\",\"PHP.C4\",\"PHP.C4\",\"PHP.C4\",\"PHP.C4\",\"PHP.C4\",\"PHP.C4\",\"PHP.C4\",\"PHP.C4\",\"PHP.C4\",\"PHP.C4\",\"PHP.C4\",\"PHP.C4\",\"PHP.C4\",\"PHP.C4\",\"PHP.C4\",\"PHP.C4\",\"PHP.C4\",\"PHP.C4\",\"PHP.C4\",\"PHP.C4\",\"PHP.C4\",\"PHP.C4\",\"PHP.C4\",\"PHP.C4\",\"PHP.C4\",\"PHP.C4\",\"PHP.C4\",\"PHP.C4\",\"PHP.C4\",\"PHP.C4\",\"PHP.C4\",\"PHP.C4\",\"PHP.C4\",\"PHP.C4\",\"PHP.N\",\"PHP.N\",\"PHP.N\",\"PHP.N\",\"PHP.N\",\"PHP.N\",\"PHP.N\",\"PHP.N\",\"PHP.N\",\"PHP.N\",\"PHP.N\",\"PHP.N\",\"PHP.N\",\"PHP.N\",\"PHP.N\",\"PHP.N\",\"PHP.N\",\"PHP.N\",\"PHP.N\",\"PHP.N\",\"PHP.N\",\"PHP.N\",\"PHP.N\",\"PHP.N\",\"PHP.N\",\"PHP.N\",\"PHP.N\",\"PHP.N\",\"PHP.N\",\"PHP.N\",\"PHP.N\",\"PHP.N\",\"PHP.N\",\"PHP.N\",\"PHP.N\",\"PHP.N\",\"PHP.N\",\"PHP.eB\",\"PHP.eB\",\"PHP.eB\",\"PHP.eB\",\"PHP.eB\",\"PHP.eB\",\"PHP.eB\",\"PHP.eB\",\"PHP.eB\",\"PHP.eB\",\"PHP.eB\",\"PHP.eB\",\"PHP.eB\",\"PHP.eB\",\"PHP.eB\",\"PHP.eB\",\"PHP.eB\",\"PHP.eB\",\"PHP.eB\",\"PHP.eB\",\"PHP.eB\",\"PHP.eB\",\"PHP.eB\",\"PHP.eB\",\"PHP.eB\",\"PHP.eB\",\"PHP.eB\",\"PHP.eB\",\"PHP.eB\",\"PHP.eB\",\"PHP.eB\",\"PHP.eB\",\"PHP.eB\",\"PHP.eB\",\"PHP.eB\",\"PHP.eB\",\"PHP.eB\",\"PHP.eB\"],\"Well\":{\"__ndarray__\":\"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\",\"dtype\":\"float64\",\"order\":\"little\",\"shape\":[334]},\"index\":[0,1,2,3,4,5,6,7,8,9,10,11,12,13,14,15,16,17,18,19,20,21,22,23,24,25,26,27,28,29,30,31,32,33,34,35,36,37,38,39,40,41,42,43,44,45,46,47,48,49,50,51,52,53,54,55,56,57,58,59,60,61,62,63,64,65,66,67,68,69,70,71,72,73,74,75,76,77,78,79,80,81,82,83,84,85,86,87,88,89,90,91,92,93,94,95,96,97,98,99,100,101,102,103,104,105,106,107,108,109,110,111,112,113,114,115,116,117,118,119,120,121,122,123,124,125,126,127,128,129,130,131,132,133,134,135,136,137,138,139,140,141,142,143,144,145,146,147,148,149,150,151,152,153,154,155,156,157,158,159,160,161,162,163,164,165,166,167,168,169,170,171,172,173,174,175,176,177,178,179,180,181,182,183,184,185,186,187,188,189,190,191,192,193,194,195,196,197,198,199,200,201,202,203,204,205,206,207,208,209,210,211,212,213,214,215,216,217,218,219,220,221,222,223,224,225,226,227,228,229,230,231,232,233,234,235,236,237,238,239,240,241,242,243,244,245,246,247,248,249,250,251,252,253,254,255,256,257,258,259,260,261,262,263,264,265,266,267,268,269,270,271,272,273,274,275,276,277,278,279,280,281,282,283,284,285,286,287,288,289,290,291,292,293,294,295,296,297,298,299,300,301,302,303,304,305,306,307,308,309,310,311,312,313,314,315,316,317,318,319,320,321,322,323,324,325,326,327,328,329,330,331,332,333]},\"selected\":{\"id\":\"1303\"},\"selection_policy\":{\"id\":\"1302\"}},\"id\":\"1230\",\"type\":\"ColumnDataSource\"},{\"attributes\":{},\"id\":\"1296\",\"type\":\"CategoricalTickFormatter\"},{\"attributes\":{\"fill_color\":{\"field\":\"Total Brightness per Signal Area\",\"transform\":{\"id\":\"1261\"}},\"line_color\":{\"value\":\"#1f77b4\"},\"size\":{\"field\":\"Percent Positive\"},\"x\":{\"field\":\"Virus\"},\"y\":{\"field\":\"Receptor\"}},\"id\":\"1265\",\"type\":\"Scatter\"},{\"attributes\":{},\"id\":\"1303\",\"type\":\"Selection\"},{\"attributes\":{},\"id\":\"1252\",\"type\":\"HelpTool\"},{\"attributes\":{},\"id\":\"1237\",\"type\":\"CategoricalScale\"},{\"attributes\":{\"callback\":null,\"tooltips\":[[\"Round\",\"@Round\"],[\"Plate\",\"@Plate\"],[\"Well\",\"@Well\"],[\"Virus\",\"@Virus\"],[\"Receptor\",\"@Receptor\"],[\"Dose\",\"@Dose\"]]},\"id\":\"1270\",\"type\":\"HoverTool\"},{\"attributes\":{},\"id\":\"1239\",\"type\":\"CategoricalScale\"},{\"attributes\":{\"axis\":{\"id\":\"1244\"},\"coordinates\":null,\"dimension\":1,\"group\":null,\"ticker\":null},\"id\":\"1246\",\"type\":\"Grid\"},{\"attributes\":{},\"id\":\"1301\",\"type\":\"AllLabels\"},{\"attributes\":{\"coordinates\":null,\"formatter\":{\"id\":\"1296\"},\"group\":null,\"major_label_policy\":{\"id\":\"1297\"},\"ticker\":{\"id\":\"1245\"}},\"id\":\"1244\",\"type\":\"CategoricalAxis\"},{\"attributes\":{\"coordinates\":null,\"data_source\":{\"id\":\"1230\"},\"glyph\":{\"id\":\"1265\"},\"group\":null,\"hover_glyph\":null,\"muted_glyph\":{\"id\":\"1267\"},\"nonselection_glyph\":{\"id\":\"1266\"},\"view\":{\"id\":\"1269\"}},\"id\":\"1268\",\"type\":\"GlyphRenderer\"},{\"attributes\":{},\"id\":\"1248\",\"type\":\"WheelZoomTool\"},{\"attributes\":{\"factors\":[\"Tek\",\"Slco1c1\",\"Slco1a4\",\"Slc7a1\",\"Slc6a6\",\"Slc2a1\",\"Slc22a8\",\"Serinc3\",\"Prom1\",\"Podxl\",\"Pecam1\",\"Paqr5\",\"Ocln\",\"Ly6e\",\"Ly6c1\",\"Ly6a\",\"Kitl\",\"Kdr\",\"Itm2b\",\"Igf1r\",\"Ifitm3\",\"Ifitm2\",\"Flt1\",\"Fcgrt\",\"Esam\",\"Eng\",\"Clic4\",\"Clic1\",\"Clec2d\",\"Cldn5\",\"Cdh5\",\"Cd34\",\"Car4\",\"Bsg\",\"App\",\"Adgrl4\",\"Adgrf5\",\"Acvrl1\",\"Abcg2\",\"Abcb1a\"]},\"id\":\"1235\",\"type\":\"FactorRange\"},{\"attributes\":{},\"id\":\"1300\",\"type\":\"CategoricalTickFormatter\"},{\"attributes\":{\"fill_alpha\":{\"value\":0.2},\"fill_color\":{\"field\":\"Total Brightness per Signal Area\",\"transform\":{\"id\":\"1261\"}},\"hatch_alpha\":{\"value\":0.2},\"line_alpha\":{\"value\":0.2},\"line_color\":{\"value\":\"#1f77b4\"},\"size\":{\"field\":\"Percent Positive\"},\"x\":{\"field\":\"Virus\"},\"y\":{\"field\":\"Receptor\"}},\"id\":\"1267\",\"type\":\"Scatter\"},{\"attributes\":{},\"id\":\"1245\",\"type\":\"CategoricalTicker\"},{\"attributes\":{},\"id\":\"1247\",\"type\":\"PanTool\"},{\"attributes\":{\"source\":{\"id\":\"1230\"}},\"id\":\"1269\",\"type\":\"CDSView\"},{\"attributes\":{},\"id\":\"1250\",\"type\":\"SaveTool\"},{\"attributes\":{\"axis\":{\"id\":\"1241\"},\"coordinates\":null,\"group\":null,\"ticker\":null},\"id\":\"1243\",\"type\":\"Grid\"},{\"attributes\":{},\"id\":\"1251\",\"type\":\"ResetTool\"}],\"root_ids\":[\"1231\"]},\"title\":\"Bokeh Application\",\"version\":\"2.4.3\"}};\n",
       "  const render_items = [{\"docid\":\"7c07981b-4356-424f-936c-24f4f8434e66\",\"root_ids\":[\"1231\"],\"roots\":{\"1231\":\"1ce143c0-fe7a-47bc-847f-fe108b355c75\"}}];\n",
       "  root.Bokeh.embed.embed_items_notebook(docs_json, render_items);\n",
       "  }\n",
       "  if (root.Bokeh !== undefined) {\n",
       "    embed_document(root);\n",
       "  } else {\n",
       "    let attempts = 0;\n",
       "    const timer = setInterval(function(root) {\n",
       "      if (root.Bokeh !== undefined) {\n",
       "        clearInterval(timer);\n",
       "        embed_document(root);\n",
       "      } else {\n",
       "        attempts++;\n",
       "        if (attempts > 100) {\n",
       "          clearInterval(timer);\n",
       "          console.log(\"Bokeh: ERROR: Unable to run BokehJS code because BokehJS library is missing\");\n",
       "        }\n",
       "      }\n",
       "    }, 10, root)\n",
       "  }\n",
       "})(window);"
      ],
      "application/vnd.bokehjs_exec.v0+json": ""
     },
     "metadata": {
      "application/vnd.bokehjs_exec.v0+json": {
       "id": "1231"
      }
     },
     "output_type": "display_data"
    },
    {
     "name": "stdout",
     "output_type": "stream",
     "text": [
      "The most positive value is: 32.85 \n",
      "The least positive value is: 0.09 \n",
      "The brightest value is: 0.55 \n",
      "The dimmest value is: 0.06\n"
     ]
    }
   ],
   "source": [
    "p, min_pos, max_pos, min_brightness, max_brightness = cellseg.plot.bubble_plot(df_f2d_1, \n",
    "                                                                               'Virus', \n",
    "                                                                               'Receptor',\n",
    "                                                                               x_values = ['PHP.eB',\n",
    "                                                                                           'CAP-B10',\n",
    "                                                                                           'CAP-B22',\n",
    "                                                                                           'PHP.N',\n",
    "                                                                                           'PHP.C1',\n",
    "                                                                                           'PHP.C2',\n",
    "                                                                                           'PHP.C3',\n",
    "                                                                                           'PHP.C4',\n",
    "                                                                                           'AAV-F'],\n",
    "                                                                               y_values = ['Tek',\n",
    "                                                                                           'Slco1c1',\n",
    "                                                                                           'Slco1a4',\n",
    "                                                                                             'Slc7a1',\n",
    "                                                                                             'Slc6a6',\n",
    "                                                                                             'Slc2a1', \n",
    "                                                                                             'Slc22a8',\n",
    "                                                                                             'Serinc3',\n",
    "                                                                                             'Prom1',\n",
    "                                                                                             'Podxl',\n",
    "                                                                                             'Pecam1', \n",
    "                                                                                             'Paqr5', \n",
    "                                                                                             'Ocln', \n",
    "                                                                                             'Ly6e', \n",
    "                                                                                             'Ly6c1', \n",
    "                                                                                             'Ly6a', \n",
    "                                                                                             'Kitl', \n",
    "                                                                                             'Kdr', \n",
    "                                                                                             'Itm2b', \n",
    "                                                                                             'Igf1r', \n",
    "                                                                                             'Ifitm3', \n",
    "                                                                                             'Ifitm2', \n",
    "                                                                                             'Flt1', \n",
    "                                                                                             'Fcgrt', \n",
    "                                                                                             'Esam', \n",
    "                                                                                             'Eng',\n",
    "                                                                                             'Clic4', \n",
    "                                                                                             'Clic1', \n",
    "                                                                                             'Clec2d', \n",
    "                                                                                             'Cldn5', \n",
    "                                                                                             'Cdh5', \n",
    "                                                                                             'Cd34', \n",
    "                                                                                             'Car4', \n",
    "                                                                                             'Bsg', \n",
    "                                                                                             'App', \n",
    "                                                                                             'Adgrl4',\n",
    "                                                                                             'Adgrf5', \n",
    "                                                                                             'Acvrl1', \n",
    "                                                                                             'Abcg2', \n",
    "                                                                                             'Abcb1a'],\n",
    "                                                                               plot_width = 600, \n",
    "                                                                               plot_height = 1200)\n",
    "\n",
    "bokeh.io.show(p)\n",
    "\n",
    "print(\"The most positive value is: %0.2f \\nThe least positive value is: %0.2f \\nThe brightest value is: %0.2f \\nThe dimmest value is: %0.2f\" % (max_pos, min_pos, max_brightness, min_brightness))"
   ]
  },
  {
   "cell_type": "code",
   "execution_count": 12,
   "id": "8404d338-44c3-4015-acfe-c6dd0a977a6f",
   "metadata": {},
   "outputs": [],
   "source": [
    "dose_inds = df_reduced['Dose'] == 1e9\n",
    "round_inds = df_reduced['Round'].isin([7, 8, 9])\n",
    "virus_inds = df_reduced['Virus'].isin(['9P31',\n",
    "                                       '9P36'])\n",
    "\n",
    "inds = dose_inds & round_inds & virus_inds\n",
    "\n",
    "df_f2d_2 = df_reduced.loc[inds]\n",
    "\n",
    "# We can determine the mean of each of the values\n",
    "df_f2d_2 = df_f2d_2.groupby(['Virus', 'Receptor', 'Dose']).mean(numeric_only = True).reset_index()"
   ]
  },
  {
   "cell_type": "code",
   "execution_count": 13,
   "id": "46c03c36-3b68-408f-8188-bcc309928fb6",
   "metadata": {},
   "outputs": [
    {
     "data": {
      "text/html": [
       "\n",
       "  <div class=\"bk-root\" id=\"0ac162e2-8101-4945-bf62-358a16a5da33\" data-root-id=\"1361\"></div>\n"
      ]
     },
     "metadata": {},
     "output_type": "display_data"
    },
    {
     "data": {
      "application/javascript": [
       "(function(root) {\n",
       "  function embed_document(root) {\n",
       "  const docs_json = {\"5e046dde-de6a-475d-a4df-7370b9f59825\":{\"defs\":[],\"roots\":{\"references\":[{\"attributes\":{\"below\":[{\"id\":\"1371\"}],\"center\":[{\"id\":\"1373\"},{\"id\":\"1376\"}],\"height\":1200,\"left\":[{\"id\":\"1374\"}],\"output_backend\":\"svg\",\"renderers\":[{\"id\":\"1398\"}],\"right\":[{\"id\":\"1393\"}],\"title\":null,\"toolbar\":{\"id\":\"1384\"},\"width\":300,\"x_range\":{\"id\":\"1363\"},\"x_scale\":{\"id\":\"1367\"},\"y_range\":{\"id\":\"1365\"},\"y_scale\":{\"id\":\"1369\"}},\"id\":\"1361\",\"subtype\":\"Figure\",\"type\":\"Plot\"},{\"attributes\":{},\"id\":\"1377\",\"type\":\"PanTool\"},{\"attributes\":{},\"id\":\"1439\",\"type\":\"NoOverlap\"},{\"attributes\":{},\"id\":\"1438\",\"type\":\"AllLabels\"},{\"attributes\":{\"factors\":[\"Tek\",\"Slco1c1\",\"Slco1a4\",\"Slc7a1\",\"Slc6a6\",\"Slc2a1\",\"Slc22a8\",\"Serinc3\",\"Prom1\",\"Podxl\",\"Pecam1\",\"Paqr5\",\"Ocln\",\"Ly6e\",\"Ly6c1\",\"Ly6a\",\"Kitl\",\"Kdr\",\"Itm2b\",\"Igf1r\",\"Ifitm3\",\"Ifitm2\",\"Flt1\",\"Fcgrt\",\"Esam\",\"Eng\",\"Clic4\",\"Clic1\",\"Clec2d\",\"Cldn5\",\"Cdh5\",\"Cd34\",\"Car4\",\"Bsg\",\"App\",\"Adgrl4\",\"Adgrf5\",\"Acvrl1\",\"Abcg2\",\"Abcb1a\"]},\"id\":\"1365\",\"type\":\"FactorRange\"},{\"attributes\":{},\"id\":\"1367\",\"type\":\"CategoricalScale\"},{\"attributes\":{},\"id\":\"1437\",\"type\":\"CategoricalTickFormatter\"},{\"attributes\":{\"axis\":{\"id\":\"1374\"},\"coordinates\":null,\"dimension\":1,\"group\":null,\"ticker\":null},\"id\":\"1376\",\"type\":\"Grid\"},{\"attributes\":{\"color_mapper\":{\"id\":\"1391\"},\"coordinates\":null,\"group\":null,\"location\":[0,0],\"major_label_policy\":{\"id\":\"1439\"},\"ticker\":{\"id\":\"1392\"}},\"id\":\"1393\",\"type\":\"ColorBar\"},{\"attributes\":{\"factors\":[\"9P31\",\"9P36\"]},\"id\":\"1363\",\"type\":\"FactorRange\"},{\"attributes\":{},\"id\":\"1378\",\"type\":\"WheelZoomTool\"},{\"attributes\":{},\"id\":\"1442\",\"type\":\"AllLabels\"},{\"attributes\":{\"fill_alpha\":{\"value\":0.1},\"fill_color\":{\"field\":\"Total Brightness per Signal Area\",\"transform\":{\"id\":\"1391\"}},\"hatch_alpha\":{\"value\":0.1},\"line_alpha\":{\"value\":0.1},\"line_color\":{\"value\":\"#1f77b4\"},\"size\":{\"field\":\"Percent Positive\"},\"x\":{\"field\":\"Virus\"},\"y\":{\"field\":\"Receptor\"}},\"id\":\"1396\",\"type\":\"Scatter\"},{\"attributes\":{\"coordinates\":null,\"formatter\":{\"id\":\"1437\"},\"group\":null,\"major_label_policy\":{\"id\":\"1438\"},\"ticker\":{\"id\":\"1375\"}},\"id\":\"1374\",\"type\":\"CategoricalAxis\"},{\"attributes\":{},\"id\":\"1444\",\"type\":\"Selection\"},{\"attributes\":{\"bottom_units\":\"screen\",\"coordinates\":null,\"fill_alpha\":0.5,\"fill_color\":\"lightgrey\",\"group\":null,\"left_units\":\"screen\",\"level\":\"overlay\",\"line_alpha\":1.0,\"line_color\":\"black\",\"line_dash\":[4,4],\"line_width\":2,\"right_units\":\"screen\",\"syncable\":false,\"top_units\":\"screen\"},\"id\":\"1383\",\"type\":\"BoxAnnotation\"},{\"attributes\":{\"high\":0.6136580304390394,\"low\":0.11078512033503711,\"palette\":[\"#440154\",\"#440255\",\"#440357\",\"#450558\",\"#45065A\",\"#45085B\",\"#46095C\",\"#460B5E\",\"#460C5F\",\"#460E61\",\"#470F62\",\"#471163\",\"#471265\",\"#471466\",\"#471567\",\"#471669\",\"#47186A\",\"#48196B\",\"#481A6C\",\"#481C6E\",\"#481D6F\",\"#481E70\",\"#482071\",\"#482172\",\"#482273\",\"#482374\",\"#472575\",\"#472676\",\"#472777\",\"#472878\",\"#472A79\",\"#472B7A\",\"#472C7B\",\"#462D7C\",\"#462F7C\",\"#46307D\",\"#46317E\",\"#45327F\",\"#45347F\",\"#453580\",\"#453681\",\"#443781\",\"#443982\",\"#433A83\",\"#433B83\",\"#433C84\",\"#423D84\",\"#423E85\",\"#424085\",\"#414186\",\"#414286\",\"#404387\",\"#404487\",\"#3F4587\",\"#3F4788\",\"#3E4888\",\"#3E4989\",\"#3D4A89\",\"#3D4B89\",\"#3D4C89\",\"#3C4D8A\",\"#3C4E8A\",\"#3B508A\",\"#3B518A\",\"#3A528B\",\"#3A538B\",\"#39548B\",\"#39558B\",\"#38568B\",\"#38578C\",\"#37588C\",\"#37598C\",\"#365A8C\",\"#365B8C\",\"#355C8C\",\"#355D8C\",\"#345E8D\",\"#345F8D\",\"#33608D\",\"#33618D\",\"#32628D\",\"#32638D\",\"#31648D\",\"#31658D\",\"#31668D\",\"#30678D\",\"#30688D\",\"#2F698D\",\"#2F6A8D\",\"#2E6B8E\",\"#2E6C8E\",\"#2E6D8E\",\"#2D6E8E\",\"#2D6F8E\",\"#2C708E\",\"#2C718E\",\"#2C728E\",\"#2B738E\",\"#2B748E\",\"#2A758E\",\"#2A768E\",\"#2A778E\",\"#29788E\",\"#29798E\",\"#287A8E\",\"#287A8E\",\"#287B8E\",\"#277C8E\",\"#277D8E\",\"#277E8E\",\"#267F8E\",\"#26808E\",\"#26818E\",\"#25828E\",\"#25838D\",\"#24848D\",\"#24858D\",\"#24868D\",\"#23878D\",\"#23888D\",\"#23898D\",\"#22898D\",\"#228A8D\",\"#228B8D\",\"#218C8D\",\"#218D8C\",\"#218E8C\",\"#208F8C\",\"#20908C\",\"#20918C\",\"#1F928C\",\"#1F938B\",\"#1F948B\",\"#1F958B\",\"#1F968B\",\"#1E978A\",\"#1E988A\",\"#1E998A\",\"#1E998A\",\"#1E9A89\",\"#1E9B89\",\"#1E9C89\",\"#1E9D88\",\"#1E9E88\",\"#1E9F88\",\"#1EA087\",\"#1FA187\",\"#1FA286\",\"#1FA386\",\"#20A485\",\"#20A585\",\"#21A685\",\"#21A784\",\"#22A784\",\"#23A883\",\"#23A982\",\"#24AA82\",\"#25AB81\",\"#26AC81\",\"#27AD80\",\"#28AE7F\",\"#29AF7F\",\"#2AB07E\",\"#2BB17D\",\"#2CB17D\",\"#2EB27C\",\"#2FB37B\",\"#30B47A\",\"#32B57A\",\"#33B679\",\"#35B778\",\"#36B877\",\"#38B976\",\"#39B976\",\"#3BBA75\",\"#3DBB74\",\"#3EBC73\",\"#40BD72\",\"#42BE71\",\"#44BE70\",\"#45BF6F\",\"#47C06E\",\"#49C16D\",\"#4BC26C\",\"#4DC26B\",\"#4FC369\",\"#51C468\",\"#53C567\",\"#55C666\",\"#57C665\",\"#59C764\",\"#5BC862\",\"#5EC961\",\"#60C960\",\"#62CA5F\",\"#64CB5D\",\"#67CC5C\",\"#69CC5B\",\"#6BCD59\",\"#6DCE58\",\"#70CE56\",\"#72CF55\",\"#74D054\",\"#77D052\",\"#79D151\",\"#7CD24F\",\"#7ED24E\",\"#81D34C\",\"#83D34B\",\"#86D449\",\"#88D547\",\"#8BD546\",\"#8DD644\",\"#90D643\",\"#92D741\",\"#95D73F\",\"#97D83E\",\"#9AD83C\",\"#9DD93A\",\"#9FD938\",\"#A2DA37\",\"#A5DA35\",\"#A7DB33\",\"#AADB32\",\"#ADDC30\",\"#AFDC2E\",\"#B2DD2C\",\"#B5DD2B\",\"#B7DD29\",\"#BADE27\",\"#BDDE26\",\"#BFDF24\",\"#C2DF22\",\"#C5DF21\",\"#C7E01F\",\"#CAE01E\",\"#CDE01D\",\"#CFE11C\",\"#D2E11B\",\"#D4E11A\",\"#D7E219\",\"#DAE218\",\"#DCE218\",\"#DFE318\",\"#E1E318\",\"#E4E318\",\"#E7E419\",\"#E9E419\",\"#ECE41A\",\"#EEE51B\",\"#F1E51C\",\"#F3E51E\",\"#F6E61F\",\"#F8E621\",\"#FAE622\",\"#FDE724\"]},\"id\":\"1391\",\"type\":\"LinearColorMapper\"},{\"attributes\":{},\"id\":\"1372\",\"type\":\"CategoricalTicker\"},{\"attributes\":{\"overlay\":{\"id\":\"1383\"}},\"id\":\"1379\",\"type\":\"BoxZoomTool\"},{\"attributes\":{},\"id\":\"1441\",\"type\":\"CategoricalTickFormatter\"},{\"attributes\":{\"axis\":{\"id\":\"1371\"},\"coordinates\":null,\"group\":null,\"ticker\":null},\"id\":\"1373\",\"type\":\"Grid\"},{\"attributes\":{\"data\":{\"Bright Field Area\":{\"__ndarray__\":\"AAAAAJBg9kBVVVVVNfz5QAAAAAAQbf9Aq6qqqkpa/ECrqqqqGin5QKuqqqoq3fxAq6qqqvoG+kAAAAAA0K36QFVVVVVFTPtAAAAAAJBU+0AAAAAAAHr8QKuqqqpqRPtAq6qqqvJ8AUFVVVVVnU0AQVVVVVXFtfhAAAAAAPBa/UBVVVVVNdz5QAAAAACwL/9Aq6qqqrp++UBVVVVVNeL9QFVVVVWFg/lAAAAAABB7/UAAAAAAEOX7QAAAAAD47QBBVVVVVXUh/EAAAAAAEIr7QFVVVVX1NPxAHMdxHDfe+0BVVVVV5VoBQQAAAAAIgQJBq6qqqlKYAUFVVVVVNdD9QAAAAACAqgdBHMdxHO8IBEEAAAAAkD71QKuqqqpKH/9AAAAAANDE9UBVVVVVBWv7QKuqqqqK2v1AAAAAAHDi/UCrqqqqKisBQQAAAACgOvlAAAAAAPB7+UAAAAAA4BP8QKuqqqrCKwBBAAAAAPB/90CrqqqqSkP9QFVVVVV1wvhAAAAAAHBcAEEAAAAAADz/QKuqqqoaGvpAq6qqqvog/UCrqqqqqmD9QKuqqqo69/pAVVVVVdWK+0CrqqqqSp/+QFVVVVXlCv5AVVVVVQUO/EAAAAAAoNf8QKuqqqoiYwFBVVVVVcU5/kAAAAAAwD/+QKuqqqpqPPxAVVVVVbVo+0AAAAAAgLb9QAAAAAAw5fpAAAAAAIC4/EAAAAAAgOP2QAAAAAAgcPxAAAAAAGBG/ECrqqqqcikAQauqqqpKhftAq6qqqtp5/UAAAAAAQKL6QOQ4juNI7fxAAAAAAGAEAEGrqqqqPoUAQVVVVVWtXQNBAAAAALAn/kCrqqqqAjcIQVVVVVWdlQVBAAAAANBk+EBVVVVVtRb+QAAAAAAwvvlAAAAAAEAv+0BVVVVVxcH7QFVVVVVVDf5AAAAAADBj+EBVVVVVBZr4QFVVVVUF7PlAVVVVVdXx+UCrqqqqyt7/QAAAAAAgcvhAq6qqqnp3/kA=\",\"dtype\":\"float64\",\"order\":\"little\",\"shape\":[94]},\"Brinzolamide (nM)\":{\"__ndarray__\":\"AAAAAAAAAAAAAAAAAAAAAAAAAAAAAAAAAAAAAAAAAAAAAAAAAAAAAAAAAAAAAAAAAAAAAAAAAAAAAAAAAAAAAAAAAAAAAAAAAAAAAAAAAAAAAAAAAAAAAAAAAAAAAAAAAAAAAAAAAAAAAAAAAAAAAAAAAAAAAAAAAAAAAAAAAAAAAAAAAAAAAAAAAAAAAAAAAAAAAAAAAAAAAAAAAAAAAAAAAAAAAAAAAAAAAAAAAAAAAAAAAAAAAAAAAAAAAAAAAAAAAAAAAAAAAAAAAAAAAAAAAAAAAAAAAAAAAAAAAAAAAAAAAAAAAAAAAAAAAAAAAAAAAAAAAAAAAAAAAAAAAAAAAAAAAAAAAAAAAAAAAAAAAAAAAAAAAAAAAAAAAAAAAAAAAAAAAAAAAAAAAAAAAAAAAAAAAAAAAAAAAAAAAAAAAAAAAAAAAAAAAAAAAAAAAAAAAAAAAAAAAAAAAAAAAAAAAAAAAAAAAAAAAAAAAAAAAAAAAAAAAAAAAAAAAAAAAAAAAAAAAAAAAAAAAAAAAAAAAAAAAAAAAAAAAAAAAAAAAAAAAAAAAAAAAAAAAAAAAAAAAAAAAAAAAAAAAAAAAAAAAAAAAAAAAAAAAAAAAAAAAAAAAAAAAAAAAAAAAAAAAAAAAAAAAAAAAAAAAAAAAAAAAAAAAAAAAAAAAAAAAAAAAAAAAAAAAAAAAAAAAAAAAAAAAAAAAAAAAAAAAAAAAAAAAAAAAAAAAAAAAAAAAAAAAAAAAAAAAAAAAAAAAAAAAAAAAAAAAAAAAAAAAAAAAAAAAAAAAAAAAAAAAAAAAAAAAAAAAAAAAAAAAAAAAAAAAAAAAAAAAAAAAAAAAAAAAAAAAAAAAAAAAAAAAAAAAAAAAAAAAAAAAAAAAAAAAAAAAAAAAAAAAAAAAAAAAAAAAAAAAAAAAAAAAAAAAAAAAAAAAAAAAAAAAAAAAAAAAAAAAAAAAAAAAAAAAAAAAAAAAAAAAAAAAAAAAAAAAAAAAAA=\",\"dtype\":\"float64\",\"order\":\"little\",\"shape\":[94]},\"Count\":{\"__ndarray__\":\"q6qqqqoKakAAAAAAACBsQKuqqqqq6nNAVVVVVVW1bkAAAAAAAEBsQKuqqqqqOnJAq6qqqqrKbUCrqqqqqlaUQKuqqqqqim9AAAAAAACAakAAAAAAADByQAAAAAAAYG1AVVVVVVXFc0AAAAAAAIBxQFVVVVVV9WpAAAAAAACwcEAAAAAAAGBqQKuqqqqqCnJAq6qqqqqqbUAAAAAAAGBuQFVVVVVV9WlAAAAAAACwcECrqqqqqnpwQKuqqqqqunBAVVVVVVXVcUCrqqqqqkpyQKuqqqqq6mlAVVVVVVU1bkAAAAAAAJByQKuqqqqqonNAVVVVVVXVckCrqqqqqgpuQKuqqqqqCntAjuM4juPoc0BVVVVVVfVnQAAAAAAAwHJAAAAAAAAgbEAAAAAAADBwQFVVVVVVNW9AAAAAAAAgcUAAAAAAAGBxQFVVVVVVVWxAq6qqqqpqakAAAAAAAJBwQAAAAAAAMHBAq6qqqqoqfkCrqqqqqupwQAAAAAAA4GRAVVVVVVUVa0BVVVVVVVVrQKuqqqqqamtAAAAAAACgaUCrqqqqqspqQKuqqqqqymRAq6qqqqpylEBVVVVVVXVtQFVVVVVV1VxAq6qqqqqqbUCrqqqqqmpnQKuqqqqqamdAq6qqqqrqa0BVVVVVVfVpQFVVVVVVFWhAq6qqqqrKZ0BVVVVVVXVsQFVVVVVVNW5Aq6qqqqqqZ0AAAAAAAMBnQAAAAAAAgGxAAAAAAAAgbUAAAAAAAEB1QKuqqqqqim1AAAAAAABAakAAAAAAAIBsQFVVVVVVdWRAVVVVVVV1ZUBVVVVVVfVlQFVVVVVVtWhAVVVVVVXVYkAAAAAAAKBtQI7jOI7jeGhAVVVVVVV1YkCrqqqqqopnQAAAAAAAIGpAAAAAAACAa0CrqqqqqqpvQFVVVVVVNW5AVVVVVVW1a0CrqqqqqoppQFVVVVVVlWdAAAAAAADAaUCrqqqqqipqQFVVVVVVXYBAVVVVVVW1a0A=\",\"dtype\":\"float64\",\"order\":\"little\",\"shape\":[94]},\"DMSO (%)\":{\"__ndarray__\":\"AAAAAAAAAAAAAAAAAAAAAAAAAAAAAAAAAAAAAAAAAAAAAAAAAAAAAAAAAAAAAAAAAAAAAAAAAAAAAAAAAAAAAAAAAAAAAAAAAAAAAAAAAAAAAAAAAAAAAAAAAAAAAAAAAAAAAAAAAAAAAAAAAAAAAAAAAAAAAAAAAAAAAAAAAAAAAAAAAAAAAAAAAAAAAAAAAAAAAAAAAAAAAAAAAAAAAAAAAAAAAAAAAAAAAAAAAAAAAAAAAAAAAAAAAAAAAAAAAAAAAAAAAAAAAAAAAAAAAAAAAAAAAAAAAAAAAAAAAAAAAAAAAAAAAAAAAAAAAAAAAAAAAAAAAAAAAAAAAAAAAAAAAAAAAAAAAAAAAAAAAAAAAAAAAAAAAAAAAAAAAAAAAAAAAAAAAAAAAAAAAAAAAAAAAAAAAAAAAAAAAAAAAAAAAAAAAAAAAAAAAAAAAAAAAAAAAAAAAAAAAAAAAAAAAAAAAAAAAAAAAAAAAAAAAAAAAAAAAAAAAAAAAAAAAAAAAAAAAAAAAAAAAAAAAAAAAAAAAAAAAAAAAAAAAAAAAAAAAAAAAAAAAAAAAAAAAAAAAAAAAAAAAAAAAAAAAAAAAAAAAAAAAAAAAAAAAAAAAAAAAAAAAAAAAAAAAAAAAAAAAAAAAAAAAAAAAAAAAAAAAAAAAAAAAAAAAAAAAAAAAAAAAAAAAAAAAAAAAAAAAAAAAAAAAAAAAAAAAAAAAAAAAAAAAAAAAAAAAAAAAAAAAAAAAAAAAAAAAAAAAAAAAAAAAAAAAAAAAAAAAAAAAAAAAAAAAAAAAAAAAAAAAAAAAAAAAAAAAAAAAAAAAAAAAAAAAAAAAAAAAAAAAAAAAAAAAAAAAAAAAAAAAAAAAAAAAAAAAAAAAAAAAAAAAAAAAAAAAAAAAAAAAAAAAAAAAAAAAAAAAAAAAAAAAAAAAAAAAAAAAAAAAAAAAAAAAAAAAAAAAAAAAAAAAAAAAAAAAAAAAAAAAAAAAAAAAAAAAAAAAAA=\",\"dtype\":\"float64\",\"order\":\"little\",\"shape\":[94]},\"Dose\":{\"__ndarray__\":\"AAAAAGXNzUEAAAAAZc3NQQAAAABlzc1BAAAAAGXNzUEAAAAAZc3NQQAAAABlzc1BAAAAAGXNzUEAAAAAZc3NQQAAAABlzc1BAAAAAGXNzUEAAAAAZc3NQQAAAABlzc1BAAAAAGXNzUEAAAAAZc3NQQAAAABlzc1BAAAAAGXNzUEAAAAAZc3NQQAAAABlzc1BAAAAAGXNzUEAAAAAZc3NQQAAAABlzc1BAAAAAGXNzUEAAAAAZc3NQQAAAABlzc1BAAAAAGXNzUEAAAAAZc3NQQAAAABlzc1BAAAAAGXNzUEAAAAAZc3NQQAAAABlzc1BAAAAAGXNzUEAAAAAZc3NQQAAAABlzc1BAAAAAGXNzUEAAAAAZc3NQQAAAABlzc1BAAAAAGXNzUEAAAAAZc3NQQAAAABlzc1BAAAAAGXNzUEAAAAAZc3NQQAAAABlzc1BAAAAAGXNzUEAAAAAZc3NQQAAAABlzc1BAAAAAGXNzUEAAAAAZc3NQQAAAABlzc1BAAAAAGXNzUEAAAAAZc3NQQAAAABlzc1BAAAAAGXNzUEAAAAAZc3NQQAAAABlzc1BAAAAAGXNzUEAAAAAZc3NQQAAAABlzc1BAAAAAGXNzUEAAAAAZc3NQQAAAABlzc1BAAAAAGXNzUEAAAAAZc3NQQAAAABlzc1BAAAAAGXNzUEAAAAAZc3NQQAAAABlzc1BAAAAAGXNzUEAAAAAZc3NQQAAAABlzc1BAAAAAGXNzUEAAAAAZc3NQQAAAABlzc1BAAAAAGXNzUEAAAAAZc3NQQAAAABlzc1BAAAAAGXNzUEAAAAAZc3NQQAAAABlzc1BAAAAAGXNzUEAAAAAZc3NQQAAAABlzc1BAAAAAGXNzUEAAAAAZc3NQQAAAABlzc1BAAAAAGXNzUEAAAAAZc3NQQAAAABlzc1BAAAAAGXNzUEAAAAAZc3NQQAAAABlzc1BAAAAAGXNzUEAAAAAZc3NQQAAAABlzc1BAAAAAGXNzUE=\",\"dtype\":\"float64\",\"order\":\"little\",\"shape\":[94]},\"Percent Positive\":{\"__ndarray__\":\"hamV7IbmFUCNgfLd6Q4YQAGf6S76ThxAbYVujoqnFUDkbkFx1jQWQJAH69EYFBhAzE+tsuhlFUBg9AEVcqNLQCTA2kTAxRVAJbRDPTCNF0ClUfhSW0QbQG6TBdSJ2RJAMDjAKdGaF0D+SY2qDVEVQAS8LyfFahRARy+vao5IF0CfuxMAFtcRQDkxpZxC/hdAU//eskjTFUA3PkJaAXsTQIv+Wd9z/hJAY4VF41B4E0BLiCBxoQYYQB/cF+z1iRJAGW5vgwztF0DJ5DfuFAweQGElXmUEthNA8oSr2P+sF0A4fCrlm5QVQBtmjAq23hZAbBfygicBGUDYB9HSrnEaQLFyII/GzxdARMABPebHFECHKoy36GUbQIVhNnw2PhdATRjxmTrpGkCTVCCXnQ8WQNVWpjeukRJAfe6+pyr3FUBqcRxUJK4SQLSx4U/LWRRAI6lg3oYnE0BwpnnkUQ8XQF41UbY0rBNAOU0HtnkiPkD4l2nomSAWQOzEALqioQxADi1AKDkgEUDrmAIwuDoRQEmlDMTf9BBA6WhK2FkPEEAxc+HZPvoRQLV7TAzzyQhAOPx15qoOSkA47hkc0VkSQGjhOXDUYglAx+5W/UIgEkCVsjWyzz4IQFXKFlkRYgpAqdHHMyIcEECZNCaA2ygQQDuWnSNnOgxAIKvELoTZGUDfHutxfYERQAcXH/ralhJA+8Ptdrc6DkBsd2vZgYwRQN2y8S3uXhJAFOiUE/V/EkDQhuHAe9MgQC3gXPMdwxJAU6a4srPYDUCEh57gXaQVQBlmEyRdtgtAJUOpPBzODUAliiJFfNkNQFD+0ikc3xBAlF5vhnNrEUDEEIbm+VEQQNEyMHHodAlACMVodcM1DUAgFZ6/d7ALQAqhGKTG+RBAyTZi7yAuEkB9DFq9EhUUQNnxnrWHbRFAIMO9QVnME0AI7Ctsc9wTQEoEwbcX2xBAwOPBRIfcEEBpDUZNES0OQFEiy6WdvkBA0U4Bl0cFEUA=\",\"dtype\":\"float64\",\"order\":\"little\",\"shape\":[94]},\"Percent Positive Scaled\":{\"__ndarray__\":\"hamV7IbmBUCNgfLd6Q4IQAGf6S76TgxAbYVujoqnBUDkbkFx1jQGQJAH69EYFAhAzE+tsuhlBUBg9AEVcqM7QCTA2kTAxQVAJbRDPTCNB0ClUfhSW0QLQG6TBdSJ2QJAMDjAKdGaB0D+SY2qDVEFQAS8LyfFagRARy+vao5IB0CfuxMAFtcBQDkxpZxC/gdAU//eskjTBUA3PkJaAXsDQIv+Wd9z/gJAY4VF41B4A0BLiCBxoQYIQB/cF+z1iQJAGW5vgwztB0DJ5DfuFAwOQGElXmUEtgNA8oSr2P+sB0A4fCrlm5QFQBtmjAq23gZAbBfygicBCUDYB9HSrnEKQLFyII/GzwdARMABPebHBECHKoy36GULQIVhNnw2PgdATRjxmTrpCkCTVCCXnQ8GQNVWpjeukQJAfe6+pyr3BUBqcRxUJK4CQLSx4U/LWQRAI6lg3oYnA0BwpnnkUQ8HQF41UbY0rANAOU0HtnkiLkD4l2nomSAGQOzEALqiofw/Di1AKDkgAUDrmAIwuDoBQEmlDMTf9ABA6WhK2FkPAEAxc+HZPvoBQLV7TAzzyfg/OPx15qoOOkA47hkc0VkCQGjhOXDUYvk/x+5W/UIgAkCVsjWyzz74P1XKFlkRYvo/qdHHMyIcAECZNCaA2ygAQDuWnSNnOvw/IKvELoTZCUDfHutxfYEBQAcXH/ralgJA+8Ptdrc6/j9sd2vZgYwBQN2y8S3uXgJAFOiUE/V/AkDQhuHAe9MQQC3gXPMdwwJAU6a4srPY/T+Eh57gXaQFQBlmEyRdtvs/JUOpPBzO/T8liiJFfNn9P1D+0ikc3wBAlF5vhnNrAUDEEIbm+VEAQNEyMHHodPk/CMVodcM1/T8gFZ6/d7D7PwqhGKTG+QBAyTZi7yAuAkB9DFq9EhUEQNnxnrWHbQFAIMO9QVnMA0AI7Ctsc9wDQEoEwbcX2wBAwOPBRIfcAEBpDUZNES3+P1Eiy6WdvjBA0U4Bl0cFAUA=\",\"dtype\":\"float64\",\"order\":\"little\",\"shape\":[94]},\"Plate\":{\"__ndarray__\":\"AAAAAAAAAEAAAAAAAAAQQAAAAAAAABBAAAAAAAAACEAAAAAAAAAIQAAAAAAAABRAAAAAAAAAAEAAAAAAAAAIQAAAAAAAABBAAAAAAAAAIEAAAAAAAAAQQAAAAAAAAPA/AAAAAAAACEAAAAAAAAAIQAAAAAAAAAhAAAAAAAAAEEAAAAAAAAAAQAAAAAAAABRAAAAAAAAA8D8AAAAAAADwPwAAAAAAAPA/AAAAAAAAFEAAAAAAAAAIQAAAAAAAAABAAAAAAAAAFEAAAAAAAAAYQAAAAAAAAAhAVVVVVVVVBUAAAAAAAAAIQAAAAAAAAAxAAAAAAAAAFEAAAAAAAAAcQAAAAAAAABhAq6qqqqqqHkAAAAAAAAAYQAAAAAAAABRAAAAAAAAAFEAAAAAAAAAAQAAAAAAAAABAAAAAAAAAAEAAAAAAAAAQQAAAAAAAAPA/AAAAAAAAAEAAAAAAAAAUQAAAAAAAAPA/AAAAAAAAFEAAAAAAAADwPwAAAAAAAABAAAAAAAAAEEAAAAAAAAAQQAAAAAAAAAhAAAAAAAAACEAAAAAAAAAUQAAAAAAAAABAAAAAAAAACEAAAAAAAAAQQAAAAAAAACBAAAAAAAAAEEAAAAAAAADwPwAAAAAAAAhAAAAAAAAACEAAAAAAAAAIQAAAAAAAABBAAAAAAAAAAEAAAAAAAAAUQAAAAAAAAPA/AAAAAAAA8D8AAAAAAADwPwAAAAAAABRAAAAAAAAACEAAAAAAAAAAQAAAAAAAABRAAAAAAAAAGEAAAAAAAAAIQFVVVVVVVQVAAAAAAAAADEAAAAAAAAAQQAAAAAAAABRAAAAAAAAAHEAAAAAAAAAYQKuqqqqqqh5AAAAAAAAAGEAAAAAAAAAUQAAAAAAAABRAAAAAAAAAAEAAAAAAAAAAQAAAAAAAAABAAAAAAAAAEEAAAAAAAADwPwAAAAAAAABAAAAAAAAAFEAAAAAAAADwPwAAAAAAABRAAAAAAAAA8D8=\",\"dtype\":\"float64\",\"order\":\"little\",\"shape\":[94]},\"Receptor\":[\"Abcb1a\",\"Abcg2\",\"Acvrl1\",\"Adgrf5\",\"Adgrl4\",\"App\",\"Bsg\",\"Car4\",\"Cd34\",\"Cd59\",\"Cdh5\",\"Cldn5\",\"Clec2d\",\"Clic1\",\"Clic4\",\"Eng\",\"Esam\",\"Fcgrt\",\"Flt1\",\"Gmp6a\",\"Gmp6b\",\"Ifitm2\",\"Ifitm3\",\"Igf1r\",\"Itm2b\",\"Kdr\",\"Kitl\",\"Ly6a\",\"Ly6c1\",\"Ly6e\",\"Ly6h\",\"Lynx1\",\"Lypd5\",\"None\",\"Ocln\",\"Paqr5\",\"Pecam1\",\"Podxl\",\"Prom1\",\"Scnlb\",\"Serinc3\",\"Slc22a8\",\"Slc2a1\",\"Slc6a6\",\"Slco1a4\",\"Slco1c1\",\"Tek\",\"Abcb1a\",\"Abcg2\",\"Acvrl1\",\"Adgrf5\",\"Adgrl4\",\"App\",\"Bsg\",\"Car4\",\"Cd34\",\"Cd59\",\"Cdh5\",\"Cldn5\",\"Clec2d\",\"Clic1\",\"Clic4\",\"Eng\",\"Esam\",\"Fcgrt\",\"Flt1\",\"Gmp6a\",\"Gmp6b\",\"Ifitm2\",\"Ifitm3\",\"Igf1r\",\"Itm2b\",\"Kdr\",\"Kitl\",\"Ly6a\",\"Ly6c1\",\"Ly6e\",\"Ly6h\",\"Lynx1\",\"Lypd5\",\"None\",\"Ocln\",\"Paqr5\",\"Pecam1\",\"Podxl\",\"Prom1\",\"Scnlb\",\"Serinc3\",\"Slc22a8\",\"Slc2a1\",\"Slc6a6\",\"Slco1a4\",\"Slco1c1\",\"Tek\"],\"Round\":{\"__ndarray__\":\"AAAAAAAAIEAAAAAAAAAgQAAAAAAAACBAAAAAAAAAIEAAAAAAAAAgQAAAAAAAACJAAAAAAAAAIEAAAAAAAAAiQAAAAAAAACJAAAAAAAAAHEAAAAAAAAAgQAAAAAAAACBAAAAAAAAAIEAAAAAAAAAiQAAAAAAAACJAAAAAAAAAIEAAAAAAAAAgQAAAAAAAACBAAAAAAAAAIEAAAAAAAAAiQAAAAAAAACJAAAAAAAAAIkAAAAAAAAAgQAAAAAAAACJAAAAAAAAAIkAAAAAAAAAgQAAAAAAAACJAAAAAAAAAIEAAAAAAAAAgQAAAAAAAACBAAAAAAAAAHEAAAAAAAAAcQAAAAAAAABxAAAAAAAAAIEAAAAAAAAAgQAAAAAAAACJAAAAAAAAAIEAAAAAAAAAiQAAAAAAAACJAAAAAAAAAIkAAAAAAAAAiQAAAAAAAACJAAAAAAAAAIEAAAAAAAAAgQAAAAAAAACBAAAAAAAAAIEAAAAAAAAAiQAAAAAAAACBAAAAAAAAAIEAAAAAAAAAgQAAAAAAAACBAAAAAAAAAIEAAAAAAAAAiQAAAAAAAACBAAAAAAAAAIkAAAAAAAAAiQAAAAAAAABxAAAAAAAAAIEAAAAAAAAAgQAAAAAAAACBAAAAAAAAAIkAAAAAAAAAiQAAAAAAAACBAAAAAAAAAIEAAAAAAAAAgQAAAAAAAACBAAAAAAAAAIkAAAAAAAAAiQAAAAAAAACJAAAAAAAAAIEAAAAAAAAAiQAAAAAAAACJAAAAAAAAAIEAAAAAAAAAiQAAAAAAAACBAAAAAAAAAIEAAAAAAAAAgQAAAAAAAABxAAAAAAAAAHEAAAAAAAAAcQAAAAAAAACBAAAAAAAAAIEAAAAAAAAAiQAAAAAAAACBAAAAAAAAAIkAAAAAAAAAiQAAAAAAAACJAAAAAAAAAIkAAAAAAAAAiQAAAAAAAACBAAAAAAAAAIEAAAAAAAAAgQAAAAAAAACBAAAAAAAAAIkA=\",\"dtype\":\"float64\",\"order\":\"little\",\"shape\":[94]},\"Signal Area\":{\"__ndarray__\":\"VVVVVVWLs0AAAAAAADG5QAAAAACAxMFAVVVVVVWYuEBVVVVVVW22QFVVVVVVobtAq6qqqqoVtkBVVVVVdWztQFVVVVVV1rdAq6qqqqq/uUCrqqqqqhe/QAAAAAAAjbRAAAAAAAB1wEBVVVVVVde7QFVVVVVVG7RAAAAAAABXu0BVVVVVVWqyQKuqqqqqGb5AAAAAAABitkBVVVVVVXO3QAAAAAAAYbNAAAAAAABAt0BVVVVVVRC7QKuqqqqqHLlAVVVVVVXoukAAAAAAgFXAQKuqqqqqvLVAAAAAAAD7uUBVVVVVVca9QKuqqqpq+sBAAAAAAICVwUBVVVVVVY+/QFVVVVVVkMZAAAAAAIBnwEAAAAAAAEy2QFVVVVVVYr1AAAAAAABot0Crqqqqqje4QAAAAAAAGrZAq6qqqqo+ukAAAAAAAK25QKuqqqqqjbRAq6qqqqo5s0Crqqqqqu+5QFVVVVVVdblAq6qqqmpG3EBVVVVVVeK5QKuqqqqq8KtAq6qqqqpOtkBVVVVVVYG1QAAAAAAAn7FAAAAAAACzskAAAAAAAL+0QKuqqqqqmqpAq6qqqsq27EAAAAAAADK2QFVVVVVVpa5AAAAAAABZtEBVVVVVVemrQKuqqqqqWbJAVVVVVVVys0AAAAAAAJGzQFVVVVVVm69Aq6qqqqokvUBVVVVVVdC0QKuqqqqq7LNAq6qqqqpgsUCrqqqqqgOwQAAAAAAAs7RAAAAAAAADtUBVVVVV1TPFQFVVVVVVb7RAAAAAAACJsUCrqqqqqnW3QKuqqqqqCLBAAAAAAIAgs0AAAAAAAKKzQAAAAAAAFbpAq6qqqqrytEBVVVVVVZG/QOQ4juM4u7RAAAAAAABGrEAAAAAAAJqwQFVVVVVVcbFAq6qqqqqNs0AAAAAAAFW2QAAAAAAA4LRAq6qqqqpNs0CrqqqqqpGzQKuqqqqqdbFAAAAAAACTsUAAAAAAAD+zQKuqqqpKWuBAVVVVVVW8tEA=\",\"dtype\":\"float64\",\"order\":\"little\",\"shape\":[94]},\"Total Brightness\":{\"__ndarray__\":\"5+bm5uZGgUBHm/BFm1iNQCR6zyR6C5hAQUJCQkKyjEA7juM4jsuHQP1Rp/xR95BA3Nvb29ujhkBbW1tbO8vhQGvDGG7DwIxAPZLnPJKvjEAVar8UajuSQHh3d3d3R4VADAwMDAyElUBT/adS/RuRQMFqFcBqPYdAWFpaWlr6jkB+KNN9KIuEQM96JdB6TZJAVP6oU/5IhkD4TqT5TiSNQNQoftMofo9AnJycnJwEjkBN+aNO+RuRQCknJycn+5FA5TuR5jt5kEAA//7+/lqUQEOY7UKYNYpA+k2j+E2biUDgNYvgNa+SQO3s7OzsKpVAR0hISEhUlEAjzngjzjCSQH0p1H4pMJtAel2WJAhJlUAbxW8axR+IQMFqFcBqyZNAJNF7JtGbh0ClUPulUPOKQIEr1oArVoxAubm5ubktkEB6enp6ekaRQE+i90yiv4VAwWsWwWtOhUClpKSkpJyPQMfGxsbGxo1A3TKI3bLjw0C3DWO4DdOKQMcbccYbsXtAhIGBgYFpiEAw2oQv2mSIQP/9/f39VYFA9Umf9EnPgkCxr6+vrxeJQE9NTU1NjXlAi+E2jIGa4UBPTk5OTh6KQOU8kuc84nxA1Cl/1CmvhEC9vb29vf16QFX/qVT/4YVAeyXQeiX4hUAfHx8fH/+FQMfGxsbGVoBA6T6U6T6cnUALCgoKCsqGQAsNDQ0NzYNAurm5ubmZg0B4zSJ4zRqDQG1vb29vn4dAGxsbGxtzhkDYgi3Ygv2nQDAyMjIyModAKYHWK4EWg0AdICAgIAiKQFmvBFqvdH9AXQizXQizhECcR/KcR5KFQOPe3t7eDoxAT6T5TqRphUAAU6j9UvCOQAZcsQZcuYZA+U2j+E3DgECEhISEhOyEQG1sbGxsDIFAUFBQUFCAhEAfyXMeyZOHQBC5Yw65y4dAVgGsVgHEhEChS/agS66DQDyQ5TqQJYJAD2O4DWMYg0Ck+U6k+RaGQHl5eXl5oMhAM96IM96IhUA=\",\"dtype\":\"float64\",\"order\":\"little\",\"shape\":[94]},\"Total Brightness per Signal Area\":{\"__ndarray__\":\"y++45GlcvD+BkPtLLKvCPyXCxsMMkcU/AMZMqBKuwj/3y+n0hAjBP8T1YaDPn8M/lQBX1Wt4wD+Mv84EYlrjP0O8QaLJIcM/2/dupSDSwT99AhRnR8rCP+yoaQ4PWMA/W6aBldOXxD/l7/okdsTDP2wGQ7CXccI/g8o1NMsjwj/fEH88a9jBP3yqzK4nbcM/88rDEqhUvz/BLyce/kvDP0elWfew+8g/5OBLrglnxD8rtIEU3vvDPyl2cpR76cY/vYQKjH+Mwz+3beTAOfTDPygir1qYI8M/3NR2p0GZvz9PubfgSyHEP2zuHZnyHMQ/0hyxvL2Gwj+xUOD5ymrCP8Hx16eIM8M/kLOwvidaxD8Xaf8aQlrBP/1Eepy6zsQ/WoudNcYdwD9kIhCdGu/BP0RZ4PNUicQ/PfkDNSDGwz/jN/TIjHjFP/BWhPylGME/wvCruoLfwT9rQrjX2m/DP5MB6sw+xcI/FLH916Fq1j/tas3gUJbAPxVIc7RDzb8/RTUlH394wT+AhU7tFSrCP1wsxsQZgL8/KKiDi1YPwD8dZxxn9lXDP9EDg+0Hrr4/9Tp1Khaj4z+spo4Y/eDCP5z755yeEL4/t3sYCcxBwD+AGSo16yW/P4XCDiIWDMM/5LP3ghMXwj9tnJb8jPrBP43BUBTiqcA/h8HqhZxgyT/cWAlqm3/BP2FB7ABnI78/9fuoh1kxwj+xOrL9WhfDP3yoKMzcc8I/rbU1aGUSwT+HOXQ9rn7RPxQzPoTdMMI/acHoFD5xwT+cDR4cvcPBP86QMqUA4b8/ZrLlJtKGwT9ur4J5BH7BPxaCXWv0GcE/S1tfe+IBwD+rBOW2QE2/PxShMlDRVcE/z9qf/U4awz88v8t11hTEP0GqSmM3Xb8/acQ4MOMXwT9g1NDqfADBPzv94bZeTcI/Uc/nonxAwT+v9f1o72nAP5s2iSUNn8A/cCMCENtrwT9jgSvWCWvCPy/9WHY6Etg/ZzAKdsm4wD8=\",\"dtype\":\"float64\",\"order\":\"little\",\"shape\":[94]},\"Virus\":[\"9P31\",\"9P31\",\"9P31\",\"9P31\",\"9P31\",\"9P31\",\"9P31\",\"9P31\",\"9P31\",\"9P31\",\"9P31\",\"9P31\",\"9P31\",\"9P31\",\"9P31\",\"9P31\",\"9P31\",\"9P31\",\"9P31\",\"9P31\",\"9P31\",\"9P31\",\"9P31\",\"9P31\",\"9P31\",\"9P31\",\"9P31\",\"9P31\",\"9P31\",\"9P31\",\"9P31\",\"9P31\",\"9P31\",\"9P31\",\"9P31\",\"9P31\",\"9P31\",\"9P31\",\"9P31\",\"9P31\",\"9P31\",\"9P31\",\"9P31\",\"9P31\",\"9P31\",\"9P31\",\"9P31\",\"9P36\",\"9P36\",\"9P36\",\"9P36\",\"9P36\",\"9P36\",\"9P36\",\"9P36\",\"9P36\",\"9P36\",\"9P36\",\"9P36\",\"9P36\",\"9P36\",\"9P36\",\"9P36\",\"9P36\",\"9P36\",\"9P36\",\"9P36\",\"9P36\",\"9P36\",\"9P36\",\"9P36\",\"9P36\",\"9P36\",\"9P36\",\"9P36\",\"9P36\",\"9P36\",\"9P36\",\"9P36\",\"9P36\",\"9P36\",\"9P36\",\"9P36\",\"9P36\",\"9P36\",\"9P36\",\"9P36\",\"9P36\",\"9P36\",\"9P36\",\"9P36\",\"9P36\",\"9P36\",\"9P36\"],\"Well\":{\"__ndarray__\":\"AAAAAAAAAEAAAAAAAAAAQAAAAAAAgFJAAAAAAACAUkAAAAAAAAAAQAAAAAAAAABAAAAAAAAAOkAAAAAAAAA6QAAAAAAAAABAAAAAAAAANEAAAAAAAABJQAAAAAAAADpAAAAAAAAAOkAAAAAAAABJQAAAAAAAAABAAAAAAAAAOkAAAAAAAIBSQAAAAAAAgFJAAAAAAAAASUAAAAAAAABJQAAAAAAAgFJAAAAAAACAUkAAAAAAAABJQAAAAAAAADpAAAAAAAAAOkAAAAAAAAA6QAAAAAAAgFJAAAAAAAAAPEAAAAAAAABMQAAAAAAAwFFAAAAAAAAAAEAAAAAAAAAsQAAAAAAAACBAAAAAAAAAOEAAAAAAAAAAQAAAAAAAAElAAAAAAAAAAEAAAAAAAAAAQAAAAAAAgFJAAAAAAAAASUAAAAAAAIBSQAAAAAAAADpAAAAAAAAASUAAAAAAAABJQAAAAAAAgFJAAAAAAAAAOkAAAAAAAAAAQAAAAAAAACxAAAAAAAAALEAAAAAAAIBVQAAAAAAAgFVAAAAAAAAALEAAAAAAAAAsQAAAAAAAAENAAAAAAAAAQ0AAAAAAAAAsQAAAAAAAAEBAAAAAAAAAT0AAAAAAAABDQAAAAAAAAENAAAAAAAAAT0AAAAAAAAAsQAAAAAAAAENAAAAAAACAVUAAAAAAAIBVQAAAAAAAAE9AAAAAAAAAT0AAAAAAAIBVQAAAAAAAgFVAAAAAAAAAT0AAAAAAAABDQAAAAAAAAENAAAAAAAAAQ0AAAAAAAIBVQAAAAAAAAERAAAAAAAAANEAAAAAAAABAQAAAAAAAACxAAAAAAAAAOkAAAAAAAAA0QAAAAAAAAENAAAAAAAAALEAAAAAAAABPQAAAAAAAACxAAAAAAAAALEAAAAAAAIBVQAAAAAAAAE9AAAAAAACAVUAAAAAAAABDQAAAAAAAAE9AAAAAAAAAT0AAAAAAAIBVQAAAAAAAAENAAAAAAAAALEA=\",\"dtype\":\"float64\",\"order\":\"little\",\"shape\":[94]},\"index\":[0,1,2,3,4,5,6,7,8,9,10,11,12,13,14,15,16,17,18,19,20,21,22,23,24,25,26,27,28,29,30,31,32,33,34,35,36,37,38,39,40,41,42,43,44,45,46,47,48,49,50,51,52,53,54,55,56,57,58,59,60,61,62,63,64,65,66,67,68,69,70,71,72,73,74,75,76,77,78,79,80,81,82,83,84,85,86,87,88,89,90,91,92,93]},\"selected\":{\"id\":\"1444\"},\"selection_policy\":{\"id\":\"1443\"}},\"id\":\"1360\",\"type\":\"ColumnDataSource\"},{\"attributes\":{},\"id\":\"1443\",\"type\":\"UnionRenderers\"},{\"attributes\":{\"tools\":[{\"id\":\"1377\"},{\"id\":\"1378\"},{\"id\":\"1379\"},{\"id\":\"1380\"},{\"id\":\"1381\"},{\"id\":\"1382\"},{\"id\":\"1400\"}]},\"id\":\"1384\",\"type\":\"Toolbar\"},{\"attributes\":{\"fill_alpha\":{\"value\":0.2},\"fill_color\":{\"field\":\"Total Brightness per Signal Area\",\"transform\":{\"id\":\"1391\"}},\"hatch_alpha\":{\"value\":0.2},\"line_alpha\":{\"value\":0.2},\"line_color\":{\"value\":\"#1f77b4\"},\"size\":{\"field\":\"Percent Positive\"},\"x\":{\"field\":\"Virus\"},\"y\":{\"field\":\"Receptor\"}},\"id\":\"1397\",\"type\":\"Scatter\"},{\"attributes\":{},\"id\":\"1369\",\"type\":\"CategoricalScale\"},{\"attributes\":{},\"id\":\"1380\",\"type\":\"SaveTool\"},{\"attributes\":{},\"id\":\"1381\",\"type\":\"ResetTool\"},{\"attributes\":{\"callback\":null,\"tooltips\":[[\"Round\",\"@Round\"],[\"Plate\",\"@Plate\"],[\"Well\",\"@Well\"],[\"Virus\",\"@Virus\"],[\"Receptor\",\"@Receptor\"],[\"Dose\",\"@Dose\"]]},\"id\":\"1400\",\"type\":\"HoverTool\"},{\"attributes\":{\"coordinates\":null,\"formatter\":{\"id\":\"1441\"},\"group\":null,\"major_label_orientation\":1.5707963267948966,\"major_label_policy\":{\"id\":\"1442\"},\"ticker\":{\"id\":\"1372\"}},\"id\":\"1371\",\"type\":\"CategoricalAxis\"},{\"attributes\":{\"source\":{\"id\":\"1360\"}},\"id\":\"1399\",\"type\":\"CDSView\"},{\"attributes\":{},\"id\":\"1392\",\"type\":\"BasicTicker\"},{\"attributes\":{\"coordinates\":null,\"data_source\":{\"id\":\"1360\"},\"glyph\":{\"id\":\"1395\"},\"group\":null,\"hover_glyph\":null,\"muted_glyph\":{\"id\":\"1397\"},\"nonselection_glyph\":{\"id\":\"1396\"},\"view\":{\"id\":\"1399\"}},\"id\":\"1398\",\"type\":\"GlyphRenderer\"},{\"attributes\":{\"fill_color\":{\"field\":\"Total Brightness per Signal Area\",\"transform\":{\"id\":\"1391\"}},\"line_color\":{\"value\":\"#1f77b4\"},\"size\":{\"field\":\"Percent Positive\"},\"x\":{\"field\":\"Virus\"},\"y\":{\"field\":\"Receptor\"}},\"id\":\"1395\",\"type\":\"Scatter\"},{\"attributes\":{},\"id\":\"1375\",\"type\":\"CategoricalTicker\"},{\"attributes\":{},\"id\":\"1382\",\"type\":\"HelpTool\"}],\"root_ids\":[\"1361\"]},\"title\":\"Bokeh Application\",\"version\":\"2.4.3\"}};\n",
       "  const render_items = [{\"docid\":\"5e046dde-de6a-475d-a4df-7370b9f59825\",\"root_ids\":[\"1361\"],\"roots\":{\"1361\":\"0ac162e2-8101-4945-bf62-358a16a5da33\"}}];\n",
       "  root.Bokeh.embed.embed_items_notebook(docs_json, render_items);\n",
       "  }\n",
       "  if (root.Bokeh !== undefined) {\n",
       "    embed_document(root);\n",
       "  } else {\n",
       "    let attempts = 0;\n",
       "    const timer = setInterval(function(root) {\n",
       "      if (root.Bokeh !== undefined) {\n",
       "        clearInterval(timer);\n",
       "        embed_document(root);\n",
       "      } else {\n",
       "        attempts++;\n",
       "        if (attempts > 100) {\n",
       "          clearInterval(timer);\n",
       "          console.log(\"Bokeh: ERROR: Unable to run BokehJS code because BokehJS library is missing\");\n",
       "        }\n",
       "      }\n",
       "    }, 10, root)\n",
       "  }\n",
       "})(window);"
      ],
      "application/vnd.bokehjs_exec.v0+json": ""
     },
     "metadata": {
      "application/vnd.bokehjs_exec.v0+json": {
       "id": "1361"
      }
     },
     "output_type": "display_data"
    },
    {
     "name": "stdout",
     "output_type": "stream",
     "text": [
      "The most positive value is: 55.28 \n",
      "The least positive value is: 3.03 \n",
      "The brightest value is: 0.61 \n",
      "The dimmest value is: 0.11\n"
     ]
    }
   ],
   "source": [
    "p, min_pos, max_pos, min_brightness, max_brightness = cellseg.plot.bubble_plot(df_f2d_2, \n",
    "                                                                               'Virus', \n",
    "                                                                               'Receptor',\n",
    "                                                                               x_values = ['9P31',\n",
    "                                                                                           '9P36'],\n",
    "                                                                               y_values = ['Tek',\n",
    "                                                                                           'Slco1c1',\n",
    "                                                                                           'Slco1a4',\n",
    "                                                                                             'Slc7a1',\n",
    "                                                                                             'Slc6a6',\n",
    "                                                                                             'Slc2a1', \n",
    "                                                                                             'Slc22a8',\n",
    "                                                                                             'Serinc3',\n",
    "                                                                                             'Prom1',\n",
    "                                                                                             'Podxl',\n",
    "                                                                                             'Pecam1', \n",
    "                                                                                             'Paqr5', \n",
    "                                                                                             'Ocln', \n",
    "                                                                                             'Ly6e', \n",
    "                                                                                             'Ly6c1', \n",
    "                                                                                             'Ly6a', \n",
    "                                                                                             'Kitl', \n",
    "                                                                                             'Kdr', \n",
    "                                                                                             'Itm2b', \n",
    "                                                                                             'Igf1r', \n",
    "                                                                                             'Ifitm3', \n",
    "                                                                                             'Ifitm2', \n",
    "                                                                                             'Flt1', \n",
    "                                                                                             'Fcgrt', \n",
    "                                                                                             'Esam', \n",
    "                                                                                             'Eng',\n",
    "                                                                                             'Clic4', \n",
    "                                                                                             'Clic1', \n",
    "                                                                                             'Clec2d', \n",
    "                                                                                             'Cldn5', \n",
    "                                                                                             'Cdh5', \n",
    "                                                                                             'Cd34', \n",
    "                                                                                             'Car4', \n",
    "                                                                                             'Bsg', \n",
    "                                                                                             'App', \n",
    "                                                                                             'Adgrl4',\n",
    "                                                                                             'Adgrf5', \n",
    "                                                                                             'Acvrl1', \n",
    "                                                                                             'Abcg2', \n",
    "                                                                                             'Abcb1a'],\n",
    "                                                                               plot_width = 300, \n",
    "                                                                               plot_height = 1200)\n",
    "\n",
    "bokeh.io.show(p)\n",
    "\n",
    "print(\"The most positive value is: %0.2f \\nThe least positive value is: %0.2f \\nThe brightest value is: %0.2f \\nThe dimmest value is: %0.2f\" % (max_pos, min_pos, max_brightness, min_brightness))"
   ]
  },
  {
   "cell_type": "markdown",
   "id": "6ceb4c52-3684-4b83-b97e-ae316f7215ed",
   "metadata": {
    "tags": []
   },
   "source": [
    "### Part G"
   ]
  },
  {
   "cell_type": "code",
   "execution_count": 14,
   "id": "c0422da9-fa5e-418a-a8f8-4a4d9ad16c92",
   "metadata": {},
   "outputs": [],
   "source": [
    "round_inds = df_reduced['Round'] == 13\n",
    "dose_ids = df_reduced['Dose'] == 1e9\n",
    "\n",
    "inds = round_inds & dose_inds\n",
    "\n",
    "# Make this a new dataframe df_edf5\n",
    "df_f2g_1 = df_reduced.loc[inds]\n",
    "\n",
    "# We can determine the mean of each of the values\n",
    "df_f2g_1 = df_f2g_1.groupby(['Virus', 'Receptor', 'Dose']).mean(numeric_only = True).reset_index()"
   ]
  },
  {
   "cell_type": "code",
   "execution_count": 15,
   "id": "43ff6e30-e03f-41d3-a60b-9e0fd6b8ed43",
   "metadata": {},
   "outputs": [
    {
     "data": {
      "text/html": [
       "\n",
       "  <div class=\"bk-root\" id=\"d1a294cd-2b42-4660-9839-4f3c4d76f5e5\" data-root-id=\"1502\"></div>\n"
      ]
     },
     "metadata": {},
     "output_type": "display_data"
    },
    {
     "data": {
      "application/javascript": [
       "(function(root) {\n",
       "  function embed_document(root) {\n",
       "  const docs_json = {\"728aa120-6ab3-43fa-83c6-2fd3fd751494\":{\"defs\":[],\"roots\":{\"references\":[{\"attributes\":{\"below\":[{\"id\":\"1512\"}],\"center\":[{\"id\":\"1514\"},{\"id\":\"1517\"}],\"height\":400,\"left\":[{\"id\":\"1515\"}],\"output_backend\":\"svg\",\"renderers\":[{\"id\":\"1539\"}],\"right\":[{\"id\":\"1534\"}],\"title\":null,\"toolbar\":{\"id\":\"1525\"},\"width\":700,\"x_range\":{\"id\":\"1504\"},\"x_scale\":{\"id\":\"1508\"},\"y_range\":{\"id\":\"1506\"},\"y_scale\":{\"id\":\"1510\"}},\"id\":\"1502\",\"subtype\":\"Figure\",\"type\":\"Plot\"},{\"attributes\":{\"source\":{\"id\":\"1501\"}},\"id\":\"1540\",\"type\":\"CDSView\"},{\"attributes\":{\"color_mapper\":{\"id\":\"1532\"},\"coordinates\":null,\"group\":null,\"location\":[0,0],\"major_label_policy\":{\"id\":\"1591\"},\"ticker\":{\"id\":\"1533\"}},\"id\":\"1534\",\"type\":\"ColorBar\"},{\"attributes\":{\"coordinates\":null,\"formatter\":{\"id\":\"1589\"},\"group\":null,\"major_label_policy\":{\"id\":\"1590\"},\"ticker\":{\"id\":\"1516\"}},\"id\":\"1515\",\"type\":\"CategoricalAxis\"},{\"attributes\":{\"overlay\":{\"id\":\"1524\"}},\"id\":\"1520\",\"type\":\"BoxZoomTool\"},{\"attributes\":{\"callback\":null,\"tooltips\":[[\"Round\",\"@Round\"],[\"Plate\",\"@Plate\"],[\"Well\",\"@Well\"],[\"Virus\",\"@Virus\"],[\"Receptor\",\"@Receptor\"],[\"Dose\",\"@Dose\"]]},\"id\":\"1541\",\"type\":\"HoverTool\"},{\"attributes\":{},\"id\":\"1518\",\"type\":\"PanTool\"},{\"attributes\":{},\"id\":\"1595\",\"type\":\"UnionRenderers\"},{\"attributes\":{},\"id\":\"1519\",\"type\":\"WheelZoomTool\"},{\"attributes\":{},\"id\":\"1522\",\"type\":\"ResetTool\"},{\"attributes\":{},\"id\":\"1510\",\"type\":\"CategoricalScale\"},{\"attributes\":{},\"id\":\"1508\",\"type\":\"CategoricalScale\"},{\"attributes\":{},\"id\":\"1521\",\"type\":\"SaveTool\"},{\"attributes\":{},\"id\":\"1591\",\"type\":\"NoOverlap\"},{\"attributes\":{\"factors\":[\"PHP.eB\",\"CAP-B10\",\"CAP-B22\",\"9P08\",\"9P16\",\"PHP.N\",\"PHP.C1\",\"PHP.C2\",\"PHP.C3\",\"PHP.C4\",\"AAV-F\",\"9P13\",\"9P33\",\"9P39\"]},\"id\":\"1504\",\"type\":\"FactorRange\"},{\"attributes\":{},\"id\":\"1589\",\"type\":\"CategoricalTickFormatter\"},{\"attributes\":{\"bottom_units\":\"screen\",\"coordinates\":null,\"fill_alpha\":0.5,\"fill_color\":\"lightgrey\",\"group\":null,\"left_units\":\"screen\",\"level\":\"overlay\",\"line_alpha\":1.0,\"line_color\":\"black\",\"line_dash\":[4,4],\"line_width\":2,\"right_units\":\"screen\",\"syncable\":false,\"top_units\":\"screen\"},\"id\":\"1524\",\"type\":\"BoxAnnotation\"},{\"attributes\":{},\"id\":\"1513\",\"type\":\"CategoricalTicker\"},{\"attributes\":{},\"id\":\"1590\",\"type\":\"AllLabels\"},{\"attributes\":{\"high\":0.7501429166333894,\"low\":0.12910872665751924,\"palette\":[\"#440154\",\"#440255\",\"#440357\",\"#450558\",\"#45065A\",\"#45085B\",\"#46095C\",\"#460B5E\",\"#460C5F\",\"#460E61\",\"#470F62\",\"#471163\",\"#471265\",\"#471466\",\"#471567\",\"#471669\",\"#47186A\",\"#48196B\",\"#481A6C\",\"#481C6E\",\"#481D6F\",\"#481E70\",\"#482071\",\"#482172\",\"#482273\",\"#482374\",\"#472575\",\"#472676\",\"#472777\",\"#472878\",\"#472A79\",\"#472B7A\",\"#472C7B\",\"#462D7C\",\"#462F7C\",\"#46307D\",\"#46317E\",\"#45327F\",\"#45347F\",\"#453580\",\"#453681\",\"#443781\",\"#443982\",\"#433A83\",\"#433B83\",\"#433C84\",\"#423D84\",\"#423E85\",\"#424085\",\"#414186\",\"#414286\",\"#404387\",\"#404487\",\"#3F4587\",\"#3F4788\",\"#3E4888\",\"#3E4989\",\"#3D4A89\",\"#3D4B89\",\"#3D4C89\",\"#3C4D8A\",\"#3C4E8A\",\"#3B508A\",\"#3B518A\",\"#3A528B\",\"#3A538B\",\"#39548B\",\"#39558B\",\"#38568B\",\"#38578C\",\"#37588C\",\"#37598C\",\"#365A8C\",\"#365B8C\",\"#355C8C\",\"#355D8C\",\"#345E8D\",\"#345F8D\",\"#33608D\",\"#33618D\",\"#32628D\",\"#32638D\",\"#31648D\",\"#31658D\",\"#31668D\",\"#30678D\",\"#30688D\",\"#2F698D\",\"#2F6A8D\",\"#2E6B8E\",\"#2E6C8E\",\"#2E6D8E\",\"#2D6E8E\",\"#2D6F8E\",\"#2C708E\",\"#2C718E\",\"#2C728E\",\"#2B738E\",\"#2B748E\",\"#2A758E\",\"#2A768E\",\"#2A778E\",\"#29788E\",\"#29798E\",\"#287A8E\",\"#287A8E\",\"#287B8E\",\"#277C8E\",\"#277D8E\",\"#277E8E\",\"#267F8E\",\"#26808E\",\"#26818E\",\"#25828E\",\"#25838D\",\"#24848D\",\"#24858D\",\"#24868D\",\"#23878D\",\"#23888D\",\"#23898D\",\"#22898D\",\"#228A8D\",\"#228B8D\",\"#218C8D\",\"#218D8C\",\"#218E8C\",\"#208F8C\",\"#20908C\",\"#20918C\",\"#1F928C\",\"#1F938B\",\"#1F948B\",\"#1F958B\",\"#1F968B\",\"#1E978A\",\"#1E988A\",\"#1E998A\",\"#1E998A\",\"#1E9A89\",\"#1E9B89\",\"#1E9C89\",\"#1E9D88\",\"#1E9E88\",\"#1E9F88\",\"#1EA087\",\"#1FA187\",\"#1FA286\",\"#1FA386\",\"#20A485\",\"#20A585\",\"#21A685\",\"#21A784\",\"#22A784\",\"#23A883\",\"#23A982\",\"#24AA82\",\"#25AB81\",\"#26AC81\",\"#27AD80\",\"#28AE7F\",\"#29AF7F\",\"#2AB07E\",\"#2BB17D\",\"#2CB17D\",\"#2EB27C\",\"#2FB37B\",\"#30B47A\",\"#32B57A\",\"#33B679\",\"#35B778\",\"#36B877\",\"#38B976\",\"#39B976\",\"#3BBA75\",\"#3DBB74\",\"#3EBC73\",\"#40BD72\",\"#42BE71\",\"#44BE70\",\"#45BF6F\",\"#47C06E\",\"#49C16D\",\"#4BC26C\",\"#4DC26B\",\"#4FC369\",\"#51C468\",\"#53C567\",\"#55C666\",\"#57C665\",\"#59C764\",\"#5BC862\",\"#5EC961\",\"#60C960\",\"#62CA5F\",\"#64CB5D\",\"#67CC5C\",\"#69CC5B\",\"#6BCD59\",\"#6DCE58\",\"#70CE56\",\"#72CF55\",\"#74D054\",\"#77D052\",\"#79D151\",\"#7CD24F\",\"#7ED24E\",\"#81D34C\",\"#83D34B\",\"#86D449\",\"#88D547\",\"#8BD546\",\"#8DD644\",\"#90D643\",\"#92D741\",\"#95D73F\",\"#97D83E\",\"#9AD83C\",\"#9DD93A\",\"#9FD938\",\"#A2DA37\",\"#A5DA35\",\"#A7DB33\",\"#AADB32\",\"#ADDC30\",\"#AFDC2E\",\"#B2DD2C\",\"#B5DD2B\",\"#B7DD29\",\"#BADE27\",\"#BDDE26\",\"#BFDF24\",\"#C2DF22\",\"#C5DF21\",\"#C7E01F\",\"#CAE01E\",\"#CDE01D\",\"#CFE11C\",\"#D2E11B\",\"#D4E11A\",\"#D7E219\",\"#DAE218\",\"#DCE218\",\"#DFE318\",\"#E1E318\",\"#E4E318\",\"#E7E419\",\"#E9E419\",\"#ECE41A\",\"#EEE51B\",\"#F1E51C\",\"#F3E51E\",\"#F6E61F\",\"#F8E621\",\"#FAE622\",\"#FDE724\"]},\"id\":\"1532\",\"type\":\"LinearColorMapper\"},{\"attributes\":{\"factors\":[\"CD59\",\"Ly6S\",\"Lynx1\",\"Lypd5\",\"Ly6h\",\"Ly6e\",\"Ly6c1\",\"Ly6a\"]},\"id\":\"1506\",\"type\":\"FactorRange\"},{\"attributes\":{\"data\":{\"Bright Field Area\":{\"__ndarray__\":\"AAAAAOiAD0EAAAAAUJoJQQAAAABgRAVBq6qqqkrpAkEAAAAAUL4FQVVVVVU9OQxBq6qqqtLgCEEAAAAAqIwHQVVVVVVVPBBBq6qqqor7DkGrqqqqynoMQVVVVVW9GgZBVVVVVQXbAEGrqqqq2qACQauqqqpaVgxBAAAAAIgZBkGrqqqqqrUFQQAAAACoEQlBVVVVVcFnEEGrqqqq8vMLQVVVVVXFKgZBVVVVVSXdAEFVVVVV9bMCQVVVVVWF2wxBAAAAAMB1B0Grqqqq4qcFQauqqqpC9wpBVVVVVZXcCEGrqqqqYp4MQQAAAADAMQ9BVVVVVUWGBUEAAAAAUC8CQauqqqrCpwNBAAAAAGxoF0EAAAAAOFUGQQAAAADY+ANBVVVVVfkvEEEAAAAAbE4QQauqqqoOkRBBVVVVVY2HDkGrqqqqAiIFQauqqqqy/gJBAAAAACgSA0EAAAAAWMMLQauqqqrqTAdBVVVVVVXiAkEAAAAAnKsQQVVVVVXlqwhBVVVVVc3WD0FVVVVV5Z0OQVVVVVW1XQRBq6qqqspyCkFVVVVVJT4DQQAAAACoJgdBq6qqqjq5BEFVVVVVvYgGQauqqqp6kxBBVVVVVU0/B0GrqqqqAl0RQVVVVVUNww5BAAAAABB7BUFVVVVV7Q4MQauqqqry5ARBq6qqqkosBkGrqqqqOrEEQQAAAAA4LwlBq6qqqopREkFVVVVVBTcKQVVVVVU9whBBAAAAALguDEFVVVVVHZEFQVVVVVWVRA1BVVVVVSWgA0GrqqqqyrcIQVVVVVW9RAZBVVVVVe1/B0FVVVVVVfkSQauqqqqilAZBVVVVVdETEUFVVVVVnZIMQVVVVVUtzAVBAAAAAFhxDEGrqqqqujgGQVVVVVXdpwlBVVVVVTUgB0EAAAAAECcKQQAAAAB49QtBAAAAAHilCkGrqqqqIgcIQVVVVVX9OAxBq6qqqkJ1BEFVVVVVbUYJQQAAAAAgRARBq6qqqpoKDEFVVVVVvbcGQVVVVVXV8wdBVVVVVUV4BEFVVVVVDdYHQauqqqqikQlBq6qqqqLPCUEAAAAAcCkGQVVVVVUNSApBVVVVVfVjBkGrqqqqamMMQQAAAAAoUAhBq6qqqhp7CEGrqqqq4iIIQQAAAAC4mwlBq6qqqqqiDEEAAAAA6CULQVVVVVXlKAVBq6qqquKOBkEAAAAAgCgEQVVVVVWtwgtBq6qqqvpRBkEAAAAAUE8FQQAAAABgkgxBq6qqqiIcBUEAAAAAnOEQQVVVVVW1Pw9Bq6qqqhohA0Grqqqqyl0KQQAAAACAoABBq6qqquJlCEFVVVVVZT0EQVVVVVXd3QhBVVVVVT0bEkGrqqqquugFQauqqqqieRFBVVVVVU0vD0FVVVVVdfYDQauqqqqiRgpBVVVVVQ2TAUGrqqqqguoJQVVVVVX1bQNBq6qqqlI4BUEAAAAAdIwQQQ==\",\"dtype\":\"float64\",\"order\":\"little\",\"shape\":[137]},\"Brinzolamide (nM)\":{\"__ndarray__\":\"AAAAAAAAAAAAAAAAAAAAAAAAAAAAAAAAAAAAAAAAAAAAAAAAAAAAAAAAAAAAAAAAAAAAAAAAAAAAAAAAAAAAAAAAAAAAAAAAAAAAAAAAAAAAAAAAAAAAAAAAAAAAAAAAAAAAAAAAAAAAAAAAAAAAAAAAAAAAAAAAAAAAAAAAAAAAAAAAAAAAAAAAAAAAAAAAAAAAAAAAAAAAAAAAAAAAAAAAAAAAAAAAAAAAAAAAAAAAAAAAAAAAAAAAAAAAAAAAAAAAAAAAAAAAAAAAAAAAAAAAAAAAAAAAAAAAAAAAAAAAAAAAAAAAAAAAAAAAAAAAAAAAAAAAAAAAAAAAAAAAAAAAAAAAAAAAAAAAAAAAAAAAAAAAAAAAAAAAAAAAAAAAAAAAAAAAAAAAAAAAAAAAAAAAAAAAAAAAAAAAAAAAAAAAAAAAAAAAAAAAAAAAAAAAAAAAAAAAAAAAAAAAAAAAAAAAAAAAAAAAAAAAAAAAAAAAAAAAAAAAAAAAAAAAAAAAAAAAAAAAAAAAAAAAAAAAAAAAAAAAAAAAAAAAAAAAAAAAAAAAAAAAAAAAAAAAAAAAAAAAAAAAAAAAAAAAAAAAAAAAAAAAAAAAAAAAAAAAAAAAAAAAAAAAAAAAAAAAAAAAAAAAAAAAAAAAAAAAAAAAAAAAAAAAAAAAAAAAAAAAAAAAAAAAAAAAAAAAAAAAAAAAAAAAAAAAAAAAAAAAAAAAAAAAAAAAAAAAAAAAAAAAAAAAAAAAAAAAAAAAAAAAAAAAAAAAAAAAAAAAAAAAAAAAAAAAAAAAAAAAAAAAAAAAAAAAAAAAAAAAAAAAAAAAAAAAAAAAAAAAAAAAAAAAAAAAAAAAAAAAAAAAAAAAAAAAAAAAAAAAAAAAAAAAAAAAAAAAAAAAAAAAAAAAAAAAAAAAAAAAAAAAAAAAAAAAAAAAAAAAAAAAAAAAAAAAAAAAAAAAAAAAAAAAAAAAAAAAAAAAAAAAAAAAAAAAAAAAAAAAAAAAAAAAAAAAAAAAAAAAAAAAAAAAAAAAAAAAAAAAAAAAAAAAAAAAAAAAAAAAAAAAAAAAAAAAAAAAAAAAAAAAAAAAAAAAAAAAAAAAAAAAAAAAAAAAAAAAAAAAAAAAAAAAAAAAAAAAAAAAAAAAAAAAAAAAAAAAAAAAAAAAAAAAAAAAAAAAAAAAAAAAAAAAAAAAAAAAAAAAAAAAAAAAAAAAAAAAAAAAAAAAAAAAAAAAAAAAAAAAAAAAAAAAAAAAAAAAAAAAAAAAAAAAAAAAAAAAAAAAAAAAAAAAAAAAAAAAAAAAAAAAAAAAAAAAAAAAAAAAAAAAAAAAAAAAAAAAAAAAAAAAAAAAAAAAAAAAAAAAAAAAAAAAAAAAAAAAAAAAAAAAAAAAAAAAAAAAAAAAAAAAAAAAAAAAAAAAAAAAAAAAAAAAAAAAAAAAAAAAAAAAAAAAAAAAAAAAAAAAAA==\",\"dtype\":\"float64\",\"order\":\"little\",\"shape\":[137]},\"Count\":{\"__ndarray__\":\"VVVVVVWpoUAAAAAAAKyWQFVVVVVVwZ1AAAAAAAC0kECrqqqqqs6TQFVVVVVVI6BAq6qqqqq+lUCrqqqqqmKgQAAAAAAAxJxAq6qqqqrajECrqqqqqjKGQAAAAAAAEHlAAAAAAAC8mUAAAAAAAHB8QKuqqqqqsoVAAAAAAADAfUAAAAAAAOiHQKuqqqqq2n1AVVVVVVVViUAAAAAAAOB/QAAAAAAA7JBAAAAAAACgdECrqqqqqvp1QAAAAAAAEH9Aq6qqqqo6eEBVVVVVVS2DQKuqqqqq6nhAAAAAAABwhkBVVVVVVeWDQAAAAAAAIH1AVVVVVVVVcUCrqqqqqjqZQKuqqqqqmnRAVVVVVVVFekAAAAAAAOB1QKuqqqqqynhAVVVVVVXlfUAAAAAAAGCCQFVVVVVVjYNAAAAAAABQeEAAAAAAAMBvQAAAAAAA3JpAq6qqqqo6dUAAAAAAAGB2QKuqqqqqenNAq6qqqqpqd0BVVVVVVaV6QKuqqqqq6oZAq6qqqqo+lUCrqqqqqnKKQKuqqqqqmoBAVVVVVVWXo0BVVVVVVXWCQKuqqqqq8opAAAAAAADQgkBVVVVVVV2IQAAAAAAAwIhAq6qqqqrqe0CrqqqqqnKCQKuqqqqqSnxAAAAAAAD4jEAAAAAAAAB6QKuqqqqqqnRAVVVVVVWVd0AAAAAAAPB2QFVVVVVVlXtAAAAAAABwfkBVVVVVVQWHQAAAAAAAQJVAVVVVVVUdiUBVVVVVVVWZQFVVVVVVPYVAVVVVVVXFfUAAAAAAANiIQFVVVVVV7YFAAAAAAACgiEAAAAAAADiFQFVVVVVVZXdAVVVVVVW9iUBVVVVVVZV6QKuqqqqqmnJAAAAAAACyoEAAAAAAAFB0QAAAAAAAUHlAq6qqqqqqdECrqqqqqlp9QFVVVVVVFXtAAAAAAAAgikAAAAAAAGSRQFVVVVVVJY1AAAAAAABAgUCrqqqqqjCjQAAAAAAAmINAq6qqqqpajkAAAAAAACCDQFVVVVVVfZBAVVVVVVVdg0AAAAAAAJiCQFVVVVVV/YlAAAAAAABYhUCrqqqqqpp6QFVVVVVVE6JAq6qqqqqqfECrqqqqqiqHQAAAAAAA4H9AVVVVVVV1h0CrqqqqqiKDQFVVVVVVpY1AAAAAAAB8l0AAAAAAANCQQKuqqqqqqoRAq6qqqqoeoEBVVVVVVRWHQAAAAAAAzJJAAAAAAAAgiUCrqqqqqt6TQKuqqqqqKo5Aq6qqqqo6eEAAAAAAAPiKQFVVVVVVPYBAq6qqqqoKh0CrqqqqqqaTQFVVVVVVxXRAAAAAAABIgUAAAAAAAIB2QKuqqqqqeoBAVVVVVVUdgkBVVVVVVXV8QAAAAAAAUJFAAAAAAABggUBVVVVVVUWVQKuqqqqquntAq6qqqqqaeECrqqqqqsqGQAAAAAAAcHpAq6qqqqqqgUCrqqqqqhqBQA==\",\"dtype\":\"float64\",\"order\":\"little\",\"shape\":[137]},\"DMSO (%)\":{\"__ndarray__\":\"AAAAAAAAAAAAAAAAAAAAAAAAAAAAAAAAAAAAAAAAAAAAAAAAAAAAAAAAAAAAAAAAAAAAAAAAAAAAAAAAAAAAAAAAAAAAAAAAAAAAAAAAAAAAAAAAAAAAAAAAAAAAAAAAAAAAAAAAAAAAAAAAAAAAAAAAAAAAAAAAAAAAAAAAAAAAAAAAAAAAAAAAAAAAAAAAAAAAAAAAAAAAAAAAAAAAAAAAAAAAAAAAAAAAAAAAAAAAAAAAAAAAAAAAAAAAAAAAAAAAAAAAAAAAAAAAAAAAAAAAAAAAAAAAAAAAAAAAAAAAAAAAAAAAAAAAAAAAAAAAAAAAAAAAAAAAAAAAAAAAAAAAAAAAAAAAAAAAAAAAAAAAAAAAAAAAAAAAAAAAAAAAAAAAAAAAAAAAAAAAAAAAAAAAAAAAAAAAAAAAAAAAAAAAAAAAAAAAAAAAAAAAAAAAAAAAAAAAAAAAAAAAAAAAAAAAAAAAAAAAAAAAAAAAAAAAAAAAAAAAAAAAAAAAAAAAAAAAAAAAAAAAAAAAAAAAAAAAAAAAAAAAAAAAAAAAAAAAAAAAAAAAAAAAAAAAAAAAAAAAAAAAAAAAAAAAAAAAAAAAAAAAAAAAAAAAAAAAAAAAAAAAAAAAAAAAAAAAAAAAAAAAAAAAAAAAAAAAAAAAAAAAAAAAAAAAAAAAAAAAAAAAAAAAAAAAAAAAAAAAAAAAAAAAAAAAAAAAAAAAAAAAAAAAAAAAAAAAAAAAAAAAAAAAAAAAAAAAAAAAAAAAAAAAAAAAAAAAAAAAAAAAAAAAAAAAAAAAAAAAAAAAAAAAAAAAAAAAAAAAAAAAAAAAAAAAAAAAAAAAAAAAAAAAAAAAAAAAAAAAAAAAAAAAAAAAAAAAAAAAAAAAAAAAAAAAAAAAAAAAAAAAAAAAAAAAAAAAAAAAAAAAAAAAAAAAAAAAAAAAAAAAAAAAAAAAAAAAAAAAAAAAAAAAAAAAAAAAAAAAAAAAAAAAAAAAAAAAAAAAAAAAAAAAAAAAAAAAAAAAAAAAAAAAAAAAAAAAAAAAAAAAAAAAAAAAAAAAAAAAAAAAAAAAAAAAAAAAAAAAAAAAAAAAAAAAAAAAAAAAAAAAAAAAAAAAAAAAAAAAAAAAAAAAAAAAAAAAAAAAAAAAAAAAAAAAAAAAAAAAAAAAAAAAAAAAAAAAAAAAAAAAAAAAAAAAAAAAAAAAAAAAAAAAAAAAAAAAAAAAAAAAAAAAAAAAAAAAAAAAAAAAAAAAAAAAAAAAAAAAAAAAAAAAAAAAAAAAAAAAAAAAAAAAAAAAAAAAAAAAAAAAAAAAAAAAAAAAAAAAAAAAAAAAAAAAAAAAAAAAAAAAAAAAAAAAAAAAAAAAAAAAAAAAAAAAAAAAAAAAAAAAAAAAAAAAAAAAAAAAAAAAAAAAAAAAAAAAAAAAAAAAAAAAAAAAAAAAAAAAAAAAAAAAAAAAAAAAAAAAAA==\",\"dtype\":\"float64\",\"order\":\"little\",\"shape\":[137]},\"Dose\":{\"__ndarray__\":\"AAAAAGXNzUEAAAAAZc3NQQAAAABlzc1BAAAAAGXNzUEAAAAAZc3NQQAAAABlzc1BAAAAAGXNzUEAAAAAZc3NQQAAAABlzc1BAAAAAGXNzUEAAAAAZc3NQQAAAABlzc1BAAAAAGXNzUEAAAAAZc3NQQAAAABlzc1BAAAAAGXNzUEAAAAAZc3NQQAAAABlzc1BAAAAAGXNzUEAAAAAZc3NQQAAAABlzc1BAAAAAGXNzUEAAAAAZc3NQQAAAABlzc1BAAAAAGXNzUEAAAAAZc3NQQAAAABlzc1BAAAAAGXNzUEAAAAAZc3NQQAAAABlzc1BAAAAAGXNzUEAAAAAZc3NQQAAAABlzc1BAAAAAGXNzUEAAAAAZc3NQQAAAABlzc1BAAAAAGXNzUEAAAAAZc3NQQAAAABlzc1BAAAAAGXNzUEAAAAAZc3NQQAAAABlzc1BAAAAAGXNzUEAAAAAZc3NQQAAAABlzc1BAAAAAGXNzUEAAAAAZc3NQQAAAABlzc1BAAAAAGXNzUEAAAAAZc3NQQAAAABlzc1BAAAAAGXNzUEAAAAAZc3NQQAAAABlzc1BAAAAAGXNzUEAAAAAZc3NQQAAAABlzc1BAAAAAGXNzUEAAAAAZc3NQQAAAABlzc1BAAAAAGXNzUEAAAAAZc3NQQAAAABlzc1BAAAAAGXNzUEAAAAAZc3NQQAAAABlzc1BAAAAAGXNzUEAAAAAZc3NQQAAAABlzc1BAAAAAGXNzUEAAAAAZc3NQQAAAABlzc1BAAAAAGXNzUEAAAAAZc3NQQAAAABlzc1BAAAAAGXNzUEAAAAAZc3NQQAAAABlzc1BAAAAAGXNzUEAAAAAZc3NQQAAAABlzc1BAAAAAGXNzUEAAAAAZc3NQQAAAABlzc1BAAAAAGXNzUEAAAAAZc3NQQAAAABlzc1BAAAAAGXNzUEAAAAAZc3NQQAAAABlzc1BAAAAAGXNzUEAAAAAZc3NQQAAAABlzc1BAAAAAGXNzUEAAAAAZc3NQQAAAABlzc1BAAAAAGXNzUEAAAAAZc3NQQAAAABlzc1BAAAAAGXNzUEAAAAAZc3NQQAAAABlzc1BAAAAAGXNzUEAAAAAZc3NQQAAAABlzc1BAAAAAGXNzUEAAAAAZc3NQQAAAABlzc1BAAAAAGXNzUEAAAAAZc3NQQAAAABlzc1BAAAAAGXNzUEAAAAAZc3NQQAAAABlzc1BAAAAAGXNzUEAAAAAZc3NQQAAAABlzc1BAAAAAGXNzUEAAAAAZc3NQQAAAABlzc1BAAAAAGXNzUEAAAAAZc3NQQAAAABlzc1BAAAAAGXNzUEAAAAAZc3NQQAAAABlzc1BAAAAAGXNzUEAAAAAZc3NQQAAAABlzc1BAAAAAGXNzUEAAAAAZc3NQQAAAABlzc1BAAAAAGXNzUEAAAAAZc3NQQAAAABlzc1BAAAAAGXNzUEAAAAAZc3NQQ==\",\"dtype\":\"float64\",\"order\":\"little\",\"shape\":[137]},\"Percent Positive\":{\"__ndarray__\":\"pWeyZG8/MUBsneFZ150tQCz6N3vxK0RAbTGPWYlwL0DhNvK4+5cwQMuFBSQeJzBAZ/akOJGfLUA/OVP9Kog6QJQJs5PEYyVAA66KINWUGkBQl17SVr4XQLQDmL4RkRFAm5eJCdFESUDIyzOdXUwYQB/mtHtA7hVA1FHxSoEpFUAWBc2XZksiQFiQyQ+UphFAtYiCZ0GnFkDFiW6vx50SQOxllHPopzRAYIg6m2ojE0DzIb1CRjQRQLEys9oYLw9ACPO/psRlDUB5WImlq0MdQNBQ+G+HTwtA/3G/q0zmGkAz+p7rJSkVQCupQU+3tgxAuK/yDgQrCEBjLhUPghJJQPfISlnC5g9ANaG6w8aNBUDwqnCJqiMMQAvo+kq0/hRAbOGe5IhFCkClryu9co4PQFv8Q+eXhxFAO2trzhgLDECd7D+xlFgEQKVb3hpOnUZAVOzB4MP1EEAnLdKmEl8LQDydZvzG6AVAByYTDqzXE0A1g+PvfbYGQAzfOubBZh1AAbtNo/igIUAdDSmN/HUaQN3sbObH7htAdOa/VlTwRECMaatSFS8fQDu30YNI5SFA5H1G3tYsH0DFwwDgrYMiQGRMWLPeNBNAWxXbvF4IEkAlVQyP4+gOQJ8BsNwTfwpAV4qKhTaEMkBd87IvaOYJQIMSbcC32wlAVwrKP/BgDUCz15i7Z2MPQK5g2OZyJRBAbzv/EMs7BkBtiQQaanYcQAX4EtqRXyFA8D0pDoNfHEB1TngZEsBBQJiFY/OpMhZAxF15DcviGUCo/6cJLXUdQO+im+suqBpAq+YeXRxZIUB8OOGPh9EOQIemimeovw9AgEYri4F0FkCLx3jf9/MKQGvcLH2/HQlAkUniCxuTQECrq9HQOSsLQOAkKU9KuQxAX4L9fJ5KCUDJPhDjXxoRQICvVNXAnQxA+bzN1ZnxHkBVVkldjTQmQErYa/zxfiBAj3nxUWklHECtNl6kzcFHQOxS8548QiFAcBq+ExDDHkCNCNTVidQaQGfoycqlhCdAJZgmdZCCHkBb6FxrBfUaQFH9SXiTUSBA6a5hXDNtG0B3WyWlVHQSQAu733NDfkVA8+RHfyDCF0Agq1MwfloYQIOQS17IdhNA0bFrEsG1HkARQCe3+ZoYQEdDfKWbVCRAlWAN0/7sJkBY9+Y4lBQjQI1aD4MkCCBAIjrPfRKyREB0+mxF5jUkQCPliBcuqiJAvSK4KBuxI0DjKiTFdaMvQAFC/K9bfhxAV32iVfARE0CAau1NiN8WQH19LCq8+w9ARcXY9kJ8MEA3Clt0XYMwQCn+Rx/u0xRAXQvPvAI2FkAX+p+OnOARQMg+QKm4sRVA++XuVadcDED89/tXwDEVQP1Vzmy6yhpAvzGpbuvtEEBNDErehl5BQC66Suz5ChBAUXDRvCTPF0BFt3Ad4c0bQL2SgUEZzxZAsCRB/Mk6HEBPFLjvGbwLQA==\",\"dtype\":\"float64\",\"order\":\"little\",\"shape\":[137]},\"Percent Positive Scaled\":{\"__ndarray__\":\"pWeyZG8/IUBsneFZ150dQCz6N3vxKzRAbTGPWYlwH0DhNvK4+5cgQMuFBSQeJyBAZ/akOJGfHUA/OVP9KogqQJQJs5PEYxVAA66KINWUCkBQl17SVr4HQLQDmL4RkQFAm5eJCdFEOUDIyzOdXUwIQB/mtHtA7gVA1FHxSoEpBUAWBc2XZksSQFiQyQ+UpgFAtYiCZ0GnBkDFiW6vx50CQOxllHPopyRAYIg6m2ojA0DzIb1CRjQBQLEys9oYL/8/CPO/psRl/T95WImlq0MNQNBQ+G+HT/s//3G/q0zmCkAz+p7rJSkFQCupQU+3tvw/uK/yDgQr+D9jLhUPghI5QPfISlnC5v8/NaG6w8aN9T/wqnCJqiP8Pwvo+kq0/gRAbOGe5IhF+j+lryu9co7/P1v8Q+eXhwFAO2trzhgL/D+d7D+xlFj0P6Vb3hpOnTZAVOzB4MP1AEAnLdKmEl/7PzydZvzG6PU/ByYTDqzXA0A1g+Pvfbb2PwzfOubBZg1AAbtNo/igEUAdDSmN/HUKQN3sbObH7gtAdOa/VlTwNECMaatSFS8PQDu30YNI5RFA5H1G3tYsD0DFwwDgrYMSQGRMWLPeNANAWxXbvF4IAkAlVQyP4+j+P58BsNwTf/o/V4qKhTaEIkBd87IvaOb5P4MSbcC32/k/VwrKP/Bg/T+z15i7Z2P/P65g2OZyJQBAbzv/EMs79j9tiQQaanYMQAX4EtqRXxFA8D0pDoNfDEB1TngZEsAxQJiFY/OpMgZAxF15DcviCUCo/6cJLXUNQO+im+suqApAq+YeXRxZEUB8OOGPh9H+P4emimeov/8/gEYri4F0BkCLx3jf9/P6P2vcLH2/Hfk/kUniCxuTMECrq9HQOSv7P+AkKU9Kufw/X4L9fJ5K+T/JPhDjXxoBQICvVNXAnfw/+bzN1ZnxDkBVVkldjTQWQErYa/zxfhBAj3nxUWklDECtNl6kzcE3QOxS8548QhFAcBq+ExDDDkCNCNTVidQKQGfoycqlhBdAJZgmdZCCDkBb6FxrBfUKQFH9SXiTURBA6a5hXDNtC0B3WyWlVHQCQAu733NDfjVA8+RHfyDCB0Agq1MwfloIQIOQS17IdgNA0bFrEsG1DkARQCe3+ZoIQEdDfKWbVBRAlWAN0/7sFkBY9+Y4lBQTQI1aD4MkCBBAIjrPfRKyNEB0+mxF5jUUQCPliBcuqhJAvSK4KBuxE0DjKiTFdaMfQAFC/K9bfgxAV32iVfARA0CAau1NiN8GQH19LCq8+/8/RcXY9kJ8IEA3Clt0XYMgQCn+Rx/u0wRAXQvPvAI2BkAX+p+OnOABQMg+QKm4sQVA++XuVadc/D/89/tXwDEFQP1Vzmy6ygpAvzGpbuvtAEBNDErehl4xQC66Suz5CgBAUXDRvCTPB0BFt3Ad4c0LQL2SgUEZzwZAsCRB/Mk6DEBPFLjvGbz7Pw==\",\"dtype\":\"float64\",\"order\":\"little\",\"shape\":[137]},\"Plate\":{\"__ndarray__\":\"AAAAAAAAAEAAAAAAAAAIQAAAAAAAACRAAAAAAAAACEAAAAAAAAAUQAAAAAAAABxAAAAAAAAAGEAAAAAAAAAQQAAAAAAAACJAAAAAAAAAAEAAAAAAAAAIQAAAAAAAACRAAAAAAAAAEEAAAAAAAAAUQAAAAAAAABxAAAAAAAAAGEAAAAAAAAAQQAAAAAAAACJAAAAAAAAAAEAAAAAAAAAIQAAAAAAAACRAAAAAAAAAEEAAAAAAAAAUQAAAAAAAABxAAAAAAAAAGEAAAAAAAAAQQAAAAAAAACJAAAAAAAAAIkAAAAAAAAAAQAAAAAAAAAhAAAAAAAAAJEAAAAAAAAAQQAAAAAAAABRAAAAAAAAAHEAAAAAAAAAYQAAAAAAAABRAAAAAAAAAIkAAAAAAAAAgQAAAAAAAAABAAAAAAAAACEAAAAAAAAAkQAAAAAAAABBAAAAAAAAAFEAAAAAAAAAcQAAAAAAAABhAAAAAAAAAFEAAAAAAAAAiQAAAAAAAAPA/AAAAAAAA8D8AAAAAAAAAQAAAAAAAACRAAAAAAAAACEAAAAAAAAAUQAAAAAAAABxAAAAAAAAAGEAAAAAAAAAQQAAAAAAAACBAAAAAAAAA8D8AAAAAAADwPwAAAAAAAABAAAAAAAAAJEAAAAAAAAAIQAAAAAAAABRAAAAAAAAAHEAAAAAAAAAYQAAAAAAAABBAAAAAAAAAIEAAAAAAAADwPwAAAAAAAPA/AAAAAAAAAEAAAAAAAAAkQAAAAAAAAAhAAAAAAAAAFEAAAAAAAAAcQAAAAAAAABhAAAAAAAAAEEAAAAAAAAAgQAAAAAAAAPA/AAAAAAAA8D8AAAAAAAAAQAAAAAAAACRAAAAAAAAACEAAAAAAAAAUQAAAAAAAABxAAAAAAAAAGEAAAAAAAAAQQAAAAAAAACJAAAAAAAAA8D8AAAAAAAAAQAAAAAAAAABAAAAAAAAAJEAAAAAAAAAIQAAAAAAAABRAAAAAAAAAHEAAAAAAAAAYQAAAAAAAABBAAAAAAAAAIkAAAAAAAADwPwAAAAAAAABAAAAAAAAAAEAAAAAAAAAkQAAAAAAAAAhAAAAAAAAAFEAAAAAAAAAcQAAAAAAAABhAAAAAAAAAEEAAAAAAAAAiQAAAAAAAAPA/AAAAAAAAAEAAAAAAAAAIQAAAAAAAACRAAAAAAAAACEAAAAAAAAAUQAAAAAAAABxAAAAAAAAAGEAAAAAAAAAQQAAAAAAAACJAAAAAAAAA8D8AAAAAAADwPwAAAAAAAABAAAAAAAAAJEAAAAAAAAAIQAAAAAAAABRAAAAAAAAAGEAAAAAAAAAYQAAAAAAAABBAAAAAAAAAIEAAAAAAAADwPwAAAAAAAPA/AAAAAAAAAEAAAAAAAAAkQAAAAAAAAAhAAAAAAAAAFEAAAAAAAAAYQAAAAAAAABhAAAAAAAAAEEAAAAAAAAAgQA==\",\"dtype\":\"float64\",\"order\":\"little\",\"shape\":[137]},\"Receptor\":[\"CD59\",\"Ly6S\",\"Ly6a\",\"Ly6c1\",\"Ly6e\",\"Ly6h\",\"Lynx1\",\"Lypd5\",\"None\",\"CD59\",\"Ly6S\",\"Ly6a\",\"Ly6c1\",\"Ly6e\",\"Ly6h\",\"Lynx1\",\"Lypd5\",\"None\",\"CD59\",\"Ly6S\",\"Ly6a\",\"Ly6c1\",\"Ly6e\",\"Ly6h\",\"Lynx1\",\"Lypd5\",\"None\",\"None\",\"CD59\",\"Ly6S\",\"Ly6a\",\"Ly6c1\",\"Ly6e\",\"Ly6h\",\"Lynx1\",\"Lypd5\",\"None\",\"None\",\"CD59\",\"Ly6S\",\"Ly6a\",\"Ly6c1\",\"Ly6e\",\"Ly6h\",\"Lynx1\",\"Lypd5\",\"None\",\"Bsg\",\"CD59\",\"Ly6S\",\"Ly6a\",\"Ly6c1\",\"Ly6e\",\"Ly6h\",\"Lynx1\",\"Lypd5\",\"None\",\"Bsg\",\"CD59\",\"Ly6S\",\"Ly6a\",\"Ly6c1\",\"Ly6e\",\"Ly6h\",\"Lynx1\",\"Lypd5\",\"None\",\"Bsg\",\"CD59\",\"Ly6S\",\"Ly6a\",\"Ly6c1\",\"Ly6e\",\"Ly6h\",\"Lynx1\",\"Lypd5\",\"None\",\"Bsg\",\"CD59\",\"Ly6S\",\"Ly6a\",\"Ly6c1\",\"Ly6e\",\"Ly6h\",\"Lynx1\",\"Lypd5\",\"None\",\"Bsg\",\"CD59\",\"Ly6S\",\"Ly6a\",\"Ly6c1\",\"Ly6e\",\"Ly6h\",\"Lynx1\",\"Lypd5\",\"None\",\"Bsg\",\"CD59\",\"Ly6S\",\"Ly6a\",\"Ly6c1\",\"Ly6e\",\"Ly6h\",\"Lynx1\",\"Lypd5\",\"None\",\"Bsg\",\"CD59\",\"Ly6S\",\"Ly6a\",\"Ly6c1\",\"Ly6e\",\"Ly6h\",\"Lynx1\",\"Lypd5\",\"None\",\"Bsg\",\"CD59\",\"Ly6S\",\"Ly6a\",\"Ly6c1\",\"Ly6e\",\"Ly6h\",\"Lynx1\",\"Lypd5\",\"None\",\"Bsg\",\"CD59\",\"Ly6S\",\"Ly6a\",\"Ly6c1\",\"Ly6e\",\"Ly6h\",\"Lynx1\",\"Lypd5\",\"None\"],\"Round\":{\"__ndarray__\":\"AAAAAAAAKkAAAAAAAAAqQAAAAAAAACpAAAAAAAAAKkAAAAAAAAAqQAAAAAAAACpAAAAAAAAAKkAAAAAAAAAqQAAAAAAAACpAAAAAAAAAKkAAAAAAAAAqQAAAAAAAACpAAAAAAAAAKkAAAAAAAAAqQAAAAAAAACpAAAAAAAAAKkAAAAAAAAAqQAAAAAAAACpAAAAAAAAAKkAAAAAAAAAqQAAAAAAAACpAAAAAAAAAKkAAAAAAAAAqQAAAAAAAACpAAAAAAAAAKkAAAAAAAAAqQAAAAAAAACpAAAAAAAAAKkAAAAAAAAAqQAAAAAAAACpAAAAAAAAAKkAAAAAAAAAqQAAAAAAAACpAAAAAAAAAKkAAAAAAAAAqQAAAAAAAACpAAAAAAAAAKkAAAAAAAAAqQAAAAAAAACpAAAAAAAAAKkAAAAAAAAAqQAAAAAAAACpAAAAAAAAAKkAAAAAAAAAqQAAAAAAAACpAAAAAAAAAKkAAAAAAAAAqQAAAAAAAACpAAAAAAAAAKkAAAAAAAAAqQAAAAAAAACpAAAAAAAAAKkAAAAAAAAAqQAAAAAAAACpAAAAAAAAAKkAAAAAAAAAqQAAAAAAAACpAAAAAAAAAKkAAAAAAAAAqQAAAAAAAACpAAAAAAAAAKkAAAAAAAAAqQAAAAAAAACpAAAAAAAAAKkAAAAAAAAAqQAAAAAAAACpAAAAAAAAAKkAAAAAAAAAqQAAAAAAAACpAAAAAAAAAKkAAAAAAAAAqQAAAAAAAACpAAAAAAAAAKkAAAAAAAAAqQAAAAAAAACpAAAAAAAAAKkAAAAAAAAAqQAAAAAAAACpAAAAAAAAAKkAAAAAAAAAqQAAAAAAAACpAAAAAAAAAKkAAAAAAAAAqQAAAAAAAACpAAAAAAAAAKkAAAAAAAAAqQAAAAAAAACpAAAAAAAAAKkAAAAAAAAAqQAAAAAAAACpAAAAAAAAAKkAAAAAAAAAqQAAAAAAAACpAAAAAAAAAKkAAAAAAAAAqQAAAAAAAACpAAAAAAAAAKkAAAAAAAAAqQAAAAAAAACpAAAAAAAAAKkAAAAAAAAAqQAAAAAAAACpAAAAAAAAAKkAAAAAAAAAqQAAAAAAAACpAAAAAAAAAKkAAAAAAAAAqQAAAAAAAACpAAAAAAAAAKkAAAAAAAAAqQAAAAAAAACpAAAAAAAAAKkAAAAAAAAAqQAAAAAAAACpAAAAAAAAAKkAAAAAAAAAqQAAAAAAAACpAAAAAAAAAKkAAAAAAAAAqQAAAAAAAACpAAAAAAAAAKkAAAAAAAAAqQAAAAAAAACpAAAAAAAAAKkAAAAAAAAAqQAAAAAAAACpAAAAAAAAAKkAAAAAAAAAqQAAAAAAAACpAAAAAAAAAKkAAAAAAAAAqQAAAAAAAACpAAAAAAAAAKkAAAAAAAAAqQAAAAAAAACpAAAAAAAAAKkAAAAAAAAAqQA==\",\"dtype\":\"float64\",\"order\":\"little\",\"shape\":[137]},\"Signal Area\":{\"__ndarray__\":\"VVVVVbW15UBVVVVV1TPeQKuqqqraKfFAVVVVVRW+10Crqqqq6s7cQFVVVVUVNOJAVVVVVZV53UAAAAAAAPvoQAAAAADA39tAq6qqqqpP0ECrqqqqKgrLQKuqqqqqL79Aq6qqqtoK8UBVVVVV1dzBQKuqqqqq5chAAAAAAACfwkBVVVVVVcnPQKuqqqqqosFAAAAAAAC1zUBVVVVVVYXEQKuqqqrKV+JAAAAAAADIuUCrqqqqqsK5QKuqqqqq/cFAVVVVVVWYu0BVVVVVVV7JQAAAAAAAe71AVVVVVdUhykAAAAAAABXIQKuqqqqq6sFAVVVVVVXVtECrqqqqukPyQKuqqqqqDblAAAAAAACDvkAAAAAAABq5QKuqqqqqx8BAAAAAAIAHwUAAAAAAAI7EQAAAAAAAPcdAq6qqqqo6wUCrqqqqqjGxQKuqqqraJfFAAAAAAADluUBVVVVVVXC+QFVVVVVVbrRAVVVVVVXxvUBVVVVVVU6+QFVVVVXVDc1Aq6qqqupn1kAAAAAAgCbQQKuqqqoq0MZAAAAAAJAw9kBVVVVV1bzHQFVVVVVVh9BAq6qqqiqtyUBVVVVV1VbQQFVVVVVVX8lAq6qqqqqywECrqqqqql7FQAAAAAAAVcBAq6qqqurN30BVVVVVVfy8QAAAAAAAmLVAq6qqqqoSukBVVVVVVfi5QAAAAAAAPMBAAAAAAABNwECrqqqqKtbNQFVVVVXVONdAAAAAAADgz0AAAAAAwIvuQKuqqqqqD8pAq6qqqir8w0AAAAAAACrNQAAAAAAAuMdAAAAAAIAc0EAAAAAAAGLHQFVVVVVVtLxAVVVVVdWkzkBVVVVVVce+QKuqqqqq3bVAAAAAAKDd8kBVVVVVVfu3QAAAAAAAf71AAAAAAABpt0BVVVVV1ebBQAAAAAAAzL9AVVVVVdWJ0ECrqqqqahPVQAAAAAAAoNJAq6qqqqrqxkCrqqqq6vX3QAAAAACAlctAq6qqqipK0UAAAAAAAErIQFVVVVUVGtZAq6qqqqrwyEBVVVVV1dzJQFVVVVVVstBAVVVVVVUyzECrqqqqKmTAQAAAAADwk/ZAq6qqqipGxUAAAAAAgJ/LQAAAAAAA68JAVVVVVdXFzUAAAAAAgL7HQAAAAABA5dRAAAAAAMA52kAAAAAAQJrUQAAAAACADMtAVVVVVcW98kCrqqqqahzQQFVVVVWVy9RAq6qqqqqK0UBVVVVVVe/aQFVVVVWVNdBAAAAAAAAMwEAAAAAAANzOQFVVVVVV/MNAq6qqqqo02UCrqqqq6lbhQKuqqqqqhrtAq6qqqiq8xUCrqqqqqtO8QAAAAACAcMVAVVVVVdVSxECrqqqqqnrCQAAAAAAAkdJAq6qqqirnxEAAAAAAoLnrQAAAAAAAssBAVVVVVdW5wECrqqqqqtPMQFVVVVVVusFAq6qqqqrkx0BVVVVV1TrCQA==\",\"dtype\":\"float64\",\"order\":\"little\",\"shape\":[137]},\"Total Brightness\":{\"__ndarray__\":\"lOg9k+gS1kAn0Hol0OXFQDOJ3jOpXOVAeXl5eXlGv0AUab4TaVHDQMVvGsVv2c1Akec8kmcVxUCY7UKYrQjXQAtgtQrgvcZAqf5Tqf5hr0CMNuGLNrGmQLe1tbW1OZhAv8HBwUER50CR6T6U6eKbQDw8PDw8wKVAe9Ale9Adn0A3440443uvQPf39/f3E5tAJ9B6JdAuq0CxWwaxW7aeQBgYGBiYEtNA34k034mgkUC3DGK3DPaRQIWGhoaGRpxA8ESa70T+lUB3zCF3zMGnQF1cXFxcuJRA4Iw34oyrpkBgtQpgtZyjQFetAlitFplA65dC7Zfyi0BTpvtQhhfpQAcHBwcH95FAUE9PT0/nlkCgnp6enhKSQO1Dme5DNZhAoaCgoKBYlUBF8pxH8sSeQJ9K9Z9K96JAD7ljDrnzmUCQjo6Ojm6FQLhjDrkDKOZAtApgtQokkkDhjDfijHOXQFhUVFRUNI5AyB1zyB2XlUCXQu2XQmGTQNkuhNku8qlAaL0SaL1RuUDR1tbW1n6vQNEle9AlDaNAtVwHsryg70C0CF6zCG6kQD09PT09865AR5zxRpyFp0Blug9lui6wQKNL9qBLaqdANzc3NzczkkBxxxxyxwibQDfijDfi3JNA2YEs1wEBzkDLInjNIoiOQHQeyXMeSYZAzc7Ozs5WjUAn0Hol0AKOQNvb29vbS5NAm0bxm0atlECj+k+l+kurQODf39/f4bpAqwBWqwAyrkDZ2dnZ2eriQIzgNYvgkadAIMp0H8oSoUDTKX/UKdGqQJVA65VAY6VAU1JSUlKSr0A8PDw8POKjQHDFGnDFYpNA+KBL9qA3q0An0Hol0HKWQBXAahXAWo1AySB2y8By6UCtAlitAiiQQODf39/fX5ZA7JdC7ZeSkUD9/Pz8/BycQAVarwRau5RA5Y865Y8PsEAzNDQ0NLe2QJxH8pxHv7JALi8vLy/9o0C5DmS5jvnxQNPT09PTC6xAaxXAahV0sUBkY2NjYyemQKX6T6X6f7lApaOjo6MdpUAbcMUacA2nQMhyHchyh69A09LS0tKgqUCFMNuFMBOZQMx2IcwGbPBAaLwRZ7wxoUBtwRZswbipQFRUVFRUaKBAwGcSvWeMrEC3CmC1Ch6kQAiyXAeyLbtAnEbxm0buwUCzsLCwsIC1QBcVFRUVgahAlOg9k+hB6kC1Yw65Y5SvQCsrKysrH7dAKdJ8J9IwskDvmkXwGo3BQAu2YAu2Qq5AOzs7OztDlkCELNeBLDmsQBW/aRS/TaBAjDbhi7aPxkDsP5XqP2TPQNyGMdyG0ZNASUtLS0sPo0AHs10Is3mUQA8ODg4OkqFAQ+uVQOtfoEDTeybRe9qaQPtPpfpPsbJA70OZ7kMZoUDMIHbLgOXgQDEwMDAwwJdAZLsQZrvEmUCI3DGH3BerQNMle9Ala5pApU/6pE/6pEDBGW/EGQ+cQA==\",\"dtype\":\"float64\",\"order\":\"little\",\"shape\":[137]},\"Total Brightness per Signal Area\":{\"__ndarray__\":\"5UFa3GVC4D9cT6rLYTPXP4lUNObA5OM/66xRkn3m1D/59s1+fXPVP8CJuQaXONo/KJZI67Pd1j/D4kqD+HzdP8AD+PSZl9k/2ztiRfOtzj8/QH61ZNfKP9f4hsVYuMg//VZK54Gn5T8JuW/zK/HIP9Cj347q1cs/F8R/yyG8yj9Es429zJLPPyRJnC07kMg/MwvEFFNGzT/UkyR0owbIP/N7AE91m+A/rwOAMUrNxT+fW+hQoU/GPwEcI5o1I8k/CLcWVGiCyT9gg4b0BQTOP9ABFONbiMY/qXyAfFGuyz8P+w4fSxrKPxvPpKdgfMY/e4+586dkxT8sdejWWfflP8Aa/OJS8MY/KHa7S74WyD/Z1UB8EfnGP5N3lJqCDMc/ZU9Y6pQoxD+o74F7VwHIP4NI5wMeF8o/xSjmSofNxz8syZ0fZOfDP/3AbdjkrOQ/3Xgb/plbxj+AVaohAYPIPwgyN58mpsc/VR5//OMExz/BtK0XhYLEP1frZqAckMw/2lmnDZ4R0j+UWxaCFirPP5v6jqNopso/zQBFmVPX5j9BPTJ9PErLP3AZtaiS9s0/XDGGa3BSzT/LYem4KJfPP/ERNiqgg80/fcH//AyxwT8JrtMWeErEP23+hL6QxcM/3fcZ+bYt3j9y0t4t4d3AP9elT3+ihsA/YwPbDiQKwj+ooBZrKnXCP9fyUBNIE8M/+RHV4VdMxD+j/u8akkfNP8RG28bghNI/8zjOSEIwzj8P0UqlaM/jP7iuFk/Utsw/wfZhQWQ8yz9TqMvj4DzNP/0unUJDxsw/T0e+399Uzz+TYAB6dzfLPxmYIUxTl8U/fNMMJRZkzD/A0a3LcWzHP9P8uVJTesU/jeHwc/iT5T+FBUiqJWPFP+02lyDIOcg/ldNbh2QFyD8NP3ojlxjJP6p9Nb8I7MQ/iC3dFKDjzj+Rh2UrpDzRPxPNIzLoDtA/vXdNSGGKyz/bhsi3KwHoPzCka9gFVM8/eUSWoJQd0D93DqVexd7MPwHYanEZUNI/K4mIVOj0yj+7QAWaCe3LP5H9QlhfLs4/HJzavRENzT8YQNlyvHLIP8UekxIfO+c/l0QNPKTPyT9cEmP0Bp/NP7gImp4SvMs/5aBYIQ9wzj8Z243lABTLPx+dL3frEdQ/Nzy/EUTf1T9DidimGZ3QPyuIkQo+k8w/i0cJ2Coj5j/vTAZ0/SbPPykHzlcxmtE/jbyt1X1K0D+oGy+sCdfUP0wkACJR2s0/Odkh/No5xj83n6ilakTNPyV9mENwHMo/LeAbxNKf3D/x5lvXHuHcP2e8bk/ADsc/dc/FTCb0yz8svnGsCrnGP1WzhzStLMo/xSki7UmJyT+g+BM06zfHP8TiMP/vEtA/FU2dDGQpyj8PTVZbgHrjP6WU0cIMw8Y/SMjhO5yhyD+tZ7jbQxfOP022sZOf1Mc/dAklotsNzD9A9iiz4p/IPw==\",\"dtype\":\"float64\",\"order\":\"little\",\"shape\":[137]},\"Virus\":[\"9P08\",\"9P08\",\"9P08\",\"9P08\",\"9P08\",\"9P08\",\"9P08\",\"9P08\",\"9P08\",\"9P13\",\"9P13\",\"9P13\",\"9P13\",\"9P13\",\"9P13\",\"9P13\",\"9P13\",\"9P13\",\"9P16\",\"9P16\",\"9P16\",\"9P16\",\"9P16\",\"9P16\",\"9P16\",\"9P16\",\"9P16\",\"9P31\",\"9P33\",\"9P33\",\"9P33\",\"9P33\",\"9P33\",\"9P33\",\"9P33\",\"9P33\",\"9P33\",\"9P36\",\"9P39\",\"9P39\",\"9P39\",\"9P39\",\"9P39\",\"9P39\",\"9P39\",\"9P39\",\"9P39\",\"AAV-F\",\"AAV-F\",\"AAV-F\",\"AAV-F\",\"AAV-F\",\"AAV-F\",\"AAV-F\",\"AAV-F\",\"AAV-F\",\"AAV-F\",\"CAP-B10\",\"CAP-B10\",\"CAP-B10\",\"CAP-B10\",\"CAP-B10\",\"CAP-B10\",\"CAP-B10\",\"CAP-B10\",\"CAP-B10\",\"CAP-B10\",\"CAP-B22\",\"CAP-B22\",\"CAP-B22\",\"CAP-B22\",\"CAP-B22\",\"CAP-B22\",\"CAP-B22\",\"CAP-B22\",\"CAP-B22\",\"CAP-B22\",\"PHP.C1\",\"PHP.C1\",\"PHP.C1\",\"PHP.C1\",\"PHP.C1\",\"PHP.C1\",\"PHP.C1\",\"PHP.C1\",\"PHP.C1\",\"PHP.C1\",\"PHP.C2\",\"PHP.C2\",\"PHP.C2\",\"PHP.C2\",\"PHP.C2\",\"PHP.C2\",\"PHP.C2\",\"PHP.C2\",\"PHP.C2\",\"PHP.C2\",\"PHP.C3\",\"PHP.C3\",\"PHP.C3\",\"PHP.C3\",\"PHP.C3\",\"PHP.C3\",\"PHP.C3\",\"PHP.C3\",\"PHP.C3\",\"PHP.C3\",\"PHP.C4\",\"PHP.C4\",\"PHP.C4\",\"PHP.C4\",\"PHP.C4\",\"PHP.C4\",\"PHP.C4\",\"PHP.C4\",\"PHP.C4\",\"PHP.C4\",\"PHP.N\",\"PHP.N\",\"PHP.N\",\"PHP.N\",\"PHP.N\",\"PHP.N\",\"PHP.N\",\"PHP.N\",\"PHP.N\",\"PHP.N\",\"PHP.eB\",\"PHP.eB\",\"PHP.eB\",\"PHP.eB\",\"PHP.eB\",\"PHP.eB\",\"PHP.eB\",\"PHP.eB\",\"PHP.eB\",\"PHP.eB\"],\"Well\":{\"__ndarray__\":\"AAAAAAAANEAAAAAAAAAgQAAAAAAAAExAAAAAAAAAV0AAAAAAAABRQAAAAAAAAEZAAAAAAAAATEAAAAAAAABUQAAAAAAAAENAAAAAAAAAQ0AAAAAAAAAsQAAAAAAAAE9AAAAAAAAAAEAAAAAAAIBSQAAAAAAAAElAAAAAAAAAT0AAAAAAAIBVQAAAAAAAgEdAAAAAAAAARkAAAAAAAAA0QAAAAAAAAFFAAAAAAAAAIEAAAAAAAABUQAAAAAAAAExAAAAAAAAAUUAAAAAAAABXQAAAAAAAAExAAAAAAADAVEAAAAAAAAA6QAAAAAAAADpAAAAAAACAUkAAAAAAAAAsQAAAAAAAgFVAAAAAAAAAT0AAAAAAAIBSQAAAAAAAAABAAAAAAABAUEAAAAAAAABGQAAAAAAAAEBAAAAAAAAAQEAAAAAAAABUQAAAAAAAADRAAAAAAAAAV0AAAAAAAABRQAAAAAAAAFRAAAAAAAAAIEAAAAAAAIBSQAAAAAAAACxAAAAAAACAUkAAAAAAAABPQAAAAAAAACxAAAAAAAAASUAAAAAAAAA6QAAAAAAAAABAAAAAAAAALEAAAAAAAABDQAAAAAAAwFFAAAAAAAAANEAAAAAAAABUQAAAAAAAAFFAAAAAAAAANEAAAAAAAABMQAAAAAAAAEBAAAAAAAAAIEAAAAAAAAA0QAAAAAAAAEZAAAAAAAAAVEAAAAAAAAA6QAAAAAAAgFVAAAAAAACAUkAAAAAAAAA6QAAAAAAAAE9AAAAAAAAAQ0AAAAAAAAAsQAAAAAAAADpAAAAAAAAASUAAAAAAAEBWQAAAAAAAAEBAAAAAAAAAV0AAAAAAAABUQAAAAAAAAEBAAAAAAAAAUUAAAAAAAABGQAAAAAAAADRAAAAAAAAAQEAAAAAAAABMQAAAAAAAAABAAAAAAAAAQ0AAAAAAAAAAQAAAAAAAgFVAAAAAAAAAQ0AAAAAAAIBSQAAAAAAAAElAAAAAAAAAOkAAAAAAAABDQAAAAAAAAE9AAAAAAAAAJkAAAAAAAABGQAAAAAAAACBAAAAAAAAAV0AAAAAAAABGQAAAAAAAAFRAAAAAAAAATEAAAAAAAABAQAAAAAAAAEZAAAAAAAAAUUAAAAAAAAA0QAAAAAAAAElAAAAAAAAALEAAAAAAAAAAQAAAAAAAAElAAAAAAACAVUAAAAAAAABPQAAAAAAAAENAAAAAAAAASUAAAAAAAIBSQAAAAAAAAD1AAAAAAAAAIEAAAAAAAABRQAAAAAAAAExAAAAAAAAAIEAAAAAAAABGQAAAAAAAADRAAAAAAAAAV0AAAAAAAAAgQAAAAAAAAEBAAAAAAAAAT0AAAAAAAAAAQAAAAAAAAE9AAAAAAAAASUAAAAAAAAAAQAAAAAAAAENAAAAAAAAALEAAAAAAAIBVQAAAAAAAAABAAAAAAAAAOkAAAAAAAIBKQA==\",\"dtype\":\"float64\",\"order\":\"little\",\"shape\":[137]},\"index\":[0,1,2,3,4,5,6,7,8,9,10,11,12,13,14,15,16,17,18,19,20,21,22,23,24,25,26,27,28,29,30,31,32,33,34,35,36,37,38,39,40,41,42,43,44,45,46,47,48,49,50,51,52,53,54,55,56,57,58,59,60,61,62,63,64,65,66,67,68,69,70,71,72,73,74,75,76,77,78,79,80,81,82,83,84,85,86,87,88,89,90,91,92,93,94,95,96,97,98,99,100,101,102,103,104,105,106,107,108,109,110,111,112,113,114,115,116,117,118,119,120,121,122,123,124,125,126,127,128,129,130,131,132,133,134,135,136]},\"selected\":{\"id\":\"1596\"},\"selection_policy\":{\"id\":\"1595\"}},\"id\":\"1501\",\"type\":\"ColumnDataSource\"},{\"attributes\":{},\"id\":\"1593\",\"type\":\"CategoricalTickFormatter\"},{\"attributes\":{},\"id\":\"1516\",\"type\":\"CategoricalTicker\"},{\"attributes\":{\"tools\":[{\"id\":\"1518\"},{\"id\":\"1519\"},{\"id\":\"1520\"},{\"id\":\"1521\"},{\"id\":\"1522\"},{\"id\":\"1523\"},{\"id\":\"1541\"}]},\"id\":\"1525\",\"type\":\"Toolbar\"},{\"attributes\":{},\"id\":\"1533\",\"type\":\"BasicTicker\"},{\"attributes\":{\"fill_alpha\":{\"value\":0.1},\"fill_color\":{\"field\":\"Total Brightness per Signal Area\",\"transform\":{\"id\":\"1532\"}},\"hatch_alpha\":{\"value\":0.1},\"line_alpha\":{\"value\":0.1},\"line_color\":{\"value\":\"#1f77b4\"},\"size\":{\"field\":\"Percent Positive\"},\"x\":{\"field\":\"Virus\"},\"y\":{\"field\":\"Receptor\"}},\"id\":\"1537\",\"type\":\"Scatter\"},{\"attributes\":{\"axis\":{\"id\":\"1512\"},\"coordinates\":null,\"group\":null,\"ticker\":null},\"id\":\"1514\",\"type\":\"Grid\"},{\"attributes\":{\"fill_color\":{\"field\":\"Total Brightness per Signal Area\",\"transform\":{\"id\":\"1532\"}},\"line_color\":{\"value\":\"#1f77b4\"},\"size\":{\"field\":\"Percent Positive\"},\"x\":{\"field\":\"Virus\"},\"y\":{\"field\":\"Receptor\"}},\"id\":\"1536\",\"type\":\"Scatter\"},{\"attributes\":{\"fill_alpha\":{\"value\":0.2},\"fill_color\":{\"field\":\"Total Brightness per Signal Area\",\"transform\":{\"id\":\"1532\"}},\"hatch_alpha\":{\"value\":0.2},\"line_alpha\":{\"value\":0.2},\"line_color\":{\"value\":\"#1f77b4\"},\"size\":{\"field\":\"Percent Positive\"},\"x\":{\"field\":\"Virus\"},\"y\":{\"field\":\"Receptor\"}},\"id\":\"1538\",\"type\":\"Scatter\"},{\"attributes\":{\"axis\":{\"id\":\"1515\"},\"coordinates\":null,\"dimension\":1,\"group\":null,\"ticker\":null},\"id\":\"1517\",\"type\":\"Grid\"},{\"attributes\":{},\"id\":\"1596\",\"type\":\"Selection\"},{\"attributes\":{},\"id\":\"1523\",\"type\":\"HelpTool\"},{\"attributes\":{\"coordinates\":null,\"data_source\":{\"id\":\"1501\"},\"glyph\":{\"id\":\"1536\"},\"group\":null,\"hover_glyph\":null,\"muted_glyph\":{\"id\":\"1538\"},\"nonselection_glyph\":{\"id\":\"1537\"},\"view\":{\"id\":\"1540\"}},\"id\":\"1539\",\"type\":\"GlyphRenderer\"},{\"attributes\":{\"coordinates\":null,\"formatter\":{\"id\":\"1593\"},\"group\":null,\"major_label_orientation\":1.5707963267948966,\"major_label_policy\":{\"id\":\"1594\"},\"ticker\":{\"id\":\"1513\"}},\"id\":\"1512\",\"type\":\"CategoricalAxis\"},{\"attributes\":{},\"id\":\"1594\",\"type\":\"AllLabels\"}],\"root_ids\":[\"1502\"]},\"title\":\"Bokeh Application\",\"version\":\"2.4.3\"}};\n",
       "  const render_items = [{\"docid\":\"728aa120-6ab3-43fa-83c6-2fd3fd751494\",\"root_ids\":[\"1502\"],\"roots\":{\"1502\":\"d1a294cd-2b42-4660-9839-4f3c4d76f5e5\"}}];\n",
       "  root.Bokeh.embed.embed_items_notebook(docs_json, render_items);\n",
       "  }\n",
       "  if (root.Bokeh !== undefined) {\n",
       "    embed_document(root);\n",
       "  } else {\n",
       "    let attempts = 0;\n",
       "    const timer = setInterval(function(root) {\n",
       "      if (root.Bokeh !== undefined) {\n",
       "        clearInterval(timer);\n",
       "        embed_document(root);\n",
       "      } else {\n",
       "        attempts++;\n",
       "        if (attempts > 100) {\n",
       "          clearInterval(timer);\n",
       "          console.log(\"Bokeh: ERROR: Unable to run BokehJS code because BokehJS library is missing\");\n",
       "        }\n",
       "      }\n",
       "    }, 10, root)\n",
       "  }\n",
       "})(window);"
      ],
      "application/vnd.bokehjs_exec.v0+json": ""
     },
     "metadata": {
      "application/vnd.bokehjs_exec.v0+json": {
       "id": "1502"
      }
     },
     "output_type": "display_data"
    },
    {
     "name": "stdout",
     "output_type": "stream",
     "text": [
      "The most positive value is: 50.54 \n",
      "The least positive value is: 2.54 \n",
      "The brightest value is: 0.75 \n",
      "The dimmest value is: 0.13\n"
     ]
    }
   ],
   "source": [
    "p, min_pos, max_pos, min_brightness, max_brightness = cellseg.plot.bubble_plot(df_f2g_1, \n",
    "                                                                               'Virus',\n",
    "                                                                               'Receptor',\n",
    "                                                                               x_values = ['PHP.eB',\n",
    "                                                                                           'CAP-B10',\n",
    "                                                                                           'CAP-B22',\n",
    "                                                                                           '9P08',\n",
    "                                                                                           '9P16',\n",
    "                                                                                           'PHP.N',\n",
    "                                                                                           'PHP.C1',\n",
    "                                                                                           'PHP.C2',\n",
    "                                                                                           'PHP.C3',\n",
    "                                                                                           'PHP.C4',\n",
    "                                                                                           'AAV-F',\n",
    "                                                                                           '9P13',\n",
    "                                                                                           '9P33',\n",
    "                                                                                           '9P39'],\n",
    "                                                                               y_values = ['CD59',\n",
    "                                                                                           'Ly6S',\n",
    "                                                                                           'Lynx1',\n",
    "                                                                                           'Lypd5',\n",
    "                                                                                           'Ly6h',\n",
    "                                                                                           'Ly6e', \n",
    "                                                                                           'Ly6c1',\n",
    "                                                                                           'Ly6a'],\n",
    "                                                                               plot_width = 700, \n",
    "                                                                               plot_height = 400)\n",
    "\n",
    "bokeh.io.show(p)\n",
    "\n",
    "print(\"The most positive value is: %0.2f \\nThe least positive value is: %0.2f \\nThe brightest value is: %0.2f \\nThe dimmest value is: %0.2f\" % (max_pos, min_pos, max_brightness, min_brightness))"
   ]
  },
  {
   "cell_type": "code",
   "execution_count": 16,
   "id": "b8128b6c-6653-44df-b5d4-e6c2a47759af",
   "metadata": {},
   "outputs": [],
   "source": [
    "round_inds = df_reduced['Round'] == 10\n",
    "dose_inds = df_reduced['Dose'] == 1e9\n",
    "\n",
    "inds = round_inds & dose_inds\n",
    "\n",
    "df_f2g_2 = df_reduced.loc[inds]\n",
    "\n",
    "# We can determine the mean of each of the values\n",
    "df_f2g_2 = df_f2g_2.groupby(['Virus', 'Receptor', 'Dose']).mean(numeric_only = True).reset_index()"
   ]
  },
  {
   "cell_type": "code",
   "execution_count": 17,
   "id": "ec61ac76-8905-4f43-bd9f-9a6b11292f06",
   "metadata": {},
   "outputs": [
    {
     "data": {
      "text/html": [
       "\n",
       "  <div class=\"bk-root\" id=\"0755776d-6bc8-4d1d-a344-e061eb4286c4\" data-root-id=\"1654\"></div>\n"
      ]
     },
     "metadata": {},
     "output_type": "display_data"
    },
    {
     "data": {
      "application/javascript": [
       "(function(root) {\n",
       "  function embed_document(root) {\n",
       "  const docs_json = {\"593e3e7b-1e73-4bcb-ae0d-8f335c94f29c\":{\"defs\":[],\"roots\":{\"references\":[{\"attributes\":{\"below\":[{\"id\":\"1664\"}],\"center\":[{\"id\":\"1666\"},{\"id\":\"1669\"}],\"height\":400,\"left\":[{\"id\":\"1667\"}],\"output_backend\":\"svg\",\"renderers\":[{\"id\":\"1691\"}],\"right\":[{\"id\":\"1686\"}],\"title\":null,\"toolbar\":{\"id\":\"1677\"},\"width\":250,\"x_range\":{\"id\":\"1656\"},\"x_scale\":{\"id\":\"1660\"},\"y_range\":{\"id\":\"1658\"},\"y_scale\":{\"id\":\"1662\"}},\"id\":\"1654\",\"subtype\":\"Figure\",\"type\":\"Plot\"},{\"attributes\":{\"color_mapper\":{\"id\":\"1684\"},\"coordinates\":null,\"group\":null,\"location\":[0,0],\"major_label_policy\":{\"id\":\"1754\"},\"ticker\":{\"id\":\"1685\"}},\"id\":\"1686\",\"type\":\"ColorBar\"},{\"attributes\":{},\"id\":\"1759\",\"type\":\"Selection\"},{\"attributes\":{\"bottom_units\":\"screen\",\"coordinates\":null,\"fill_alpha\":0.5,\"fill_color\":\"lightgrey\",\"group\":null,\"left_units\":\"screen\",\"level\":\"overlay\",\"line_alpha\":1.0,\"line_color\":\"black\",\"line_dash\":[4,4],\"line_width\":2,\"right_units\":\"screen\",\"syncable\":false,\"top_units\":\"screen\"},\"id\":\"1676\",\"type\":\"BoxAnnotation\"},{\"attributes\":{\"coordinates\":null,\"formatter\":{\"id\":\"1752\"},\"group\":null,\"major_label_policy\":{\"id\":\"1753\"},\"ticker\":{\"id\":\"1668\"}},\"id\":\"1667\",\"type\":\"CategoricalAxis\"},{\"attributes\":{},\"id\":\"1754\",\"type\":\"NoOverlap\"},{\"attributes\":{},\"id\":\"1674\",\"type\":\"ResetTool\"},{\"attributes\":{\"coordinates\":null,\"formatter\":{\"id\":\"1756\"},\"group\":null,\"major_label_orientation\":1.5707963267948966,\"major_label_policy\":{\"id\":\"1757\"},\"ticker\":{\"id\":\"1665\"}},\"id\":\"1664\",\"type\":\"CategoricalAxis\"},{\"attributes\":{},\"id\":\"1756\",\"type\":\"CategoricalTickFormatter\"},{\"attributes\":{},\"id\":\"1665\",\"type\":\"CategoricalTicker\"},{\"attributes\":{},\"id\":\"1753\",\"type\":\"AllLabels\"},{\"attributes\":{\"axis\":{\"id\":\"1664\"},\"coordinates\":null,\"group\":null,\"ticker\":null},\"id\":\"1666\",\"type\":\"Grid\"},{\"attributes\":{},\"id\":\"1660\",\"type\":\"CategoricalScale\"},{\"attributes\":{\"high\":0.785822957013865,\"low\":0.34270870574499085,\"palette\":[\"#440154\",\"#440255\",\"#440357\",\"#450558\",\"#45065A\",\"#45085B\",\"#46095C\",\"#460B5E\",\"#460C5F\",\"#460E61\",\"#470F62\",\"#471163\",\"#471265\",\"#471466\",\"#471567\",\"#471669\",\"#47186A\",\"#48196B\",\"#481A6C\",\"#481C6E\",\"#481D6F\",\"#481E70\",\"#482071\",\"#482172\",\"#482273\",\"#482374\",\"#472575\",\"#472676\",\"#472777\",\"#472878\",\"#472A79\",\"#472B7A\",\"#472C7B\",\"#462D7C\",\"#462F7C\",\"#46307D\",\"#46317E\",\"#45327F\",\"#45347F\",\"#453580\",\"#453681\",\"#443781\",\"#443982\",\"#433A83\",\"#433B83\",\"#433C84\",\"#423D84\",\"#423E85\",\"#424085\",\"#414186\",\"#414286\",\"#404387\",\"#404487\",\"#3F4587\",\"#3F4788\",\"#3E4888\",\"#3E4989\",\"#3D4A89\",\"#3D4B89\",\"#3D4C89\",\"#3C4D8A\",\"#3C4E8A\",\"#3B508A\",\"#3B518A\",\"#3A528B\",\"#3A538B\",\"#39548B\",\"#39558B\",\"#38568B\",\"#38578C\",\"#37588C\",\"#37598C\",\"#365A8C\",\"#365B8C\",\"#355C8C\",\"#355D8C\",\"#345E8D\",\"#345F8D\",\"#33608D\",\"#33618D\",\"#32628D\",\"#32638D\",\"#31648D\",\"#31658D\",\"#31668D\",\"#30678D\",\"#30688D\",\"#2F698D\",\"#2F6A8D\",\"#2E6B8E\",\"#2E6C8E\",\"#2E6D8E\",\"#2D6E8E\",\"#2D6F8E\",\"#2C708E\",\"#2C718E\",\"#2C728E\",\"#2B738E\",\"#2B748E\",\"#2A758E\",\"#2A768E\",\"#2A778E\",\"#29788E\",\"#29798E\",\"#287A8E\",\"#287A8E\",\"#287B8E\",\"#277C8E\",\"#277D8E\",\"#277E8E\",\"#267F8E\",\"#26808E\",\"#26818E\",\"#25828E\",\"#25838D\",\"#24848D\",\"#24858D\",\"#24868D\",\"#23878D\",\"#23888D\",\"#23898D\",\"#22898D\",\"#228A8D\",\"#228B8D\",\"#218C8D\",\"#218D8C\",\"#218E8C\",\"#208F8C\",\"#20908C\",\"#20918C\",\"#1F928C\",\"#1F938B\",\"#1F948B\",\"#1F958B\",\"#1F968B\",\"#1E978A\",\"#1E988A\",\"#1E998A\",\"#1E998A\",\"#1E9A89\",\"#1E9B89\",\"#1E9C89\",\"#1E9D88\",\"#1E9E88\",\"#1E9F88\",\"#1EA087\",\"#1FA187\",\"#1FA286\",\"#1FA386\",\"#20A485\",\"#20A585\",\"#21A685\",\"#21A784\",\"#22A784\",\"#23A883\",\"#23A982\",\"#24AA82\",\"#25AB81\",\"#26AC81\",\"#27AD80\",\"#28AE7F\",\"#29AF7F\",\"#2AB07E\",\"#2BB17D\",\"#2CB17D\",\"#2EB27C\",\"#2FB37B\",\"#30B47A\",\"#32B57A\",\"#33B679\",\"#35B778\",\"#36B877\",\"#38B976\",\"#39B976\",\"#3BBA75\",\"#3DBB74\",\"#3EBC73\",\"#40BD72\",\"#42BE71\",\"#44BE70\",\"#45BF6F\",\"#47C06E\",\"#49C16D\",\"#4BC26C\",\"#4DC26B\",\"#4FC369\",\"#51C468\",\"#53C567\",\"#55C666\",\"#57C665\",\"#59C764\",\"#5BC862\",\"#5EC961\",\"#60C960\",\"#62CA5F\",\"#64CB5D\",\"#67CC5C\",\"#69CC5B\",\"#6BCD59\",\"#6DCE58\",\"#70CE56\",\"#72CF55\",\"#74D054\",\"#77D052\",\"#79D151\",\"#7CD24F\",\"#7ED24E\",\"#81D34C\",\"#83D34B\",\"#86D449\",\"#88D547\",\"#8BD546\",\"#8DD644\",\"#90D643\",\"#92D741\",\"#95D73F\",\"#97D83E\",\"#9AD83C\",\"#9DD93A\",\"#9FD938\",\"#A2DA37\",\"#A5DA35\",\"#A7DB33\",\"#AADB32\",\"#ADDC30\",\"#AFDC2E\",\"#B2DD2C\",\"#B5DD2B\",\"#B7DD29\",\"#BADE27\",\"#BDDE26\",\"#BFDF24\",\"#C2DF22\",\"#C5DF21\",\"#C7E01F\",\"#CAE01E\",\"#CDE01D\",\"#CFE11C\",\"#D2E11B\",\"#D4E11A\",\"#D7E219\",\"#DAE218\",\"#DCE218\",\"#DFE318\",\"#E1E318\",\"#E4E318\",\"#E7E419\",\"#E9E419\",\"#ECE41A\",\"#EEE51B\",\"#F1E51C\",\"#F3E51E\",\"#F6E61F\",\"#F8E621\",\"#FAE622\",\"#FDE724\"]},\"id\":\"1684\",\"type\":\"LinearColorMapper\"},{\"attributes\":{},\"id\":\"1757\",\"type\":\"AllLabels\"},{\"attributes\":{},\"id\":\"1752\",\"type\":\"CategoricalTickFormatter\"},{\"attributes\":{},\"id\":\"1675\",\"type\":\"HelpTool\"},{\"attributes\":{\"tools\":[{\"id\":\"1670\"},{\"id\":\"1671\"},{\"id\":\"1672\"},{\"id\":\"1673\"},{\"id\":\"1674\"},{\"id\":\"1675\"},{\"id\":\"1693\"}]},\"id\":\"1677\",\"type\":\"Toolbar\"},{\"attributes\":{},\"id\":\"1758\",\"type\":\"UnionRenderers\"},{\"attributes\":{\"fill_alpha\":{\"value\":0.2},\"fill_color\":{\"field\":\"Total Brightness per Signal Area\",\"transform\":{\"id\":\"1684\"}},\"hatch_alpha\":{\"value\":0.2},\"line_alpha\":{\"value\":0.2},\"line_color\":{\"value\":\"#1f77b4\"},\"size\":{\"field\":\"Percent Positive\"},\"x\":{\"field\":\"Virus\"},\"y\":{\"field\":\"Receptor\"}},\"id\":\"1690\",\"type\":\"Scatter\"},{\"attributes\":{\"overlay\":{\"id\":\"1676\"}},\"id\":\"1672\",\"type\":\"BoxZoomTool\"},{\"attributes\":{\"factors\":[\"Car15\",\"Car14\",\"Car12\",\"Car9\",\"Car4\"]},\"id\":\"1658\",\"type\":\"FactorRange\"},{\"attributes\":{},\"id\":\"1685\",\"type\":\"BasicTicker\"},{\"attributes\":{\"fill_alpha\":{\"value\":0.1},\"fill_color\":{\"field\":\"Total Brightness per Signal Area\",\"transform\":{\"id\":\"1684\"}},\"hatch_alpha\":{\"value\":0.1},\"line_alpha\":{\"value\":0.1},\"line_color\":{\"value\":\"#1f77b4\"},\"size\":{\"field\":\"Percent Positive\"},\"x\":{\"field\":\"Virus\"},\"y\":{\"field\":\"Receptor\"}},\"id\":\"1689\",\"type\":\"Scatter\"},{\"attributes\":{\"coordinates\":null,\"data_source\":{\"id\":\"1653\"},\"glyph\":{\"id\":\"1688\"},\"group\":null,\"hover_glyph\":null,\"muted_glyph\":{\"id\":\"1690\"},\"nonselection_glyph\":{\"id\":\"1689\"},\"view\":{\"id\":\"1692\"}},\"id\":\"1691\",\"type\":\"GlyphRenderer\"},{\"attributes\":{},\"id\":\"1673\",\"type\":\"SaveTool\"},{\"attributes\":{\"source\":{\"id\":\"1653\"}},\"id\":\"1692\",\"type\":\"CDSView\"},{\"attributes\":{\"fill_color\":{\"field\":\"Total Brightness per Signal Area\",\"transform\":{\"id\":\"1684\"}},\"line_color\":{\"value\":\"#1f77b4\"},\"size\":{\"field\":\"Percent Positive\"},\"x\":{\"field\":\"Virus\"},\"y\":{\"field\":\"Receptor\"}},\"id\":\"1688\",\"type\":\"Scatter\"},{\"attributes\":{},\"id\":\"1668\",\"type\":\"CategoricalTicker\"},{\"attributes\":{\"callback\":null,\"tooltips\":[[\"Round\",\"@Round\"],[\"Plate\",\"@Plate\"],[\"Well\",\"@Well\"],[\"Virus\",\"@Virus\"],[\"Receptor\",\"@Receptor\"],[\"Dose\",\"@Dose\"]]},\"id\":\"1693\",\"type\":\"HoverTool\"},{\"attributes\":{\"axis\":{\"id\":\"1667\"},\"coordinates\":null,\"dimension\":1,\"group\":null,\"ticker\":null},\"id\":\"1669\",\"type\":\"Grid\"},{\"attributes\":{\"factors\":[\"9P31\",\"9P36\"]},\"id\":\"1656\",\"type\":\"FactorRange\"},{\"attributes\":{},\"id\":\"1671\",\"type\":\"WheelZoomTool\"},{\"attributes\":{\"data\":{\"Bright Field Area\":{\"__ndarray__\":\"AAAAAPBk/ECrqqqq2hf5QFVVVVWVO/pAq6qqqhqz+UCrqqqqipX3QFVVVVUF1/5AAAAAAACSBUFVVVVV1SP+QKuqqqp6fABBAAAAACCU/ECrqqqqCsf7QAAAAAAAcvtAAAAAAECo+0CrqqqqSkcFQauqqqo6Rf5AVVVVVRVb/kCrqqqqKvb1QFVVVVXlTv5AAAAAAHCJBEFVVVVVFf36QFVVVVXVu/5AVVVVVRXW/kBVVVVVhcz7QAAAAAAAuvxAVVVVVXURAEFVVVVVZcsDQauqqqpaS/9AAAAAAKDo/UAAAAAAUGv7QAAAAAAA0PxAq6qqqsKYBUGrqqqq2vD+QKuqqqq6MvZAVVVVVQVH/UAAAAAAUED+QKuqqqqqp/tAVVVVVbVf+EAAAAAAYHT4QFVVVVUlCvZAAAAAACDG+kCrqqqqekf6QAAAAABw+ftAq6qqqrro/EBVVVVVDWkDQQ==\",\"dtype\":\"float64\",\"order\":\"little\",\"shape\":[44]},\"Brinzolamide (nM)\":{\"__ndarray__\":\"AAAAAAAAAAAAAAAAAAAAAAAAAAAAAAAAAAAAAAAAAAAAAAAAAAAAAAAAAAAAAAAAAAAAAAAAAAAAAAAAAAAAAAAAAAAAAAAAAAAAAAAAAAAAAAAAAAAAAAAAAAAAAAAAAAAAAAAAAAAAAAAAAAAAAAAAAAAAAAAAAAAAAAAAAAAAAAAAAAAAAAAAAAAAAAAAAAAAAAAAAAAAAAAAAAAAAAAAAAAAAAAAAAAAAAAAAAAAAAAAAAAAAAAAAAAAAAAAAAAAAAAAAAAAAAAAAAAAAAAAAAAAAAAAAAAAAAAAAAAAAAAAAAAAAAAAAAAAAAAAAAAAAAAAAAAAAAAAAAAAAAAAAAAAAAAAAAAAAAAAAAAAAAAAAAAAAAAAAAAAAAAAAAAAAAAAAAAAAAAAAAAAAAAAAAAAAAAAAAAAAAAAAAAAAAAAAAAAAAAAAAAAAAAAAAAAAAAAAAAAAAAAAAAAAA==\",\"dtype\":\"float64\",\"order\":\"little\",\"shape\":[44]},\"Count\":{\"__ndarray__\":\"AAAAAABAf0BVVVVVVQV6QFVVVVVVhXlAq6qqqqqKe0BVVVVVVZV6QKuqqqqqmoBAq6qqqqoKbEBVVVVVVQ2BQAAAAAAAEIFAq6qqqqqigEAAAAAAANCOQFVVVVVVpXpAq6qqqqoKeEAAAAAAAOBvQAAAAAAAoH5Aq6qqqqpaf0CrqqqqqmpzQKuqqqqqqnVAAAAAAADAbUCrqqqqqnp9QFVVVVVVpXpAVVVVVVVld0BVVVVVVWWHQFVVVVVVtXdAAAAAAAAAekCrqqqqqkpwQAAAAAAAcHdAVVVVVVV1dkCrqqqqqjp7QKuqqqqqinVAAAAAAACAcEAAAAAAADiDQAAAAAAAAHlAVVVVVVVVf0AAAAAAAEB4QAAAAAAAeINAq6qqqqoKf0BVVVVVVQWDQFVVVVVV1YZAVVVVVVUtjUAAAAAAALiEQAAAAAAAQIJAq6qqqqqaiUAAAAAAAJB7QA==\",\"dtype\":\"float64\",\"order\":\"little\",\"shape\":[44]},\"DMSO (%)\":{\"__ndarray__\":\"AAAAAAAAAAAAAAAAAAAAAAAAAAAAAAAAAAAAAAAAAAAAAAAAAAAAAAAAAAAAAAAAAAAAAAAAAAAAAAAAAAAAAAAAAAAAAAAAAAAAAAAAAAAAAAAAAAAAAAAAAAAAAAAAAAAAAAAAAAAAAAAAAAAAAAAAAAAAAAAAAAAAAAAAAAAAAAAAAAAAAAAAAAAAAAAAAAAAAAAAAAAAAAAAAAAAAAAAAAAAAAAAAAAAAAAAAAAAAAAAAAAAAAAAAAAAAAAAAAAAAAAAAAAAAAAAAAAAAAAAAAAAAAAAAAAAAAAAAAAAAAAAAAAAAAAAAAAAAAAAAAAAAAAAAAAAAAAAAAAAAAAAAAAAAAAAAAAAAAAAAAAAAAAAAAAAAAAAAAAAAAAAAAAAAAAAAAAAAAAAAAAAAAAAAAAAAAAAAAAAAAAAAAAAAAAAAAAAAAAAAAAAAAAAAAAAAAAAAAAAAAAAAAAAAA==\",\"dtype\":\"float64\",\"order\":\"little\",\"shape\":[44]},\"Dose\":{\"__ndarray__\":\"AAAAAGXNzUEAAAAAZc3NQQAAAABlzc1BAAAAAGXNzUEAAAAAZc3NQQAAAABlzc1BAAAAAGXNzUEAAAAAZc3NQQAAAABlzc1BAAAAAGXNzUEAAAAAZc3NQQAAAABlzc1BAAAAAGXNzUEAAAAAZc3NQQAAAABlzc1BAAAAAGXNzUEAAAAAZc3NQQAAAABlzc1BAAAAAGXNzUEAAAAAZc3NQQAAAABlzc1BAAAAAGXNzUEAAAAAZc3NQQAAAABlzc1BAAAAAGXNzUEAAAAAZc3NQQAAAABlzc1BAAAAAGXNzUEAAAAAZc3NQQAAAABlzc1BAAAAAGXNzUEAAAAAZc3NQQAAAABlzc1BAAAAAGXNzUEAAAAAZc3NQQAAAABlzc1BAAAAAGXNzUEAAAAAZc3NQQAAAABlzc1BAAAAAGXNzUEAAAAAZc3NQQAAAABlzc1BAAAAAGXNzUEAAAAAZc3NQQ==\",\"dtype\":\"float64\",\"order\":\"little\",\"shape\":[44]},\"Percent Positive\":{\"__ndarray__\":\"OFmiQKdeIkC/r6IDDDMgQBwIsfwcoBtAnLWniwKAIUDEDFC762EjQKuvKrXwziJAuWbkq2K2/T9MaOGxju4jQJ9reNC1piBA72hMmXlkI0BgPQ5OQv5JQIK2P5b4JiBAxc6OuFluGkCh7XhHmHcBQFN6Upi91SBA8BWrloWsIEANc/xwmnAcQE8967qf4BFA3B+m5Um7AEAPEIwVWY8iQEGd1vijOBxAwaECxp3lFEDh/OOv5+9BQLPNLono1hhAnRZ0uZigHECVt0huE80EQOuxo4TkoBNAwXkq4JtJFEBZCdI70AcgQMAqsNHcXhRASXHIGHhoA0Ds6OcIwqUlQM7FQ3O5GyJAzCI/93+DIUDTEc2Ggh4YQLWupheKgTdAyBqvzPsaPEANcFymDU89QJGiQO033URAnRAeouFATEDBEXhN+V8vQPNWuxhyTidABfjC5jS4Q0B4vDopzEcaQA==\",\"dtype\":\"float64\",\"order\":\"little\",\"shape\":[44]},\"Percent Positive Scaled\":{\"__ndarray__\":\"OFmiQKdeEkC/r6IDDDMQQBwIsfwcoAtAnLWniwKAEUDEDFC762ETQKuvKrXwzhJAuWbkq2K27T9MaOGxju4TQJ9reNC1phBA72hMmXlkE0BgPQ5OQv45QIK2P5b4JhBAxc6OuFluCkCh7XhHmHfxP1N6Upi91RBA8BWrloWsEEANc/xwmnAMQE8967qf4AFA3B+m5Um78D8PEIwVWY8SQEGd1vijOAxAwaECxp3lBEDh/OOv5+8xQLPNLono1ghAnRZ0uZigDECVt0huE830P+uxo4TkoANAwXkq4JtJBEBZCdI70AcQQMAqsNHcXgRASXHIGHho8z/s6OcIwqUVQM7FQ3O5GxJAzCI/93+DEUDTEc2Ggh4IQLWupheKgSdAyBqvzPsaLEANcFymDU8tQJGiQO033TRAnRAeouFAPEDBEXhN+V8fQPNWuxhyThdABfjC5jS4M0B4vDopzEcKQA==\",\"dtype\":\"float64\",\"order\":\"little\",\"shape\":[44]},\"Plate\":{\"__ndarray__\":\"AAAAAAAA8D8AAAAAAAAAQAAAAAAAAPA/AAAAAAAAAEAAAAAAAAAAQAAAAAAAAABAAAAAAAAAEEAAAAAAAADwPwAAAAAAAPA/AAAAAAAA8D8AAAAAAADwPwAAAAAAAPA/AAAAAAAAAEAAAAAAAAAQQAAAAAAAAPA/AAAAAAAA8D8AAAAAAAAAQAAAAAAAAABAAAAAAAAAEEAAAAAAAADwPwAAAAAAAPA/AAAAAAAA8D8AAAAAAADwPwAAAAAAAPA/AAAAAAAAAEAAAAAAAAAQQAAAAAAAAPA/AAAAAAAA8D8AAAAAAAAAQAAAAAAAAABAAAAAAAAAEEAAAAAAAAAIQAAAAAAAAABAAAAAAAAACEAAAAAAAAAQQAAAAAAAAABAAAAAAAAAAEAAAAAAAAAIQAAAAAAAAAhAAAAAAAAACEAAAAAAAAAIQAAAAAAAAAhAAAAAAAAAAEAAAAAAAAAQQA==\",\"dtype\":\"float64\",\"order\":\"little\",\"shape\":[44]},\"Receptor\":[\"Car4\",\"Igf1r\",\"Car4\",\"Igf1r\",\"Car4\",\"Igf1r\",\"None\",\"Car12\",\"Car14\",\"Car15\",\"Car4\",\"Car9\",\"Igf1r\",\"None\",\"hsCar4\",\"rsCar4\",\"Car4\",\"Igf1r\",\"None\",\"Car12\",\"Car14\",\"Car15\",\"Car4\",\"Car9\",\"Igf1r\",\"None\",\"hsCar4\",\"rsCar4\",\"Car4\",\"Igf1r\",\"None\",\"None\",\"Ly6a\",\"Ly6c1\",\"None\",\"Ly6a\",\"Ly6a\",\"Ly6c1\",\"Ly6c1\",\"Ly6c1\",\"None\",\"None\",\"Ly6a\",\"None\"],\"Round\":{\"__ndarray__\":\"AAAAAAAAJEAAAAAAAAAkQAAAAAAAACRAAAAAAAAAJEAAAAAAAAAkQAAAAAAAACRAAAAAAAAAJEAAAAAAAAAkQAAAAAAAACRAAAAAAAAAJEAAAAAAAAAkQAAAAAAAACRAAAAAAAAAJEAAAAAAAAAkQAAAAAAAACRAAAAAAAAAJEAAAAAAAAAkQAAAAAAAACRAAAAAAAAAJEAAAAAAAAAkQAAAAAAAACRAAAAAAAAAJEAAAAAAAAAkQAAAAAAAACRAAAAAAAAAJEAAAAAAAAAkQAAAAAAAACRAAAAAAAAAJEAAAAAAAAAkQAAAAAAAACRAAAAAAAAAJEAAAAAAAAAkQAAAAAAAACRAAAAAAAAAJEAAAAAAAAAkQAAAAAAAACRAAAAAAAAAJEAAAAAAAAAkQAAAAAAAACRAAAAAAAAAJEAAAAAAAAAkQAAAAAAAACRAAAAAAAAAJEAAAAAAAAAkQA==\",\"dtype\":\"float64\",\"order\":\"little\",\"shape\":[44]},\"Signal Area\":{\"__ndarray__\":\"VVVVVVVJxUCrqqqqKjrAQAAAAAAA3bxAVVVVVdX8wUBVVVVVVVDCQAAAAAAAKcdAVVVVVVWbqUAAAAAAgPbHQFVVVVXV1cVAVVVVVdUdxkBVVVVVleTsQAAAAACAv8FAq6qqqqo7vUBVVVVVVb2tQAAAAAAAYMRAAAAAAIBBxECrqqqqqvK4QFVVVVVVorVAVVVVVVV3q0BVVVVVVU/EQAAAAACASsFAq6qqqqp2uUAAAAAAAJbjQAAAAAAAkLxAq6qqqqrJwkCrqqqqqnKwQAAAAAAAQrhAq6qqqqpAuECrqqqqqoDBQFVVVVVVV7dAAAAAAACCsECrqqqqKubKQAAAAAAABsBAq6qqqiqBxEBVVVVVVcy8QAAAAABA7tlAq6qqqioT20AAAAAAALncQAAAAADgZuJAVVVVVTU/7kAAAAAAwInQQAAAAACAoclAVVVVVZU650BVVVVVVbfDQA==\",\"dtype\":\"float64\",\"order\":\"little\",\"shape\":[44]},\"Total Brightness\":{\"__ndarray__\":\"2S+F2i+otECPjIyMjCCuQMwfdcofjatAPTw8PDz9sEB5zyR6z1qxQOAyiN0y4LZACV6zCF4LlEC8Emi9Eh+3QJybm5ubv7VAIHXKH3U8tkAxhtsw5p/mQLMGXLEGmK1AzyN5ziNjq0C1YAu2YKeXQKhS/adSqbRAu2QPumSKtEAof9Qpf66mQHUeyXMe16NA5zyS5zxylkDhjDfijF6zQN6IM96IlbBA5I04442yp0ATa8AVa3/dQMvJycnJ66dAlpSUlJTBskAXwWsWwZ+ZQGMPumQPWKZAmUPumEM8pkDZgy7Zg/awQAgGBgYGIKVAELxmEbyWlkDIcx7Jc0W9QLkNY7gNTa9APeiSPeixtEAHBQUFBUOoQMx2Icx2zdBAg9gtgxg90kBnZ2dn5wHTQBFnvBEnBtpA8JhD7vjI50D1SqD1SqzBQDThizbhgrtA70OZ7oPe4EANDg4ODmaxQA==\",\"dtype\":\"float64\",\"order\":\"little\",\"shape\":[44]},\"Total Brightness per Signal Area\":{\"__ndarray__\":\"k64VwBQB3z/kvVQBK7TdP8yCOOrwjt4/uMblAtIv3j9dspqldVLeP5hixBxXed8/w/mhFssZ2T+FzsMHwOneP9w0Om3l1d8/V9qYm70V4D/NiHWJ2gvpP0/RkUlQzNo/EW7nPLsC3j+gGYFAhXPZP6GOCD/WOeA/NW2j+uE54D/jAn3EOSPdP6hysZMNU90/0SkRxwcn2j8LcVj9lBHePwtelZhlkd4/x6wAh9O53T8s+K6Me9/kP6lBW3TCzdo/3Sl9Z2+c3z99RsL+Gu7YP/h52c2VQt0/4ZPeRKxB3T/by6YuewTfP6T+YPcR8tw/l6vOfvDu1T+zMEntMFvhP+N2EbvIQN8/p56NJb0l4D/xntzdjdXaP6GNJaEBueQ/y09KFMeM5T88MubhDCblP7BTaWllkuY/D0KaL3Yl6T85UHNe/f3gP1Qw4FV8LuE/YGBRak7g5j/EcAFXFLvbPw==\",\"dtype\":\"float64\",\"order\":\"little\",\"shape\":[44]},\"Virus\":[\"9P08\",\"9P08\",\"9P13\",\"9P13\",\"9P16\",\"9P16\",\"9P16\",\"9P31\",\"9P31\",\"9P31\",\"9P31\",\"9P31\",\"9P31\",\"9P31\",\"9P31\",\"9P31\",\"9P33\",\"9P33\",\"9P33\",\"9P36\",\"9P36\",\"9P36\",\"9P36\",\"9P36\",\"9P36\",\"9P36\",\"9P36\",\"9P36\",\"9P39\",\"9P39\",\"9P39\",\"AAV-F\",\"AAV9\",\"AAV9\",\"AAV9\",\"CAP-B10\",\"CAP-B22\",\"PHP.C1\",\"PHP.C2\",\"PHP.C3\",\"PHP.C4\",\"PHP.N\",\"PHP.eB\",\"PHP.eB\"],\"Well\":{\"__ndarray__\":\"AAAAAACAVUAAAAAAAAA0QAAAAAAAAFdAAAAAAAAAOkAAAAAAAAAAQAAAAAAAAEBAAAAAAACAREAAAAAAAAAsQAAAAAAAADpAAAAAAAAAQ0AAAAAAAIBSQAAAAAAAAABAAAAAAAAAQ0AAAAAAAIBKQAAAAAAAAElAAAAAAAAAT0AAAAAAAAAgQAAAAAAAAEZAAAAAAABAUEAAAAAAAAA0QAAAAAAAAEBAAAAAAAAARkAAAAAAAABUQAAAAAAAACBAAAAAAAAASUAAAAAAAEBTQAAAAAAAAExAAAAAAAAAUUAAAAAAAAAsQAAAAAAAAExAAAAAAABAVkAAAAAAAABRQAAAAAAAAFRAAAAAAAAANEAAAAAAAAAmQAAAAAAAAFFAAAAAAACAUkAAAAAAAAAAQAAAAAAAACBAAAAAAAAALEAAAAAAAABXQAAAAAAAAFRAAAAAAAAAT0AAAAAAAAA6QA==\",\"dtype\":\"float64\",\"order\":\"little\",\"shape\":[44]},\"index\":[0,1,2,3,4,5,6,7,8,9,10,11,12,13,14,15,16,17,18,19,20,21,22,23,24,25,26,27,28,29,30,31,32,33,34,35,36,37,38,39,40,41,42,43]},\"selected\":{\"id\":\"1759\"},\"selection_policy\":{\"id\":\"1758\"}},\"id\":\"1653\",\"type\":\"ColumnDataSource\"},{\"attributes\":{},\"id\":\"1662\",\"type\":\"CategoricalScale\"},{\"attributes\":{},\"id\":\"1670\",\"type\":\"PanTool\"}],\"root_ids\":[\"1654\"]},\"title\":\"Bokeh Application\",\"version\":\"2.4.3\"}};\n",
       "  const render_items = [{\"docid\":\"593e3e7b-1e73-4bcb-ae0d-8f335c94f29c\",\"root_ids\":[\"1654\"],\"roots\":{\"1654\":\"0755776d-6bc8-4d1d-a344-e061eb4286c4\"}}];\n",
       "  root.Bokeh.embed.embed_items_notebook(docs_json, render_items);\n",
       "  }\n",
       "  if (root.Bokeh !== undefined) {\n",
       "    embed_document(root);\n",
       "  } else {\n",
       "    let attempts = 0;\n",
       "    const timer = setInterval(function(root) {\n",
       "      if (root.Bokeh !== undefined) {\n",
       "        clearInterval(timer);\n",
       "        embed_document(root);\n",
       "      } else {\n",
       "        attempts++;\n",
       "        if (attempts > 100) {\n",
       "          clearInterval(timer);\n",
       "          console.log(\"Bokeh: ERROR: Unable to run BokehJS code because BokehJS library is missing\");\n",
       "        }\n",
       "      }\n",
       "    }, 10, root)\n",
       "  }\n",
       "})(window);"
      ],
      "application/vnd.bokehjs_exec.v0+json": ""
     },
     "metadata": {
      "application/vnd.bokehjs_exec.v0+json": {
       "id": "1654"
      }
     },
     "output_type": "display_data"
    },
    {
     "name": "stdout",
     "output_type": "stream",
     "text": [
      "The most positive value is: 56.51 \n",
      "The least positive value is: 1.86 \n",
      "The brightest value is: 0.79 \n",
      "The dimmest value is: 0.34\n"
     ]
    }
   ],
   "source": [
    "p, min_pos, max_pos, min_brightness, max_brightness = cellseg.plot.bubble_plot(df_f2g_2, \n",
    "                                                                               'Virus',\n",
    "                                                                               'Receptor',\n",
    "                                                                               x_values = ['9P31',\n",
    "                                                                                          '9P36'],\n",
    "                                                                               y_values = ['Car15',\n",
    "                                                                                          'Car14',\n",
    "                                                                                          'Car12',\n",
    "                                                                                          'Car9',\n",
    "                                                                                          'Car4'],\n",
    "                                                                               plot_width = 250, \n",
    "                                                                               plot_height = 400)\n",
    "\n",
    "bokeh.io.show(p)\n",
    "\n",
    "print(\"The most positive value is: %0.2f \\nThe least positive value is: %0.2f \\nThe brightest value is: %0.2f \\nThe dimmest value is: %0.2f\" % (max_pos, min_pos, max_brightness, min_brightness))"
   ]
  },
  {
   "cell_type": "markdown",
   "id": "f088aa9e-b11c-4fc5-9254-0e30d4e8dc63",
   "metadata": {},
   "source": [
    "## Figure 4"
   ]
  },
  {
   "cell_type": "markdown",
   "id": "e27b965e-ab06-4c96-983e-92d6d1d312e9",
   "metadata": {},
   "source": [
    "### Part C"
   ]
  },
  {
   "cell_type": "code",
   "execution_count": 18,
   "id": "3319025a-f333-4d81-94da-036a41ae792a",
   "metadata": {},
   "outputs": [],
   "source": [
    "round_inds = df_reduced['Round'] == 11\n",
    "dose_inds = df_reduced['Dose'].isin([1e7, 1e8, 1e9])\n",
    "\n",
    "inds = round_inds & dose_inds\n",
    "\n",
    "df_f4c = df_reduced.loc[inds]\n",
    "\n",
    "df_f4c = df_f4c.astype({\"Dose\": str})\n",
    "\n",
    "df_f4c = df_f4c.groupby(['Virus', 'Receptor', 'Dose']).mean(numeric_only = True).reset_index()"
   ]
  },
  {
   "cell_type": "code",
   "execution_count": 19,
   "id": "8a9a9e82-8e21-4098-b885-01c8533ee5a9",
   "metadata": {},
   "outputs": [
    {
     "data": {
      "text/html": [
       "\n",
       "  <div class=\"bk-root\" id=\"3ccc3d23-b253-491e-9cfb-db2f2911f3a5\" data-root-id=\"1817\"></div>\n"
      ]
     },
     "metadata": {},
     "output_type": "display_data"
    },
    {
     "data": {
      "application/javascript": [
       "(function(root) {\n",
       "  function embed_document(root) {\n",
       "  const docs_json = {\"408ae5bd-5352-40e2-b21d-22c5822cb51f\":{\"defs\":[],\"roots\":{\"references\":[{\"attributes\":{\"below\":[{\"id\":\"1827\"}],\"center\":[{\"id\":\"1829\"},{\"id\":\"1832\"}],\"height\":400,\"left\":[{\"id\":\"1830\"}],\"output_backend\":\"svg\",\"renderers\":[{\"id\":\"1854\"}],\"right\":[{\"id\":\"1849\"}],\"title\":null,\"toolbar\":{\"id\":\"1840\"},\"width\":300,\"x_range\":{\"id\":\"1819\"},\"x_scale\":{\"id\":\"1823\"},\"y_range\":{\"id\":\"1821\"},\"y_scale\":{\"id\":\"1825\"}},\"id\":\"1817\",\"subtype\":\"Figure\",\"type\":\"Plot\"},{\"attributes\":{\"axis\":{\"id\":\"1830\"},\"coordinates\":null,\"dimension\":1,\"group\":null,\"ticker\":null},\"id\":\"1832\",\"type\":\"Grid\"},{\"attributes\":{\"fill_alpha\":{\"value\":0.1},\"fill_color\":{\"field\":\"Total Brightness per Signal Area\",\"transform\":{\"id\":\"1847\"}},\"hatch_alpha\":{\"value\":0.1},\"line_alpha\":{\"value\":0.1},\"line_color\":{\"value\":\"#1f77b4\"},\"size\":{\"field\":\"Percent Positive\"},\"x\":{\"field\":\"Receptor\"},\"y\":{\"field\":\"Dose\"}},\"id\":\"1852\",\"type\":\"Scatter\"},{\"attributes\":{},\"id\":\"1932\",\"type\":\"UnionRenderers\"},{\"attributes\":{\"coordinates\":null,\"formatter\":{\"id\":\"1926\"},\"group\":null,\"major_label_policy\":{\"id\":\"1927\"},\"ticker\":{\"id\":\"1831\"}},\"id\":\"1830\",\"type\":\"CategoricalAxis\"},{\"attributes\":{\"fill_alpha\":{\"value\":0.2},\"fill_color\":{\"field\":\"Total Brightness per Signal Area\",\"transform\":{\"id\":\"1847\"}},\"hatch_alpha\":{\"value\":0.2},\"line_alpha\":{\"value\":0.2},\"line_color\":{\"value\":\"#1f77b4\"},\"size\":{\"field\":\"Percent Positive\"},\"x\":{\"field\":\"Receptor\"},\"y\":{\"field\":\"Dose\"}},\"id\":\"1853\",\"type\":\"Scatter\"},{\"attributes\":{},\"id\":\"1836\",\"type\":\"SaveTool\"},{\"attributes\":{},\"id\":\"1825\",\"type\":\"CategoricalScale\"},{\"attributes\":{\"factors\":[\"None\",\"Ly6c1\"]},\"id\":\"1819\",\"type\":\"FactorRange\"},{\"attributes\":{},\"id\":\"1926\",\"type\":\"CategoricalTickFormatter\"},{\"attributes\":{},\"id\":\"1930\",\"type\":\"CategoricalTickFormatter\"},{\"attributes\":{\"high\":0.28811474459894915,\"low\":0.14397480288911377,\"palette\":[\"#440154\",\"#440255\",\"#440357\",\"#450558\",\"#45065A\",\"#45085B\",\"#46095C\",\"#460B5E\",\"#460C5F\",\"#460E61\",\"#470F62\",\"#471163\",\"#471265\",\"#471466\",\"#471567\",\"#471669\",\"#47186A\",\"#48196B\",\"#481A6C\",\"#481C6E\",\"#481D6F\",\"#481E70\",\"#482071\",\"#482172\",\"#482273\",\"#482374\",\"#472575\",\"#472676\",\"#472777\",\"#472878\",\"#472A79\",\"#472B7A\",\"#472C7B\",\"#462D7C\",\"#462F7C\",\"#46307D\",\"#46317E\",\"#45327F\",\"#45347F\",\"#453580\",\"#453681\",\"#443781\",\"#443982\",\"#433A83\",\"#433B83\",\"#433C84\",\"#423D84\",\"#423E85\",\"#424085\",\"#414186\",\"#414286\",\"#404387\",\"#404487\",\"#3F4587\",\"#3F4788\",\"#3E4888\",\"#3E4989\",\"#3D4A89\",\"#3D4B89\",\"#3D4C89\",\"#3C4D8A\",\"#3C4E8A\",\"#3B508A\",\"#3B518A\",\"#3A528B\",\"#3A538B\",\"#39548B\",\"#39558B\",\"#38568B\",\"#38578C\",\"#37588C\",\"#37598C\",\"#365A8C\",\"#365B8C\",\"#355C8C\",\"#355D8C\",\"#345E8D\",\"#345F8D\",\"#33608D\",\"#33618D\",\"#32628D\",\"#32638D\",\"#31648D\",\"#31658D\",\"#31668D\",\"#30678D\",\"#30688D\",\"#2F698D\",\"#2F6A8D\",\"#2E6B8E\",\"#2E6C8E\",\"#2E6D8E\",\"#2D6E8E\",\"#2D6F8E\",\"#2C708E\",\"#2C718E\",\"#2C728E\",\"#2B738E\",\"#2B748E\",\"#2A758E\",\"#2A768E\",\"#2A778E\",\"#29788E\",\"#29798E\",\"#287A8E\",\"#287A8E\",\"#287B8E\",\"#277C8E\",\"#277D8E\",\"#277E8E\",\"#267F8E\",\"#26808E\",\"#26818E\",\"#25828E\",\"#25838D\",\"#24848D\",\"#24858D\",\"#24868D\",\"#23878D\",\"#23888D\",\"#23898D\",\"#22898D\",\"#228A8D\",\"#228B8D\",\"#218C8D\",\"#218D8C\",\"#218E8C\",\"#208F8C\",\"#20908C\",\"#20918C\",\"#1F928C\",\"#1F938B\",\"#1F948B\",\"#1F958B\",\"#1F968B\",\"#1E978A\",\"#1E988A\",\"#1E998A\",\"#1E998A\",\"#1E9A89\",\"#1E9B89\",\"#1E9C89\",\"#1E9D88\",\"#1E9E88\",\"#1E9F88\",\"#1EA087\",\"#1FA187\",\"#1FA286\",\"#1FA386\",\"#20A485\",\"#20A585\",\"#21A685\",\"#21A784\",\"#22A784\",\"#23A883\",\"#23A982\",\"#24AA82\",\"#25AB81\",\"#26AC81\",\"#27AD80\",\"#28AE7F\",\"#29AF7F\",\"#2AB07E\",\"#2BB17D\",\"#2CB17D\",\"#2EB27C\",\"#2FB37B\",\"#30B47A\",\"#32B57A\",\"#33B679\",\"#35B778\",\"#36B877\",\"#38B976\",\"#39B976\",\"#3BBA75\",\"#3DBB74\",\"#3EBC73\",\"#40BD72\",\"#42BE71\",\"#44BE70\",\"#45BF6F\",\"#47C06E\",\"#49C16D\",\"#4BC26C\",\"#4DC26B\",\"#4FC369\",\"#51C468\",\"#53C567\",\"#55C666\",\"#57C665\",\"#59C764\",\"#5BC862\",\"#5EC961\",\"#60C960\",\"#62CA5F\",\"#64CB5D\",\"#67CC5C\",\"#69CC5B\",\"#6BCD59\",\"#6DCE58\",\"#70CE56\",\"#72CF55\",\"#74D054\",\"#77D052\",\"#79D151\",\"#7CD24F\",\"#7ED24E\",\"#81D34C\",\"#83D34B\",\"#86D449\",\"#88D547\",\"#8BD546\",\"#8DD644\",\"#90D643\",\"#92D741\",\"#95D73F\",\"#97D83E\",\"#9AD83C\",\"#9DD93A\",\"#9FD938\",\"#A2DA37\",\"#A5DA35\",\"#A7DB33\",\"#AADB32\",\"#ADDC30\",\"#AFDC2E\",\"#B2DD2C\",\"#B5DD2B\",\"#B7DD29\",\"#BADE27\",\"#BDDE26\",\"#BFDF24\",\"#C2DF22\",\"#C5DF21\",\"#C7E01F\",\"#CAE01E\",\"#CDE01D\",\"#CFE11C\",\"#D2E11B\",\"#D4E11A\",\"#D7E219\",\"#DAE218\",\"#DCE218\",\"#DFE318\",\"#E1E318\",\"#E4E318\",\"#E7E419\",\"#E9E419\",\"#ECE41A\",\"#EEE51B\",\"#F1E51C\",\"#F3E51E\",\"#F6E61F\",\"#F8E621\",\"#FAE622\",\"#FDE724\"]},\"id\":\"1847\",\"type\":\"LinearColorMapper\"},{\"attributes\":{},\"id\":\"1834\",\"type\":\"WheelZoomTool\"},{\"attributes\":{\"callback\":null,\"tooltips\":[[\"Round\",\"@Round\"],[\"Plate\",\"@Plate\"],[\"Well\",\"@Well\"],[\"Virus\",\"@Virus\"],[\"Receptor\",\"@Receptor\"],[\"Dose\",\"@Dose\"]]},\"id\":\"1856\",\"type\":\"HoverTool\"},{\"attributes\":{\"overlay\":{\"id\":\"1839\"}},\"id\":\"1835\",\"type\":\"BoxZoomTool\"},{\"attributes\":{\"coordinates\":null,\"formatter\":{\"id\":\"1930\"},\"group\":null,\"major_label_orientation\":1.5707963267948966,\"major_label_policy\":{\"id\":\"1931\"},\"ticker\":{\"id\":\"1828\"}},\"id\":\"1827\",\"type\":\"CategoricalAxis\"},{\"attributes\":{},\"id\":\"1828\",\"type\":\"CategoricalTicker\"},{\"attributes\":{\"fill_color\":{\"field\":\"Total Brightness per Signal Area\",\"transform\":{\"id\":\"1847\"}},\"line_color\":{\"value\":\"#1f77b4\"},\"size\":{\"field\":\"Percent Positive\"},\"x\":{\"field\":\"Receptor\"},\"y\":{\"field\":\"Dose\"}},\"id\":\"1851\",\"type\":\"Scatter\"},{\"attributes\":{\"source\":{\"id\":\"1816\"}},\"id\":\"1855\",\"type\":\"CDSView\"},{\"attributes\":{\"tools\":[{\"id\":\"1833\"},{\"id\":\"1834\"},{\"id\":\"1835\"},{\"id\":\"1836\"},{\"id\":\"1837\"},{\"id\":\"1838\"},{\"id\":\"1856\"}]},\"id\":\"1840\",\"type\":\"Toolbar\"},{\"attributes\":{\"data\":{\"Bright Field Area\":{\"__ndarray__\":\"q6qqqvqXA0EAAAAAuFUBQQAAAABgYQZBq6qqqtpWBkFVVVVVXXoHQauqqqp6YgdB\",\"dtype\":\"float64\",\"order\":\"little\",\"shape\":[6]},\"Brinzolamide (nM)\":{\"__ndarray__\":\"AAAAAAAAAAAAAAAAAAAAAAAAAAAAAAAAAAAAAAAAAAAAAAAAAAAAAAAAAAAAAAAA\",\"dtype\":\"float64\",\"order\":\"little\",\"shape\":[6]},\"Count\":{\"__ndarray__\":\"VVVVVVXFc0AAAAAAADBzQKuqqqqq+otAVVVVVVWlcUBVVVVVVeVzQAAAAAAAoIdA\",\"dtype\":\"float64\",\"order\":\"little\",\"shape\":[6]},\"DMSO (%)\":{\"__ndarray__\":\"AAAAAAAAAAAAAAAAAAAAAAAAAAAAAAAAAAAAAAAAAAAAAAAAAAAAAAAAAAAAAAAA\",\"dtype\":\"float64\",\"order\":\"little\",\"shape\":[6]},\"Dose\":[\"10000000.0\",\"100000000.0\",\"1000000000.0\",\"10000000.0\",\"100000000.0\",\"1000000000.0\"],\"Percent Positive\":{\"__ndarray__\":\"ZbocRg18CkBpQViE9IUQQA8h5i9XMSZAipvsA5yZA0CMjt9jx1MMQMs6UaeiiSBA\",\"dtype\":\"float64\",\"order\":\"little\",\"shape\":[6]},\"Percent Positive Scaled\":{\"__ndarray__\":\"ZbocRg18+j9pQViE9IUAQA8h5i9XMRZAipvsA5yZ8z+Mjt9jx1P8P8s6UaeiiRBA\",\"dtype\":\"float64\",\"order\":\"little\",\"shape\":[6]},\"Plate\":{\"__ndarray__\":\"AAAAAAAACEAAAAAAAAAIQAAAAAAAAPA/AAAAAAAAEEAAAAAAAAAQQAAAAAAAAABA\",\"dtype\":\"float64\",\"order\":\"little\",\"shape\":[6]},\"Receptor\":[\"Ly6c1\",\"Ly6c1\",\"Ly6c1\",\"None\",\"None\",\"None\"],\"Round\":{\"__ndarray__\":\"AAAAAAAAJkAAAAAAAAAmQAAAAAAAACZAAAAAAAAAJkAAAAAAAAAmQAAAAAAAACZA\",\"dtype\":\"float64\",\"order\":\"little\",\"shape\":[6]},\"Signal Area\":{\"__ndarray__\":\"VVVVVVWjtECrqqqqqiC3QFVVVVVVuNNAVVVVVVWGsUAAAAAAALa6QKuqqqoq2c5A\",\"dtype\":\"float64\",\"order\":\"little\",\"shape\":[6]},\"Total Brightness\":{\"__ndarray__\":\"ExISEhJSh0BFm/BFm3SQQPHx8fHxhrdA0yZ80SbshUB9KdR+KZCVQLBaBbBag65A\",\"dtype\":\"float64\",\"order\":\"little\",\"shape\":[6]},\"Total Brightness per Signal Area\":{\"__ndarray__\":\"S6vtLsRtwj8NQzi7ReTGP3QQY9N4cNI//MbLSx4DxD+4dt50TQnKP7OkluVtaM8/\",\"dtype\":\"float64\",\"order\":\"little\",\"shape\":[6]},\"Virus\":[\"PHP.eB\",\"PHP.eB\",\"PHP.eB\",\"PHP.eB\",\"PHP.eB\",\"PHP.eB\"],\"Well\":{\"__ndarray__\":\"AAAAAABAU0AAAAAAAIBSQAAAAAAAgFJAAAAAAABAU0AAAAAAAIBSQAAAAAAAgFJA\",\"dtype\":\"float64\",\"order\":\"little\",\"shape\":[6]},\"index\":[18,19,20,21,22,23]},\"selected\":{\"id\":\"1933\"},\"selection_policy\":{\"id\":\"1932\"}},\"id\":\"1816\",\"type\":\"ColumnDataSource\"},{\"attributes\":{\"bottom_units\":\"screen\",\"coordinates\":null,\"fill_alpha\":0.5,\"fill_color\":\"lightgrey\",\"group\":null,\"left_units\":\"screen\",\"level\":\"overlay\",\"line_alpha\":1.0,\"line_color\":\"black\",\"line_dash\":[4,4],\"line_width\":2,\"right_units\":\"screen\",\"syncable\":false,\"top_units\":\"screen\"},\"id\":\"1839\",\"type\":\"BoxAnnotation\"},{\"attributes\":{},\"id\":\"1831\",\"type\":\"CategoricalTicker\"},{\"attributes\":{},\"id\":\"1838\",\"type\":\"HelpTool\"},{\"attributes\":{},\"id\":\"1928\",\"type\":\"NoOverlap\"},{\"attributes\":{\"factors\":[\"10000000.0\",\"100000000.0\",\"1000000000.0\"]},\"id\":\"1821\",\"type\":\"FactorRange\"},{\"attributes\":{\"coordinates\":null,\"data_source\":{\"id\":\"1816\"},\"glyph\":{\"id\":\"1851\"},\"group\":null,\"hover_glyph\":null,\"muted_glyph\":{\"id\":\"1853\"},\"nonselection_glyph\":{\"id\":\"1852\"},\"view\":{\"id\":\"1855\"}},\"id\":\"1854\",\"type\":\"GlyphRenderer\"},{\"attributes\":{},\"id\":\"1833\",\"type\":\"PanTool\"},{\"attributes\":{},\"id\":\"1823\",\"type\":\"CategoricalScale\"},{\"attributes\":{},\"id\":\"1837\",\"type\":\"ResetTool\"},{\"attributes\":{},\"id\":\"1931\",\"type\":\"AllLabels\"},{\"attributes\":{},\"id\":\"1848\",\"type\":\"BasicTicker\"},{\"attributes\":{},\"id\":\"1933\",\"type\":\"Selection\"},{\"attributes\":{},\"id\":\"1927\",\"type\":\"AllLabels\"},{\"attributes\":{\"color_mapper\":{\"id\":\"1847\"},\"coordinates\":null,\"group\":null,\"location\":[0,0],\"major_label_policy\":{\"id\":\"1928\"},\"ticker\":{\"id\":\"1848\"}},\"id\":\"1849\",\"type\":\"ColorBar\"},{\"attributes\":{\"axis\":{\"id\":\"1827\"},\"coordinates\":null,\"group\":null,\"ticker\":null},\"id\":\"1829\",\"type\":\"Grid\"}],\"root_ids\":[\"1817\"]},\"title\":\"Bokeh Application\",\"version\":\"2.4.3\"}};\n",
       "  const render_items = [{\"docid\":\"408ae5bd-5352-40e2-b21d-22c5822cb51f\",\"root_ids\":[\"1817\"],\"roots\":{\"1817\":\"3ccc3d23-b253-491e-9cfb-db2f2911f3a5\"}}];\n",
       "  root.Bokeh.embed.embed_items_notebook(docs_json, render_items);\n",
       "  }\n",
       "  if (root.Bokeh !== undefined) {\n",
       "    embed_document(root);\n",
       "  } else {\n",
       "    let attempts = 0;\n",
       "    const timer = setInterval(function(root) {\n",
       "      if (root.Bokeh !== undefined) {\n",
       "        clearInterval(timer);\n",
       "        embed_document(root);\n",
       "      } else {\n",
       "        attempts++;\n",
       "        if (attempts > 100) {\n",
       "          clearInterval(timer);\n",
       "          console.log(\"Bokeh: ERROR: Unable to run BokehJS code because BokehJS library is missing\");\n",
       "        }\n",
       "      }\n",
       "    }, 10, root)\n",
       "  }\n",
       "})(window);"
      ],
      "application/vnd.bokehjs_exec.v0+json": ""
     },
     "metadata": {
      "application/vnd.bokehjs_exec.v0+json": {
       "id": "1817"
      }
     },
     "output_type": "display_data"
    },
    {
     "name": "stdout",
     "output_type": "stream",
     "text": [
      "The most positive value is: 11.10 \n",
      "The least positive value is: 2.45 \n",
      "The brightest value is: 0.29 \n",
      "The dimmest value is: 0.14\n"
     ]
    },
    {
     "data": {
      "text/html": [
       "\n",
       "  <div class=\"bk-root\" id=\"25995519-4ebd-4ed5-9f33-924640d6f94b\" data-root-id=\"1991\"></div>\n"
      ]
     },
     "metadata": {},
     "output_type": "display_data"
    },
    {
     "data": {
      "application/javascript": [
       "(function(root) {\n",
       "  function embed_document(root) {\n",
       "  const docs_json = {\"e61c1fdd-b911-4f66-9d0b-eb3e9c289894\":{\"defs\":[],\"roots\":{\"references\":[{\"attributes\":{\"below\":[{\"id\":\"2001\"}],\"center\":[{\"id\":\"2003\"},{\"id\":\"2006\"}],\"height\":400,\"left\":[{\"id\":\"2004\"}],\"output_backend\":\"svg\",\"renderers\":[{\"id\":\"2028\"}],\"right\":[{\"id\":\"2023\"}],\"title\":null,\"toolbar\":{\"id\":\"2014\"},\"width\":300,\"x_range\":{\"id\":\"1993\"},\"x_scale\":{\"id\":\"1997\"},\"y_range\":{\"id\":\"1995\"},\"y_scale\":{\"id\":\"1999\"}},\"id\":\"1991\",\"subtype\":\"Figure\",\"type\":\"Plot\"},{\"attributes\":{},\"id\":\"2012\",\"type\":\"HelpTool\"},{\"attributes\":{\"fill_alpha\":{\"value\":0.1},\"fill_color\":{\"field\":\"Total Brightness per Signal Area\",\"transform\":{\"id\":\"2021\"}},\"hatch_alpha\":{\"value\":0.1},\"line_alpha\":{\"value\":0.1},\"line_color\":{\"value\":\"#1f77b4\"},\"size\":{\"field\":\"Percent Positive\"},\"x\":{\"field\":\"Receptor\"},\"y\":{\"field\":\"Dose\"}},\"id\":\"2026\",\"type\":\"Scatter\"},{\"attributes\":{},\"id\":\"2115\",\"type\":\"CategoricalTickFormatter\"},{\"attributes\":{},\"id\":\"2118\",\"type\":\"Selection\"},{\"attributes\":{\"data\":{\"Bright Field Area\":{\"__ndarray__\":\"AAAAAFhZAUFVVVVVBcIDQQAAAABg+wVBVVVVVRXPBEEAAAAAGCcGQVVVVVX1DAdB\",\"dtype\":\"float64\",\"order\":\"little\",\"shape\":[6]},\"Brinzolamide (nM)\":{\"__ndarray__\":\"AAAAAAAAAAAAAAAAAAAAAAAAAAAAAAAAAAAAAAAAAAAAAAAAAAAAAAAAAAAAAAAA\",\"dtype\":\"float64\",\"order\":\"little\",\"shape\":[6]},\"Count\":{\"__ndarray__\":\"AAAAAACIhEBVVVVVVRWUQFVVVVVV5ZpAVVVVVVVldEAAAAAAAEB1QFVVVVVVlYhA\",\"dtype\":\"float64\",\"order\":\"little\",\"shape\":[6]},\"DMSO (%)\":{\"__ndarray__\":\"AAAAAAAAAAAAAAAAAAAAAAAAAAAAAAAAAAAAAAAAAAAAAAAAAAAAAAAAAAAAAAAA\",\"dtype\":\"float64\",\"order\":\"little\",\"shape\":[6]},\"Dose\":[\"10000000.0\",\"100000000.0\",\"1000000000.0\",\"10000000.0\",\"100000000.0\",\"1000000000.0\"],\"Percent Positive\":{\"__ndarray__\":\"vYzyR8JRLEAeALwOWCFAQF1Oal1IhkNA7ay2wJSVCEBHZ3+cx1UOQPPjKy4lQiFA\",\"dtype\":\"float64\",\"order\":\"little\",\"shape\":[6]},\"Percent Positive Scaled\":{\"__ndarray__\":\"vYzyR8JRHEAeALwOWCEwQF1Oal1IhjNA7ay2wJSV+D9HZ3+cx1X+P/PjKy4lQhFA\",\"dtype\":\"float64\",\"order\":\"little\",\"shape\":[6]},\"Plate\":{\"__ndarray__\":\"AAAAAAAACEAAAAAAAAAIQAAAAAAAAPA/AAAAAAAAEEAAAAAAAAAQQAAAAAAAAABA\",\"dtype\":\"float64\",\"order\":\"little\",\"shape\":[6]},\"Receptor\":[\"Ly6c1\",\"Ly6c1\",\"Ly6c1\",\"None\",\"None\",\"None\"],\"Round\":{\"__ndarray__\":\"AAAAAAAAJkAAAAAAAAAmQAAAAAAAACZAAAAAAAAAJkAAAAAAAAAmQAAAAAAAACZA\",\"dtype\":\"float64\",\"order\":\"little\",\"shape\":[6]},\"Signal Area\":{\"__ndarray__\":\"q6qqqipj00AAAAAAAIDpQKuqqqr6IfFAq6qqqqoEtEAAAAAAAM+6QFVVVVVVx89A\",\"dtype\":\"float64\",\"order\":\"little\",\"shape\":[6]},\"Total Brightness\":{\"__ndarray__\":\"bMMYbsPqu0D5TaP4zYHdQNQoftNoXOZAI3nOI3luh0BXAaxWAXSUQB50yR50ebBA\",\"dtype\":\"float64\",\"order\":\"little\",\"shape\":[6]},\"Total Brightness per Signal Area\":{\"__ndarray__\":\"mGcdgpH91j+7HB12woHiPzFovZjn4eQ/VTcR5JvSwj/RmRRN523IP0D8qCzJltA/\",\"dtype\":\"float64\",\"order\":\"little\",\"shape\":[6]},\"Virus\":[\"PHP.C2\",\"PHP.C2\",\"PHP.C2\",\"PHP.C2\",\"PHP.C2\",\"PHP.C2\"],\"Well\":{\"__ndarray__\":\"AAAAAADAVEAAAAAAAABUQAAAAAAAAFRAAAAAAADAVEAAAAAAAABUQAAAAAAAAFRA\",\"dtype\":\"float64\",\"order\":\"little\",\"shape\":[6]},\"index\":[12,13,14,15,16,17]},\"selected\":{\"id\":\"2118\"},\"selection_policy\":{\"id\":\"2117\"}},\"id\":\"1990\",\"type\":\"ColumnDataSource\"},{\"attributes\":{\"tools\":[{\"id\":\"2007\"},{\"id\":\"2008\"},{\"id\":\"2009\"},{\"id\":\"2010\"},{\"id\":\"2011\"},{\"id\":\"2012\"},{\"id\":\"2030\"}]},\"id\":\"2014\",\"type\":\"Toolbar\"},{\"attributes\":{\"callback\":null,\"tooltips\":[[\"Round\",\"@Round\"],[\"Plate\",\"@Plate\"],[\"Well\",\"@Well\"],[\"Virus\",\"@Virus\"],[\"Receptor\",\"@Receptor\"],[\"Dose\",\"@Dose\"]]},\"id\":\"2030\",\"type\":\"HoverTool\"},{\"attributes\":{},\"id\":\"2117\",\"type\":\"UnionRenderers\"},{\"attributes\":{},\"id\":\"2116\",\"type\":\"AllLabels\"},{\"attributes\":{\"coordinates\":null,\"formatter\":{\"id\":\"2111\"},\"group\":null,\"major_label_policy\":{\"id\":\"2112\"},\"ticker\":{\"id\":\"2005\"}},\"id\":\"2004\",\"type\":\"CategoricalAxis\"},{\"attributes\":{\"high\":0.6525762541962249,\"low\":0.14705227504821985,\"palette\":[\"#440154\",\"#440255\",\"#440357\",\"#450558\",\"#45065A\",\"#45085B\",\"#46095C\",\"#460B5E\",\"#460C5F\",\"#460E61\",\"#470F62\",\"#471163\",\"#471265\",\"#471466\",\"#471567\",\"#471669\",\"#47186A\",\"#48196B\",\"#481A6C\",\"#481C6E\",\"#481D6F\",\"#481E70\",\"#482071\",\"#482172\",\"#482273\",\"#482374\",\"#472575\",\"#472676\",\"#472777\",\"#472878\",\"#472A79\",\"#472B7A\",\"#472C7B\",\"#462D7C\",\"#462F7C\",\"#46307D\",\"#46317E\",\"#45327F\",\"#45347F\",\"#453580\",\"#453681\",\"#443781\",\"#443982\",\"#433A83\",\"#433B83\",\"#433C84\",\"#423D84\",\"#423E85\",\"#424085\",\"#414186\",\"#414286\",\"#404387\",\"#404487\",\"#3F4587\",\"#3F4788\",\"#3E4888\",\"#3E4989\",\"#3D4A89\",\"#3D4B89\",\"#3D4C89\",\"#3C4D8A\",\"#3C4E8A\",\"#3B508A\",\"#3B518A\",\"#3A528B\",\"#3A538B\",\"#39548B\",\"#39558B\",\"#38568B\",\"#38578C\",\"#37588C\",\"#37598C\",\"#365A8C\",\"#365B8C\",\"#355C8C\",\"#355D8C\",\"#345E8D\",\"#345F8D\",\"#33608D\",\"#33618D\",\"#32628D\",\"#32638D\",\"#31648D\",\"#31658D\",\"#31668D\",\"#30678D\",\"#30688D\",\"#2F698D\",\"#2F6A8D\",\"#2E6B8E\",\"#2E6C8E\",\"#2E6D8E\",\"#2D6E8E\",\"#2D6F8E\",\"#2C708E\",\"#2C718E\",\"#2C728E\",\"#2B738E\",\"#2B748E\",\"#2A758E\",\"#2A768E\",\"#2A778E\",\"#29788E\",\"#29798E\",\"#287A8E\",\"#287A8E\",\"#287B8E\",\"#277C8E\",\"#277D8E\",\"#277E8E\",\"#267F8E\",\"#26808E\",\"#26818E\",\"#25828E\",\"#25838D\",\"#24848D\",\"#24858D\",\"#24868D\",\"#23878D\",\"#23888D\",\"#23898D\",\"#22898D\",\"#228A8D\",\"#228B8D\",\"#218C8D\",\"#218D8C\",\"#218E8C\",\"#208F8C\",\"#20908C\",\"#20918C\",\"#1F928C\",\"#1F938B\",\"#1F948B\",\"#1F958B\",\"#1F968B\",\"#1E978A\",\"#1E988A\",\"#1E998A\",\"#1E998A\",\"#1E9A89\",\"#1E9B89\",\"#1E9C89\",\"#1E9D88\",\"#1E9E88\",\"#1E9F88\",\"#1EA087\",\"#1FA187\",\"#1FA286\",\"#1FA386\",\"#20A485\",\"#20A585\",\"#21A685\",\"#21A784\",\"#22A784\",\"#23A883\",\"#23A982\",\"#24AA82\",\"#25AB81\",\"#26AC81\",\"#27AD80\",\"#28AE7F\",\"#29AF7F\",\"#2AB07E\",\"#2BB17D\",\"#2CB17D\",\"#2EB27C\",\"#2FB37B\",\"#30B47A\",\"#32B57A\",\"#33B679\",\"#35B778\",\"#36B877\",\"#38B976\",\"#39B976\",\"#3BBA75\",\"#3DBB74\",\"#3EBC73\",\"#40BD72\",\"#42BE71\",\"#44BE70\",\"#45BF6F\",\"#47C06E\",\"#49C16D\",\"#4BC26C\",\"#4DC26B\",\"#4FC369\",\"#51C468\",\"#53C567\",\"#55C666\",\"#57C665\",\"#59C764\",\"#5BC862\",\"#5EC961\",\"#60C960\",\"#62CA5F\",\"#64CB5D\",\"#67CC5C\",\"#69CC5B\",\"#6BCD59\",\"#6DCE58\",\"#70CE56\",\"#72CF55\",\"#74D054\",\"#77D052\",\"#79D151\",\"#7CD24F\",\"#7ED24E\",\"#81D34C\",\"#83D34B\",\"#86D449\",\"#88D547\",\"#8BD546\",\"#8DD644\",\"#90D643\",\"#92D741\",\"#95D73F\",\"#97D83E\",\"#9AD83C\",\"#9DD93A\",\"#9FD938\",\"#A2DA37\",\"#A5DA35\",\"#A7DB33\",\"#AADB32\",\"#ADDC30\",\"#AFDC2E\",\"#B2DD2C\",\"#B5DD2B\",\"#B7DD29\",\"#BADE27\",\"#BDDE26\",\"#BFDF24\",\"#C2DF22\",\"#C5DF21\",\"#C7E01F\",\"#CAE01E\",\"#CDE01D\",\"#CFE11C\",\"#D2E11B\",\"#D4E11A\",\"#D7E219\",\"#DAE218\",\"#DCE218\",\"#DFE318\",\"#E1E318\",\"#E4E318\",\"#E7E419\",\"#E9E419\",\"#ECE41A\",\"#EEE51B\",\"#F1E51C\",\"#F3E51E\",\"#F6E61F\",\"#F8E621\",\"#FAE622\",\"#FDE724\"]},\"id\":\"2021\",\"type\":\"LinearColorMapper\"},{\"attributes\":{\"bottom_units\":\"screen\",\"coordinates\":null,\"fill_alpha\":0.5,\"fill_color\":\"lightgrey\",\"group\":null,\"left_units\":\"screen\",\"level\":\"overlay\",\"line_alpha\":1.0,\"line_color\":\"black\",\"line_dash\":[4,4],\"line_width\":2,\"right_units\":\"screen\",\"syncable\":false,\"top_units\":\"screen\"},\"id\":\"2013\",\"type\":\"BoxAnnotation\"},{\"attributes\":{\"color_mapper\":{\"id\":\"2021\"},\"coordinates\":null,\"group\":null,\"location\":[0,0],\"major_label_policy\":{\"id\":\"2113\"},\"ticker\":{\"id\":\"2022\"}},\"id\":\"2023\",\"type\":\"ColorBar\"},{\"attributes\":{\"overlay\":{\"id\":\"2013\"}},\"id\":\"2009\",\"type\":\"BoxZoomTool\"},{\"attributes\":{},\"id\":\"2008\",\"type\":\"WheelZoomTool\"},{\"attributes\":{},\"id\":\"2010\",\"type\":\"SaveTool\"},{\"attributes\":{},\"id\":\"2011\",\"type\":\"ResetTool\"},{\"attributes\":{},\"id\":\"2007\",\"type\":\"PanTool\"},{\"attributes\":{},\"id\":\"2005\",\"type\":\"CategoricalTicker\"},{\"attributes\":{},\"id\":\"2002\",\"type\":\"CategoricalTicker\"},{\"attributes\":{},\"id\":\"2022\",\"type\":\"BasicTicker\"},{\"attributes\":{},\"id\":\"2113\",\"type\":\"NoOverlap\"},{\"attributes\":{\"fill_color\":{\"field\":\"Total Brightness per Signal Area\",\"transform\":{\"id\":\"2021\"}},\"line_color\":{\"value\":\"#1f77b4\"},\"size\":{\"field\":\"Percent Positive\"},\"x\":{\"field\":\"Receptor\"},\"y\":{\"field\":\"Dose\"}},\"id\":\"2025\",\"type\":\"Scatter\"},{\"attributes\":{\"axis\":{\"id\":\"2004\"},\"coordinates\":null,\"dimension\":1,\"group\":null,\"ticker\":null},\"id\":\"2006\",\"type\":\"Grid\"},{\"attributes\":{\"coordinates\":null,\"data_source\":{\"id\":\"1990\"},\"glyph\":{\"id\":\"2025\"},\"group\":null,\"hover_glyph\":null,\"muted_glyph\":{\"id\":\"2027\"},\"nonselection_glyph\":{\"id\":\"2026\"},\"view\":{\"id\":\"2029\"}},\"id\":\"2028\",\"type\":\"GlyphRenderer\"},{\"attributes\":{\"axis\":{\"id\":\"2001\"},\"coordinates\":null,\"group\":null,\"ticker\":null},\"id\":\"2003\",\"type\":\"Grid\"},{\"attributes\":{\"source\":{\"id\":\"1990\"}},\"id\":\"2029\",\"type\":\"CDSView\"},{\"attributes\":{},\"id\":\"1999\",\"type\":\"CategoricalScale\"},{\"attributes\":{},\"id\":\"1997\",\"type\":\"CategoricalScale\"},{\"attributes\":{\"coordinates\":null,\"formatter\":{\"id\":\"2115\"},\"group\":null,\"major_label_orientation\":1.5707963267948966,\"major_label_policy\":{\"id\":\"2116\"},\"ticker\":{\"id\":\"2002\"}},\"id\":\"2001\",\"type\":\"CategoricalAxis\"},{\"attributes\":{\"factors\":[\"10000000.0\",\"100000000.0\",\"1000000000.0\"]},\"id\":\"1995\",\"type\":\"FactorRange\"},{\"attributes\":{},\"id\":\"2112\",\"type\":\"AllLabels\"},{\"attributes\":{\"factors\":[\"None\",\"Ly6c1\"]},\"id\":\"1993\",\"type\":\"FactorRange\"},{\"attributes\":{\"fill_alpha\":{\"value\":0.2},\"fill_color\":{\"field\":\"Total Brightness per Signal Area\",\"transform\":{\"id\":\"2021\"}},\"hatch_alpha\":{\"value\":0.2},\"line_alpha\":{\"value\":0.2},\"line_color\":{\"value\":\"#1f77b4\"},\"size\":{\"field\":\"Percent Positive\"},\"x\":{\"field\":\"Receptor\"},\"y\":{\"field\":\"Dose\"}},\"id\":\"2027\",\"type\":\"Scatter\"},{\"attributes\":{},\"id\":\"2111\",\"type\":\"CategoricalTickFormatter\"}],\"root_ids\":[\"1991\"]},\"title\":\"Bokeh Application\",\"version\":\"2.4.3\"}};\n",
       "  const render_items = [{\"docid\":\"e61c1fdd-b911-4f66-9d0b-eb3e9c289894\",\"root_ids\":[\"1991\"],\"roots\":{\"1991\":\"25995519-4ebd-4ed5-9f33-924640d6f94b\"}}];\n",
       "  root.Bokeh.embed.embed_items_notebook(docs_json, render_items);\n",
       "  }\n",
       "  if (root.Bokeh !== undefined) {\n",
       "    embed_document(root);\n",
       "  } else {\n",
       "    let attempts = 0;\n",
       "    const timer = setInterval(function(root) {\n",
       "      if (root.Bokeh !== undefined) {\n",
       "        clearInterval(timer);\n",
       "        embed_document(root);\n",
       "      } else {\n",
       "        attempts++;\n",
       "        if (attempts > 100) {\n",
       "          clearInterval(timer);\n",
       "          console.log(\"Bokeh: ERROR: Unable to run BokehJS code because BokehJS library is missing\");\n",
       "        }\n",
       "      }\n",
       "    }, 10, root)\n",
       "  }\n",
       "})(window);"
      ],
      "application/vnd.bokehjs_exec.v0+json": ""
     },
     "metadata": {
      "application/vnd.bokehjs_exec.v0+json": {
       "id": "1991"
      }
     },
     "output_type": "display_data"
    },
    {
     "name": "stdout",
     "output_type": "stream",
     "text": [
      "The most positive value is: 39.05 \n",
      "The least positive value is: 3.07 \n",
      "The brightest value is: 0.65 \n",
      "The dimmest value is: 0.15\n"
     ]
    },
    {
     "data": {
      "text/html": [
       "\n",
       "  <div class=\"bk-root\" id=\"7a0b3028-2387-49ba-bd8d-4c7c312beb0e\" data-root-id=\"2176\"></div>\n"
      ]
     },
     "metadata": {},
     "output_type": "display_data"
    },
    {
     "data": {
      "application/javascript": [
       "(function(root) {\n",
       "  function embed_document(root) {\n",
       "  const docs_json = {\"33ca3f75-0e0a-4405-aa9a-7eeb5abad269\":{\"defs\":[],\"roots\":{\"references\":[{\"attributes\":{\"below\":[{\"id\":\"2186\"}],\"center\":[{\"id\":\"2188\"},{\"id\":\"2191\"}],\"height\":400,\"left\":[{\"id\":\"2189\"}],\"output_backend\":\"svg\",\"renderers\":[{\"id\":\"2213\"}],\"right\":[{\"id\":\"2208\"}],\"title\":null,\"toolbar\":{\"id\":\"2199\"},\"width\":300,\"x_range\":{\"id\":\"2178\"},\"x_scale\":{\"id\":\"2182\"},\"y_range\":{\"id\":\"2180\"},\"y_scale\":{\"id\":\"2184\"}},\"id\":\"2176\",\"subtype\":\"Figure\",\"type\":\"Plot\"},{\"attributes\":{\"color_mapper\":{\"id\":\"2206\"},\"coordinates\":null,\"group\":null,\"location\":[0,0],\"major_label_policy\":{\"id\":\"2309\"},\"ticker\":{\"id\":\"2207\"}},\"id\":\"2208\",\"type\":\"ColorBar\"},{\"attributes\":{\"axis\":{\"id\":\"2189\"},\"coordinates\":null,\"dimension\":1,\"group\":null,\"ticker\":null},\"id\":\"2191\",\"type\":\"Grid\"},{\"attributes\":{},\"id\":\"2182\",\"type\":\"CategoricalScale\"},{\"attributes\":{\"fill_color\":{\"field\":\"Total Brightness per Signal Area\",\"transform\":{\"id\":\"2206\"}},\"line_color\":{\"value\":\"#1f77b4\"},\"size\":{\"field\":\"Percent Positive\"},\"x\":{\"field\":\"Receptor\"},\"y\":{\"field\":\"Dose\"}},\"id\":\"2210\",\"type\":\"Scatter\"},{\"attributes\":{},\"id\":\"2184\",\"type\":\"CategoricalScale\"},{\"attributes\":{\"coordinates\":null,\"formatter\":{\"id\":\"2311\"},\"group\":null,\"major_label_orientation\":1.5707963267948966,\"major_label_policy\":{\"id\":\"2312\"},\"ticker\":{\"id\":\"2187\"}},\"id\":\"2186\",\"type\":\"CategoricalAxis\"},{\"attributes\":{\"callback\":null,\"tooltips\":[[\"Round\",\"@Round\"],[\"Plate\",\"@Plate\"],[\"Well\",\"@Well\"],[\"Virus\",\"@Virus\"],[\"Receptor\",\"@Receptor\"],[\"Dose\",\"@Dose\"]]},\"id\":\"2215\",\"type\":\"HoverTool\"},{\"attributes\":{\"coordinates\":null,\"formatter\":{\"id\":\"2307\"},\"group\":null,\"major_label_policy\":{\"id\":\"2308\"},\"ticker\":{\"id\":\"2190\"}},\"id\":\"2189\",\"type\":\"CategoricalAxis\"},{\"attributes\":{\"factors\":[\"None\",\"Ly6c1\"]},\"id\":\"2178\",\"type\":\"FactorRange\"},{\"attributes\":{},\"id\":\"2187\",\"type\":\"CategoricalTicker\"},{\"attributes\":{\"source\":{\"id\":\"2175\"}},\"id\":\"2214\",\"type\":\"CDSView\"},{\"attributes\":{\"fill_alpha\":{\"value\":0.2},\"fill_color\":{\"field\":\"Total Brightness per Signal Area\",\"transform\":{\"id\":\"2206\"}},\"hatch_alpha\":{\"value\":0.2},\"line_alpha\":{\"value\":0.2},\"line_color\":{\"value\":\"#1f77b4\"},\"size\":{\"field\":\"Percent Positive\"},\"x\":{\"field\":\"Receptor\"},\"y\":{\"field\":\"Dose\"}},\"id\":\"2212\",\"type\":\"Scatter\"},{\"attributes\":{\"factors\":[\"10000000.0\",\"100000000.0\",\"1000000000.0\"]},\"id\":\"2180\",\"type\":\"FactorRange\"},{\"attributes\":{},\"id\":\"2314\",\"type\":\"Selection\"},{\"attributes\":{\"axis\":{\"id\":\"2186\"},\"coordinates\":null,\"group\":null,\"ticker\":null},\"id\":\"2188\",\"type\":\"Grid\"},{\"attributes\":{},\"id\":\"2313\",\"type\":\"UnionRenderers\"},{\"attributes\":{},\"id\":\"2312\",\"type\":\"AllLabels\"},{\"attributes\":{},\"id\":\"2311\",\"type\":\"CategoricalTickFormatter\"},{\"attributes\":{\"tools\":[{\"id\":\"2192\"},{\"id\":\"2193\"},{\"id\":\"2194\"},{\"id\":\"2195\"},{\"id\":\"2196\"},{\"id\":\"2197\"},{\"id\":\"2215\"}]},\"id\":\"2199\",\"type\":\"Toolbar\"},{\"attributes\":{\"bottom_units\":\"screen\",\"coordinates\":null,\"fill_alpha\":0.5,\"fill_color\":\"lightgrey\",\"group\":null,\"left_units\":\"screen\",\"level\":\"overlay\",\"line_alpha\":1.0,\"line_color\":\"black\",\"line_dash\":[4,4],\"line_width\":2,\"right_units\":\"screen\",\"syncable\":false,\"top_units\":\"screen\"},\"id\":\"2198\",\"type\":\"BoxAnnotation\"},{\"attributes\":{\"high\":0.735890716076948,\"low\":0.16176616523728618,\"palette\":[\"#440154\",\"#440255\",\"#440357\",\"#450558\",\"#45065A\",\"#45085B\",\"#46095C\",\"#460B5E\",\"#460C5F\",\"#460E61\",\"#470F62\",\"#471163\",\"#471265\",\"#471466\",\"#471567\",\"#471669\",\"#47186A\",\"#48196B\",\"#481A6C\",\"#481C6E\",\"#481D6F\",\"#481E70\",\"#482071\",\"#482172\",\"#482273\",\"#482374\",\"#472575\",\"#472676\",\"#472777\",\"#472878\",\"#472A79\",\"#472B7A\",\"#472C7B\",\"#462D7C\",\"#462F7C\",\"#46307D\",\"#46317E\",\"#45327F\",\"#45347F\",\"#453580\",\"#453681\",\"#443781\",\"#443982\",\"#433A83\",\"#433B83\",\"#433C84\",\"#423D84\",\"#423E85\",\"#424085\",\"#414186\",\"#414286\",\"#404387\",\"#404487\",\"#3F4587\",\"#3F4788\",\"#3E4888\",\"#3E4989\",\"#3D4A89\",\"#3D4B89\",\"#3D4C89\",\"#3C4D8A\",\"#3C4E8A\",\"#3B508A\",\"#3B518A\",\"#3A528B\",\"#3A538B\",\"#39548B\",\"#39558B\",\"#38568B\",\"#38578C\",\"#37588C\",\"#37598C\",\"#365A8C\",\"#365B8C\",\"#355C8C\",\"#355D8C\",\"#345E8D\",\"#345F8D\",\"#33608D\",\"#33618D\",\"#32628D\",\"#32638D\",\"#31648D\",\"#31658D\",\"#31668D\",\"#30678D\",\"#30688D\",\"#2F698D\",\"#2F6A8D\",\"#2E6B8E\",\"#2E6C8E\",\"#2E6D8E\",\"#2D6E8E\",\"#2D6F8E\",\"#2C708E\",\"#2C718E\",\"#2C728E\",\"#2B738E\",\"#2B748E\",\"#2A758E\",\"#2A768E\",\"#2A778E\",\"#29788E\",\"#29798E\",\"#287A8E\",\"#287A8E\",\"#287B8E\",\"#277C8E\",\"#277D8E\",\"#277E8E\",\"#267F8E\",\"#26808E\",\"#26818E\",\"#25828E\",\"#25838D\",\"#24848D\",\"#24858D\",\"#24868D\",\"#23878D\",\"#23888D\",\"#23898D\",\"#22898D\",\"#228A8D\",\"#228B8D\",\"#218C8D\",\"#218D8C\",\"#218E8C\",\"#208F8C\",\"#20908C\",\"#20918C\",\"#1F928C\",\"#1F938B\",\"#1F948B\",\"#1F958B\",\"#1F968B\",\"#1E978A\",\"#1E988A\",\"#1E998A\",\"#1E998A\",\"#1E9A89\",\"#1E9B89\",\"#1E9C89\",\"#1E9D88\",\"#1E9E88\",\"#1E9F88\",\"#1EA087\",\"#1FA187\",\"#1FA286\",\"#1FA386\",\"#20A485\",\"#20A585\",\"#21A685\",\"#21A784\",\"#22A784\",\"#23A883\",\"#23A982\",\"#24AA82\",\"#25AB81\",\"#26AC81\",\"#27AD80\",\"#28AE7F\",\"#29AF7F\",\"#2AB07E\",\"#2BB17D\",\"#2CB17D\",\"#2EB27C\",\"#2FB37B\",\"#30B47A\",\"#32B57A\",\"#33B679\",\"#35B778\",\"#36B877\",\"#38B976\",\"#39B976\",\"#3BBA75\",\"#3DBB74\",\"#3EBC73\",\"#40BD72\",\"#42BE71\",\"#44BE70\",\"#45BF6F\",\"#47C06E\",\"#49C16D\",\"#4BC26C\",\"#4DC26B\",\"#4FC369\",\"#51C468\",\"#53C567\",\"#55C666\",\"#57C665\",\"#59C764\",\"#5BC862\",\"#5EC961\",\"#60C960\",\"#62CA5F\",\"#64CB5D\",\"#67CC5C\",\"#69CC5B\",\"#6BCD59\",\"#6DCE58\",\"#70CE56\",\"#72CF55\",\"#74D054\",\"#77D052\",\"#79D151\",\"#7CD24F\",\"#7ED24E\",\"#81D34C\",\"#83D34B\",\"#86D449\",\"#88D547\",\"#8BD546\",\"#8DD644\",\"#90D643\",\"#92D741\",\"#95D73F\",\"#97D83E\",\"#9AD83C\",\"#9DD93A\",\"#9FD938\",\"#A2DA37\",\"#A5DA35\",\"#A7DB33\",\"#AADB32\",\"#ADDC30\",\"#AFDC2E\",\"#B2DD2C\",\"#B5DD2B\",\"#B7DD29\",\"#BADE27\",\"#BDDE26\",\"#BFDF24\",\"#C2DF22\",\"#C5DF21\",\"#C7E01F\",\"#CAE01E\",\"#CDE01D\",\"#CFE11C\",\"#D2E11B\",\"#D4E11A\",\"#D7E219\",\"#DAE218\",\"#DCE218\",\"#DFE318\",\"#E1E318\",\"#E4E318\",\"#E7E419\",\"#E9E419\",\"#ECE41A\",\"#EEE51B\",\"#F1E51C\",\"#F3E51E\",\"#F6E61F\",\"#F8E621\",\"#FAE622\",\"#FDE724\"]},\"id\":\"2206\",\"type\":\"LinearColorMapper\"},{\"attributes\":{},\"id\":\"2308\",\"type\":\"AllLabels\"},{\"attributes\":{},\"id\":\"2309\",\"type\":\"NoOverlap\"},{\"attributes\":{},\"id\":\"2196\",\"type\":\"ResetTool\"},{\"attributes\":{\"overlay\":{\"id\":\"2198\"}},\"id\":\"2194\",\"type\":\"BoxZoomTool\"},{\"attributes\":{},\"id\":\"2307\",\"type\":\"CategoricalTickFormatter\"},{\"attributes\":{},\"id\":\"2195\",\"type\":\"SaveTool\"},{\"attributes\":{},\"id\":\"2207\",\"type\":\"BasicTicker\"},{\"attributes\":{},\"id\":\"2190\",\"type\":\"CategoricalTicker\"},{\"attributes\":{\"fill_alpha\":{\"value\":0.1},\"fill_color\":{\"field\":\"Total Brightness per Signal Area\",\"transform\":{\"id\":\"2206\"}},\"hatch_alpha\":{\"value\":0.1},\"line_alpha\":{\"value\":0.1},\"line_color\":{\"value\":\"#1f77b4\"},\"size\":{\"field\":\"Percent Positive\"},\"x\":{\"field\":\"Receptor\"},\"y\":{\"field\":\"Dose\"}},\"id\":\"2211\",\"type\":\"Scatter\"},{\"attributes\":{},\"id\":\"2193\",\"type\":\"WheelZoomTool\"},{\"attributes\":{\"data\":{\"Bright Field Area\":{\"__ndarray__\":\"q6qqqlJUAkFVVVVVJdgDQQAAAAAgLQZBq6qqquIIBEFVVVVV1XUFQauqqqoiZwdB\",\"dtype\":\"float64\",\"order\":\"little\",\"shape\":[6]},\"Brinzolamide (nM)\":{\"__ndarray__\":\"AAAAAAAAAAAAAAAAAAAAAAAAAAAAAAAAAAAAAAAAAAAAAAAAAAAAAAAAAAAAAAAA\",\"dtype\":\"float64\",\"order\":\"little\",\"shape\":[6]},\"Count\":{\"__ndarray__\":\"q6qqqqqKjUCrqqqqqvaaQFVVVVVVtaBAAAAAAADQcUBVVVVVVbWFQAAAAAAAWKBA\",\"dtype\":\"float64\",\"order\":\"little\",\"shape\":[6]},\"DMSO (%)\":{\"__ndarray__\":\"AAAAAAAAAAAAAAAAAAAAAAAAAAAAAAAAAAAAAAAAAAAAAAAAAAAAAAAAAAAAAAAA\",\"dtype\":\"float64\",\"order\":\"little\",\"shape\":[6]},\"Dose\":[\"10000000.0\",\"100000000.0\",\"1000000000.0\",\"10000000.0\",\"100000000.0\",\"1000000000.0\"],\"Percent Positive\":{\"__ndarray__\":\"9UkOZzteNUCpJo7za/xHQIhQMGTufU1A2MoRAkqfCECsZG07S+whQM1SdZwlmTtA\",\"dtype\":\"float64\",\"order\":\"little\",\"shape\":[6]},\"Percent Positive Scaled\":{\"__ndarray__\":\"9UkOZzteJUCpJo7za/w3QIhQMGTufT1A2MoRAkqf+D+sZG07S+wRQM1SdZwlmStA\",\"dtype\":\"float64\",\"order\":\"little\",\"shape\":[6]},\"Plate\":{\"__ndarray__\":\"AAAAAAAACEAAAAAAAAAIQAAAAAAAAPA/AAAAAAAAEEAAAAAAAAAQQAAAAAAAAABA\",\"dtype\":\"float64\",\"order\":\"little\",\"shape\":[6]},\"Receptor\":[\"Ly6c1\",\"Ly6c1\",\"Ly6c1\",\"None\",\"None\",\"None\"],\"Round\":{\"__ndarray__\":\"AAAAAAAAJkAAAAAAAAAmQAAAAAAAACZAAAAAAAAAJkAAAAAAAAAmQAAAAAAAACZA\",\"dtype\":\"float64\",\"order\":\"little\",\"shape\":[6]},\"Signal Area\":{\"__ndarray__\":\"q6qqqqon30Crqqqq+u/yQFVVVVW1CfpAAAAAAABss0AAAAAAAL/OQFVVVVWVxulA\",\"dtype\":\"float64\",\"order\":\"little\",\"shape\":[6]},\"Total Brightness\":{\"__ndarray__\":\"R53yR51Sy0CE2S6EuZnpQARarwSKLPNA1X8q1X8iiUDlPJLnPEStQKdP+qRPTdpA\",\"dtype\":\"float64\",\"order\":\"little\",\"shape\":[6]},\"Total Brightness per Signal Area\":{\"__ndarray__\":\"e5vdFG0e3D9z2BdZOqLlP11g369qjOc/oZCl8sC0xD8AFqQeiXLOP+vWMrEjU+A/\",\"dtype\":\"float64\",\"order\":\"little\",\"shape\":[6]},\"Virus\":[\"eC 19\",\"eC 19\",\"eC 19\",\"eC 19\",\"eC 19\",\"eC 19\"],\"Well\":{\"__ndarray__\":\"AAAAAADAUUAAAAAAAABRQAAAAAAAAFFAAAAAAADAUUAAAAAAAABRQAAAAAAAAFFA\",\"dtype\":\"float64\",\"order\":\"little\",\"shape\":[6]},\"index\":[60,61,62,63,64,65]},\"selected\":{\"id\":\"2314\"},\"selection_policy\":{\"id\":\"2313\"}},\"id\":\"2175\",\"type\":\"ColumnDataSource\"},{\"attributes\":{\"coordinates\":null,\"data_source\":{\"id\":\"2175\"},\"glyph\":{\"id\":\"2210\"},\"group\":null,\"hover_glyph\":null,\"muted_glyph\":{\"id\":\"2212\"},\"nonselection_glyph\":{\"id\":\"2211\"},\"view\":{\"id\":\"2214\"}},\"id\":\"2213\",\"type\":\"GlyphRenderer\"},{\"attributes\":{},\"id\":\"2192\",\"type\":\"PanTool\"},{\"attributes\":{},\"id\":\"2197\",\"type\":\"HelpTool\"}],\"root_ids\":[\"2176\"]},\"title\":\"Bokeh Application\",\"version\":\"2.4.3\"}};\n",
       "  const render_items = [{\"docid\":\"33ca3f75-0e0a-4405-aa9a-7eeb5abad269\",\"root_ids\":[\"2176\"],\"roots\":{\"2176\":\"7a0b3028-2387-49ba-bd8d-4c7c312beb0e\"}}];\n",
       "  root.Bokeh.embed.embed_items_notebook(docs_json, render_items);\n",
       "  }\n",
       "  if (root.Bokeh !== undefined) {\n",
       "    embed_document(root);\n",
       "  } else {\n",
       "    let attempts = 0;\n",
       "    const timer = setInterval(function(root) {\n",
       "      if (root.Bokeh !== undefined) {\n",
       "        clearInterval(timer);\n",
       "        embed_document(root);\n",
       "      } else {\n",
       "        attempts++;\n",
       "        if (attempts > 100) {\n",
       "          clearInterval(timer);\n",
       "          console.log(\"Bokeh: ERROR: Unable to run BokehJS code because BokehJS library is missing\");\n",
       "        }\n",
       "      }\n",
       "    }, 10, root)\n",
       "  }\n",
       "})(window);"
      ],
      "application/vnd.bokehjs_exec.v0+json": ""
     },
     "metadata": {
      "application/vnd.bokehjs_exec.v0+json": {
       "id": "2176"
      }
     },
     "output_type": "display_data"
    },
    {
     "name": "stdout",
     "output_type": "stream",
     "text": [
      "The most positive value is: 58.98 \n",
      "The least positive value is: 3.08 \n",
      "The brightest value is: 0.74 \n",
      "The dimmest value is: 0.16\n"
     ]
    }
   ],
   "source": [
    "for virus in ['PHP.eB', 'PHP.C2', 'eC 19']:\n",
    "    inds = (df_f4c['Virus'] == virus)\n",
    "\n",
    "    p, min_pos, max_pos, min_brightness, max_brightness = cellseg.plot.bubble_plot(df_f4c.loc[inds],\n",
    "                                                                                   'Receptor',\n",
    "                                                                                   'Dose',\n",
    "                                                                                   x_values = ['None',\n",
    "                                                                                               'Ly6c1'],\n",
    "                                                                                   y_values = ['10000000.0',\n",
    "                                                                                               '100000000.0',\n",
    "                                                                                               '1000000000.0'],\n",
    "                                                                               plot_width = 300, \n",
    "                                                                               plot_height = 400)\n",
    "    bokeh.io.show(p)\n",
    "    \n",
    "    print(\"The most positive value is: %0.2f \\nThe least positive value is: %0.2f \\nThe brightest value is: %0.2f \\nThe dimmest value is: %0.2f\" % (max_pos, min_pos, max_brightness, min_brightness))"
   ]
  },
  {
   "cell_type": "markdown",
   "id": "50f17786-e662-4016-8475-7ec2d7daf33d",
   "metadata": {},
   "source": [
    "## Fig 5"
   ]
  },
  {
   "cell_type": "markdown",
   "id": "1f587804-dc56-45b9-a648-4a40f801ebb3",
   "metadata": {},
   "source": [
    "### Part D"
   ]
  },
  {
   "cell_type": "code",
   "execution_count": 20,
   "id": "71a15b32-929b-4c12-aa4a-b433aba1dbea",
   "metadata": {},
   "outputs": [],
   "source": [
    "virus_inds = df_reduced['Virus'] == 'PHP.eB'\n",
    "round_inds = df_reduced['Round'] == 12\n",
    "dose_inds = df_reduced['Dose'] != 1e10\n",
    "\n",
    "inds = virus_inds & round_inds & dose_inds\n",
    "\n",
    "df_f5d = df_reduced.loc[inds]\n",
    "\n",
    "df_f5d = df_f5d.astype({\"Dose\": str})\n",
    "\n",
    "df_f5d = df_f5d.groupby(['Virus', 'Receptor', 'Dose']).mean(numeric_only = True).reset_index()"
   ]
  },
  {
   "cell_type": "code",
   "execution_count": 21,
   "id": "7b3a46ce-bb3c-4447-ac12-3597104bac34",
   "metadata": {},
   "outputs": [
    {
     "data": {
      "text/html": [
       "\n",
       "  <div class=\"bk-root\" id=\"1af530ae-0f1c-4bda-8819-e094c041332d\" data-root-id=\"2372\"></div>\n"
      ]
     },
     "metadata": {},
     "output_type": "display_data"
    },
    {
     "data": {
      "application/javascript": [
       "(function(root) {\n",
       "  function embed_document(root) {\n",
       "  const docs_json = {\"299946bd-f99f-4c9c-b797-20ed9805a430\":{\"defs\":[],\"roots\":{\"references\":[{\"attributes\":{\"below\":[{\"id\":\"2382\"}],\"center\":[{\"id\":\"2384\"},{\"id\":\"2387\"}],\"height\":200,\"left\":[{\"id\":\"2385\"}],\"output_backend\":\"svg\",\"renderers\":[{\"id\":\"2409\"}],\"right\":[{\"id\":\"2404\"}],\"title\":null,\"toolbar\":{\"id\":\"2395\"},\"width\":300,\"x_range\":{\"id\":\"2374\"},\"x_scale\":{\"id\":\"2378\"},\"y_range\":{\"id\":\"2376\"},\"y_scale\":{\"id\":\"2380\"}},\"id\":\"2372\",\"subtype\":\"Figure\",\"type\":\"Plot\"},{\"attributes\":{\"axis\":{\"id\":\"2385\"},\"coordinates\":null,\"dimension\":1,\"group\":null,\"ticker\":null},\"id\":\"2387\",\"type\":\"Grid\"},{\"attributes\":{\"color_mapper\":{\"id\":\"2402\"},\"coordinates\":null,\"group\":null,\"location\":[0,0],\"major_label_policy\":{\"id\":\"2516\"},\"ticker\":{\"id\":\"2403\"}},\"id\":\"2404\",\"type\":\"ColorBar\"},{\"attributes\":{},\"id\":\"2518\",\"type\":\"CategoricalTickFormatter\"},{\"attributes\":{},\"id\":\"2519\",\"type\":\"AllLabels\"},{\"attributes\":{\"callback\":null,\"tooltips\":[[\"Round\",\"@Round\"],[\"Plate\",\"@Plate\"],[\"Well\",\"@Well\"],[\"Virus\",\"@Virus\"],[\"Receptor\",\"@Receptor\"],[\"Dose\",\"@Dose\"]]},\"id\":\"2411\",\"type\":\"HoverTool\"},{\"attributes\":{},\"id\":\"2393\",\"type\":\"HelpTool\"},{\"attributes\":{\"bottom_units\":\"screen\",\"coordinates\":null,\"fill_alpha\":0.5,\"fill_color\":\"lightgrey\",\"group\":null,\"left_units\":\"screen\",\"level\":\"overlay\",\"line_alpha\":1.0,\"line_color\":\"black\",\"line_dash\":[4,4],\"line_width\":2,\"right_units\":\"screen\",\"syncable\":false,\"top_units\":\"screen\"},\"id\":\"2394\",\"type\":\"BoxAnnotation\"},{\"attributes\":{},\"id\":\"2520\",\"type\":\"UnionRenderers\"},{\"attributes\":{},\"id\":\"2378\",\"type\":\"CategoricalScale\"},{\"attributes\":{\"high\":0.6082360803453385,\"low\":0.15817774507779078,\"palette\":[\"#440154\",\"#440255\",\"#440357\",\"#450558\",\"#45065A\",\"#45085B\",\"#46095C\",\"#460B5E\",\"#460C5F\",\"#460E61\",\"#470F62\",\"#471163\",\"#471265\",\"#471466\",\"#471567\",\"#471669\",\"#47186A\",\"#48196B\",\"#481A6C\",\"#481C6E\",\"#481D6F\",\"#481E70\",\"#482071\",\"#482172\",\"#482273\",\"#482374\",\"#472575\",\"#472676\",\"#472777\",\"#472878\",\"#472A79\",\"#472B7A\",\"#472C7B\",\"#462D7C\",\"#462F7C\",\"#46307D\",\"#46317E\",\"#45327F\",\"#45347F\",\"#453580\",\"#453681\",\"#443781\",\"#443982\",\"#433A83\",\"#433B83\",\"#433C84\",\"#423D84\",\"#423E85\",\"#424085\",\"#414186\",\"#414286\",\"#404387\",\"#404487\",\"#3F4587\",\"#3F4788\",\"#3E4888\",\"#3E4989\",\"#3D4A89\",\"#3D4B89\",\"#3D4C89\",\"#3C4D8A\",\"#3C4E8A\",\"#3B508A\",\"#3B518A\",\"#3A528B\",\"#3A538B\",\"#39548B\",\"#39558B\",\"#38568B\",\"#38578C\",\"#37588C\",\"#37598C\",\"#365A8C\",\"#365B8C\",\"#355C8C\",\"#355D8C\",\"#345E8D\",\"#345F8D\",\"#33608D\",\"#33618D\",\"#32628D\",\"#32638D\",\"#31648D\",\"#31658D\",\"#31668D\",\"#30678D\",\"#30688D\",\"#2F698D\",\"#2F6A8D\",\"#2E6B8E\",\"#2E6C8E\",\"#2E6D8E\",\"#2D6E8E\",\"#2D6F8E\",\"#2C708E\",\"#2C718E\",\"#2C728E\",\"#2B738E\",\"#2B748E\",\"#2A758E\",\"#2A768E\",\"#2A778E\",\"#29788E\",\"#29798E\",\"#287A8E\",\"#287A8E\",\"#287B8E\",\"#277C8E\",\"#277D8E\",\"#277E8E\",\"#267F8E\",\"#26808E\",\"#26818E\",\"#25828E\",\"#25838D\",\"#24848D\",\"#24858D\",\"#24868D\",\"#23878D\",\"#23888D\",\"#23898D\",\"#22898D\",\"#228A8D\",\"#228B8D\",\"#218C8D\",\"#218D8C\",\"#218E8C\",\"#208F8C\",\"#20908C\",\"#20918C\",\"#1F928C\",\"#1F938B\",\"#1F948B\",\"#1F958B\",\"#1F968B\",\"#1E978A\",\"#1E988A\",\"#1E998A\",\"#1E998A\",\"#1E9A89\",\"#1E9B89\",\"#1E9C89\",\"#1E9D88\",\"#1E9E88\",\"#1E9F88\",\"#1EA087\",\"#1FA187\",\"#1FA286\",\"#1FA386\",\"#20A485\",\"#20A585\",\"#21A685\",\"#21A784\",\"#22A784\",\"#23A883\",\"#23A982\",\"#24AA82\",\"#25AB81\",\"#26AC81\",\"#27AD80\",\"#28AE7F\",\"#29AF7F\",\"#2AB07E\",\"#2BB17D\",\"#2CB17D\",\"#2EB27C\",\"#2FB37B\",\"#30B47A\",\"#32B57A\",\"#33B679\",\"#35B778\",\"#36B877\",\"#38B976\",\"#39B976\",\"#3BBA75\",\"#3DBB74\",\"#3EBC73\",\"#40BD72\",\"#42BE71\",\"#44BE70\",\"#45BF6F\",\"#47C06E\",\"#49C16D\",\"#4BC26C\",\"#4DC26B\",\"#4FC369\",\"#51C468\",\"#53C567\",\"#55C666\",\"#57C665\",\"#59C764\",\"#5BC862\",\"#5EC961\",\"#60C960\",\"#62CA5F\",\"#64CB5D\",\"#67CC5C\",\"#69CC5B\",\"#6BCD59\",\"#6DCE58\",\"#70CE56\",\"#72CF55\",\"#74D054\",\"#77D052\",\"#79D151\",\"#7CD24F\",\"#7ED24E\",\"#81D34C\",\"#83D34B\",\"#86D449\",\"#88D547\",\"#8BD546\",\"#8DD644\",\"#90D643\",\"#92D741\",\"#95D73F\",\"#97D83E\",\"#9AD83C\",\"#9DD93A\",\"#9FD938\",\"#A2DA37\",\"#A5DA35\",\"#A7DB33\",\"#AADB32\",\"#ADDC30\",\"#AFDC2E\",\"#B2DD2C\",\"#B5DD2B\",\"#B7DD29\",\"#BADE27\",\"#BDDE26\",\"#BFDF24\",\"#C2DF22\",\"#C5DF21\",\"#C7E01F\",\"#CAE01E\",\"#CDE01D\",\"#CFE11C\",\"#D2E11B\",\"#D4E11A\",\"#D7E219\",\"#DAE218\",\"#DCE218\",\"#DFE318\",\"#E1E318\",\"#E4E318\",\"#E7E419\",\"#E9E419\",\"#ECE41A\",\"#EEE51B\",\"#F1E51C\",\"#F3E51E\",\"#F6E61F\",\"#F8E621\",\"#FAE622\",\"#FDE724\"]},\"id\":\"2402\",\"type\":\"LinearColorMapper\"},{\"attributes\":{\"axis\":{\"id\":\"2382\"},\"coordinates\":null,\"group\":null,\"ticker\":null},\"id\":\"2384\",\"type\":\"Grid\"},{\"attributes\":{},\"id\":\"2403\",\"type\":\"BasicTicker\"},{\"attributes\":{\"fill_alpha\":{\"value\":0.2},\"fill_color\":{\"field\":\"Total Brightness per Signal Area\",\"transform\":{\"id\":\"2402\"}},\"hatch_alpha\":{\"value\":0.2},\"line_alpha\":{\"value\":0.2},\"line_color\":{\"value\":\"#1f77b4\"},\"size\":{\"field\":\"Percent Positive\"},\"x\":{\"field\":\"Dose\"},\"y\":{\"field\":\"Receptor\"}},\"id\":\"2408\",\"type\":\"Scatter\"},{\"attributes\":{\"fill_alpha\":{\"value\":0.1},\"fill_color\":{\"field\":\"Total Brightness per Signal Area\",\"transform\":{\"id\":\"2402\"}},\"hatch_alpha\":{\"value\":0.1},\"line_alpha\":{\"value\":0.1},\"line_color\":{\"value\":\"#1f77b4\"},\"size\":{\"field\":\"Percent Positive\"},\"x\":{\"field\":\"Dose\"},\"y\":{\"field\":\"Receptor\"}},\"id\":\"2407\",\"type\":\"Scatter\"},{\"attributes\":{},\"id\":\"2514\",\"type\":\"CategoricalTickFormatter\"},{\"attributes\":{},\"id\":\"2515\",\"type\":\"AllLabels\"},{\"attributes\":{\"coordinates\":null,\"data_source\":{\"id\":\"2371\"},\"glyph\":{\"id\":\"2406\"},\"group\":null,\"hover_glyph\":null,\"muted_glyph\":{\"id\":\"2408\"},\"nonselection_glyph\":{\"id\":\"2407\"},\"view\":{\"id\":\"2410\"}},\"id\":\"2409\",\"type\":\"GlyphRenderer\"},{\"attributes\":{\"coordinates\":null,\"formatter\":{\"id\":\"2518\"},\"group\":null,\"major_label_orientation\":1.5707963267948966,\"major_label_policy\":{\"id\":\"2519\"},\"ticker\":{\"id\":\"2383\"}},\"id\":\"2382\",\"type\":\"CategoricalAxis\"},{\"attributes\":{},\"id\":\"2386\",\"type\":\"CategoricalTicker\"},{\"attributes\":{\"source\":{\"id\":\"2371\"}},\"id\":\"2410\",\"type\":\"CDSView\"},{\"attributes\":{\"coordinates\":null,\"formatter\":{\"id\":\"2514\"},\"group\":null,\"major_label_policy\":{\"id\":\"2515\"},\"ticker\":{\"id\":\"2386\"}},\"id\":\"2385\",\"type\":\"CategoricalAxis\"},{\"attributes\":{},\"id\":\"2516\",\"type\":\"NoOverlap\"},{\"attributes\":{\"factors\":[\"Ly6a A58R\",\"Ly6a\"]},\"id\":\"2376\",\"type\":\"FactorRange\"},{\"attributes\":{},\"id\":\"2391\",\"type\":\"SaveTool\"},{\"attributes\":{\"tools\":[{\"id\":\"2388\"},{\"id\":\"2389\"},{\"id\":\"2390\"},{\"id\":\"2391\"},{\"id\":\"2392\"},{\"id\":\"2393\"},{\"id\":\"2411\"}]},\"id\":\"2395\",\"type\":\"Toolbar\"},{\"attributes\":{\"data\":{\"Bright Field Area\":{\"__ndarray__\":\"AAAAAGDSB0FVVVVVXUoFQVVVVVWF2AdBVVVVVbX9BUFVVVVVbTAFQVVVVVVtDAhBAAAAALhZCEFVVVVVfeUGQauqqqp6qwhBq6qqqmJeCUGrqqqqUrcFQVVVVVUt2AhB\",\"dtype\":\"float64\",\"order\":\"little\",\"shape\":[12]},\"Brinzolamide (nM)\":{\"__ndarray__\":\"AAAAAAAAAAAAAAAAAAAAAAAAAAAAAAAAAAAAAAAAAAAAAAAAAAAAAAAAAAAAAAAAAAAAAAAAAAAAAAAAAAAAAAAAAAAAAAAAAAAAAAAAAAAAAAAAAAAAAAAAAAAAAAAA\",\"dtype\":\"float64\",\"order\":\"little\",\"shape\":[12]},\"Count\":{\"__ndarray__\":\"VVVVVVVVdkBVVVVVVSV5QKuqqqqqQpxAq6qqqqq6eECrqqqqqoKDQAAAAAAAtJtAq6qqqqoadkBVVVVVVYV8QKuqqqqqWppAVVVVVVVFdEAAAAAAALB7QFVVVVVVJZdA\",\"dtype\":\"float64\",\"order\":\"little\",\"shape\":[12]},\"DMSO (%)\":{\"__ndarray__\":\"AAAAAAAAAAAAAAAAAAAAAAAAAAAAAAAAAAAAAAAAAAAAAAAAAAAAAAAAAAAAAAAAAAAAAAAAAAAAAAAAAAAAAAAAAAAAAAAAAAAAAAAAAAAAAAAAAAAAAAAAAAAAAAAA\",\"dtype\":\"float64\",\"order\":\"little\",\"shape\":[12]},\"Dose\":[\"10000000.0\",\"100000000.0\",\"1000000000.0\",\"10000000.0\",\"100000000.0\",\"1000000000.0\",\"10000000.0\",\"100000000.0\",\"1000000000.0\",\"10000000.0\",\"100000000.0\",\"1000000000.0\"],\"Percent Positive\":{\"__ndarray__\":\"fcRR4XBoCUAg71rzoegVQA/AvVlNpDJAucxpBvUJG0CnojXRNNAnQABJmKdvsjxABV50R7aNB0Dnj8yP3NgSQF3g7ARvDDBADOneBRtzC0BAIIWPre4SQL+1Xh9wtCpA\",\"dtype\":\"float64\",\"order\":\"little\",\"shape\":[12]},\"Percent Positive Scaled\":{\"__ndarray__\":\"fcRR4XBo+T8g71rzoegFQA/AvVlNpCJAucxpBvUJC0CnojXRNNAXQABJmKdvsixABV50R7aN9z/nj8yP3NgCQF3g7ARvDCBADOneBRtz+z9AIIWPre4CQL+1Xh9wtBpA\",\"dtype\":\"float64\",\"order\":\"little\",\"shape\":[12]},\"Plate\":{\"__ndarray__\":\"AAAAAAAACEAAAAAAAAAIQAAAAAAAAAhAAAAAAAAA8D8AAAAAAADwPwAAAAAAAPA/AAAAAAAA8D8AAAAAAADwPwAAAAAAAPA/AAAAAAAAGEAAAAAAAAAYQAAAAAAAABhA\",\"dtype\":\"float64\",\"order\":\"little\",\"shape\":[12]},\"Receptor\":[\"FAM234A\",\"FAM234A\",\"FAM234A\",\"Ly6a\",\"Ly6a\",\"Ly6a\",\"Ly6a A58R\",\"Ly6a A58R\",\"Ly6a A58R\",\"None\",\"None\",\"None\"],\"Round\":{\"__ndarray__\":\"AAAAAAAAKEAAAAAAAAAoQAAAAAAAAChAAAAAAAAAKEAAAAAAAAAoQAAAAAAAAChAAAAAAAAAKEAAAAAAAAAoQAAAAAAAAChAAAAAAAAAKEAAAAAAAAAoQAAAAAAAAChA\",\"dtype\":\"float64\",\"order\":\"little\",\"shape\":[12]},\"Signal Area\":{\"__ndarray__\":\"q6qqqqozuEBVVVVV1Y7CQKuqqqoKaeFAVVVVVdXRx0CrqqqqKifUQFVVVVW1putAVVVVVVUAt0BVVVVV1T/BQFVVVVUVo99AVVVVVVVhvEBVVVVV1WzAQFVVVVUVk9pA\",\"dtype\":\"float64\",\"order\":\"little\",\"shape\":[12]},\"Total Brightness\":{\"__ndarray__\":\"V6wBV6xdkEBsbGxsbAKhQIOEhISEqc9AMYjdMohRrkDDbBfCbOK+QAm0XgkU5eBAC1+0CV90jEBdCLNdCL+aQMVuGcRuSstApVH8plH0mEC0CV+0CR+WQDMyMjKyeMNA\",\"dtype\":\"float64\",\"order\":\"little\",\"shape\":[12]},\"Total Brightness per Signal Area\":{\"__ndarray__\":\"2M7F1mTjxT9l3lSrKEXNP9Pi9LPS9dw/l1hc3GhH1D+AhEdWTG7YPxuTKoOrduM/nzUIGSs/xD9c+hbjG7XIP6NVLoYfkNs/a7wKYZ4OyT+xx6SeyJXFP+Pv8yjUT9c/\",\"dtype\":\"float64\",\"order\":\"little\",\"shape\":[12]},\"Virus\":[\"PHP.eB\",\"PHP.eB\",\"PHP.eB\",\"PHP.eB\",\"PHP.eB\",\"PHP.eB\",\"PHP.eB\",\"PHP.eB\",\"PHP.eB\",\"PHP.eB\",\"PHP.eB\",\"PHP.eB\"],\"Well\":{\"__ndarray__\":\"AAAAAACATUAAAAAAAABMQAAAAAAAgEpAAAAAAAAAJkAAAAAAAAAgQAAAAAAAABRAAAAAAACAQUAAAAAAAABAQAAAAAAAAD1AAAAAAAAAJkAAAAAAAAAgQAAAAAAAABRA\",\"dtype\":\"float64\",\"order\":\"little\",\"shape\":[12]},\"index\":[0,1,2,3,4,5,6,7,8,9,10,11]},\"selected\":{\"id\":\"2521\"},\"selection_policy\":{\"id\":\"2520\"}},\"id\":\"2371\",\"type\":\"ColumnDataSource\"},{\"attributes\":{\"fill_color\":{\"field\":\"Total Brightness per Signal Area\",\"transform\":{\"id\":\"2402\"}},\"line_color\":{\"value\":\"#1f77b4\"},\"size\":{\"field\":\"Percent Positive\"},\"x\":{\"field\":\"Dose\"},\"y\":{\"field\":\"Receptor\"}},\"id\":\"2406\",\"type\":\"Scatter\"},{\"attributes\":{\"overlay\":{\"id\":\"2394\"}},\"id\":\"2390\",\"type\":\"BoxZoomTool\"},{\"attributes\":{},\"id\":\"2388\",\"type\":\"PanTool\"},{\"attributes\":{},\"id\":\"2389\",\"type\":\"WheelZoomTool\"},{\"attributes\":{},\"id\":\"2392\",\"type\":\"ResetTool\"},{\"attributes\":{\"factors\":[\"1000000000.0\",\"100000000.0\",\"10000000.0\"]},\"id\":\"2374\",\"type\":\"FactorRange\"},{\"attributes\":{},\"id\":\"2380\",\"type\":\"CategoricalScale\"},{\"attributes\":{},\"id\":\"2521\",\"type\":\"Selection\"},{\"attributes\":{},\"id\":\"2383\",\"type\":\"CategoricalTicker\"}],\"root_ids\":[\"2372\"]},\"title\":\"Bokeh Application\",\"version\":\"2.4.3\"}};\n",
       "  const render_items = [{\"docid\":\"299946bd-f99f-4c9c-b797-20ed9805a430\",\"root_ids\":[\"2372\"],\"roots\":{\"2372\":\"1af530ae-0f1c-4bda-8819-e094c041332d\"}}];\n",
       "  root.Bokeh.embed.embed_items_notebook(docs_json, render_items);\n",
       "  }\n",
       "  if (root.Bokeh !== undefined) {\n",
       "    embed_document(root);\n",
       "  } else {\n",
       "    let attempts = 0;\n",
       "    const timer = setInterval(function(root) {\n",
       "      if (root.Bokeh !== undefined) {\n",
       "        clearInterval(timer);\n",
       "        embed_document(root);\n",
       "      } else {\n",
       "        attempts++;\n",
       "        if (attempts > 100) {\n",
       "          clearInterval(timer);\n",
       "          console.log(\"Bokeh: ERROR: Unable to run BokehJS code because BokehJS library is missing\");\n",
       "        }\n",
       "      }\n",
       "    }, 10, root)\n",
       "  }\n",
       "})(window);"
      ],
      "application/vnd.bokehjs_exec.v0+json": ""
     },
     "metadata": {
      "application/vnd.bokehjs_exec.v0+json": {
       "id": "2372"
      }
     },
     "output_type": "display_data"
    },
    {
     "name": "stdout",
     "output_type": "stream",
     "text": [
      "The most positive value is: 28.70 \n",
      "The least positive value is: 2.94 \n",
      "The brightest value is: 0.61 \n",
      "The dimmest value is: 0.16\n"
     ]
    }
   ],
   "source": [
    "p, min_pos, max_pos, min_brightness, max_brightness = cellseg.plot.bubble_plot(df_f5d, \n",
    "                                                                               'Dose',\n",
    "                                                                               'Receptor',\n",
    "                                                                               x_values = ['1000000000.0',\n",
    "                                                                                           '100000000.0',\n",
    "                                                                                           '10000000.0'],\n",
    "                                                                               y_values = ['Ly6a A58R',\n",
    "                                                                                           'Ly6a'],\n",
    "                                                                               plot_width = 300, \n",
    "                                                                               plot_height = 200)\n",
    "\n",
    "bokeh.io.show(p)\n",
    "\n",
    "print(\"The most positive value is: %0.2f \\nThe least positive value is: %0.2f \\nThe brightest value is: %0.2f \\nThe dimmest value is: %0.2f\" % (max_pos, min_pos, max_brightness, min_brightness))"
   ]
  },
  {
   "cell_type": "markdown",
   "id": "e3938265-03a9-4f02-a9dd-bc9db74459ff",
   "metadata": {},
   "source": [
    "## Figure 6"
   ]
  },
  {
   "cell_type": "markdown",
   "id": "05c1d99a-23d5-4746-85fe-db3a708ff0bb",
   "metadata": {},
   "source": [
    "### Part B"
   ]
  },
  {
   "cell_type": "code",
   "execution_count": 22,
   "id": "59f5d800-228a-4ea1-b76d-c6829bbdcfe6",
   "metadata": {},
   "outputs": [],
   "source": [
    "dmso_inds = df_reduced['DMSO (%)'] == 0.3 \n",
    "dose_inds = df_reduced['Dose'] == 1e9\n",
    "\n",
    "inds = dmso_inds & dose_inds\n",
    "\n",
    "df_f6b = df_reduced.loc[inds]\n",
    "\n",
    "# We need to convert the dose values to a string to allow us to plot catagorically\n",
    "df_f6b = df_f6b.astype({\"Brinzolamide (nM)\": str})\n",
    "df_f6b = df_f6b.astype({\"Dose\": str})\n",
    "\n",
    "# We can determine the mean of each of the values\n",
    "df_f6b = df_f6b.groupby(['Virus', 'Receptor', 'Dose', 'Brinzolamide (nM)']).mean(numeric_only = True).reset_index()"
   ]
  },
  {
   "cell_type": "code",
   "execution_count": 23,
   "id": "7c1b0660-2494-412f-96a1-c7e8e7ca243a",
   "metadata": {},
   "outputs": [
    {
     "data": {
      "text/html": [
       "\n",
       "  <div class=\"bk-root\" id=\"f7f09a21-7e26-4a16-b83a-6f26ffc14b30\" data-root-id=\"2579\"></div>\n"
      ]
     },
     "metadata": {},
     "output_type": "display_data"
    },
    {
     "data": {
      "application/javascript": [
       "(function(root) {\n",
       "  function embed_document(root) {\n",
       "  const docs_json = {\"adfb54fb-3227-4eda-80c8-207394b6f12b\":{\"defs\":[],\"roots\":{\"references\":[{\"attributes\":{\"below\":[{\"id\":\"2589\"}],\"center\":[{\"id\":\"2591\"},{\"id\":\"2594\"}],\"height\":200,\"left\":[{\"id\":\"2592\"}],\"output_backend\":\"svg\",\"renderers\":[{\"id\":\"2616\"}],\"right\":[{\"id\":\"2611\"}],\"title\":null,\"toolbar\":{\"id\":\"2602\"},\"width\":400,\"x_range\":{\"id\":\"2581\"},\"x_scale\":{\"id\":\"2585\"},\"y_range\":{\"id\":\"2583\"},\"y_scale\":{\"id\":\"2587\"}},\"id\":\"2579\",\"subtype\":\"Figure\",\"type\":\"Plot\"},{\"attributes\":{},\"id\":\"2610\",\"type\":\"BasicTicker\"},{\"attributes\":{},\"id\":\"2596\",\"type\":\"WheelZoomTool\"},{\"attributes\":{\"source\":{\"id\":\"2578\"}},\"id\":\"2617\",\"type\":\"CDSView\"},{\"attributes\":{\"tools\":[{\"id\":\"2595\"},{\"id\":\"2596\"},{\"id\":\"2597\"},{\"id\":\"2598\"},{\"id\":\"2599\"},{\"id\":\"2600\"},{\"id\":\"2618\"}]},\"id\":\"2602\",\"type\":\"Toolbar\"},{\"attributes\":{},\"id\":\"2738\",\"type\":\"UnionRenderers\"},{\"attributes\":{\"axis\":{\"id\":\"2592\"},\"coordinates\":null,\"dimension\":1,\"group\":null,\"ticker\":null},\"id\":\"2594\",\"type\":\"Grid\"},{\"attributes\":{},\"id\":\"2600\",\"type\":\"HelpTool\"},{\"attributes\":{},\"id\":\"2733\",\"type\":\"AllLabels\"},{\"attributes\":{\"high\":0.75348929569693,\"low\":0.12219945808508252,\"palette\":[\"#440154\",\"#440255\",\"#440357\",\"#450558\",\"#45065A\",\"#45085B\",\"#46095C\",\"#460B5E\",\"#460C5F\",\"#460E61\",\"#470F62\",\"#471163\",\"#471265\",\"#471466\",\"#471567\",\"#471669\",\"#47186A\",\"#48196B\",\"#481A6C\",\"#481C6E\",\"#481D6F\",\"#481E70\",\"#482071\",\"#482172\",\"#482273\",\"#482374\",\"#472575\",\"#472676\",\"#472777\",\"#472878\",\"#472A79\",\"#472B7A\",\"#472C7B\",\"#462D7C\",\"#462F7C\",\"#46307D\",\"#46317E\",\"#45327F\",\"#45347F\",\"#453580\",\"#453681\",\"#443781\",\"#443982\",\"#433A83\",\"#433B83\",\"#433C84\",\"#423D84\",\"#423E85\",\"#424085\",\"#414186\",\"#414286\",\"#404387\",\"#404487\",\"#3F4587\",\"#3F4788\",\"#3E4888\",\"#3E4989\",\"#3D4A89\",\"#3D4B89\",\"#3D4C89\",\"#3C4D8A\",\"#3C4E8A\",\"#3B508A\",\"#3B518A\",\"#3A528B\",\"#3A538B\",\"#39548B\",\"#39558B\",\"#38568B\",\"#38578C\",\"#37588C\",\"#37598C\",\"#365A8C\",\"#365B8C\",\"#355C8C\",\"#355D8C\",\"#345E8D\",\"#345F8D\",\"#33608D\",\"#33618D\",\"#32628D\",\"#32638D\",\"#31648D\",\"#31658D\",\"#31668D\",\"#30678D\",\"#30688D\",\"#2F698D\",\"#2F6A8D\",\"#2E6B8E\",\"#2E6C8E\",\"#2E6D8E\",\"#2D6E8E\",\"#2D6F8E\",\"#2C708E\",\"#2C718E\",\"#2C728E\",\"#2B738E\",\"#2B748E\",\"#2A758E\",\"#2A768E\",\"#2A778E\",\"#29788E\",\"#29798E\",\"#287A8E\",\"#287A8E\",\"#287B8E\",\"#277C8E\",\"#277D8E\",\"#277E8E\",\"#267F8E\",\"#26808E\",\"#26818E\",\"#25828E\",\"#25838D\",\"#24848D\",\"#24858D\",\"#24868D\",\"#23878D\",\"#23888D\",\"#23898D\",\"#22898D\",\"#228A8D\",\"#228B8D\",\"#218C8D\",\"#218D8C\",\"#218E8C\",\"#208F8C\",\"#20908C\",\"#20918C\",\"#1F928C\",\"#1F938B\",\"#1F948B\",\"#1F958B\",\"#1F968B\",\"#1E978A\",\"#1E988A\",\"#1E998A\",\"#1E998A\",\"#1E9A89\",\"#1E9B89\",\"#1E9C89\",\"#1E9D88\",\"#1E9E88\",\"#1E9F88\",\"#1EA087\",\"#1FA187\",\"#1FA286\",\"#1FA386\",\"#20A485\",\"#20A585\",\"#21A685\",\"#21A784\",\"#22A784\",\"#23A883\",\"#23A982\",\"#24AA82\",\"#25AB81\",\"#26AC81\",\"#27AD80\",\"#28AE7F\",\"#29AF7F\",\"#2AB07E\",\"#2BB17D\",\"#2CB17D\",\"#2EB27C\",\"#2FB37B\",\"#30B47A\",\"#32B57A\",\"#33B679\",\"#35B778\",\"#36B877\",\"#38B976\",\"#39B976\",\"#3BBA75\",\"#3DBB74\",\"#3EBC73\",\"#40BD72\",\"#42BE71\",\"#44BE70\",\"#45BF6F\",\"#47C06E\",\"#49C16D\",\"#4BC26C\",\"#4DC26B\",\"#4FC369\",\"#51C468\",\"#53C567\",\"#55C666\",\"#57C665\",\"#59C764\",\"#5BC862\",\"#5EC961\",\"#60C960\",\"#62CA5F\",\"#64CB5D\",\"#67CC5C\",\"#69CC5B\",\"#6BCD59\",\"#6DCE58\",\"#70CE56\",\"#72CF55\",\"#74D054\",\"#77D052\",\"#79D151\",\"#7CD24F\",\"#7ED24E\",\"#81D34C\",\"#83D34B\",\"#86D449\",\"#88D547\",\"#8BD546\",\"#8DD644\",\"#90D643\",\"#92D741\",\"#95D73F\",\"#97D83E\",\"#9AD83C\",\"#9DD93A\",\"#9FD938\",\"#A2DA37\",\"#A5DA35\",\"#A7DB33\",\"#AADB32\",\"#ADDC30\",\"#AFDC2E\",\"#B2DD2C\",\"#B5DD2B\",\"#B7DD29\",\"#BADE27\",\"#BDDE26\",\"#BFDF24\",\"#C2DF22\",\"#C5DF21\",\"#C7E01F\",\"#CAE01E\",\"#CDE01D\",\"#CFE11C\",\"#D2E11B\",\"#D4E11A\",\"#D7E219\",\"#DAE218\",\"#DCE218\",\"#DFE318\",\"#E1E318\",\"#E4E318\",\"#E7E419\",\"#E9E419\",\"#ECE41A\",\"#EEE51B\",\"#F1E51C\",\"#F3E51E\",\"#F6E61F\",\"#F8E621\",\"#FAE622\",\"#FDE724\"]},\"id\":\"2609\",\"type\":\"LinearColorMapper\"},{\"attributes\":{},\"id\":\"2599\",\"type\":\"ResetTool\"},{\"attributes\":{\"overlay\":{\"id\":\"2601\"}},\"id\":\"2597\",\"type\":\"BoxZoomTool\"},{\"attributes\":{},\"id\":\"2737\",\"type\":\"AllLabels\"},{\"attributes\":{},\"id\":\"2590\",\"type\":\"CategoricalTicker\"},{\"attributes\":{},\"id\":\"2739\",\"type\":\"Selection\"},{\"attributes\":{\"color_mapper\":{\"id\":\"2609\"},\"coordinates\":null,\"group\":null,\"location\":[0,0],\"major_label_policy\":{\"id\":\"2734\"},\"ticker\":{\"id\":\"2610\"}},\"id\":\"2611\",\"type\":\"ColorBar\"},{\"attributes\":{},\"id\":\"2587\",\"type\":\"CategoricalScale\"},{\"attributes\":{},\"id\":\"2736\",\"type\":\"CategoricalTickFormatter\"},{\"attributes\":{},\"id\":\"2732\",\"type\":\"CategoricalTickFormatter\"},{\"attributes\":{\"fill_color\":{\"field\":\"Total Brightness per Signal Area\",\"transform\":{\"id\":\"2609\"}},\"line_color\":{\"value\":\"#1f77b4\"},\"size\":{\"field\":\"Percent Positive\"},\"x\":{\"field\":\"Brinzolamide (nM)\"},\"y\":{\"field\":\"Virus\"}},\"id\":\"2613\",\"type\":\"Scatter\"},{\"attributes\":{\"coordinates\":null,\"formatter\":{\"id\":\"2732\"},\"group\":null,\"major_label_policy\":{\"id\":\"2733\"},\"ticker\":{\"id\":\"2593\"}},\"id\":\"2592\",\"type\":\"CategoricalAxis\"},{\"attributes\":{\"data\":{\"Bright Field Area\":{\"__ndarray__\":\"q6qqqhpGBUGrqqqqCkMGQQAAAABozAdBq6qqqhJOBUGrqqqqSpQGQVVVVVUNfQJBq6qqqsp5BEEAAAAAKEQCQVVVVVU9xAZBAAAAAIhJAkGrqqqquqwBQQAAAADgNv9A\",\"dtype\":\"float64\",\"order\":\"little\",\"shape\":[12]},\"Brinzolamide (nM)\":[\"0.0\",\"1.0\",\"100.0\",\"300.0\",\"0.0\",\"1.0\",\"100.0\",\"300.0\",\"0.0\",\"1.0\",\"100.0\",\"300.0\"],\"Count\":{\"__ndarray__\":\"AAAAAACkokCrqqqqqqKZQFVVVVVVRX1Aq6qqqqoygUBVVVVVVe2jQKuqqqqqso5AAAAAAABUkECrqqqqquKOQKuqqqqq+nZAVVVVVVUVdkCrqqqqqpp1QFVVVVVVdXdA\",\"dtype\":\"float64\",\"order\":\"little\",\"shape\":[12]},\"DMSO (%)\":{\"__ndarray__\":\"MzMzMzMz0z8zMzMzMzPTPzMzMzMzM9M/MzMzMzMz0z8zMzMzMzPTPzMzMzMzM9M/MzMzMzMz0z8zMzMzMzPTPzMzMzMzM9M/MzMzMzMz0z8zMzMzMzPTPzMzMzMzM9M/\",\"dtype\":\"float64\",\"order\":\"little\",\"shape\":[12]},\"Dose\":[\"1000000000.0\",\"1000000000.0\",\"1000000000.0\",\"1000000000.0\",\"1000000000.0\",\"1000000000.0\",\"1000000000.0\",\"1000000000.0\",\"1000000000.0\",\"1000000000.0\",\"1000000000.0\",\"1000000000.0\"],\"Percent Positive\":{\"__ndarray__\":\"8/yz7/jjR0Dw2kAR/WQ4QPckmRCCrxBALJhF1B8qFUCrPb43RKFPQH1s8JRvdTRAuXQF2/ZzKEC40Ga6KDMqQMiqqUQ7+gpA4/LCRJIaD0DMtTprUG8QQKG+JhEHRxZA\",\"dtype\":\"float64\",\"order\":\"little\",\"shape\":[12]},\"Percent Positive Scaled\":{\"__ndarray__\":\"8/yz7/jjN0Dw2kAR/WQoQPckmRCCrwBALJhF1B8qBUCrPb43RKE/QH1s8JRvdSRAuXQF2/ZzGEC40Ga6KDMaQMiqqUQ7+vo/4/LCRJIa/z/MtTprUG8AQKG+JhEHRwZA\",\"dtype\":\"float64\",\"order\":\"little\",\"shape\":[12]},\"Plate\":{\"__ndarray__\":\"AAAAAAAA8D8AAAAAAADwPwAAAAAAAPA/AAAAAAAA8D8AAAAAAADwP6uqqqqqqvo/AAAAAAAA8D8AAAAAAADwPwAAAAAAAPA/AAAAAAAAAEAAAAAAAAAAQAAAAAAAAABA\",\"dtype\":\"float64\",\"order\":\"little\",\"shape\":[12]},\"Receptor\":[\"msCar4\",\"msCar4\",\"msCar4\",\"msCar4\",\"msCar4\",\"msCar4\",\"msCar4\",\"msCar4\",\"msCar4\",\"msCar4\",\"msCar4\",\"msCar4\"],\"Round\":{\"__ndarray__\":\"AAAAAAAALEAAAAAAAAAsQAAAAAAAACxAAAAAAAAALEAAAAAAAAAsQAAAAAAAACxAAAAAAAAALEAAAAAAAAAsQAAAAAAAACxAAAAAAAAALEAAAAAAAAAsQAAAAAAAACxA\",\"dtype\":\"float64\",\"order\":\"little\",\"shape\":[12]},\"Signal Area\":{\"__ndarray__\":\"q6qqqmpY9EAAAAAAQK7lQAAAAAAAzL9AVVVVVdUSwkAAAAAAYI/8QFVVVVXVTt5AAAAAAIAT1EAAAAAAwDTTQKuqqqqqiLhAq6qqqqrBtkAAAAAAAOi2QFVVVVVV1rtA\",\"dtype\":\"float64\",\"order\":\"little\",\"shape\":[12]},\"Total Brightness\":{\"__ndarray__\":\"4TWL4DWg60BgYGBg4H7VQJhB7JZBHJlAoEz3oUz/mkBgtwxih4X1QDAuLi6u48pA96FM96Fct0Dk4eHh4d20QEOW60CWW4tA4TaM4TZMiUCnUPulUCuGQBscHBwcHI1A\",\"dtype\":\"float64\",\"order\":\"little\",\"shape\":[12]},\"Total Brightness per Signal Area\":{\"__ndarray__\":\"vRwuT8Cz5T8NDKzN97nfPwnoE1eg68g/TTU7qyGexz+/8FyVlRzoP1wPLQAVndc/UVUwUyx20j/JOeljsjzRPwA9lQVW1sE/WZnYjTffwT9jeRC0dki/P5ZT88TSksA/\",\"dtype\":\"float64\",\"order\":\"little\",\"shape\":[12]},\"Virus\":[\"9P31\",\"9P31\",\"9P31\",\"9P31\",\"9P36\",\"9P36\",\"9P36\",\"9P36\",\"PHP.eB\",\"PHP.eB\",\"PHP.eB\",\"PHP.eB\"],\"Well\":{\"__ndarray__\":\"AAAAAAAARkAAAAAAAABPQAAAAAAAAExAAAAAAAAASUAAAAAAAABUQAAAAAAAAABAAAAAAAAAV0AAAAAAAIBVQAAAAAAAAFFAAAAAAAAANEAAAAAAAAAsQAAAAAAAACBA\",\"dtype\":\"float64\",\"order\":\"little\",\"shape\":[12]},\"index\":[4,5,6,7,12,13,14,15,20,21,22,23]},\"selected\":{\"id\":\"2739\"},\"selection_policy\":{\"id\":\"2738\"}},\"id\":\"2578\",\"type\":\"ColumnDataSource\"},{\"attributes\":{\"bottom_units\":\"screen\",\"coordinates\":null,\"fill_alpha\":0.5,\"fill_color\":\"lightgrey\",\"group\":null,\"left_units\":\"screen\",\"level\":\"overlay\",\"line_alpha\":1.0,\"line_color\":\"black\",\"line_dash\":[4,4],\"line_width\":2,\"right_units\":\"screen\",\"syncable\":false,\"top_units\":\"screen\"},\"id\":\"2601\",\"type\":\"BoxAnnotation\"},{\"attributes\":{},\"id\":\"2734\",\"type\":\"NoOverlap\"},{\"attributes\":{\"fill_alpha\":{\"value\":0.2},\"fill_color\":{\"field\":\"Total Brightness per Signal Area\",\"transform\":{\"id\":\"2609\"}},\"hatch_alpha\":{\"value\":0.2},\"line_alpha\":{\"value\":0.2},\"line_color\":{\"value\":\"#1f77b4\"},\"size\":{\"field\":\"Percent Positive\"},\"x\":{\"field\":\"Brinzolamide (nM)\"},\"y\":{\"field\":\"Virus\"}},\"id\":\"2615\",\"type\":\"Scatter\"},{\"attributes\":{\"coordinates\":null,\"data_source\":{\"id\":\"2578\"},\"glyph\":{\"id\":\"2613\"},\"group\":null,\"hover_glyph\":null,\"muted_glyph\":{\"id\":\"2615\"},\"nonselection_glyph\":{\"id\":\"2614\"},\"view\":{\"id\":\"2617\"}},\"id\":\"2616\",\"type\":\"GlyphRenderer\"},{\"attributes\":{\"factors\":[\"9P36\",\"9P31\"]},\"id\":\"2583\",\"type\":\"FactorRange\"},{\"attributes\":{\"coordinates\":null,\"formatter\":{\"id\":\"2736\"},\"group\":null,\"major_label_orientation\":1.5707963267948966,\"major_label_policy\":{\"id\":\"2737\"},\"ticker\":{\"id\":\"2590\"}},\"id\":\"2589\",\"type\":\"CategoricalAxis\"},{\"attributes\":{\"factors\":[\"0.0\",\"1.0\",\"100.0\",\"300.0\"]},\"id\":\"2581\",\"type\":\"FactorRange\"},{\"attributes\":{},\"id\":\"2595\",\"type\":\"PanTool\"},{\"attributes\":{\"axis\":{\"id\":\"2589\"},\"coordinates\":null,\"group\":null,\"ticker\":null},\"id\":\"2591\",\"type\":\"Grid\"},{\"attributes\":{},\"id\":\"2598\",\"type\":\"SaveTool\"},{\"attributes\":{},\"id\":\"2585\",\"type\":\"CategoricalScale\"},{\"attributes\":{\"callback\":null,\"tooltips\":[[\"Round\",\"@Round\"],[\"Plate\",\"@Plate\"],[\"Well\",\"@Well\"],[\"Virus\",\"@Virus\"],[\"Receptor\",\"@Receptor\"],[\"Dose\",\"@Dose\"]]},\"id\":\"2618\",\"type\":\"HoverTool\"},{\"attributes\":{},\"id\":\"2593\",\"type\":\"CategoricalTicker\"},{\"attributes\":{\"fill_alpha\":{\"value\":0.1},\"fill_color\":{\"field\":\"Total Brightness per Signal Area\",\"transform\":{\"id\":\"2609\"}},\"hatch_alpha\":{\"value\":0.1},\"line_alpha\":{\"value\":0.1},\"line_color\":{\"value\":\"#1f77b4\"},\"size\":{\"field\":\"Percent Positive\"},\"x\":{\"field\":\"Brinzolamide (nM)\"},\"y\":{\"field\":\"Virus\"}},\"id\":\"2614\",\"type\":\"Scatter\"}],\"root_ids\":[\"2579\"]},\"title\":\"Bokeh Application\",\"version\":\"2.4.3\"}};\n",
       "  const render_items = [{\"docid\":\"adfb54fb-3227-4eda-80c8-207394b6f12b\",\"root_ids\":[\"2579\"],\"roots\":{\"2579\":\"f7f09a21-7e26-4a16-b83a-6f26ffc14b30\"}}];\n",
       "  root.Bokeh.embed.embed_items_notebook(docs_json, render_items);\n",
       "  }\n",
       "  if (root.Bokeh !== undefined) {\n",
       "    embed_document(root);\n",
       "  } else {\n",
       "    let attempts = 0;\n",
       "    const timer = setInterval(function(root) {\n",
       "      if (root.Bokeh !== undefined) {\n",
       "        clearInterval(timer);\n",
       "        embed_document(root);\n",
       "      } else {\n",
       "        attempts++;\n",
       "        if (attempts > 100) {\n",
       "          clearInterval(timer);\n",
       "          console.log(\"Bokeh: ERROR: Unable to run BokehJS code because BokehJS library is missing\");\n",
       "        }\n",
       "      }\n",
       "    }, 10, root)\n",
       "  }\n",
       "})(window);"
      ],
      "application/vnd.bokehjs_exec.v0+json": ""
     },
     "metadata": {
      "application/vnd.bokehjs_exec.v0+json": {
       "id": "2579"
      }
     },
     "output_type": "display_data"
    },
    {
     "name": "stdout",
     "output_type": "stream",
     "text": [
      "The most positive value is: 63.26 \n",
      "The least positive value is: 3.37 \n",
      "The brightest value is: 0.75 \n",
      "The dimmest value is: 0.12\n"
     ]
    }
   ],
   "source": [
    "inds = (df_f6b['Receptor'] == 'msCar4')\n",
    "\n",
    "p, min_pos, max_pos, min_brightness, max_brightness = cellseg.plot.bubble_plot(df_f6b[inds], \n",
    "                                                                               'Brinzolamide (nM)',\n",
    "                                                                               'Virus',\n",
    "                                                                               x_values = ['0.0',\n",
    "                                                                                           '1.0',\n",
    "                                                                                           '100.0',\n",
    "                                                                                           '300.0'],\n",
    "                                                                               y_values = ['9P36',\n",
    "                                                                                           '9P31'],\n",
    "                                                                               plot_width = 400, \n",
    "                                                                               plot_height = 200)\n",
    "\n",
    "bokeh.io.show(p)\n",
    "\n",
    "print(\"The most positive value is: %0.2f \\nThe least positive value is: %0.2f \\nThe brightest value is: %0.2f \\nThe dimmest value is: %0.2f\" % (max_pos, min_pos, max_brightness, min_brightness))"
   ]
  },
  {
   "cell_type": "code",
   "execution_count": 24,
   "id": "ab79621a-a4f6-4ed4-bd25-332e3d93ec8a",
   "metadata": {},
   "outputs": [
    {
     "data": {
      "text/html": [
       "\n",
       "  <div class=\"bk-root\" id=\"d43b8546-8b90-420d-acc8-4583b229b385\" data-root-id=\"2797\"></div>\n"
      ]
     },
     "metadata": {},
     "output_type": "display_data"
    },
    {
     "data": {
      "application/javascript": [
       "(function(root) {\n",
       "  function embed_document(root) {\n",
       "  const docs_json = {\"524fea37-78dd-458c-a5c4-df72ef000b40\":{\"defs\":[],\"roots\":{\"references\":[{\"attributes\":{\"below\":[{\"id\":\"2807\"}],\"center\":[{\"id\":\"2809\"},{\"id\":\"2812\"}],\"height\":100,\"left\":[{\"id\":\"2810\"}],\"output_backend\":\"svg\",\"renderers\":[{\"id\":\"2834\"}],\"right\":[{\"id\":\"2829\"}],\"title\":null,\"toolbar\":{\"id\":\"2820\"},\"width\":400,\"x_range\":{\"id\":\"2799\"},\"x_scale\":{\"id\":\"2803\"},\"y_range\":{\"id\":\"2801\"},\"y_scale\":{\"id\":\"2805\"}},\"id\":\"2797\",\"subtype\":\"Figure\",\"type\":\"Plot\"},{\"attributes\":{\"axis\":{\"id\":\"2807\"},\"coordinates\":null,\"group\":null,\"ticker\":null},\"id\":\"2809\",\"type\":\"Grid\"},{\"attributes\":{},\"id\":\"2961\",\"type\":\"CategoricalTickFormatter\"},{\"attributes\":{\"tools\":[{\"id\":\"2813\"},{\"id\":\"2814\"},{\"id\":\"2815\"},{\"id\":\"2816\"},{\"id\":\"2817\"},{\"id\":\"2818\"},{\"id\":\"2836\"}]},\"id\":\"2820\",\"type\":\"Toolbar\"},{\"attributes\":{\"callback\":null,\"tooltips\":[[\"Round\",\"@Round\"],[\"Plate\",\"@Plate\"],[\"Well\",\"@Well\"],[\"Virus\",\"@Virus\"],[\"Receptor\",\"@Receptor\"],[\"Dose\",\"@Dose\"]]},\"id\":\"2836\",\"type\":\"HoverTool\"},{\"attributes\":{},\"id\":\"2963\",\"type\":\"NoOverlap\"},{\"attributes\":{},\"id\":\"2968\",\"type\":\"Selection\"},{\"attributes\":{},\"id\":\"2962\",\"type\":\"AllLabels\"},{\"attributes\":{\"high\":0.5135792439676866,\"low\":0.18258824263042187,\"palette\":[\"#440154\",\"#440255\",\"#440357\",\"#450558\",\"#45065A\",\"#45085B\",\"#46095C\",\"#460B5E\",\"#460C5F\",\"#460E61\",\"#470F62\",\"#471163\",\"#471265\",\"#471466\",\"#471567\",\"#471669\",\"#47186A\",\"#48196B\",\"#481A6C\",\"#481C6E\",\"#481D6F\",\"#481E70\",\"#482071\",\"#482172\",\"#482273\",\"#482374\",\"#472575\",\"#472676\",\"#472777\",\"#472878\",\"#472A79\",\"#472B7A\",\"#472C7B\",\"#462D7C\",\"#462F7C\",\"#46307D\",\"#46317E\",\"#45327F\",\"#45347F\",\"#453580\",\"#453681\",\"#443781\",\"#443982\",\"#433A83\",\"#433B83\",\"#433C84\",\"#423D84\",\"#423E85\",\"#424085\",\"#414186\",\"#414286\",\"#404387\",\"#404487\",\"#3F4587\",\"#3F4788\",\"#3E4888\",\"#3E4989\",\"#3D4A89\",\"#3D4B89\",\"#3D4C89\",\"#3C4D8A\",\"#3C4E8A\",\"#3B508A\",\"#3B518A\",\"#3A528B\",\"#3A538B\",\"#39548B\",\"#39558B\",\"#38568B\",\"#38578C\",\"#37588C\",\"#37598C\",\"#365A8C\",\"#365B8C\",\"#355C8C\",\"#355D8C\",\"#345E8D\",\"#345F8D\",\"#33608D\",\"#33618D\",\"#32628D\",\"#32638D\",\"#31648D\",\"#31658D\",\"#31668D\",\"#30678D\",\"#30688D\",\"#2F698D\",\"#2F6A8D\",\"#2E6B8E\",\"#2E6C8E\",\"#2E6D8E\",\"#2D6E8E\",\"#2D6F8E\",\"#2C708E\",\"#2C718E\",\"#2C728E\",\"#2B738E\",\"#2B748E\",\"#2A758E\",\"#2A768E\",\"#2A778E\",\"#29788E\",\"#29798E\",\"#287A8E\",\"#287A8E\",\"#287B8E\",\"#277C8E\",\"#277D8E\",\"#277E8E\",\"#267F8E\",\"#26808E\",\"#26818E\",\"#25828E\",\"#25838D\",\"#24848D\",\"#24858D\",\"#24868D\",\"#23878D\",\"#23888D\",\"#23898D\",\"#22898D\",\"#228A8D\",\"#228B8D\",\"#218C8D\",\"#218D8C\",\"#218E8C\",\"#208F8C\",\"#20908C\",\"#20918C\",\"#1F928C\",\"#1F938B\",\"#1F948B\",\"#1F958B\",\"#1F968B\",\"#1E978A\",\"#1E988A\",\"#1E998A\",\"#1E998A\",\"#1E9A89\",\"#1E9B89\",\"#1E9C89\",\"#1E9D88\",\"#1E9E88\",\"#1E9F88\",\"#1EA087\",\"#1FA187\",\"#1FA286\",\"#1FA386\",\"#20A485\",\"#20A585\",\"#21A685\",\"#21A784\",\"#22A784\",\"#23A883\",\"#23A982\",\"#24AA82\",\"#25AB81\",\"#26AC81\",\"#27AD80\",\"#28AE7F\",\"#29AF7F\",\"#2AB07E\",\"#2BB17D\",\"#2CB17D\",\"#2EB27C\",\"#2FB37B\",\"#30B47A\",\"#32B57A\",\"#33B679\",\"#35B778\",\"#36B877\",\"#38B976\",\"#39B976\",\"#3BBA75\",\"#3DBB74\",\"#3EBC73\",\"#40BD72\",\"#42BE71\",\"#44BE70\",\"#45BF6F\",\"#47C06E\",\"#49C16D\",\"#4BC26C\",\"#4DC26B\",\"#4FC369\",\"#51C468\",\"#53C567\",\"#55C666\",\"#57C665\",\"#59C764\",\"#5BC862\",\"#5EC961\",\"#60C960\",\"#62CA5F\",\"#64CB5D\",\"#67CC5C\",\"#69CC5B\",\"#6BCD59\",\"#6DCE58\",\"#70CE56\",\"#72CF55\",\"#74D054\",\"#77D052\",\"#79D151\",\"#7CD24F\",\"#7ED24E\",\"#81D34C\",\"#83D34B\",\"#86D449\",\"#88D547\",\"#8BD546\",\"#8DD644\",\"#90D643\",\"#92D741\",\"#95D73F\",\"#97D83E\",\"#9AD83C\",\"#9DD93A\",\"#9FD938\",\"#A2DA37\",\"#A5DA35\",\"#A7DB33\",\"#AADB32\",\"#ADDC30\",\"#AFDC2E\",\"#B2DD2C\",\"#B5DD2B\",\"#B7DD29\",\"#BADE27\",\"#BDDE26\",\"#BFDF24\",\"#C2DF22\",\"#C5DF21\",\"#C7E01F\",\"#CAE01E\",\"#CDE01D\",\"#CFE11C\",\"#D2E11B\",\"#D4E11A\",\"#D7E219\",\"#DAE218\",\"#DCE218\",\"#DFE318\",\"#E1E318\",\"#E4E318\",\"#E7E419\",\"#E9E419\",\"#ECE41A\",\"#EEE51B\",\"#F1E51C\",\"#F3E51E\",\"#F6E61F\",\"#F8E621\",\"#FAE622\",\"#FDE724\"]},\"id\":\"2827\",\"type\":\"LinearColorMapper\"},{\"attributes\":{\"overlay\":{\"id\":\"2819\"}},\"id\":\"2815\",\"type\":\"BoxZoomTool\"},{\"attributes\":{},\"id\":\"2967\",\"type\":\"UnionRenderers\"},{\"attributes\":{},\"id\":\"2966\",\"type\":\"AllLabels\"},{\"attributes\":{\"source\":{\"id\":\"2796\"}},\"id\":\"2835\",\"type\":\"CDSView\"},{\"attributes\":{\"color_mapper\":{\"id\":\"2827\"},\"coordinates\":null,\"group\":null,\"location\":[0,0],\"major_label_policy\":{\"id\":\"2963\"},\"ticker\":{\"id\":\"2828\"}},\"id\":\"2829\",\"type\":\"ColorBar\"},{\"attributes\":{\"axis\":{\"id\":\"2810\"},\"coordinates\":null,\"dimension\":1,\"group\":null,\"ticker\":null},\"id\":\"2812\",\"type\":\"Grid\"},{\"attributes\":{\"fill_alpha\":{\"value\":0.1},\"fill_color\":{\"field\":\"Total Brightness per Signal Area\",\"transform\":{\"id\":\"2827\"}},\"hatch_alpha\":{\"value\":0.1},\"line_alpha\":{\"value\":0.1},\"line_color\":{\"value\":\"#1f77b4\"},\"size\":{\"field\":\"Percent Positive\"},\"x\":{\"field\":\"Brinzolamide (nM)\"},\"y\":{\"field\":\"Virus\"}},\"id\":\"2832\",\"type\":\"Scatter\"},{\"attributes\":{},\"id\":\"2803\",\"type\":\"CategoricalScale\"},{\"attributes\":{},\"id\":\"2814\",\"type\":\"WheelZoomTool\"},{\"attributes\":{},\"id\":\"2811\",\"type\":\"CategoricalTicker\"},{\"attributes\":{\"coordinates\":null,\"formatter\":{\"id\":\"2965\"},\"group\":null,\"major_label_orientation\":1.5707963267948966,\"major_label_policy\":{\"id\":\"2966\"},\"ticker\":{\"id\":\"2808\"}},\"id\":\"2807\",\"type\":\"CategoricalAxis\"},{\"attributes\":{\"data\":{\"Bright Field Area\":{\"__ndarray__\":\"q6qqqoIlBEFVVVVVZb0BQQAAAACQ8wNBVVVVVT3tA0GrqqqqivT8QKuqqqpCDQVBAAAAAHhSAkGrqqqq0u0AQauqqqq6DAVBVVVVVbVAA0EAAAAAwHIHQVVVVVXNnQJB\",\"dtype\":\"float64\",\"order\":\"little\",\"shape\":[12]},\"Brinzolamide (nM)\":[\"0.0\",\"1.0\",\"100.0\",\"300.0\",\"0.0\",\"1.0\",\"100.0\",\"300.0\",\"0.0\",\"1.0\",\"100.0\",\"300.0\"],\"Count\":{\"__ndarray__\":\"VVVVVVXFfEAAAAAAAAiAQFVVVVVVrYFAVVVVVVVVgEAAAAAAAEiEQAAAAAAAuIlAAAAAAADwhkCrqqqqqtKDQKuqqqqqTpJAVVVVVVX1jkAAAAAAALCSQAAAAAAAKI9A\",\"dtype\":\"float64\",\"order\":\"little\",\"shape\":[12]},\"DMSO (%)\":{\"__ndarray__\":\"MzMzMzMz0z8zMzMzMzPTPzMzMzMzM9M/MzMzMzMz0z8zMzMzMzPTPzMzMzMzM9M/MzMzMzMz0z8zMzMzMzPTPzMzMzMzM9M/MzMzMzMz0z8zMzMzMzPTPzMzMzMzM9M/\",\"dtype\":\"float64\",\"order\":\"little\",\"shape\":[12]},\"Dose\":[\"1000000000.0\",\"1000000000.0\",\"1000000000.0\",\"1000000000.0\",\"1000000000.0\",\"1000000000.0\",\"1000000000.0\",\"1000000000.0\",\"1000000000.0\",\"1000000000.0\",\"1000000000.0\",\"1000000000.0\"],\"Percent Positive\":{\"__ndarray__\":\"nYjsxHIDFUDdYJIoh/4bQGjQPBidehhA826we75YF0AbX3wfmugrQHUxuANiuCJAdMq8gAfDI0D9e7XumL0iQJXbCpJuwTZAOEqefIIfNUCZn03G95syQFRK9yd5ajVA\",\"dtype\":\"float64\",\"order\":\"little\",\"shape\":[12]},\"Percent Positive Scaled\":{\"__ndarray__\":\"nYjsxHIDBUDdYJIoh/4LQGjQPBideghA826we75YB0AbX3wfmugbQHUxuANiuBJAdMq8gAfDE0D9e7XumL0SQJXbCpJuwSZAOEqefIIfJUCZn03G95siQFRK9yd5aiVA\",\"dtype\":\"float64\",\"order\":\"little\",\"shape\":[12]},\"Plate\":{\"__ndarray__\":\"AAAAAAAAAEAAAAAAAAAAQAAAAAAAAABAAAAAAAAAAEBVVVVVVVUFQAAAAAAAAAhAAAAAAAAACEAAAAAAAAAIQAAAAAAAAABAAAAAAAAAAEAAAAAAAAAAQAAAAAAAAABA\",\"dtype\":\"float64\",\"order\":\"little\",\"shape\":[12]},\"Receptor\":[\"Ly6a\",\"Ly6a\",\"Ly6a\",\"Ly6a\",\"Ly6a\",\"Ly6a\",\"Ly6a\",\"Ly6a\",\"Ly6a\",\"Ly6a\",\"Ly6a\",\"Ly6a\"],\"Round\":{\"__ndarray__\":\"AAAAAAAALEAAAAAAAAAsQAAAAAAAACxAAAAAAAAALEAAAAAAAAAsQAAAAAAAACxAAAAAAAAALEAAAAAAAAAsQAAAAAAAACxAAAAAAAAALEAAAAAAAAAsQAAAAAAAACxA\",\"dtype\":\"float64\",\"order\":\"little\",\"shape\":[12]},\"Signal Area\":{\"__ndarray__\":\"AAAAAADAwEAAAAAAgFvDQFVVVVXViMNAAAAAAIAZwkAAAAAAALLNQFVVVVVVg89AAAAAAIDszECrqqqqKmDJQAAAAACALONAAAAAAMBW4EAAAAAAgGvhQKuqqqoKGuBA\",\"dtype\":\"float64\",\"order\":\"little\",\"shape\":[12]},\"Total Brightness\":{\"__ndarray__\":\"14Es14HQmEADrFYBrOaeQPdMovdMeKBAnEfynEfenEB7eXl5eV2vQNEnfdInna1AFRYWFhYCqkCQkJCQkIKlQOeSPehSw9NAT/mjTrm00EBswhdtwjbRQHBycnJy+89A\",\"dtype\":\"float64\",\"order\":\"little\",\"shape\":[12]},\"Total Brightness per Signal Area\":{\"__ndarray__\":\"zapdMQ1fxz8jm/4+YoHIPzn+bEMA6Mo/ecukopFNyT8LrVInIwLQPxmvDnoyEc4/800dFQm4zD8QGIrYQibLPx3cF709b+A/ToDG7FkB4D8V2XrUDHjfP1ChoK+wBt8/\",\"dtype\":\"float64\",\"order\":\"little\",\"shape\":[12]},\"Virus\":[\"9P31\",\"9P31\",\"9P31\",\"9P31\",\"9P36\",\"9P36\",\"9P36\",\"9P36\",\"PHP.eB\",\"PHP.eB\",\"PHP.eB\",\"PHP.eB\"],\"Well\":{\"__ndarray__\":\"AAAAAAAAT0AAAAAAAIBVQAAAAAAAAFRAAAAAAADAUUAAAAAAAAAAQAAAAAAAADRAAAAAAAAALEAAAAAAAAAgQAAAAAAAAEBAAAAAAAAASUAAAAAAAABGQAAAAAAAAENA\",\"dtype\":\"float64\",\"order\":\"little\",\"shape\":[12]},\"index\":[0,1,2,3,8,9,10,11,16,17,18,19]},\"selected\":{\"id\":\"2968\"},\"selection_policy\":{\"id\":\"2967\"}},\"id\":\"2796\",\"type\":\"ColumnDataSource\"},{\"attributes\":{},\"id\":\"2808\",\"type\":\"CategoricalTicker\"},{\"attributes\":{},\"id\":\"2813\",\"type\":\"PanTool\"},{\"attributes\":{},\"id\":\"2965\",\"type\":\"CategoricalTickFormatter\"},{\"attributes\":{},\"id\":\"2828\",\"type\":\"BasicTicker\"},{\"attributes\":{\"factors\":[\"0.0\",\"1.0\",\"100.0\",\"300.0\"]},\"id\":\"2799\",\"type\":\"FactorRange\"},{\"attributes\":{\"coordinates\":null,\"formatter\":{\"id\":\"2961\"},\"group\":null,\"major_label_policy\":{\"id\":\"2962\"},\"ticker\":{\"id\":\"2811\"}},\"id\":\"2810\",\"type\":\"CategoricalAxis\"},{\"attributes\":{},\"id\":\"2818\",\"type\":\"HelpTool\"},{\"attributes\":{\"fill_alpha\":{\"value\":0.2},\"fill_color\":{\"field\":\"Total Brightness per Signal Area\",\"transform\":{\"id\":\"2827\"}},\"hatch_alpha\":{\"value\":0.2},\"line_alpha\":{\"value\":0.2},\"line_color\":{\"value\":\"#1f77b4\"},\"size\":{\"field\":\"Percent Positive\"},\"x\":{\"field\":\"Brinzolamide (nM)\"},\"y\":{\"field\":\"Virus\"}},\"id\":\"2833\",\"type\":\"Scatter\"},{\"attributes\":{},\"id\":\"2816\",\"type\":\"SaveTool\"},{\"attributes\":{\"factors\":[\"PHP.eB\"]},\"id\":\"2801\",\"type\":\"FactorRange\"},{\"attributes\":{\"coordinates\":null,\"data_source\":{\"id\":\"2796\"},\"glyph\":{\"id\":\"2831\"},\"group\":null,\"hover_glyph\":null,\"muted_glyph\":{\"id\":\"2833\"},\"nonselection_glyph\":{\"id\":\"2832\"},\"view\":{\"id\":\"2835\"}},\"id\":\"2834\",\"type\":\"GlyphRenderer\"},{\"attributes\":{\"bottom_units\":\"screen\",\"coordinates\":null,\"fill_alpha\":0.5,\"fill_color\":\"lightgrey\",\"group\":null,\"left_units\":\"screen\",\"level\":\"overlay\",\"line_alpha\":1.0,\"line_color\":\"black\",\"line_dash\":[4,4],\"line_width\":2,\"right_units\":\"screen\",\"syncable\":false,\"top_units\":\"screen\"},\"id\":\"2819\",\"type\":\"BoxAnnotation\"},{\"attributes\":{\"fill_color\":{\"field\":\"Total Brightness per Signal Area\",\"transform\":{\"id\":\"2827\"}},\"line_color\":{\"value\":\"#1f77b4\"},\"size\":{\"field\":\"Percent Positive\"},\"x\":{\"field\":\"Brinzolamide (nM)\"},\"y\":{\"field\":\"Virus\"}},\"id\":\"2831\",\"type\":\"Scatter\"},{\"attributes\":{},\"id\":\"2817\",\"type\":\"ResetTool\"},{\"attributes\":{},\"id\":\"2805\",\"type\":\"CategoricalScale\"}],\"root_ids\":[\"2797\"]},\"title\":\"Bokeh Application\",\"version\":\"2.4.3\"}};\n",
       "  const render_items = [{\"docid\":\"524fea37-78dd-458c-a5c4-df72ef000b40\",\"root_ids\":[\"2797\"],\"roots\":{\"2797\":\"d43b8546-8b90-420d-acc8-4583b229b385\"}}];\n",
       "  root.Bokeh.embed.embed_items_notebook(docs_json, render_items);\n",
       "  }\n",
       "  if (root.Bokeh !== undefined) {\n",
       "    embed_document(root);\n",
       "  } else {\n",
       "    let attempts = 0;\n",
       "    const timer = setInterval(function(root) {\n",
       "      if (root.Bokeh !== undefined) {\n",
       "        clearInterval(timer);\n",
       "        embed_document(root);\n",
       "      } else {\n",
       "        attempts++;\n",
       "        if (attempts > 100) {\n",
       "          clearInterval(timer);\n",
       "          console.log(\"Bokeh: ERROR: Unable to run BokehJS code because BokehJS library is missing\");\n",
       "        }\n",
       "      }\n",
       "    }, 10, root)\n",
       "  }\n",
       "})(window);"
      ],
      "application/vnd.bokehjs_exec.v0+json": ""
     },
     "metadata": {
      "application/vnd.bokehjs_exec.v0+json": {
       "id": "2797"
      }
     },
     "output_type": "display_data"
    },
    {
     "name": "stdout",
     "output_type": "stream",
     "text": [
      "The most positive value is: 22.76 \n",
      "The least positive value is: 5.25 \n",
      "The brightest value is: 0.51 \n",
      "The dimmest value is: 0.18\n"
     ]
    }
   ],
   "source": [
    "inds = (df_f6b['Receptor'] == 'Ly6a')\n",
    "\n",
    "p, min_pos, max_pos, min_brightness, max_brightness = cellseg.plot.bubble_plot(df_f6b[inds], \n",
    "                                                                               'Brinzolamide (nM)',\n",
    "                                                                               'Virus',\n",
    "                                                                               x_values = ['0.0',\n",
    "                                                                                           '1.0',\n",
    "                                                                                           '100.0',\n",
    "                                                                                           '300.0'],\n",
    "                                                                               y_values = ['PHP.eB'],\n",
    "                                                                               plot_width = 400, \n",
    "                                                                               plot_height = 100)\n",
    "\n",
    "bokeh.io.show(p)\n",
    "\n",
    "print(\"The most positive value is: %0.2f \\nThe least positive value is: %0.2f \\nThe brightest value is: %0.2f \\nThe dimmest value is: %0.2f\" % (max_pos, min_pos, max_brightness, min_brightness))"
   ]
  },
  {
   "cell_type": "markdown",
   "id": "9694abe4-1127-4ede-b1e1-bc8186bc767a",
   "metadata": {
    "tags": []
   },
   "source": [
    "### Part D"
   ]
  },
  {
   "cell_type": "code",
   "execution_count": 25,
   "id": "c9aadb79-f23e-47de-956c-91a6cd1c7538",
   "metadata": {},
   "outputs": [
    {
     "data": {
      "text/html": [
       "\n",
       "  <div class=\"bk-root\" id=\"299e91eb-e22a-442a-bce6-db115282d932\" data-root-id=\"3026\"></div>\n"
      ]
     },
     "metadata": {},
     "output_type": "display_data"
    },
    {
     "data": {
      "application/javascript": [
       "(function(root) {\n",
       "  function embed_document(root) {\n",
       "  const docs_json = {\"628d3d3e-6007-4f37-a6bf-9d5a2d3f2fc5\":{\"defs\":[],\"roots\":{\"references\":[{\"attributes\":{\"below\":[{\"id\":\"3036\"}],\"center\":[{\"id\":\"3038\"},{\"id\":\"3041\"}],\"height\":250,\"left\":[{\"id\":\"3039\"}],\"output_backend\":\"svg\",\"renderers\":[{\"id\":\"3063\"}],\"right\":[{\"id\":\"3058\"}],\"title\":null,\"toolbar\":{\"id\":\"3049\"},\"width\":400,\"x_range\":{\"id\":\"3028\"},\"x_scale\":{\"id\":\"3032\"},\"y_range\":{\"id\":\"3030\"},\"y_scale\":{\"id\":\"3034\"}},\"id\":\"3026\",\"subtype\":\"Figure\",\"type\":\"Plot\"},{\"attributes\":{\"coordinates\":null,\"data_source\":{\"id\":\"3025\"},\"glyph\":{\"id\":\"3060\"},\"group\":null,\"hover_glyph\":null,\"muted_glyph\":{\"id\":\"3062\"},\"nonselection_glyph\":{\"id\":\"3061\"},\"view\":{\"id\":\"3064\"}},\"id\":\"3063\",\"type\":\"GlyphRenderer\"},{\"attributes\":{},\"id\":\"3206\",\"type\":\"AllLabels\"},{\"attributes\":{},\"id\":\"3037\",\"type\":\"CategoricalTicker\"},{\"attributes\":{\"source\":{\"id\":\"3025\"}},\"id\":\"3064\",\"type\":\"CDSView\"},{\"attributes\":{},\"id\":\"3203\",\"type\":\"NoOverlap\"},{\"attributes\":{},\"id\":\"3040\",\"type\":\"CategoricalTicker\"},{\"attributes\":{\"axis\":{\"id\":\"3036\"},\"coordinates\":null,\"group\":null,\"ticker\":null},\"id\":\"3038\",\"type\":\"Grid\"},{\"attributes\":{\"data\":{\"Bright Field Area\":{\"__ndarray__\":\"VVVVVX1/BEGrqqqqUpEHQauqqqoKVxZBAAAAAKgPBEFVVVVVPWIEQQAAAACgjQJBq6qqqtIcCUEAAAAAIEULQQAAAADg3gdBVVVVVfVEBkGrqqqqsmkJQQAAAAAYTAZBAAAAAEI1EEEAAAAAKEQKQauqqqo6TQVBVVVVVcH5BEFVVVVVlckGQVVVVVWlswJB\",\"dtype\":\"float64\",\"order\":\"little\",\"shape\":[18]},\"Brinzolamide (nM)\":{\"__ndarray__\":\"AAAAAAAAAAAAAAAAAAAAAAAAAAAAAAAAAAAAAAAAAAAAAAAAAAAAAAAAAAAAAAAAAAAAAAAAAAAAAAAAAAAAAAAAAAAAAAAAAAAAAAAAAAAAAAAAAAAAAAAAAAAAAAAAAAAAAAAAAAAAAAAAAAAAAAAAAAAAAAAAAAAAAAAAAAAAAAAAAAAAAAAAAAAAAAAA\",\"dtype\":\"float64\",\"order\":\"little\",\"shape\":[18]},\"Count\":{\"__ndarray__\":\"q6qqqqpClEAAAAAAAMiUQAAAAAAAwIdAAAAAAABQk0CrqqqqqoKDQAAAAAAAGINAq6qqqqo6fUCrqqqqqtKKQKuqqqqqjpdAq6qqqqo+lUAAAAAAAPCZQFVVVVVVhYFAq6qqqqqCgECrqqqqqsprQFVVVVVVnYZAq6qqqqomlkBVVVVVVSV3QAAAAAAAXJRA\",\"dtype\":\"float64\",\"order\":\"little\",\"shape\":[18]},\"DMSO (%)\":{\"__ndarray__\":\"AAAAAAAAAAAAAAAAAAAAAAAAAAAAAAAAAAAAAAAAAAAAAAAAAAAAAAAAAAAAAAAAAAAAAAAAAAAAAAAAAAAAAAAAAAAAAAAAAAAAAAAAAAAAAAAAAAAAAAAAAAAAAAAAAAAAAAAAAAAAAAAAAAAAAAAAAAAAAAAAAAAAAAAAAAAAAAAAAAAAAAAAAAAAAAAA\",\"dtype\":\"float64\",\"order\":\"little\",\"shape\":[18]},\"Dose\":{\"__ndarray__\":\"AAAAAGXNzUEAAAAAZc3NQQAAAABlzc1BAAAAAGXNzUEAAAAAZc3NQQAAAABlzc1BAAAAAGXNzUEAAAAAZc3NQQAAAABlzc1BAAAAAGXNzUEAAAAAZc3NQQAAAABlzc1BAAAAAGXNzUEAAAAAZc3NQQAAAABlzc1BAAAAAGXNzUEAAAAAZc3NQQAAAABlzc1B\",\"dtype\":\"float64\",\"order\":\"little\",\"shape\":[18]},\"Percent Positive\":{\"__ndarray__\":\"NA5KNs4cMkD0IduAd4AtQPjHtxkl90VA9Sb6HrjOMUBLsH5S06ohQDmOdBlHiSZAMykuSMySTEAEHcajmMAiQCyeiVLEhC9AFRZ9F26CL0B5KZl2myQyQIC0mEQ2dydAEaMb9GLlGED3G1sOCjEgQCGSXYYjaSJARDl5pMJtMkC5u7kHazorQIACtHMr9zNA\",\"dtype\":\"float64\",\"order\":\"little\",\"shape\":[18]},\"Percent Positive Scaled\":{\"__ndarray__\":\"NA5KNs4cIkD0IduAd4AdQPjHtxkl9zVA9Sb6HrjOIUBLsH5S06oRQDmOdBlHiRZAMykuSMySPEAEHcajmMASQCyeiVLEhB9AFRZ9F26CH0B5KZl2myQiQIC0mEQ2dxdAEaMb9GLlCED3G1sOCjEQQCGSXYYjaRJARDl5pMJtIkC5u7kHazobQIACtHMr9yNA\",\"dtype\":\"float64\",\"order\":\"little\",\"shape\":[18]},\"Plate\":{\"__ndarray__\":\"AAAAAAAACEAAAAAAAAAAQAAAAAAAAPA/AAAAAAAA8D8AAAAAAAAIQAAAAAAAAABAAAAAAAAA8D8AAAAAAADwPwAAAAAAAABAAAAAAAAAAEAAAAAAAADwPwAAAAAAAPA/AAAAAAAABEAAAAAAAADwPwAAAAAAAABAAAAAAAAABEAAAAAAAADwPwAAAAAAAABA\",\"dtype\":\"float64\",\"order\":\"little\",\"shape\":[18]},\"Receptor\":[\"None\",\"huCar4\",\"msCar4\",\"rhCar4\",\"None\",\"huCar4\",\"msCar4\",\"rhCar4\",\"None\",\"huCar4\",\"msCar4\",\"rhCar4\",\"huCar4\",\"msCar4\",\"rhCar4\",\"huCar4\",\"msCar4\",\"rhCar4\"],\"Round\":{\"__ndarray__\":\"AAAAAAAAMEAAAAAAAAAwQAAAAAAAADBAAAAAAAAAMEAAAAAAAAAwQAAAAAAAADBAAAAAAAAAMEAAAAAAAAAwQAAAAAAAADBAAAAAAAAAMEAAAAAAAAAwQAAAAAAAADBAAAAAAAAAMEAAAAAAAAAwQAAAAAAAADBAAAAAAAAAMEAAAAAAAAAwQAAAAAAAADBA\",\"dtype\":\"float64\",\"order\":\"little\",\"shape\":[18]},\"Signal Area\":{\"__ndarray__\":\"AAAAAMCv3UCrqqqqaubbQFVVVVVFa/xAVVVVVdV93EAAAAAAgMTMQKuqqqoqq9BAq6qqqnqv/EBVVVVVlX3UQAAAAACANN5AVVVVVVUg3ECrqqqqKlXiQAAAAACA+tRAAAAAAAC7yECrqqqqajnRQKuqqqqqas9AAAAAAAC83kCrqqqqas3YQAAAAABAxt1A\",\"dtype\":\"float64\",\"order\":\"little\",\"shape\":[18]},\"Total Brightness\":{\"__ndarray__\":\"70Sa78S3xECoUv2n0vzAQJuZmZlpv/ZAgYKCggJTw0BB7JZB7CCrQFD5o075X6xAQOyWQWzc9kA7kOU6kN22QHwl0HqlYsNAyXMeyfOMwUAZw20YQyPPQKz/VKr/H7lA4Ik034mDpUAles8kei+yQHzQJXvQwaxAcnFxcTHnxEBvGMNtGErCQPlNo/hNd8NA\",\"dtype\":\"float64\",\"order\":\"little\",\"shape\":[18]},\"Total Brightness per Signal Area\":{\"__ndarray__\":\"NQwjRyc71j/9YLsv/EzTP62L/0yek+k/2WNLr5Ws1T9zrHy1syDOP8XG8CSZPMs/DVhU7AeA6T95rq8jG8fRPynVckEZddQ/mxDzKHen0z939Dqm8RrbP4j2Gy44ENM/7eaeelW4yz8U4HxaclfPP99TFYGYK80/FNnIiryu1T/NOYFBoIHXP+sGEavJ7dQ/\",\"dtype\":\"float64\",\"order\":\"little\",\"shape\":[18]},\"Virus\":[\"9P31\",\"9P31\",\"9P31\",\"9P31\",\"9P36\",\"9P36\",\"9P36\",\"9P36\",\"PHP.eB\",\"PHP.eB\",\"PHP.eB\",\"PHP.eB\",\"TM126\",\"TM126\",\"TM126\",\"TM127\",\"TM127\",\"TM127\"],\"Well\":{\"__ndarray__\":\"AAAAAAAAIEAAAAAAAABGQAAAAAAAADRAAAAAAAAAVEAAAAAAAAA0QAAAAAAAAExAAAAAAAAAQEAAAAAAAABXQAAAAAAAAFdAAAAAAAAAQEAAAAAAAAAgQAAAAAAAAFFAAAAAAAAASUAAAAAAAABGQAAAAAAAACBAAAAAAAAAT0AAAAAAAABMQAAAAAAAADRA\",\"dtype\":\"float64\",\"order\":\"little\",\"shape\":[18]},\"index\":[0,1,2,3,4,5,6,7,8,9,10,11,12,13,14,15,16,17]},\"selected\":{\"id\":\"3208\"},\"selection_policy\":{\"id\":\"3207\"}},\"id\":\"3025\",\"type\":\"ColumnDataSource\"},{\"attributes\":{},\"id\":\"3032\",\"type\":\"CategoricalScale\"},{\"attributes\":{\"coordinates\":null,\"formatter\":{\"id\":\"3205\"},\"group\":null,\"major_label_orientation\":1.5707963267948966,\"major_label_policy\":{\"id\":\"3206\"},\"ticker\":{\"id\":\"3037\"}},\"id\":\"3036\",\"type\":\"CategoricalAxis\"},{\"attributes\":{},\"id\":\"3043\",\"type\":\"WheelZoomTool\"},{\"attributes\":{},\"id\":\"3208\",\"type\":\"Selection\"},{\"attributes\":{},\"id\":\"3201\",\"type\":\"CategoricalTickFormatter\"},{\"attributes\":{},\"id\":\"3205\",\"type\":\"CategoricalTickFormatter\"},{\"attributes\":{},\"id\":\"3047\",\"type\":\"HelpTool\"},{\"attributes\":{},\"id\":\"3042\",\"type\":\"PanTool\"},{\"attributes\":{},\"id\":\"3207\",\"type\":\"UnionRenderers\"},{\"attributes\":{},\"id\":\"3046\",\"type\":\"ResetTool\"},{\"attributes\":{},\"id\":\"3045\",\"type\":\"SaveTool\"},{\"attributes\":{\"overlay\":{\"id\":\"3048\"}},\"id\":\"3044\",\"type\":\"BoxZoomTool\"},{\"attributes\":{},\"id\":\"3202\",\"type\":\"AllLabels\"},{\"attributes\":{\"bottom_units\":\"screen\",\"coordinates\":null,\"fill_alpha\":0.5,\"fill_color\":\"lightgrey\",\"group\":null,\"left_units\":\"screen\",\"level\":\"overlay\",\"line_alpha\":1.0,\"line_color\":\"black\",\"line_dash\":[4,4],\"line_width\":2,\"right_units\":\"screen\",\"syncable\":false,\"top_units\":\"screen\"},\"id\":\"3048\",\"type\":\"BoxAnnotation\"},{\"attributes\":{},\"id\":\"3034\",\"type\":\"CategoricalScale\"},{\"attributes\":{\"fill_color\":{\"field\":\"Total Brightness per Signal Area\",\"transform\":{\"id\":\"3056\"}},\"line_color\":{\"value\":\"#1f77b4\"},\"size\":{\"field\":\"Percent Positive\"},\"x\":{\"field\":\"Receptor\"},\"y\":{\"field\":\"Virus\"}},\"id\":\"3060\",\"type\":\"Scatter\"},{\"attributes\":{\"high\":0.7992698196288665,\"low\":0.2127868109105774,\"palette\":[\"#440154\",\"#440255\",\"#440357\",\"#450558\",\"#45065A\",\"#45085B\",\"#46095C\",\"#460B5E\",\"#460C5F\",\"#460E61\",\"#470F62\",\"#471163\",\"#471265\",\"#471466\",\"#471567\",\"#471669\",\"#47186A\",\"#48196B\",\"#481A6C\",\"#481C6E\",\"#481D6F\",\"#481E70\",\"#482071\",\"#482172\",\"#482273\",\"#482374\",\"#472575\",\"#472676\",\"#472777\",\"#472878\",\"#472A79\",\"#472B7A\",\"#472C7B\",\"#462D7C\",\"#462F7C\",\"#46307D\",\"#46317E\",\"#45327F\",\"#45347F\",\"#453580\",\"#453681\",\"#443781\",\"#443982\",\"#433A83\",\"#433B83\",\"#433C84\",\"#423D84\",\"#423E85\",\"#424085\",\"#414186\",\"#414286\",\"#404387\",\"#404487\",\"#3F4587\",\"#3F4788\",\"#3E4888\",\"#3E4989\",\"#3D4A89\",\"#3D4B89\",\"#3D4C89\",\"#3C4D8A\",\"#3C4E8A\",\"#3B508A\",\"#3B518A\",\"#3A528B\",\"#3A538B\",\"#39548B\",\"#39558B\",\"#38568B\",\"#38578C\",\"#37588C\",\"#37598C\",\"#365A8C\",\"#365B8C\",\"#355C8C\",\"#355D8C\",\"#345E8D\",\"#345F8D\",\"#33608D\",\"#33618D\",\"#32628D\",\"#32638D\",\"#31648D\",\"#31658D\",\"#31668D\",\"#30678D\",\"#30688D\",\"#2F698D\",\"#2F6A8D\",\"#2E6B8E\",\"#2E6C8E\",\"#2E6D8E\",\"#2D6E8E\",\"#2D6F8E\",\"#2C708E\",\"#2C718E\",\"#2C728E\",\"#2B738E\",\"#2B748E\",\"#2A758E\",\"#2A768E\",\"#2A778E\",\"#29788E\",\"#29798E\",\"#287A8E\",\"#287A8E\",\"#287B8E\",\"#277C8E\",\"#277D8E\",\"#277E8E\",\"#267F8E\",\"#26808E\",\"#26818E\",\"#25828E\",\"#25838D\",\"#24848D\",\"#24858D\",\"#24868D\",\"#23878D\",\"#23888D\",\"#23898D\",\"#22898D\",\"#228A8D\",\"#228B8D\",\"#218C8D\",\"#218D8C\",\"#218E8C\",\"#208F8C\",\"#20908C\",\"#20918C\",\"#1F928C\",\"#1F938B\",\"#1F948B\",\"#1F958B\",\"#1F968B\",\"#1E978A\",\"#1E988A\",\"#1E998A\",\"#1E998A\",\"#1E9A89\",\"#1E9B89\",\"#1E9C89\",\"#1E9D88\",\"#1E9E88\",\"#1E9F88\",\"#1EA087\",\"#1FA187\",\"#1FA286\",\"#1FA386\",\"#20A485\",\"#20A585\",\"#21A685\",\"#21A784\",\"#22A784\",\"#23A883\",\"#23A982\",\"#24AA82\",\"#25AB81\",\"#26AC81\",\"#27AD80\",\"#28AE7F\",\"#29AF7F\",\"#2AB07E\",\"#2BB17D\",\"#2CB17D\",\"#2EB27C\",\"#2FB37B\",\"#30B47A\",\"#32B57A\",\"#33B679\",\"#35B778\",\"#36B877\",\"#38B976\",\"#39B976\",\"#3BBA75\",\"#3DBB74\",\"#3EBC73\",\"#40BD72\",\"#42BE71\",\"#44BE70\",\"#45BF6F\",\"#47C06E\",\"#49C16D\",\"#4BC26C\",\"#4DC26B\",\"#4FC369\",\"#51C468\",\"#53C567\",\"#55C666\",\"#57C665\",\"#59C764\",\"#5BC862\",\"#5EC961\",\"#60C960\",\"#62CA5F\",\"#64CB5D\",\"#67CC5C\",\"#69CC5B\",\"#6BCD59\",\"#6DCE58\",\"#70CE56\",\"#72CF55\",\"#74D054\",\"#77D052\",\"#79D151\",\"#7CD24F\",\"#7ED24E\",\"#81D34C\",\"#83D34B\",\"#86D449\",\"#88D547\",\"#8BD546\",\"#8DD644\",\"#90D643\",\"#92D741\",\"#95D73F\",\"#97D83E\",\"#9AD83C\",\"#9DD93A\",\"#9FD938\",\"#A2DA37\",\"#A5DA35\",\"#A7DB33\",\"#AADB32\",\"#ADDC30\",\"#AFDC2E\",\"#B2DD2C\",\"#B5DD2B\",\"#B7DD29\",\"#BADE27\",\"#BDDE26\",\"#BFDF24\",\"#C2DF22\",\"#C5DF21\",\"#C7E01F\",\"#CAE01E\",\"#CDE01D\",\"#CFE11C\",\"#D2E11B\",\"#D4E11A\",\"#D7E219\",\"#DAE218\",\"#DCE218\",\"#DFE318\",\"#E1E318\",\"#E4E318\",\"#E7E419\",\"#E9E419\",\"#ECE41A\",\"#EEE51B\",\"#F1E51C\",\"#F3E51E\",\"#F6E61F\",\"#F8E621\",\"#FAE622\",\"#FDE724\"]},\"id\":\"3056\",\"type\":\"LinearColorMapper\"},{\"attributes\":{\"tools\":[{\"id\":\"3042\"},{\"id\":\"3043\"},{\"id\":\"3044\"},{\"id\":\"3045\"},{\"id\":\"3046\"},{\"id\":\"3047\"},{\"id\":\"3065\"}]},\"id\":\"3049\",\"type\":\"Toolbar\"},{\"attributes\":{\"factors\":[\"msCar4\",\"rhCar4\",\"huCar4\"]},\"id\":\"3028\",\"type\":\"FactorRange\"},{\"attributes\":{\"color_mapper\":{\"id\":\"3056\"},\"coordinates\":null,\"group\":null,\"location\":[0,0],\"major_label_policy\":{\"id\":\"3203\"},\"ticker\":{\"id\":\"3057\"}},\"id\":\"3058\",\"type\":\"ColorBar\"},{\"attributes\":{\"factors\":[\"9P36\",\"9P31\"]},\"id\":\"3030\",\"type\":\"FactorRange\"},{\"attributes\":{\"axis\":{\"id\":\"3039\"},\"coordinates\":null,\"dimension\":1,\"group\":null,\"ticker\":null},\"id\":\"3041\",\"type\":\"Grid\"},{\"attributes\":{\"callback\":null,\"tooltips\":[[\"Round\",\"@Round\"],[\"Plate\",\"@Plate\"],[\"Well\",\"@Well\"],[\"Virus\",\"@Virus\"],[\"Receptor\",\"@Receptor\"],[\"Dose\",\"@Dose\"]]},\"id\":\"3065\",\"type\":\"HoverTool\"},{\"attributes\":{\"fill_alpha\":{\"value\":0.2},\"fill_color\":{\"field\":\"Total Brightness per Signal Area\",\"transform\":{\"id\":\"3056\"}},\"hatch_alpha\":{\"value\":0.2},\"line_alpha\":{\"value\":0.2},\"line_color\":{\"value\":\"#1f77b4\"},\"size\":{\"field\":\"Percent Positive\"},\"x\":{\"field\":\"Receptor\"},\"y\":{\"field\":\"Virus\"}},\"id\":\"3062\",\"type\":\"Scatter\"},{\"attributes\":{\"coordinates\":null,\"formatter\":{\"id\":\"3201\"},\"group\":null,\"major_label_policy\":{\"id\":\"3202\"},\"ticker\":{\"id\":\"3040\"}},\"id\":\"3039\",\"type\":\"CategoricalAxis\"},{\"attributes\":{\"fill_alpha\":{\"value\":0.1},\"fill_color\":{\"field\":\"Total Brightness per Signal Area\",\"transform\":{\"id\":\"3056\"}},\"hatch_alpha\":{\"value\":0.1},\"line_alpha\":{\"value\":0.1},\"line_color\":{\"value\":\"#1f77b4\"},\"size\":{\"field\":\"Percent Positive\"},\"x\":{\"field\":\"Receptor\"},\"y\":{\"field\":\"Virus\"}},\"id\":\"3061\",\"type\":\"Scatter\"},{\"attributes\":{},\"id\":\"3057\",\"type\":\"BasicTicker\"}],\"root_ids\":[\"3026\"]},\"title\":\"Bokeh Application\",\"version\":\"2.4.3\"}};\n",
       "  const render_items = [{\"docid\":\"628d3d3e-6007-4f37-a6bf-9d5a2d3f2fc5\",\"root_ids\":[\"3026\"],\"roots\":{\"3026\":\"299e91eb-e22a-442a-bce6-db115282d932\"}}];\n",
       "  root.Bokeh.embed.embed_items_notebook(docs_json, render_items);\n",
       "  }\n",
       "  if (root.Bokeh !== undefined) {\n",
       "    embed_document(root);\n",
       "  } else {\n",
       "    let attempts = 0;\n",
       "    const timer = setInterval(function(root) {\n",
       "      if (root.Bokeh !== undefined) {\n",
       "        clearInterval(timer);\n",
       "        embed_document(root);\n",
       "      } else {\n",
       "        attempts++;\n",
       "        if (attempts > 100) {\n",
       "          clearInterval(timer);\n",
       "          console.log(\"Bokeh: ERROR: Unable to run BokehJS code because BokehJS library is missing\");\n",
       "        }\n",
       "      }\n",
       "    }, 10, root)\n",
       "  }\n",
       "})(window);"
      ],
      "application/vnd.bokehjs_exec.v0+json": ""
     },
     "metadata": {
      "application/vnd.bokehjs_exec.v0+json": {
       "id": "3026"
      }
     },
     "output_type": "display_data"
    },
    {
     "name": "stdout",
     "output_type": "stream",
     "text": [
      "The most positive value is: 57.15 \n",
      "The least positive value is: 6.22 \n",
      "The brightest value is: 0.80 \n",
      "The dimmest value is: 0.21\n"
     ]
    }
   ],
   "source": [
    "round_inds = df_reduced['Round'] == 16\n",
    "dose_inds = df_reduced['Dose'] == 1e9\n",
    "\n",
    "inds = round_inds & dose_inds\n",
    "\n",
    "df_f6d_1 = df_reduced[inds]\n",
    "\n",
    "df_f6d_1 = df_f6d_1.groupby(['Virus', 'Receptor', 'Dose']).mean(numeric_only = True).reset_index()\n",
    "\n",
    "p, min_pos, max_pos, min_brightness, max_brightness = cellseg.plot.bubble_plot(df_f6d_1,\n",
    "                                                                               'Receptor',\n",
    "                                                                               'Virus',\n",
    "                                                                               x_values = ['msCar4',\n",
    "                                                                                           'rhCar4',\n",
    "                                                                                           'huCar4'],\n",
    "                                                                               y_values = ['9P36', \n",
    "                                                                                           '9P31'],\n",
    "                                                                               plot_width = 400, \n",
    "                                                                               plot_height = 250)\n",
    "\n",
    "bokeh.io.show(p)\n",
    "\n",
    "print(\"The most positive value is: %0.2f \\nThe least positive value is: %0.2f \\nThe brightest value is: %0.2f \\nThe dimmest value is: %0.2f\" % (max_pos, min_pos, max_brightness, min_brightness))"
   ]
  },
  {
   "cell_type": "code",
   "execution_count": 26,
   "id": "fd10d0d4-c720-430e-b9d3-84d036ed47cf",
   "metadata": {},
   "outputs": [
    {
     "data": {
      "text/html": [
       "\n",
       "  <div class=\"bk-root\" id=\"59cebf47-8374-4912-a42f-e5b71467b853\" data-root-id=\"3266\"></div>\n"
      ]
     },
     "metadata": {},
     "output_type": "display_data"
    },
    {
     "data": {
      "application/javascript": [
       "(function(root) {\n",
       "  function embed_document(root) {\n",
       "  const docs_json = {\"ca86ff92-e8da-4e5c-99f7-ad24448daa76\":{\"defs\":[],\"roots\":{\"references\":[{\"attributes\":{\"below\":[{\"id\":\"3276\"}],\"center\":[{\"id\":\"3278\"},{\"id\":\"3281\"}],\"height\":250,\"left\":[{\"id\":\"3279\"}],\"output_backend\":\"svg\",\"renderers\":[{\"id\":\"3303\"}],\"right\":[{\"id\":\"3298\"}],\"title\":null,\"toolbar\":{\"id\":\"3289\"},\"width\":400,\"x_range\":{\"id\":\"3268\"},\"x_scale\":{\"id\":\"3272\"},\"y_range\":{\"id\":\"3270\"},\"y_scale\":{\"id\":\"3274\"}},\"id\":\"3266\",\"subtype\":\"Figure\",\"type\":\"Plot\"},{\"attributes\":{\"factors\":[\"9P36\",\"9P31\"]},\"id\":\"3270\",\"type\":\"FactorRange\"},{\"attributes\":{},\"id\":\"3282\",\"type\":\"PanTool\"},{\"attributes\":{\"color_mapper\":{\"id\":\"3296\"},\"coordinates\":null,\"group\":null,\"location\":[0,0],\"major_label_policy\":{\"id\":\"3454\"},\"ticker\":{\"id\":\"3297\"}},\"id\":\"3298\",\"type\":\"ColorBar\"},{\"attributes\":{},\"id\":\"3286\",\"type\":\"ResetTool\"},{\"attributes\":{\"tools\":[{\"id\":\"3282\"},{\"id\":\"3283\"},{\"id\":\"3284\"},{\"id\":\"3285\"},{\"id\":\"3286\"},{\"id\":\"3287\"},{\"id\":\"3305\"}]},\"id\":\"3289\",\"type\":\"Toolbar\"},{\"attributes\":{\"high\":0.7253294582496365,\"low\":0.15253916265697828,\"palette\":[\"#440154\",\"#440255\",\"#440357\",\"#450558\",\"#45065A\",\"#45085B\",\"#46095C\",\"#460B5E\",\"#460C5F\",\"#460E61\",\"#470F62\",\"#471163\",\"#471265\",\"#471466\",\"#471567\",\"#471669\",\"#47186A\",\"#48196B\",\"#481A6C\",\"#481C6E\",\"#481D6F\",\"#481E70\",\"#482071\",\"#482172\",\"#482273\",\"#482374\",\"#472575\",\"#472676\",\"#472777\",\"#472878\",\"#472A79\",\"#472B7A\",\"#472C7B\",\"#462D7C\",\"#462F7C\",\"#46307D\",\"#46317E\",\"#45327F\",\"#45347F\",\"#453580\",\"#453681\",\"#443781\",\"#443982\",\"#433A83\",\"#433B83\",\"#433C84\",\"#423D84\",\"#423E85\",\"#424085\",\"#414186\",\"#414286\",\"#404387\",\"#404487\",\"#3F4587\",\"#3F4788\",\"#3E4888\",\"#3E4989\",\"#3D4A89\",\"#3D4B89\",\"#3D4C89\",\"#3C4D8A\",\"#3C4E8A\",\"#3B508A\",\"#3B518A\",\"#3A528B\",\"#3A538B\",\"#39548B\",\"#39558B\",\"#38568B\",\"#38578C\",\"#37588C\",\"#37598C\",\"#365A8C\",\"#365B8C\",\"#355C8C\",\"#355D8C\",\"#345E8D\",\"#345F8D\",\"#33608D\",\"#33618D\",\"#32628D\",\"#32638D\",\"#31648D\",\"#31658D\",\"#31668D\",\"#30678D\",\"#30688D\",\"#2F698D\",\"#2F6A8D\",\"#2E6B8E\",\"#2E6C8E\",\"#2E6D8E\",\"#2D6E8E\",\"#2D6F8E\",\"#2C708E\",\"#2C718E\",\"#2C728E\",\"#2B738E\",\"#2B748E\",\"#2A758E\",\"#2A768E\",\"#2A778E\",\"#29788E\",\"#29798E\",\"#287A8E\",\"#287A8E\",\"#287B8E\",\"#277C8E\",\"#277D8E\",\"#277E8E\",\"#267F8E\",\"#26808E\",\"#26818E\",\"#25828E\",\"#25838D\",\"#24848D\",\"#24858D\",\"#24868D\",\"#23878D\",\"#23888D\",\"#23898D\",\"#22898D\",\"#228A8D\",\"#228B8D\",\"#218C8D\",\"#218D8C\",\"#218E8C\",\"#208F8C\",\"#20908C\",\"#20918C\",\"#1F928C\",\"#1F938B\",\"#1F948B\",\"#1F958B\",\"#1F968B\",\"#1E978A\",\"#1E988A\",\"#1E998A\",\"#1E998A\",\"#1E9A89\",\"#1E9B89\",\"#1E9C89\",\"#1E9D88\",\"#1E9E88\",\"#1E9F88\",\"#1EA087\",\"#1FA187\",\"#1FA286\",\"#1FA386\",\"#20A485\",\"#20A585\",\"#21A685\",\"#21A784\",\"#22A784\",\"#23A883\",\"#23A982\",\"#24AA82\",\"#25AB81\",\"#26AC81\",\"#27AD80\",\"#28AE7F\",\"#29AF7F\",\"#2AB07E\",\"#2BB17D\",\"#2CB17D\",\"#2EB27C\",\"#2FB37B\",\"#30B47A\",\"#32B57A\",\"#33B679\",\"#35B778\",\"#36B877\",\"#38B976\",\"#39B976\",\"#3BBA75\",\"#3DBB74\",\"#3EBC73\",\"#40BD72\",\"#42BE71\",\"#44BE70\",\"#45BF6F\",\"#47C06E\",\"#49C16D\",\"#4BC26C\",\"#4DC26B\",\"#4FC369\",\"#51C468\",\"#53C567\",\"#55C666\",\"#57C665\",\"#59C764\",\"#5BC862\",\"#5EC961\",\"#60C960\",\"#62CA5F\",\"#64CB5D\",\"#67CC5C\",\"#69CC5B\",\"#6BCD59\",\"#6DCE58\",\"#70CE56\",\"#72CF55\",\"#74D054\",\"#77D052\",\"#79D151\",\"#7CD24F\",\"#7ED24E\",\"#81D34C\",\"#83D34B\",\"#86D449\",\"#88D547\",\"#8BD546\",\"#8DD644\",\"#90D643\",\"#92D741\",\"#95D73F\",\"#97D83E\",\"#9AD83C\",\"#9DD93A\",\"#9FD938\",\"#A2DA37\",\"#A5DA35\",\"#A7DB33\",\"#AADB32\",\"#ADDC30\",\"#AFDC2E\",\"#B2DD2C\",\"#B5DD2B\",\"#B7DD29\",\"#BADE27\",\"#BDDE26\",\"#BFDF24\",\"#C2DF22\",\"#C5DF21\",\"#C7E01F\",\"#CAE01E\",\"#CDE01D\",\"#CFE11C\",\"#D2E11B\",\"#D4E11A\",\"#D7E219\",\"#DAE218\",\"#DCE218\",\"#DFE318\",\"#E1E318\",\"#E4E318\",\"#E7E419\",\"#E9E419\",\"#ECE41A\",\"#EEE51B\",\"#F1E51C\",\"#F3E51E\",\"#F6E61F\",\"#F8E621\",\"#FAE622\",\"#FDE724\"]},\"id\":\"3296\",\"type\":\"LinearColorMapper\"},{\"attributes\":{},\"id\":\"3274\",\"type\":\"CategoricalScale\"},{\"attributes\":{\"axis\":{\"id\":\"3276\"},\"coordinates\":null,\"group\":null,\"ticker\":null},\"id\":\"3278\",\"type\":\"Grid\"},{\"attributes\":{},\"id\":\"3452\",\"type\":\"CategoricalTickFormatter\"},{\"attributes\":{\"coordinates\":null,\"formatter\":{\"id\":\"3452\"},\"group\":null,\"major_label_policy\":{\"id\":\"3453\"},\"ticker\":{\"id\":\"3280\"}},\"id\":\"3279\",\"type\":\"CategoricalAxis\"},{\"attributes\":{\"factors\":[\"None\",\"msCar4\",\"TM 122\",\"TM 123\"]},\"id\":\"3268\",\"type\":\"FactorRange\"},{\"attributes\":{\"fill_color\":{\"field\":\"Total Brightness per Signal Area\",\"transform\":{\"id\":\"3296\"}},\"line_color\":{\"value\":\"#1f77b4\"},\"size\":{\"field\":\"Percent Positive\"},\"x\":{\"field\":\"Receptor\"},\"y\":{\"field\":\"Virus\"}},\"id\":\"3300\",\"type\":\"Scatter\"},{\"attributes\":{},\"id\":\"3453\",\"type\":\"AllLabels\"},{\"attributes\":{},\"id\":\"3272\",\"type\":\"CategoricalScale\"},{\"attributes\":{\"coordinates\":null,\"formatter\":{\"id\":\"3456\"},\"group\":null,\"major_label_orientation\":1.5707963267948966,\"major_label_policy\":{\"id\":\"3457\"},\"ticker\":{\"id\":\"3277\"}},\"id\":\"3276\",\"type\":\"CategoricalAxis\"},{\"attributes\":{\"source\":{\"id\":\"3265\"}},\"id\":\"3304\",\"type\":\"CDSView\"},{\"attributes\":{},\"id\":\"3454\",\"type\":\"NoOverlap\"},{\"attributes\":{\"callback\":null,\"tooltips\":[[\"Round\",\"@Round\"],[\"Plate\",\"@Plate\"],[\"Well\",\"@Well\"],[\"Virus\",\"@Virus\"],[\"Receptor\",\"@Receptor\"],[\"Dose\",\"@Dose\"]]},\"id\":\"3305\",\"type\":\"HoverTool\"},{\"attributes\":{},\"id\":\"3456\",\"type\":\"CategoricalTickFormatter\"},{\"attributes\":{},\"id\":\"3285\",\"type\":\"SaveTool\"},{\"attributes\":{},\"id\":\"3457\",\"type\":\"AllLabels\"},{\"attributes\":{\"axis\":{\"id\":\"3279\"},\"coordinates\":null,\"dimension\":1,\"group\":null,\"ticker\":null},\"id\":\"3281\",\"type\":\"Grid\"},{\"attributes\":{\"overlay\":{\"id\":\"3288\"}},\"id\":\"3284\",\"type\":\"BoxZoomTool\"},{\"attributes\":{},\"id\":\"3458\",\"type\":\"UnionRenderers\"},{\"attributes\":{},\"id\":\"3287\",\"type\":\"HelpTool\"},{\"attributes\":{\"data\":{\"Bright Field Area\":{\"__ndarray__\":\"VVVVVV0IBEFVVVVV5Q4DQQAAAAAQnQNBVVVVVbV2A0FVVVVVBUkFQauqqqryGQRBAAAAACDvA0EAAAAA0EEFQQAAAACQqQJBVVVVVc3eBUE=\",\"dtype\":\"float64\",\"order\":\"little\",\"shape\":[10]},\"Brinzolamide (nM)\":{\"__ndarray__\":\"AAAAAAAAAAAAAAAAAAAAAAAAAAAAAAAAAAAAAAAAAAAAAAAAAAAAAAAAAAAAAAAAAAAAAAAAAAAAAAAAAAAAAAAAAAAAAAAAAAAAAAAAAAA=\",\"dtype\":\"float64\",\"order\":\"little\",\"shape\":[10]},\"Count\":{\"__ndarray__\":\"VVVVVVXld0BVVVVVVWV3QFVVVVVVtXhAq6qqqqq6cUBVVVVVVc+hQFVVVVVV9XtAVVVVVVW1d0Crqqqqqlp7QAAAAAAA4HZAAAAAAACuokA=\",\"dtype\":\"float64\",\"order\":\"little\",\"shape\":[10]},\"DMSO (%)\":{\"__ndarray__\":\"AAAAAAAAAAAAAAAAAAAAAAAAAAAAAAAAAAAAAAAAAAAAAAAAAAAAAAAAAAAAAAAAAAAAAAAAAAAAAAAAAAAAAAAAAAAAAAAAAAAAAAAAAAA=\",\"dtype\":\"float64\",\"order\":\"little\",\"shape\":[10]},\"Dose\":{\"__ndarray__\":\"AAAAAGXNzUEAAAAAZc3NQQAAAABlzc1BAAAAAGXNzUEAAAAAZc3NQQAAAABlzc1BAAAAAGXNzUEAAAAAZc3NQQAAAABlzc1BAAAAAGXNzUE=\",\"dtype\":\"float64\",\"order\":\"little\",\"shape\":[10]},\"Percent Positive\":{\"__ndarray__\":\"Z6o9UhGdEkAPRGRinkwUQK31zN4CKhVAL1DSMxYcCkCUXh1R8itQQNcEgjuCvRNAdXuCgw2mF0A5uSbWEQcUQBFcxidsBxJA047QwCJZTkA=\",\"dtype\":\"float64\",\"order\":\"little\",\"shape\":[10]},\"Percent Positive Scaled\":{\"__ndarray__\":\"Z6o9UhGdAkAPRGRinkwEQK31zN4CKgVAL1DSMxYc+j+UXh1R8itAQNcEgjuCvQNAdXuCgw2mB0A5uSbWEQcEQBFcxidsBwJA047QwCJZPkA=\",\"dtype\":\"float64\",\"order\":\"little\",\"shape\":[10]},\"Plate\":{\"__ndarray__\":\"AAAAAAAA8D8AAAAAAADwPwAAAAAAAPA/AAAAAAAA8D8AAAAAAADwPwAAAAAAAPA/AAAAAAAA8D8AAAAAAADwPwAAAAAAAPA/AAAAAAAA8D8=\",\"dtype\":\"float64\",\"order\":\"little\",\"shape\":[10]},\"Receptor\":[\"None\",\"TM 122\",\"TM 123\",\"huCar4\",\"msCar4\",\"None\",\"TM 122\",\"TM 123\",\"huCar4\",\"msCar4\"],\"Round\":{\"__ndarray__\":\"AAAAAAAAMkAAAAAAAAAyQAAAAAAAADJAAAAAAAAAMkAAAAAAAAAyQAAAAAAAADJAAAAAAAAAMkAAAAAAAAAyQAAAAAAAADJAAAAAAAAAMkA=\",\"dtype\":\"float64\",\"order\":\"little\",\"shape\":[10]},\"Signal Area\":{\"__ndarray__\":\"q6qqqqrEvUCrqqqqqhG/QKuqqqoqlsBAVVVVVVV4tEBVVVVVlZj7QKuqqqqq179AAAAAAIDlwkBVVVVV1fjAQKuqqqqq/bpAVVVVVRWD+kA=\",\"dtype\":\"float64\",\"order\":\"little\",\"shape\":[10]},\"Total Brightness\":{\"__ndarray__\":\"vLq6uroylkBrvhNpvreWQPFGnPFGEJdAX7UKYLXCikALYLUKcBL0QAMCAgICmpNAk5KSkpLamkA24Io14MqUQNPS0tLS9pBA5efn53c580A=\",\"dtype\":\"float64\",\"order\":\"little\",\"shape\":[10]},\"Total Brightness per Signal Area\":{\"__ndarray__\":\"aPA3J0rNxz93wTautpfHP3DlSBWMHMY/3cjdQRW1xD8lPsAf5jXnPxNDDlyA58M/Z3YZW8J4xj/3R3w9Z4bDP1ShJDkH/8M/HZi8UWwu5z8=\",\"dtype\":\"float64\",\"order\":\"little\",\"shape\":[10]},\"Virus\":[\"9P31\",\"9P31\",\"9P31\",\"9P31\",\"9P31\",\"9P36\",\"9P36\",\"9P36\",\"9P36\",\"9P36\"],\"Well\":{\"__ndarray__\":\"AAAAAACASkAAAAAAAAA6QAAAAAAAAENAAAAAAAAALEAAAAAAAAAAQAAAAAAAQFBAAAAAAAAAQEAAAAAAAABGQAAAAAAAADRAAAAAAAAAIEA=\",\"dtype\":\"float64\",\"order\":\"little\",\"shape\":[10]},\"index\":[0,1,2,3,4,5,6,7,8,9]},\"selected\":{\"id\":\"3459\"},\"selection_policy\":{\"id\":\"3458\"}},\"id\":\"3265\",\"type\":\"ColumnDataSource\"},{\"attributes\":{},\"id\":\"3297\",\"type\":\"BasicTicker\"},{\"attributes\":{\"coordinates\":null,\"data_source\":{\"id\":\"3265\"},\"glyph\":{\"id\":\"3300\"},\"group\":null,\"hover_glyph\":null,\"muted_glyph\":{\"id\":\"3302\"},\"nonselection_glyph\":{\"id\":\"3301\"},\"view\":{\"id\":\"3304\"}},\"id\":\"3303\",\"type\":\"GlyphRenderer\"},{\"attributes\":{},\"id\":\"3277\",\"type\":\"CategoricalTicker\"},{\"attributes\":{},\"id\":\"3459\",\"type\":\"Selection\"},{\"attributes\":{\"fill_alpha\":{\"value\":0.2},\"fill_color\":{\"field\":\"Total Brightness per Signal Area\",\"transform\":{\"id\":\"3296\"}},\"hatch_alpha\":{\"value\":0.2},\"line_alpha\":{\"value\":0.2},\"line_color\":{\"value\":\"#1f77b4\"},\"size\":{\"field\":\"Percent Positive\"},\"x\":{\"field\":\"Receptor\"},\"y\":{\"field\":\"Virus\"}},\"id\":\"3302\",\"type\":\"Scatter\"},{\"attributes\":{},\"id\":\"3283\",\"type\":\"WheelZoomTool\"},{\"attributes\":{\"bottom_units\":\"screen\",\"coordinates\":null,\"fill_alpha\":0.5,\"fill_color\":\"lightgrey\",\"group\":null,\"left_units\":\"screen\",\"level\":\"overlay\",\"line_alpha\":1.0,\"line_color\":\"black\",\"line_dash\":[4,4],\"line_width\":2,\"right_units\":\"screen\",\"syncable\":false,\"top_units\":\"screen\"},\"id\":\"3288\",\"type\":\"BoxAnnotation\"},{\"attributes\":{\"fill_alpha\":{\"value\":0.1},\"fill_color\":{\"field\":\"Total Brightness per Signal Area\",\"transform\":{\"id\":\"3296\"}},\"hatch_alpha\":{\"value\":0.1},\"line_alpha\":{\"value\":0.1},\"line_color\":{\"value\":\"#1f77b4\"},\"size\":{\"field\":\"Percent Positive\"},\"x\":{\"field\":\"Receptor\"},\"y\":{\"field\":\"Virus\"}},\"id\":\"3301\",\"type\":\"Scatter\"},{\"attributes\":{},\"id\":\"3280\",\"type\":\"CategoricalTicker\"}],\"root_ids\":[\"3266\"]},\"title\":\"Bokeh Application\",\"version\":\"2.4.3\"}};\n",
       "  const render_items = [{\"docid\":\"ca86ff92-e8da-4e5c-99f7-ad24448daa76\",\"root_ids\":[\"3266\"],\"roots\":{\"3266\":\"59cebf47-8374-4912-a42f-e5b71467b853\"}}];\n",
       "  root.Bokeh.embed.embed_items_notebook(docs_json, render_items);\n",
       "  }\n",
       "  if (root.Bokeh !== undefined) {\n",
       "    embed_document(root);\n",
       "  } else {\n",
       "    let attempts = 0;\n",
       "    const timer = setInterval(function(root) {\n",
       "      if (root.Bokeh !== undefined) {\n",
       "        clearInterval(timer);\n",
       "        embed_document(root);\n",
       "      } else {\n",
       "        attempts++;\n",
       "        if (attempts > 100) {\n",
       "          clearInterval(timer);\n",
       "          console.log(\"Bokeh: ERROR: Unable to run BokehJS code because BokehJS library is missing\");\n",
       "        }\n",
       "      }\n",
       "    }, 10, root)\n",
       "  }\n",
       "})(window);"
      ],
      "application/vnd.bokehjs_exec.v0+json": ""
     },
     "metadata": {
      "application/vnd.bokehjs_exec.v0+json": {
       "id": "3266"
      }
     },
     "output_type": "display_data"
    },
    {
     "name": "stdout",
     "output_type": "stream",
     "text": [
      "The most positive value is: 64.69 \n",
      "The least positive value is: 3.26 \n",
      "The brightest value is: 0.73 \n",
      "The dimmest value is: 0.15\n"
     ]
    }
   ],
   "source": [
    "round_inds = df_reduced['Round'] == 18\n",
    "dose_inds = df_reduced['Dose'] == 1e9\n",
    "\n",
    "inds = round_inds & dose_inds\n",
    "\n",
    "df_f6d_2 = df_reduced[inds]\n",
    "\n",
    "df_f6d_2 = df_f6d_2.groupby(['Virus', 'Receptor', 'Dose']).mean(numeric_only = True).reset_index()\n",
    "\n",
    "p, min_pos, max_pos, min_brightness, max_brightness = cellseg.plot.bubble_plot(df_f6d_2,\n",
    "                                                                               'Receptor',\n",
    "                                                                               'Virus',\n",
    "                                                                               x_values = ['None',\n",
    "                                                                                           'msCar4',\n",
    "                                                                                           'TM 122',\n",
    "                                                                                           'TM 123'],\n",
    "                                                                               y_values = ['9P36', \n",
    "                                                                                           '9P31'],\n",
    "                                                                               plot_width = 400, \n",
    "                                                                               plot_height = 250)\n",
    "\n",
    "bokeh.io.show(p)\n",
    "\n",
    "print(\"The most positive value is: %0.2f \\nThe least positive value is: %0.2f \\nThe brightest value is: %0.2f \\nThe dimmest value is: %0.2f\" % (max_pos, min_pos, max_brightness, min_brightness))"
   ]
  },
  {
   "cell_type": "markdown",
   "id": "e3699f87-abf7-452d-8a6a-c0a1c8a08c48",
   "metadata": {},
   "source": [
    "## Supplemental Figures"
   ]
  },
  {
   "cell_type": "markdown",
   "id": "9c4b7553-5684-438f-93c0-d21af5f340b9",
   "metadata": {},
   "source": [
    "### Figure S2c"
   ]
  },
  {
   "cell_type": "code",
   "execution_count": 27,
   "id": "7ab12dd1-d25c-4e23-9420-c3b7d7d3d635",
   "metadata": {},
   "outputs": [],
   "source": [
    "round_inds = df_reduced['Round'] == 17\n",
    "dose_inds = df_reduced['Dose'] == 1e9\n",
    "virus_inds = df_reduced['Virus'].isin(['PHP.eB', 'CAP-B10', 'CAP-B22'])\n",
    "\n",
    "inds = round_inds & dose_inds * virus_inds\n",
    "                                      \n",
    "df_sf2a = df_reduced[inds]\n",
    "                                      \n",
    "df_sf2a = df_sf2a.groupby(['Virus', 'Receptor', 'Dose']).mean(numeric_only = True).reset_index()"
   ]
  },
  {
   "cell_type": "code",
   "execution_count": 28,
   "id": "c165834a-69db-4831-856c-f6030d8cd0a1",
   "metadata": {},
   "outputs": [
    {
     "data": {
      "text/html": [
       "\n",
       "  <div class=\"bk-root\" id=\"5ece0ff8-6652-433b-a352-10e4edfb7b34\" data-root-id=\"3517\"></div>\n"
      ]
     },
     "metadata": {},
     "output_type": "display_data"
    },
    {
     "data": {
      "application/javascript": [
       "(function(root) {\n",
       "  function embed_document(root) {\n",
       "  const docs_json = {\"87ac93dd-039c-4c58-9ed1-7bfeaf8b5c34\":{\"defs\":[],\"roots\":{\"references\":[{\"attributes\":{\"below\":[{\"id\":\"3527\"}],\"center\":[{\"id\":\"3529\"},{\"id\":\"3532\"}],\"height\":300,\"left\":[{\"id\":\"3530\"}],\"output_backend\":\"svg\",\"renderers\":[{\"id\":\"3554\"}],\"right\":[{\"id\":\"3549\"}],\"title\":null,\"toolbar\":{\"id\":\"3540\"},\"width\":400,\"x_range\":{\"id\":\"3519\"},\"x_scale\":{\"id\":\"3523\"},\"y_range\":{\"id\":\"3521\"},\"y_scale\":{\"id\":\"3525\"}},\"id\":\"3517\",\"subtype\":\"Figure\",\"type\":\"Plot\"},{\"attributes\":{\"factors\":[\"None\",\"Ly6a\",\"Marmoset Ly6E\",\"Marmoset LyPD5\",\"Marmoset Lynx1\",\"Marmoset CD59\"]},\"id\":\"3519\",\"type\":\"FactorRange\"},{\"attributes\":{\"tools\":[{\"id\":\"3533\"},{\"id\":\"3534\"},{\"id\":\"3535\"},{\"id\":\"3536\"},{\"id\":\"3537\"},{\"id\":\"3538\"},{\"id\":\"3556\"}]},\"id\":\"3540\",\"type\":\"Toolbar\"},{\"attributes\":{},\"id\":\"3720\",\"type\":\"UnionRenderers\"},{\"attributes\":{\"axis\":{\"id\":\"3530\"},\"coordinates\":null,\"dimension\":1,\"group\":null,\"ticker\":null},\"id\":\"3532\",\"type\":\"Grid\"},{\"attributes\":{},\"id\":\"3714\",\"type\":\"CategoricalTickFormatter\"},{\"attributes\":{\"coordinates\":null,\"formatter\":{\"id\":\"3718\"},\"group\":null,\"major_label_orientation\":1.5707963267948966,\"major_label_policy\":{\"id\":\"3719\"},\"ticker\":{\"id\":\"3528\"}},\"id\":\"3527\",\"type\":\"CategoricalAxis\"},{\"attributes\":{},\"id\":\"3538\",\"type\":\"HelpTool\"},{\"attributes\":{\"high\":0.6864039303681215,\"low\":0.169256281610034,\"palette\":[\"#440154\",\"#440255\",\"#440357\",\"#450558\",\"#45065A\",\"#45085B\",\"#46095C\",\"#460B5E\",\"#460C5F\",\"#460E61\",\"#470F62\",\"#471163\",\"#471265\",\"#471466\",\"#471567\",\"#471669\",\"#47186A\",\"#48196B\",\"#481A6C\",\"#481C6E\",\"#481D6F\",\"#481E70\",\"#482071\",\"#482172\",\"#482273\",\"#482374\",\"#472575\",\"#472676\",\"#472777\",\"#472878\",\"#472A79\",\"#472B7A\",\"#472C7B\",\"#462D7C\",\"#462F7C\",\"#46307D\",\"#46317E\",\"#45327F\",\"#45347F\",\"#453580\",\"#453681\",\"#443781\",\"#443982\",\"#433A83\",\"#433B83\",\"#433C84\",\"#423D84\",\"#423E85\",\"#424085\",\"#414186\",\"#414286\",\"#404387\",\"#404487\",\"#3F4587\",\"#3F4788\",\"#3E4888\",\"#3E4989\",\"#3D4A89\",\"#3D4B89\",\"#3D4C89\",\"#3C4D8A\",\"#3C4E8A\",\"#3B508A\",\"#3B518A\",\"#3A528B\",\"#3A538B\",\"#39548B\",\"#39558B\",\"#38568B\",\"#38578C\",\"#37588C\",\"#37598C\",\"#365A8C\",\"#365B8C\",\"#355C8C\",\"#355D8C\",\"#345E8D\",\"#345F8D\",\"#33608D\",\"#33618D\",\"#32628D\",\"#32638D\",\"#31648D\",\"#31658D\",\"#31668D\",\"#30678D\",\"#30688D\",\"#2F698D\",\"#2F6A8D\",\"#2E6B8E\",\"#2E6C8E\",\"#2E6D8E\",\"#2D6E8E\",\"#2D6F8E\",\"#2C708E\",\"#2C718E\",\"#2C728E\",\"#2B738E\",\"#2B748E\",\"#2A758E\",\"#2A768E\",\"#2A778E\",\"#29788E\",\"#29798E\",\"#287A8E\",\"#287A8E\",\"#287B8E\",\"#277C8E\",\"#277D8E\",\"#277E8E\",\"#267F8E\",\"#26808E\",\"#26818E\",\"#25828E\",\"#25838D\",\"#24848D\",\"#24858D\",\"#24868D\",\"#23878D\",\"#23888D\",\"#23898D\",\"#22898D\",\"#228A8D\",\"#228B8D\",\"#218C8D\",\"#218D8C\",\"#218E8C\",\"#208F8C\",\"#20908C\",\"#20918C\",\"#1F928C\",\"#1F938B\",\"#1F948B\",\"#1F958B\",\"#1F968B\",\"#1E978A\",\"#1E988A\",\"#1E998A\",\"#1E998A\",\"#1E9A89\",\"#1E9B89\",\"#1E9C89\",\"#1E9D88\",\"#1E9E88\",\"#1E9F88\",\"#1EA087\",\"#1FA187\",\"#1FA286\",\"#1FA386\",\"#20A485\",\"#20A585\",\"#21A685\",\"#21A784\",\"#22A784\",\"#23A883\",\"#23A982\",\"#24AA82\",\"#25AB81\",\"#26AC81\",\"#27AD80\",\"#28AE7F\",\"#29AF7F\",\"#2AB07E\",\"#2BB17D\",\"#2CB17D\",\"#2EB27C\",\"#2FB37B\",\"#30B47A\",\"#32B57A\",\"#33B679\",\"#35B778\",\"#36B877\",\"#38B976\",\"#39B976\",\"#3BBA75\",\"#3DBB74\",\"#3EBC73\",\"#40BD72\",\"#42BE71\",\"#44BE70\",\"#45BF6F\",\"#47C06E\",\"#49C16D\",\"#4BC26C\",\"#4DC26B\",\"#4FC369\",\"#51C468\",\"#53C567\",\"#55C666\",\"#57C665\",\"#59C764\",\"#5BC862\",\"#5EC961\",\"#60C960\",\"#62CA5F\",\"#64CB5D\",\"#67CC5C\",\"#69CC5B\",\"#6BCD59\",\"#6DCE58\",\"#70CE56\",\"#72CF55\",\"#74D054\",\"#77D052\",\"#79D151\",\"#7CD24F\",\"#7ED24E\",\"#81D34C\",\"#83D34B\",\"#86D449\",\"#88D547\",\"#8BD546\",\"#8DD644\",\"#90D643\",\"#92D741\",\"#95D73F\",\"#97D83E\",\"#9AD83C\",\"#9DD93A\",\"#9FD938\",\"#A2DA37\",\"#A5DA35\",\"#A7DB33\",\"#AADB32\",\"#ADDC30\",\"#AFDC2E\",\"#B2DD2C\",\"#B5DD2B\",\"#B7DD29\",\"#BADE27\",\"#BDDE26\",\"#BFDF24\",\"#C2DF22\",\"#C5DF21\",\"#C7E01F\",\"#CAE01E\",\"#CDE01D\",\"#CFE11C\",\"#D2E11B\",\"#D4E11A\",\"#D7E219\",\"#DAE218\",\"#DCE218\",\"#DFE318\",\"#E1E318\",\"#E4E318\",\"#E7E419\",\"#E9E419\",\"#ECE41A\",\"#EEE51B\",\"#F1E51C\",\"#F3E51E\",\"#F6E61F\",\"#F8E621\",\"#FAE622\",\"#FDE724\"]},\"id\":\"3547\",\"type\":\"LinearColorMapper\"},{\"attributes\":{\"axis\":{\"id\":\"3527\"},\"coordinates\":null,\"group\":null,\"ticker\":null},\"id\":\"3529\",\"type\":\"Grid\"},{\"attributes\":{\"coordinates\":null,\"formatter\":{\"id\":\"3714\"},\"group\":null,\"major_label_policy\":{\"id\":\"3715\"},\"ticker\":{\"id\":\"3531\"}},\"id\":\"3530\",\"type\":\"CategoricalAxis\"},{\"attributes\":{\"fill_alpha\":{\"value\":0.1},\"fill_color\":{\"field\":\"Total Brightness per Signal Area\",\"transform\":{\"id\":\"3547\"}},\"hatch_alpha\":{\"value\":0.1},\"line_alpha\":{\"value\":0.1},\"line_color\":{\"value\":\"#1f77b4\"},\"size\":{\"field\":\"Percent Positive\"},\"x\":{\"field\":\"Receptor\"},\"y\":{\"field\":\"Virus\"}},\"id\":\"3552\",\"type\":\"Scatter\"},{\"attributes\":{\"factors\":[\"CAP-B22\",\"CAP-B10\",\"PHP.eB\"]},\"id\":\"3521\",\"type\":\"FactorRange\"},{\"attributes\":{},\"id\":\"3528\",\"type\":\"CategoricalTicker\"},{\"attributes\":{},\"id\":\"3548\",\"type\":\"BasicTicker\"},{\"attributes\":{\"bottom_units\":\"screen\",\"coordinates\":null,\"fill_alpha\":0.5,\"fill_color\":\"lightgrey\",\"group\":null,\"left_units\":\"screen\",\"level\":\"overlay\",\"line_alpha\":1.0,\"line_color\":\"black\",\"line_dash\":[4,4],\"line_width\":2,\"right_units\":\"screen\",\"syncable\":false,\"top_units\":\"screen\"},\"id\":\"3539\",\"type\":\"BoxAnnotation\"},{\"attributes\":{},\"id\":\"3536\",\"type\":\"SaveTool\"},{\"attributes\":{},\"id\":\"3719\",\"type\":\"AllLabels\"},{\"attributes\":{\"data\":{\"Bright Field Area\":{\"__ndarray__\":\"VVVVVfV0AUEAAAAAeFIGQQAAAADgDwFBVVVVVS0DBEGrqqqquqAEQQAAAAAAHAhBVVVVVe2yAEEAAAAAEMkBQQAAAAAARQFBq6qqqoqT/0BVVVVVFeIAQQAAAABgfhZBVVVVVWVhBEFVVVVV9foHQauqqqo6YwRBVVVVVW1NA0FVVVVVrcAGQVVVVVXdTwtB\",\"dtype\":\"float64\",\"order\":\"little\",\"shape\":[18]},\"Brinzolamide (nM)\":{\"__ndarray__\":\"AAAAAAAAAAAAAAAAAAAAAAAAAAAAAAAAAAAAAAAAAAAAAAAAAAAAAAAAAAAAAAAAAAAAAAAAAAAAAAAAAAAAAAAAAAAAAAAAAAAAAAAAAAAAAAAAAAAAAAAAAAAAAAAAAAAAAAAAAAAAAAAAAAAAAAAAAAAAAAAAAAAAAAAAAAAAAAAAAAAAAAAAAAAAAAAA\",\"dtype\":\"float64\",\"order\":\"little\",\"shape\":[18]},\"Count\":{\"__ndarray__\":\"q6qqqqrmkkAAAAAAAHB+QFVVVVVVdXZAq6qqqqrqd0Crqqqqqop9QKuqqqqq6ntAVVVVVVX1lEAAAAAAAHCBQKuqqqqqin5AAAAAAADgeUAAAAAAAHiDQFVVVVVVRYlAAAAAAABIm0AAAAAAANCLQAAAAAAAoIZAAAAAAACAgkAAAAAAAPCKQFVVVVVVHYpA\",\"dtype\":\"float64\",\"order\":\"little\",\"shape\":[18]},\"DMSO (%)\":{\"__ndarray__\":\"AAAAAAAAAAAAAAAAAAAAAAAAAAAAAAAAAAAAAAAAAAAAAAAAAAAAAAAAAAAAAAAAAAAAAAAAAAAAAAAAAAAAAAAAAAAAAAAAAAAAAAAAAAAAAAAAAAAAAAAAAAAAAAAAAAAAAAAAAAAAAAAAAAAAAAAAAAAAAAAAAAAAAAAAAAAAAAAAAAAAAAAAAAAAAAAA\",\"dtype\":\"float64\",\"order\":\"little\",\"shape\":[18]},\"Dose\":{\"__ndarray__\":\"AAAAAGXNzUEAAAAAZc3NQQAAAABlzc1BAAAAAGXNzUEAAAAAZc3NQQAAAABlzc1BAAAAAGXNzUEAAAAAZc3NQQAAAABlzc1BAAAAAGXNzUEAAAAAZc3NQQAAAABlzc1BAAAAAGXNzUEAAAAAZc3NQQAAAABlzc1BAAAAAGXNzUEAAAAAZc3NQQAAAABlzc1B\",\"dtype\":\"float64\",\"order\":\"little\",\"shape\":[18]},\"Percent Positive\":{\"__ndarray__\":\"9MUSUJHMQkABxqu3ikEVQOkDPKEOqhRAUJB3rJdJEkC7a3OnT8MUQCuHNzaedxZAvVCeiKD5RUCo9KbPwtIdQLeyxN6WTRtAUZlfjJbsGUDjMD8hJoIgQEWbNQe7OBpAxw9kIeM6SkCD4UHBb9ghQJRKKJDxQiFAS1Ut1kGwHUAfvCoL/mchQJgdY3QGdx9A\",\"dtype\":\"float64\",\"order\":\"little\",\"shape\":[18]},\"Percent Positive Scaled\":{\"__ndarray__\":\"9MUSUJHMMkABxqu3ikEFQOkDPKEOqgRAUJB3rJdJAkC7a3OnT8MEQCuHNzaedwZAvVCeiKD5NUCo9KbPwtINQLeyxN6WTQtAUZlfjJbsCUDjMD8hJoIQQEWbNQe7OApAxw9kIeM6OkCD4UHBb9gRQJRKKJDxQhFAS1Ut1kGwDUAfvCoL/mcRQJgdY3QGdw9A\",\"dtype\":\"float64\",\"order\":\"little\",\"shape\":[18]},\"Plate\":{\"__ndarray__\":\"AAAAAAAAAEAAAAAAAADwPwAAAAAAAPA/AAAAAAAA8D8AAAAAAADwPwAAAAAAACBAAAAAAAAAAEAAAAAAAADwPwAAAAAAAPA/AAAAAAAA8D8AAAAAAADwPwAAAAAAACBAAAAAAAAAAEAAAAAAAADwPwAAAAAAAPA/AAAAAAAA8D8AAAAAAADwPwAAAAAAACBA\",\"dtype\":\"float64\",\"order\":\"little\",\"shape\":[18]},\"Receptor\":[\"Ly6a\",\"Marmoset CD59\",\"Marmoset Ly6E\",\"Marmoset LyPD5\",\"Marmoset Lynx1\",\"None\",\"Ly6a\",\"Marmoset CD59\",\"Marmoset Ly6E\",\"Marmoset LyPD5\",\"Marmoset Lynx1\",\"None\",\"Ly6a\",\"Marmoset CD59\",\"Marmoset Ly6E\",\"Marmoset LyPD5\",\"Marmoset Lynx1\",\"None\"],\"Round\":{\"__ndarray__\":\"AAAAAAAAMUAAAAAAAAAxQAAAAAAAADFAAAAAAAAAMUAAAAAAAAAxQAAAAAAAADFAAAAAAAAAMUAAAAAAAAAxQAAAAAAAADFAAAAAAAAAMUAAAAAAAAAxQAAAAAAAADFAAAAAAAAAMUAAAAAAAAAxQAAAAAAAADFAAAAAAAAAMUAAAAAAAAAxQAAAAAAAADFA\",\"dtype\":\"float64\",\"order\":\"little\",\"shape\":[18]},\"Signal Area\":{\"__ndarray__\":\"AAAAAOBA6kBVVVVV1ffCQAAAAAAABrxAVVVVVVVCvUAAAAAAACLBQKuqqqoqqMVAq6qqqupS7UCrqqqqqjvFQAAAAAAA6MJAVVVVVVVNwECrqqqqqmLGQKuqqqpqH9FAq6qqqnpf9UCrqqqqqibRQAAAAACAJcxAAAAAAADcxkAAAAAAgLXPQAAAAACAMNFA\",\"dtype\":\"float64\",\"order\":\"little\",\"shape\":[18]},\"Total Brightness\":{\"__ndarray__\":\"7Ovr62sg30CNjY2NjbugQF9fX19f95JAXwm0XgkslEAhdcofdQqaQKxWAaxWQZ9AgdYrgfZb4kDwQ5nuQ1miQAD//v7+ipxAQEJCQkLymECT6D2T6IGjQCfSfCfSJK5ACAoKCopX7UAjd8whd8+wQCXQeiXQcqhARJjtQpg3o0DbhC/ahIuuQPxOpPlOyK5A\",\"dtype\":\"float64\",\"order\":\"little\",\"shape\":[18]},\"Total Brightness per Signal Area\":{\"__ndarray__\":\"ISVnjOj34j9zbcElExbMP0cuFJkwqsU/K+bqbKX+xT9ctQEq7FHIP1XoLBM7FMc/28vhyQQJ5D/dnHXPtozLPzt1PpAHFcg/ezIiGAnPyD+Xj/1sFqLLPyE6A0fUH8w/uNwYYAX35T85ax7LxUrPP5RJwkw+wcs/uelgBdTdyj/vmkFGTsfOPwgkW77boMw/\",\"dtype\":\"float64\",\"order\":\"little\",\"shape\":[18]},\"Virus\":[\"CAP-B10\",\"CAP-B10\",\"CAP-B10\",\"CAP-B10\",\"CAP-B10\",\"CAP-B10\",\"CAP-B22\",\"CAP-B22\",\"CAP-B22\",\"CAP-B22\",\"CAP-B22\",\"CAP-B22\",\"PHP.eB\",\"PHP.eB\",\"PHP.eB\",\"PHP.eB\",\"PHP.eB\",\"PHP.eB\"],\"Well\":{\"__ndarray__\":\"AAAAAAAAFEAAAAAAAEBTQAAAAAAAABRAAAAAAAAAPUAAAAAAAIBKQAAAAAAAABRAAAAAAAAAJkAAAAAAAMBUQAAAAAAAACZAAAAAAACAQUAAAAAAAIBNQAAAAAAAADFAAAAAAAAAMUAAAAAAAEBWQAAAAAAAADFAAAAAAACAREAAAAAAAEBQQAAAAAAAAD1A\",\"dtype\":\"float64\",\"order\":\"little\",\"shape\":[18]},\"index\":[0,1,2,3,4,5,6,7,8,9,10,11,12,13,14,15,16,17]},\"selected\":{\"id\":\"3721\"},\"selection_policy\":{\"id\":\"3720\"}},\"id\":\"3516\",\"type\":\"ColumnDataSource\"},{\"attributes\":{},\"id\":\"3537\",\"type\":\"ResetTool\"},{\"attributes\":{},\"id\":\"3534\",\"type\":\"WheelZoomTool\"},{\"attributes\":{},\"id\":\"3718\",\"type\":\"CategoricalTickFormatter\"},{\"attributes\":{},\"id\":\"3525\",\"type\":\"CategoricalScale\"},{\"attributes\":{},\"id\":\"3533\",\"type\":\"PanTool\"},{\"attributes\":{\"overlay\":{\"id\":\"3539\"}},\"id\":\"3535\",\"type\":\"BoxZoomTool\"},{\"attributes\":{},\"id\":\"3715\",\"type\":\"AllLabels\"},{\"attributes\":{\"color_mapper\":{\"id\":\"3547\"},\"coordinates\":null,\"group\":null,\"location\":[0,0],\"major_label_policy\":{\"id\":\"3716\"},\"ticker\":{\"id\":\"3548\"}},\"id\":\"3549\",\"type\":\"ColorBar\"},{\"attributes\":{},\"id\":\"3721\",\"type\":\"Selection\"},{\"attributes\":{},\"id\":\"3531\",\"type\":\"CategoricalTicker\"},{\"attributes\":{\"fill_color\":{\"field\":\"Total Brightness per Signal Area\",\"transform\":{\"id\":\"3547\"}},\"line_color\":{\"value\":\"#1f77b4\"},\"size\":{\"field\":\"Percent Positive\"},\"x\":{\"field\":\"Receptor\"},\"y\":{\"field\":\"Virus\"}},\"id\":\"3551\",\"type\":\"Scatter\"},{\"attributes\":{\"fill_alpha\":{\"value\":0.2},\"fill_color\":{\"field\":\"Total Brightness per Signal Area\",\"transform\":{\"id\":\"3547\"}},\"hatch_alpha\":{\"value\":0.2},\"line_alpha\":{\"value\":0.2},\"line_color\":{\"value\":\"#1f77b4\"},\"size\":{\"field\":\"Percent Positive\"},\"x\":{\"field\":\"Receptor\"},\"y\":{\"field\":\"Virus\"}},\"id\":\"3553\",\"type\":\"Scatter\"},{\"attributes\":{},\"id\":\"3523\",\"type\":\"CategoricalScale\"},{\"attributes\":{},\"id\":\"3716\",\"type\":\"NoOverlap\"},{\"attributes\":{\"coordinates\":null,\"data_source\":{\"id\":\"3516\"},\"glyph\":{\"id\":\"3551\"},\"group\":null,\"hover_glyph\":null,\"muted_glyph\":{\"id\":\"3553\"},\"nonselection_glyph\":{\"id\":\"3552\"},\"view\":{\"id\":\"3555\"}},\"id\":\"3554\",\"type\":\"GlyphRenderer\"},{\"attributes\":{\"callback\":null,\"tooltips\":[[\"Round\",\"@Round\"],[\"Plate\",\"@Plate\"],[\"Well\",\"@Well\"],[\"Virus\",\"@Virus\"],[\"Receptor\",\"@Receptor\"],[\"Dose\",\"@Dose\"]]},\"id\":\"3556\",\"type\":\"HoverTool\"},{\"attributes\":{\"source\":{\"id\":\"3516\"}},\"id\":\"3555\",\"type\":\"CDSView\"}],\"root_ids\":[\"3517\"]},\"title\":\"Bokeh Application\",\"version\":\"2.4.3\"}};\n",
       "  const render_items = [{\"docid\":\"87ac93dd-039c-4c58-9ed1-7bfeaf8b5c34\",\"root_ids\":[\"3517\"],\"roots\":{\"3517\":\"5ece0ff8-6652-433b-a352-10e4edfb7b34\"}}];\n",
       "  root.Bokeh.embed.embed_items_notebook(docs_json, render_items);\n",
       "  }\n",
       "  if (root.Bokeh !== undefined) {\n",
       "    embed_document(root);\n",
       "  } else {\n",
       "    let attempts = 0;\n",
       "    const timer = setInterval(function(root) {\n",
       "      if (root.Bokeh !== undefined) {\n",
       "        clearInterval(timer);\n",
       "        embed_document(root);\n",
       "      } else {\n",
       "        attempts++;\n",
       "        if (attempts > 100) {\n",
       "          clearInterval(timer);\n",
       "          console.log(\"Bokeh: ERROR: Unable to run BokehJS code because BokehJS library is missing\");\n",
       "        }\n",
       "      }\n",
       "    }, 10, root)\n",
       "  }\n",
       "})(window);"
      ],
      "application/vnd.bokehjs_exec.v0+json": ""
     },
     "metadata": {
      "application/vnd.bokehjs_exec.v0+json": {
       "id": "3517"
      }
     },
     "output_type": "display_data"
    }
   ],
   "source": [
    "p, min_pos, max_pos, min_brightness, max_brightness = cellseg.plot.bubble_plot(df_sf2a,\n",
    "                                                                               'Receptor',\n",
    "                                                                               'Virus',\n",
    "                                                                               x_values = ['None',\n",
    "                                                                                           'Ly6a',\n",
    "                                                                                           'Marmoset Ly6E',\n",
    "                                                                                           'Marmoset LyPD5',\n",
    "                                                                                           'Marmoset Lynx1',\n",
    "                                                                                           'Marmoset CD59'],\n",
    "                                                                               y_values = ['CAP-B22',\n",
    "                                                                                           'CAP-B10',\n",
    "                                                                                           'PHP.eB'],\n",
    "                                                                               plot_width = 400, \n",
    "                                                                               plot_height = 300)\n",
    "\n",
    "bokeh.io.show(p)"
   ]
  },
  {
   "cell_type": "code",
   "execution_count": 29,
   "id": "e5d95861-1276-404d-9136-a091c0172dc0",
   "metadata": {},
   "outputs": [],
   "source": [
    "round_inds = df_reduced['Round'] == 17\n",
    "dose_inds = df_reduced['Dose'] == 1e9\n",
    "virus_inds = df_reduced['Virus'] == 'PHP.C2'\n",
    "receptor_inds = df_reduced['Receptor'].isin(['None', 'Ly6c1', 'Ly6c1 E31R', 'Ly6c1 Q56A', 'Ly6c1 S94E', 'Ly6c1 triple mutant'])\n",
    "\n",
    "inds = round_inds & dose_inds & virus_inds & receptor_inds\n",
    "\n",
    "df_sf5e = df_reduced.loc[inds]\n",
    "\n",
    "# We can determine the mean of each of the values\n",
    "df_sf5e = df_sf5e.groupby(['Virus', 'Receptor', 'Dose']).mean(numeric_only = True).reset_index()"
   ]
  },
  {
   "cell_type": "code",
   "execution_count": 30,
   "id": "d8bf9e52-a01c-4fe6-bdaa-44f4f00c40e9",
   "metadata": {},
   "outputs": [
    {
     "data": {
      "text/html": [
       "\n",
       "  <div class=\"bk-root\" id=\"fdf48759-9c82-4f7b-9421-b71633087759\" data-root-id=\"3779\"></div>\n"
      ]
     },
     "metadata": {},
     "output_type": "display_data"
    },
    {
     "data": {
      "application/javascript": [
       "(function(root) {\n",
       "  function embed_document(root) {\n",
       "  const docs_json = {\"a8719bde-83ed-4e76-9c72-898b32ef007b\":{\"defs\":[],\"roots\":{\"references\":[{\"attributes\":{\"below\":[{\"id\":\"3789\"}],\"center\":[{\"id\":\"3791\"},{\"id\":\"3794\"}],\"height\":150,\"left\":[{\"id\":\"3792\"}],\"output_backend\":\"svg\",\"renderers\":[{\"id\":\"3816\"}],\"right\":[{\"id\":\"3811\"}],\"title\":null,\"toolbar\":{\"id\":\"3802\"},\"width\":500,\"x_range\":{\"id\":\"3781\"},\"x_scale\":{\"id\":\"3785\"},\"y_range\":{\"id\":\"3783\"},\"y_scale\":{\"id\":\"3787\"}},\"id\":\"3779\",\"subtype\":\"Figure\",\"type\":\"Plot\"},{\"attributes\":{},\"id\":\"3994\",\"type\":\"Selection\"},{\"attributes\":{\"fill_alpha\":{\"value\":0.2},\"fill_color\":{\"field\":\"Total Brightness per Signal Area\",\"transform\":{\"id\":\"3809\"}},\"hatch_alpha\":{\"value\":0.2},\"line_alpha\":{\"value\":0.2},\"line_color\":{\"value\":\"#1f77b4\"},\"size\":{\"field\":\"Percent Positive\"},\"x\":{\"field\":\"Receptor\"},\"y\":{\"field\":\"Virus\"}},\"id\":\"3815\",\"type\":\"Scatter\"},{\"attributes\":{\"coordinates\":null,\"data_source\":{\"id\":\"3778\"},\"glyph\":{\"id\":\"3813\"},\"group\":null,\"hover_glyph\":null,\"muted_glyph\":{\"id\":\"3815\"},\"nonselection_glyph\":{\"id\":\"3814\"},\"view\":{\"id\":\"3817\"}},\"id\":\"3816\",\"type\":\"GlyphRenderer\"},{\"attributes\":{\"source\":{\"id\":\"3778\"}},\"id\":\"3817\",\"type\":\"CDSView\"},{\"attributes\":{},\"id\":\"3992\",\"type\":\"AllLabels\"},{\"attributes\":{\"color_mapper\":{\"id\":\"3809\"},\"coordinates\":null,\"group\":null,\"location\":[0,0],\"major_label_policy\":{\"id\":\"3989\"},\"ticker\":{\"id\":\"3810\"}},\"id\":\"3811\",\"type\":\"ColorBar\"},{\"attributes\":{},\"id\":\"3800\",\"type\":\"HelpTool\"},{\"attributes\":{\"factors\":[\"PHP.C2\"]},\"id\":\"3783\",\"type\":\"FactorRange\"},{\"attributes\":{\"coordinates\":null,\"formatter\":{\"id\":\"3991\"},\"group\":null,\"major_label_orientation\":1.5707963267948966,\"major_label_policy\":{\"id\":\"3992\"},\"ticker\":{\"id\":\"3790\"}},\"id\":\"3789\",\"type\":\"CategoricalAxis\"},{\"attributes\":{},\"id\":\"3787\",\"type\":\"CategoricalScale\"},{\"attributes\":{\"high\":0.7156638722663825,\"low\":0.3131218386800252,\"palette\":[\"#440154\",\"#440255\",\"#440357\",\"#450558\",\"#45065A\",\"#45085B\",\"#46095C\",\"#460B5E\",\"#460C5F\",\"#460E61\",\"#470F62\",\"#471163\",\"#471265\",\"#471466\",\"#471567\",\"#471669\",\"#47186A\",\"#48196B\",\"#481A6C\",\"#481C6E\",\"#481D6F\",\"#481E70\",\"#482071\",\"#482172\",\"#482273\",\"#482374\",\"#472575\",\"#472676\",\"#472777\",\"#472878\",\"#472A79\",\"#472B7A\",\"#472C7B\",\"#462D7C\",\"#462F7C\",\"#46307D\",\"#46317E\",\"#45327F\",\"#45347F\",\"#453580\",\"#453681\",\"#443781\",\"#443982\",\"#433A83\",\"#433B83\",\"#433C84\",\"#423D84\",\"#423E85\",\"#424085\",\"#414186\",\"#414286\",\"#404387\",\"#404487\",\"#3F4587\",\"#3F4788\",\"#3E4888\",\"#3E4989\",\"#3D4A89\",\"#3D4B89\",\"#3D4C89\",\"#3C4D8A\",\"#3C4E8A\",\"#3B508A\",\"#3B518A\",\"#3A528B\",\"#3A538B\",\"#39548B\",\"#39558B\",\"#38568B\",\"#38578C\",\"#37588C\",\"#37598C\",\"#365A8C\",\"#365B8C\",\"#355C8C\",\"#355D8C\",\"#345E8D\",\"#345F8D\",\"#33608D\",\"#33618D\",\"#32628D\",\"#32638D\",\"#31648D\",\"#31658D\",\"#31668D\",\"#30678D\",\"#30688D\",\"#2F698D\",\"#2F6A8D\",\"#2E6B8E\",\"#2E6C8E\",\"#2E6D8E\",\"#2D6E8E\",\"#2D6F8E\",\"#2C708E\",\"#2C718E\",\"#2C728E\",\"#2B738E\",\"#2B748E\",\"#2A758E\",\"#2A768E\",\"#2A778E\",\"#29788E\",\"#29798E\",\"#287A8E\",\"#287A8E\",\"#287B8E\",\"#277C8E\",\"#277D8E\",\"#277E8E\",\"#267F8E\",\"#26808E\",\"#26818E\",\"#25828E\",\"#25838D\",\"#24848D\",\"#24858D\",\"#24868D\",\"#23878D\",\"#23888D\",\"#23898D\",\"#22898D\",\"#228A8D\",\"#228B8D\",\"#218C8D\",\"#218D8C\",\"#218E8C\",\"#208F8C\",\"#20908C\",\"#20918C\",\"#1F928C\",\"#1F938B\",\"#1F948B\",\"#1F958B\",\"#1F968B\",\"#1E978A\",\"#1E988A\",\"#1E998A\",\"#1E998A\",\"#1E9A89\",\"#1E9B89\",\"#1E9C89\",\"#1E9D88\",\"#1E9E88\",\"#1E9F88\",\"#1EA087\",\"#1FA187\",\"#1FA286\",\"#1FA386\",\"#20A485\",\"#20A585\",\"#21A685\",\"#21A784\",\"#22A784\",\"#23A883\",\"#23A982\",\"#24AA82\",\"#25AB81\",\"#26AC81\",\"#27AD80\",\"#28AE7F\",\"#29AF7F\",\"#2AB07E\",\"#2BB17D\",\"#2CB17D\",\"#2EB27C\",\"#2FB37B\",\"#30B47A\",\"#32B57A\",\"#33B679\",\"#35B778\",\"#36B877\",\"#38B976\",\"#39B976\",\"#3BBA75\",\"#3DBB74\",\"#3EBC73\",\"#40BD72\",\"#42BE71\",\"#44BE70\",\"#45BF6F\",\"#47C06E\",\"#49C16D\",\"#4BC26C\",\"#4DC26B\",\"#4FC369\",\"#51C468\",\"#53C567\",\"#55C666\",\"#57C665\",\"#59C764\",\"#5BC862\",\"#5EC961\",\"#60C960\",\"#62CA5F\",\"#64CB5D\",\"#67CC5C\",\"#69CC5B\",\"#6BCD59\",\"#6DCE58\",\"#70CE56\",\"#72CF55\",\"#74D054\",\"#77D052\",\"#79D151\",\"#7CD24F\",\"#7ED24E\",\"#81D34C\",\"#83D34B\",\"#86D449\",\"#88D547\",\"#8BD546\",\"#8DD644\",\"#90D643\",\"#92D741\",\"#95D73F\",\"#97D83E\",\"#9AD83C\",\"#9DD93A\",\"#9FD938\",\"#A2DA37\",\"#A5DA35\",\"#A7DB33\",\"#AADB32\",\"#ADDC30\",\"#AFDC2E\",\"#B2DD2C\",\"#B5DD2B\",\"#B7DD29\",\"#BADE27\",\"#BDDE26\",\"#BFDF24\",\"#C2DF22\",\"#C5DF21\",\"#C7E01F\",\"#CAE01E\",\"#CDE01D\",\"#CFE11C\",\"#D2E11B\",\"#D4E11A\",\"#D7E219\",\"#DAE218\",\"#DCE218\",\"#DFE318\",\"#E1E318\",\"#E4E318\",\"#E7E419\",\"#E9E419\",\"#ECE41A\",\"#EEE51B\",\"#F1E51C\",\"#F3E51E\",\"#F6E61F\",\"#F8E621\",\"#FAE622\",\"#FDE724\"]},\"id\":\"3809\",\"type\":\"LinearColorMapper\"},{\"attributes\":{},\"id\":\"3991\",\"type\":\"CategoricalTickFormatter\"},{\"attributes\":{\"factors\":[\"None\",\"Ly6c1\",\"Ly6c1 E31R\",\"Ly6c1 Q56A\",\"Ly6c1 S94E\"]},\"id\":\"3781\",\"type\":\"FactorRange\"},{\"attributes\":{\"bottom_units\":\"screen\",\"coordinates\":null,\"fill_alpha\":0.5,\"fill_color\":\"lightgrey\",\"group\":null,\"left_units\":\"screen\",\"level\":\"overlay\",\"line_alpha\":1.0,\"line_color\":\"black\",\"line_dash\":[4,4],\"line_width\":2,\"right_units\":\"screen\",\"syncable\":false,\"top_units\":\"screen\"},\"id\":\"3801\",\"type\":\"BoxAnnotation\"},{\"attributes\":{\"tools\":[{\"id\":\"3795\"},{\"id\":\"3796\"},{\"id\":\"3797\"},{\"id\":\"3798\"},{\"id\":\"3799\"},{\"id\":\"3800\"},{\"id\":\"3818\"}]},\"id\":\"3802\",\"type\":\"Toolbar\"},{\"attributes\":{\"data\":{\"Bright Field Area\":{\"__ndarray__\":\"VVVVVa1BAEEAAAAAKCoDQauqqqryPgNBq6qqqiI4AEEAAAAAuHAEQQAAAACAAwtB\",\"dtype\":\"float64\",\"order\":\"little\",\"shape\":[6]},\"Brinzolamide (nM)\":{\"__ndarray__\":\"AAAAAAAAAAAAAAAAAAAAAAAAAAAAAAAAAAAAAAAAAAAAAAAAAAAAAAAAAAAAAAAA\",\"dtype\":\"float64\",\"order\":\"little\",\"shape\":[6]},\"Count\":{\"__ndarray__\":\"q6qqqqo+mECrqqqqqjKVQAAAAAAA1JNAq6qqqqqal0AAAAAAALiTQFVVVVVV3ZhA\",\"dtype\":\"float64\",\"order\":\"little\",\"shape\":[6]},\"DMSO (%)\":{\"__ndarray__\":\"AAAAAAAAAAAAAAAAAAAAAAAAAAAAAAAAAAAAAAAAAAAAAAAAAAAAAAAAAAAAAAAA\",\"dtype\":\"float64\",\"order\":\"little\",\"shape\":[6]},\"Dose\":{\"__ndarray__\":\"AAAAAGXNzUEAAAAAZc3NQQAAAABlzc1BAAAAAGXNzUEAAAAAZc3NQQAAAABlzc1B\",\"dtype\":\"float64\",\"order\":\"little\",\"shape\":[6]},\"Percent Positive\":{\"__ndarray__\":\"qUIVjli5TkBp5p8jR+AyQLB38XakPjJAS14EEyupUEAedqv6pkAwQPkoUNQj8ipA\",\"dtype\":\"float64\",\"order\":\"little\",\"shape\":[6]},\"Percent Positive Scaled\":{\"__ndarray__\":\"qUIVjli5PkBp5p8jR+AiQLB38XakPiJAS14EEyupQEAedqv6pkAgQPkoUNQj8hpA\",\"dtype\":\"float64\",\"order\":\"little\",\"shape\":[6]},\"Plate\":{\"__ndarray__\":\"AAAAAAAAAEAAAAAAAAAAQAAAAAAAAABAAAAAAAAAAEAAAAAAAAAAQAAAAAAAACBA\",\"dtype\":\"float64\",\"order\":\"little\",\"shape\":[6]},\"Receptor\":[\"Ly6c1\",\"Ly6c1 E31R\",\"Ly6c1 Q56A\",\"Ly6c1 S94E\",\"Ly6c1 triple mutant\",\"None\"],\"Round\":{\"__ndarray__\":\"AAAAAAAAMUAAAAAAAAAxQAAAAAAAADFAAAAAAAAAMUAAAAAAAAAxQAAAAAAAADFA\",\"dtype\":\"float64\",\"order\":\"little\",\"shape\":[6]},\"Signal Area\":{\"__ndarray__\":\"AAAAADAB9ECrqqqqqozcQFVVVVXVB9xAq6qqqmrI9UCrqqqq6pTaQKuqqqrqBN1A\",\"dtype\":\"float64\",\"order\":\"little\",\"shape\":[6]},\"Total Brightness\":{\"__ndarray__\":\"9/f39zed60CxWgWwWpHCQDU2NjY20cFAvLq6uvpX70B2yh91yqnAQEjznUjz5sNA\",\"dtype\":\"float64\",\"order\":\"little\",\"shape\":[6]},\"Total Brightness per Signal Area\":{\"__ndarray__\":\"QPdySOr65T8RtlEqgbXUP080Y/vIUtQ/vQLK67fm5j940jIuMArUP7NCdAQg79U/\",\"dtype\":\"float64\",\"order\":\"little\",\"shape\":[6]},\"Virus\":[\"PHP.C2\",\"PHP.C2\",\"PHP.C2\",\"PHP.C2\",\"PHP.C2\",\"PHP.C2\"],\"Well\":{\"__ndarray__\":\"AAAAAADAVEAAAAAAAIBNQAAAAAAAgEdAAAAAAACAQUAAAAAAAMBRQAAAAAAAgEpA\",\"dtype\":\"float64\",\"order\":\"little\",\"shape\":[6]},\"index\":[0,1,2,3,4,5]},\"selected\":{\"id\":\"3994\"},\"selection_policy\":{\"id\":\"3993\"}},\"id\":\"3778\",\"type\":\"ColumnDataSource\"},{\"attributes\":{},\"id\":\"3799\",\"type\":\"ResetTool\"},{\"attributes\":{},\"id\":\"3988\",\"type\":\"AllLabels\"},{\"attributes\":{},\"id\":\"3785\",\"type\":\"CategoricalScale\"},{\"attributes\":{},\"id\":\"3795\",\"type\":\"PanTool\"},{\"attributes\":{\"overlay\":{\"id\":\"3801\"}},\"id\":\"3797\",\"type\":\"BoxZoomTool\"},{\"attributes\":{},\"id\":\"3993\",\"type\":\"UnionRenderers\"},{\"attributes\":{},\"id\":\"3798\",\"type\":\"SaveTool\"},{\"attributes\":{},\"id\":\"3796\",\"type\":\"WheelZoomTool\"},{\"attributes\":{},\"id\":\"3989\",\"type\":\"NoOverlap\"},{\"attributes\":{\"axis\":{\"id\":\"3792\"},\"coordinates\":null,\"dimension\":1,\"group\":null,\"ticker\":null},\"id\":\"3794\",\"type\":\"Grid\"},{\"attributes\":{},\"id\":\"3793\",\"type\":\"CategoricalTicker\"},{\"attributes\":{},\"id\":\"3810\",\"type\":\"BasicTicker\"},{\"attributes\":{\"fill_alpha\":{\"value\":0.1},\"fill_color\":{\"field\":\"Total Brightness per Signal Area\",\"transform\":{\"id\":\"3809\"}},\"hatch_alpha\":{\"value\":0.1},\"line_alpha\":{\"value\":0.1},\"line_color\":{\"value\":\"#1f77b4\"},\"size\":{\"field\":\"Percent Positive\"},\"x\":{\"field\":\"Receptor\"},\"y\":{\"field\":\"Virus\"}},\"id\":\"3814\",\"type\":\"Scatter\"},{\"attributes\":{},\"id\":\"3987\",\"type\":\"CategoricalTickFormatter\"},{\"attributes\":{},\"id\":\"3790\",\"type\":\"CategoricalTicker\"},{\"attributes\":{\"coordinates\":null,\"formatter\":{\"id\":\"3987\"},\"group\":null,\"major_label_policy\":{\"id\":\"3988\"},\"ticker\":{\"id\":\"3793\"}},\"id\":\"3792\",\"type\":\"CategoricalAxis\"},{\"attributes\":{\"callback\":null,\"tooltips\":[[\"Round\",\"@Round\"],[\"Plate\",\"@Plate\"],[\"Well\",\"@Well\"],[\"Virus\",\"@Virus\"],[\"Receptor\",\"@Receptor\"],[\"Dose\",\"@Dose\"]]},\"id\":\"3818\",\"type\":\"HoverTool\"},{\"attributes\":{\"axis\":{\"id\":\"3789\"},\"coordinates\":null,\"group\":null,\"ticker\":null},\"id\":\"3791\",\"type\":\"Grid\"},{\"attributes\":{\"fill_color\":{\"field\":\"Total Brightness per Signal Area\",\"transform\":{\"id\":\"3809\"}},\"line_color\":{\"value\":\"#1f77b4\"},\"size\":{\"field\":\"Percent Positive\"},\"x\":{\"field\":\"Receptor\"},\"y\":{\"field\":\"Virus\"}},\"id\":\"3813\",\"type\":\"Scatter\"}],\"root_ids\":[\"3779\"]},\"title\":\"Bokeh Application\",\"version\":\"2.4.3\"}};\n",
       "  const render_items = [{\"docid\":\"a8719bde-83ed-4e76-9c72-898b32ef007b\",\"root_ids\":[\"3779\"],\"roots\":{\"3779\":\"fdf48759-9c82-4f7b-9421-b71633087759\"}}];\n",
       "  root.Bokeh.embed.embed_items_notebook(docs_json, render_items);\n",
       "  }\n",
       "  if (root.Bokeh !== undefined) {\n",
       "    embed_document(root);\n",
       "  } else {\n",
       "    let attempts = 0;\n",
       "    const timer = setInterval(function(root) {\n",
       "      if (root.Bokeh !== undefined) {\n",
       "        clearInterval(timer);\n",
       "        embed_document(root);\n",
       "      } else {\n",
       "        attempts++;\n",
       "        if (attempts > 100) {\n",
       "          clearInterval(timer);\n",
       "          console.log(\"Bokeh: ERROR: Unable to run BokehJS code because BokehJS library is missing\");\n",
       "        }\n",
       "      }\n",
       "    }, 10, root)\n",
       "  }\n",
       "})(window);"
      ],
      "application/vnd.bokehjs_exec.v0+json": ""
     },
     "metadata": {
      "application/vnd.bokehjs_exec.v0+json": {
       "id": "3779"
      }
     },
     "output_type": "display_data"
    }
   ],
   "source": [
    "p, min_pos, max_pos, min_brightness, max_brightness = cellseg.plot.bubble_plot(df_sf5e,\n",
    "                                                                               'Receptor',\n",
    "                                                                               'Virus',\n",
    "                                                                               x_values = ['None',\n",
    "                                                                                           'Ly6c1', \n",
    "                                                                                           'Ly6c1 E31R', \n",
    "                                                                                           'Ly6c1 Q56A',\n",
    "                                                                                           'Ly6c1 S94E'],\n",
    "                                                                               y_values = ['PHP.C2'],\n",
    "                                                                               plot_width = 500, \n",
    "                                                                               plot_height = 150)\n",
    "\n",
    "bokeh.io.show(p)"
   ]
  }
 ],
 "metadata": {
  "kernelspec": {
   "display_name": "Python 3 (ipykernel)",
   "language": "python",
   "name": "python3"
  },
  "language_info": {
   "codemirror_mode": {
    "name": "ipython",
    "version": 3
   },
   "file_extension": ".py",
   "mimetype": "text/x-python",
   "name": "python",
   "nbconvert_exporter": "python",
   "pygments_lexer": "ipython3",
   "version": "3.10.7"
  }
 },
 "nbformat": 4,
 "nbformat_minor": 5
}
