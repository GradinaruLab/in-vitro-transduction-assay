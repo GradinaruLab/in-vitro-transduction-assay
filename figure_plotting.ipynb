{
 "cells": [
  {
   "cell_type": "code",
   "execution_count": null,
   "id": "3314e698",
   "metadata": {},
   "outputs": [],
   "source": [
    "# Basic imports\n",
    "import numpy as np\n",
    "import pandas as pd\n",
    "\n",
    "# Plotting tools\n",
    "import bokeh\n",
    "from bokeh.models.widgets import Panel, Tabs\n",
    "from bokeh.io import output_file, show\n",
    "from bokeh.plotting import figure\n",
    "from bokeh.models import BasicTicker, ColorBar, LinearColorMapper, ColumnDataSource, PrintfTickFormatter, HoverTool\n",
    "from bokeh.transform import transform\n",
    "from bokeh.palettes import Viridis256\n",
    "\n",
    "import cellseg.plot\n",
    "\n",
    "bokeh.io.output_notebook()"
   ]
  },
  {
   "cell_type": "markdown",
   "id": "fbce6a7e",
   "metadata": {},
   "source": [
    "## Figure plotting\n",
    "The purpose of this code is to generate the figure panels for publication from the data collected by `in_vitro_cell_segmentation.ipynb`"
   ]
  },
  {
   "cell_type": "markdown",
   "id": "42f2918c",
   "metadata": {},
   "source": [
    "We can start by importing the data that we want to work with, merging the dataframes to connect the condition with the data, and sorting the dataframe:"
   ]
  },
  {
   "cell_type": "code",
   "execution_count": null,
   "id": "9625b97e",
   "metadata": {},
   "outputs": [],
   "source": [
    "# Use read_csv to create a dataframe from the data csv \n",
    "df_data = pd.read_csv('data/quantification/20220927-data.csv', comment='#')"
   ]
  },
  {
   "cell_type": "code",
   "execution_count": null,
   "id": "c2c35b0d",
   "metadata": {},
   "outputs": [],
   "source": [
    "# Use read_csv to create a dataframe from the look up table\n",
    "df_meta = pd.read_csv('data/quantification/20220927_data_lookup_table.csv', comment='#')"
   ]
  },
  {
   "cell_type": "code",
   "execution_count": null,
   "id": "8b952ab6",
   "metadata": {},
   "outputs": [],
   "source": [
    "# Use merge the two dataframes, using round, plate, and well to combine them\n",
    "df = pd.merge(df_data, df_meta, on=[\"Round\", \"Plate\", \"Well\"])"
   ]
  },
  {
   "cell_type": "code",
   "execution_count": null,
   "id": "37971204",
   "metadata": {},
   "outputs": [],
   "source": [
    "#We can sort the values to ensure they're in a logical order\n",
    "df = df.sort_values(by = ['Round', 'Plate', 'Well'], axis = 0)\n",
    "\n",
    "# Drop any empty rows and reset the index so that it is in sequence\n",
    "df = df.dropna().reset_index(drop=True)"
   ]
  },
  {
   "cell_type": "markdown",
   "id": "5165720e",
   "metadata": {},
   "source": [
    "We can perform some initial analysis on the data to determine the percent positive area of each well, the scaled area (to enable plotting at a smaller size), and the total brightness per signal area."
   ]
  },
  {
   "cell_type": "code",
   "execution_count": null,
   "id": "62244265",
   "metadata": {},
   "outputs": [],
   "source": [
    "# Determine the percent positive and add it to a new column\n",
    "df['Percent Positive'] = df['Signal Area']*100/df['Bright Field Area']\n",
    "df['Percent Positive Scaled'] = df['Percent Positive']*0.5\n",
    "df['Total Brightness per Signal Area'] = df['Total Brightness']/df['Signal Area']"
   ]
  },
  {
   "cell_type": "markdown",
   "id": "f095e64b",
   "metadata": {},
   "source": [
    "We can then examine the resulting dataframe: "
   ]
  },
  {
   "cell_type": "code",
   "execution_count": null,
   "id": "24da4f01",
   "metadata": {},
   "outputs": [],
   "source": [
    "# Create a index to only include valid data (selected by experimenter)\n",
    "inds = df['Include'] == True\n",
    "\n",
    "# Create a reduced data frame of this data\n",
    "df_reduced = df.loc[inds]\n",
    "\n",
    "# Look at the dataframe \n",
    "df_reduced.head()"
   ]
  },
  {
   "cell_type": "markdown",
   "id": "9cfebb17",
   "metadata": {},
   "source": [
    "Now that we have our data, we want to generate the figures:"
   ]
  },
  {
   "cell_type": "markdown",
   "id": "d97df825",
   "metadata": {
    "tags": []
   },
   "source": [
    "## Extended Data Figure 2"
   ]
  },
  {
   "cell_type": "markdown",
   "id": "b181233f",
   "metadata": {},
   "source": [
    "First, we want to compare PHP.eB against AAV9 at a range of doses without a receptor."
   ]
  },
  {
   "cell_type": "code",
   "execution_count": null,
   "id": "e92ef44a",
   "metadata": {},
   "outputs": [],
   "source": [
    "# We want to make a new dataframe with just the Ly6a and receptor-free conditions.\n",
    "# First, we can find the indices of these receptors.\n",
    "inds = (df_reduced['Receptor'] == 'Ly6a') | (df_reduced['Receptor'] == 'None')\n",
    "\n",
    "# Make this a new dataframe df_edf2\n",
    "df_edf2 = df_reduced.loc[inds]"
   ]
  },
  {
   "cell_type": "code",
   "execution_count": null,
   "id": "99f16494",
   "metadata": {},
   "outputs": [],
   "source": [
    "# Next, we can reduce this to just the PHP.eB and AAV9 conditions.\n",
    "inds = (df_edf2['Virus'] == 'PHP.eB') | (df_edf2['Virus'] == 'AAV9')\n",
    "\n",
    "df_edf2 = df_edf2.loc[inds]"
   ]
  },
  {
   "cell_type": "code",
   "execution_count": null,
   "id": "582a903e",
   "metadata": {},
   "outputs": [],
   "source": [
    "# We only want to examine a single round, since including data from other rounds could skew the results due to variability. \n",
    "inds = (df_edf2['Round'] == 10)\n",
    "\n",
    "df_edf2 = df_edf2[inds]"
   ]
  },
  {
   "cell_type": "code",
   "execution_count": null,
   "id": "7a75ce44",
   "metadata": {},
   "outputs": [],
   "source": [
    "# We need to convert the dose values to a string to allow us to plot catagorically\n",
    "df_edf2 = df_edf2.astype({\"Dose\": str})"
   ]
  },
  {
   "cell_type": "code",
   "execution_count": null,
   "id": "111cfa6b",
   "metadata": {},
   "outputs": [],
   "source": [
    "# We can determine the mean of each of the values\n",
    "df_edf2 = df_edf2.groupby(['Virus', 'Receptor', 'Dose']).mean().reset_index()"
   ]
  },
  {
   "cell_type": "code",
   "execution_count": null,
   "id": "d59e54e0",
   "metadata": {},
   "outputs": [],
   "source": [
    "# Setting our index to only examine data with Receptor none, we can plot the untransfected AAV9 and PHP.eB transfections\n",
    "inds = (df_edf2['Receptor'] == 'None')\n",
    "\n",
    "# Dataframe to use\n",
    "source = ColumnDataSource(df_edf2[inds])\n",
    "\n",
    "# Plotting parameters\n",
    "p = figure(x_range = df_edf2['Virus'].unique(), \n",
    "           y_range = ['500000000.0', '1000000000.0', '5000000000.0', '10000000000.0', '50000000000.0'],\n",
    "           title = 'No Receptor',\n",
    "           y_axis_label = 'Dose (vg/well)',\n",
    "           x_axis_label = 'Virus',\n",
    "          width = 400,\n",
    "          height = 500)\n",
    "\n",
    "# Set the color map based on the median cell brightness in df_edf2\n",
    "color_mapper = LinearColorMapper(palette = Viridis256, low = df_edf2['Total Brightness per Signal Area'].min(), high = df_edf2['Total Brightness per Signal Area'].max())\n",
    "\n",
    "# Add a color bar\n",
    "color_bar = ColorBar(color_mapper = color_mapper,\n",
    "                     location = (0, 0),\n",
    "                     ticker = BasicTicker())\n",
    "\n",
    "p.add_layout(color_bar, 'right')\n",
    "\n",
    "# Plot the percent positive scaled data 0.5*percent positive \n",
    "p.scatter(x = 'Virus', y = 'Dose', size = 'Percent Positive', fill_color = transform('Total Brightness per Signal Area', color_mapper), source = source)\n",
    "\n",
    "p.xaxis.major_label_orientation = np.pi/2\n",
    "\n",
    "p.output_backend = \"svg\"\n",
    "\n",
    "show(p)"
   ]
  },
  {
   "cell_type": "code",
   "execution_count": null,
   "id": "72789e6c",
   "metadata": {},
   "outputs": [],
   "source": [
    "# Setting our index to only examine data with Receptor Ly6a, we can plot the Ly6a transfected AAV9 and PHP.eB transfections\n",
    "inds = (df_edf2['Receptor'] == 'Ly6a')\n",
    "\n",
    "source = ColumnDataSource(df_edf2[inds])\n",
    "\n",
    "p = figure(x_range = df_edf2['Virus'].unique(), \n",
    "           y_range = ['500000000.0', '1000000000.0', '5000000000.0', '10000000000.0', '50000000000.0'],\n",
    "           title = 'Transfected with Ly6a',\n",
    "           y_axis_label = 'Dose (vg/well)',\n",
    "           x_axis_label = 'Virus',\n",
    "          width = 400,\n",
    "          height = 500)\n",
    "\n",
    "color_mapper = LinearColorMapper(palette = Viridis256, low = df_edf2['Total Brightness per Signal Area'].min(), high = df_edf2['Total Brightness per Signal Area'].max())\n",
    "\n",
    "color_bar = ColorBar(color_mapper = color_mapper,\n",
    "                     location = (0, 0),\n",
    "                     ticker = BasicTicker())\n",
    "\n",
    "p.add_layout(color_bar, 'right')\n",
    "\n",
    "p.scatter(x = 'Virus', y = 'Dose', size = 'Percent Positive', fill_color = transform('Total Brightness per Signal Area', color_mapper), source = source)\n",
    "\n",
    "p.xaxis.major_label_orientation = np.pi/2\n",
    "\n",
    "p.output_backend = \"svg\"\n",
    "\n",
    "show(p)"
   ]
  },
  {
   "cell_type": "code",
   "execution_count": null,
   "id": "caa964fc",
   "metadata": {},
   "outputs": [],
   "source": [
    "min(df_edf2['Percent Positive']), max(df_edf2.loc[inds]['Percent Positive']), df_edf2['Total Brightness per Signal Area'].min(), df_edf2['Total Brightness per Signal Area'].max()"
   ]
  },
  {
   "cell_type": "markdown",
   "id": "08025f87",
   "metadata": {
    "tags": []
   },
   "source": [
    "## Extended Data Figure 5"
   ]
  },
  {
   "cell_type": "code",
   "execution_count": null,
   "id": "99d08aa7",
   "metadata": {},
   "outputs": [],
   "source": [
    "# We want to make a new dataframe with just the 1e9 dose.\n",
    "# First, we can find the indices of these receptors.\n",
    "inds = (df_reduced['Dose'] == 1e9)\n",
    "\n",
    "# Make this a new dataframe df_edf5\n",
    "df_edf5 = df_reduced.loc[inds]"
   ]
  },
  {
   "cell_type": "code",
   "execution_count": null,
   "id": "7b4e3104",
   "metadata": {},
   "outputs": [],
   "source": [
    "# Next, we can reduce this to just to round 7.\n",
    "inds = (((df_edf5['Virus'] != 'PHP.C1') & (df_edf5['Virus'] != 'PHP.C3') & (df_edf5['Round'] == 7)) | ((df_edf5['Virus'] == 'PHP.C1') | (df_edf5['Virus'] == 'PHP.C3')) & (df_edf5['Round'] < 8))\n",
    "\n",
    "df_edf5 = df_edf5.loc[inds]"
   ]
  },
  {
   "cell_type": "code",
   "execution_count": null,
   "id": "3e4973bb",
   "metadata": {},
   "outputs": [],
   "source": [
    "# We can determine the mean of each of the values\n",
    "df_edf5 = df_edf5.groupby(['Virus', 'Receptor', 'Dose']).mean().reset_index()"
   ]
  },
  {
   "cell_type": "code",
   "execution_count": null,
   "id": "705d4e63",
   "metadata": {
    "tags": []
   },
   "outputs": [],
   "source": [
    "source = ColumnDataSource(df_edf5)\n",
    "\n",
    "p = figure(x_range = ['PHP.eB',\n",
    "                      'CAP-B10',\n",
    "                      'CAP-B22',\n",
    "                      '9P08',\n",
    "                      '9P16',\n",
    "                      'PHP.N',\n",
    "                      'PHP.C1',\n",
    "                      'PHP.C2',\n",
    "                      'PHP.C3',\n",
    "                      'PHP.C4',\n",
    "                      'AAV-F',\n",
    "                      '9P13',\n",
    "                      '9P33',\n",
    "                      '9P39'],\n",
    "          y_range = ['Cd59',\n",
    "                     'Lynx1',\n",
    "                     'Lypd5',\n",
    "                     'Ly6h',\n",
    "                     'Ly6e', \n",
    "                     'Ly6c1',\n",
    "                     'Ly6a'],\n",
    "           title = 'Receptor screen of Ly6 family',\n",
    "           y_axis_label = 'Receptor',\n",
    "           x_axis_label = 'Virus',\n",
    "           width=800, \n",
    "           height=400)\n",
    "\n",
    "color_mapper = LinearColorMapper(palette = Viridis256, low = df_edf5['Total Brightness per Signal Area'].min(), high = df_edf5['Total Brightness per Signal Area'].max())\n",
    "\n",
    "color_bar = ColorBar(color_mapper = color_mapper,\n",
    "                     location = (0, 0),\n",
    "                     ticker = BasicTicker())\n",
    "\n",
    "p.add_layout(color_bar, 'right')\n",
    "\n",
    "p.scatter(x = 'Virus', y = 'Receptor', size = 'Percent Positive', fill_color = transform('Total Brightness per Signal Area', color_mapper), source = source)\n",
    "\n",
    "p.add_tools(HoverTool(tooltips = [('Round', '@Round'), ('Plate', '@Plate'), ('Well', '@Well'), ('Virus', '@Virus'), ('Receptor', '@Receptor'), ('Dose', '@Dose')]))\n",
    "\n",
    "p.xaxis.major_label_orientation = np.pi/2\n",
    "\n",
    "p.output_backend = \"svg\"\n",
    "\n",
    "show(p)"
   ]
  },
  {
   "cell_type": "code",
   "execution_count": null,
   "id": "52ca901a",
   "metadata": {},
   "outputs": [],
   "source": [
    "inds = (df_edf5['Virus'] != 'PHP.C1') & (df_edf5['Virus'] != 'PHP.C3')\n",
    "min(df_edf5.loc[inds]['Percent Positive']), max(df_edf5.loc[inds]['Percent Positive']), df_edf5['Total Brightness per Signal Area'].min(), df_edf5['Total Brightness per Signal Area'].max()"
   ]
  },
  {
   "cell_type": "markdown",
   "id": "d6147456",
   "metadata": {},
   "source": [
    "## Extended Data Figure 6"
   ]
  },
  {
   "cell_type": "code",
   "execution_count": null,
   "id": "5678a726",
   "metadata": {},
   "outputs": [],
   "source": [
    "# We want to make a new dataframe with just the 1e9 dose.\n",
    "# First, we can find the indices of these receptors.\n",
    "inds = (df_reduced['Dose'] == 1e9)\n",
    "\n",
    "# Make this a new dataframe df_edf6\n",
    "df_edf6 = df_reduced.loc[inds]"
   ]
  },
  {
   "cell_type": "code",
   "execution_count": null,
   "id": "5832609d",
   "metadata": {},
   "outputs": [],
   "source": [
    "inds = (df_edf6['Round'] == 10)\n",
    "\n",
    "df_edf6 = df_edf6.loc[inds]"
   ]
  },
  {
   "cell_type": "code",
   "execution_count": null,
   "id": "a424ba5b",
   "metadata": {},
   "outputs": [],
   "source": [
    "# We can determine the mean of each of the values\n",
    "df_edf6 = df_edf6.groupby(['Virus', 'Receptor', 'Dose']).mean().reset_index()"
   ]
  },
  {
   "cell_type": "code",
   "execution_count": null,
   "id": "3a41273f",
   "metadata": {},
   "outputs": [],
   "source": [
    "source = ColumnDataSource(df_edf6)\n",
    "\n",
    "p = figure(x_range = ['9P31',\n",
    "                      '9P36'],\n",
    "          y_range = ['Car15',\n",
    "                     'Car14',\n",
    "                     'Car12',\n",
    "                     'Car9',\n",
    "                     'Car4'],\n",
    "           title = 'Receptor screen of carbonic anhydrase family',\n",
    "           y_axis_label = 'Receptor',\n",
    "           x_axis_label = 'Virus',\n",
    "           width = 400, \n",
    "           height = 500)\n",
    "\n",
    "color_mapper = LinearColorMapper(palette = Viridis256, low = df_edf6['Total Brightness per Signal Area'].min(), high = df_edf6['Total Brightness per Signal Area'].max())\n",
    "\n",
    "color_bar = ColorBar(color_mapper = color_mapper,\n",
    "                     location = (0, 0),\n",
    "                     ticker = BasicTicker())\n",
    "\n",
    "p.add_layout(color_bar, 'right')\n",
    "\n",
    "p.scatter(x = 'Virus', y = 'Receptor', size = 'Percent Positive', fill_color = transform('Total Brightness per Signal Area', color_mapper), source = source)\n",
    "\n",
    "p.add_tools(HoverTool(tooltips = [('Round', '@Round'), ('Plate', '@Plate'), ('Well', '@Well'), ('Virus', '@Virus'), ('Receptor', '@Receptor'), ('Dose', '@Dose')]))\n",
    "\n",
    "p.xaxis.major_label_orientation = np.pi/2\n",
    "\n",
    "p.output_backend = \"svg\"\n",
    "\n",
    "show(p)"
   ]
  },
  {
   "cell_type": "code",
   "execution_count": null,
   "id": "afd82942",
   "metadata": {},
   "outputs": [],
   "source": [
    "inds = (df_edf6['Receptor'] == 'Car4') | (df_edf6['Receptor'] == 'Car9') | (df_edf6['Receptor'] == 'Car12') | (df_edf6['Receptor'] == 'Car14') | (df_edf6['Receptor'] == 'Car15')\n",
    "min(df_edf6.loc[inds]['Percent Positive']), max(df_edf6.loc[inds]['Percent Positive']), df_edf6['Total Brightness per Signal Area'].min(), df_edf6['Total Brightness per Signal Area'].max()"
   ]
  },
  {
   "cell_type": "markdown",
   "id": "0de13440",
   "metadata": {},
   "source": [
    "## Extended Data Figure 8"
   ]
  },
  {
   "cell_type": "code",
   "execution_count": null,
   "id": "65e4e5e9",
   "metadata": {},
   "outputs": [],
   "source": [
    "#We can sort the values to ensure they're in a logical order\n",
    "inds = (df_reduced['Dose'] == 1e9)\n",
    "\n",
    "df_edf8 = df_reduced.loc[inds]"
   ]
  },
  {
   "cell_type": "code",
   "execution_count": null,
   "id": "b645a666",
   "metadata": {},
   "outputs": [],
   "source": [
    "# Next, we can reduce this to just to round 7.\n",
    "inds = (((df_edf8['Virus'] != 'PHP.C1') & (df_edf8['Virus'] != 'PHP.C3') & (df_edf8['Virus'] != '9P13') & (df_edf8['Virus'] != '9P33')) & (df_edf8['Round'] < 8)) | \\\n",
    "        ((df_edf8['Virus'] == 'PHP.C1') | (df_edf8['Virus'] == 'PHP.C3')) & (df_edf8['Round'] < 7)\n",
    "\n",
    "df_edf8 = df_edf8.loc[inds]"
   ]
  },
  {
   "cell_type": "code",
   "execution_count": null,
   "id": "4dbc0dcb",
   "metadata": {},
   "outputs": [],
   "source": [
    "# We can determine the mean of each of the values\n",
    "df_edf8 = df_edf8.groupby(['Virus', 'Receptor', 'Dose']).mean().reset_index()"
   ]
  },
  {
   "cell_type": "code",
   "execution_count": null,
   "id": "d4443e25",
   "metadata": {},
   "outputs": [],
   "source": [
    "source = ColumnDataSource(df_edf8)\n",
    "\n",
    "p = figure(x_range = ['PHP.eB',\n",
    "                      'CAP-B10',\n",
    "                      'CAP-B22',\n",
    "                      'PHP.N',\n",
    "                      'PHP.C1',\n",
    "                      'PHP.C2',\n",
    "                      'PHP.C3',\n",
    "                      'PHP.C4',\n",
    "                      'AAV-F'],\n",
    "                      #'9P31',\n",
    "                      #'9P36'],\n",
    "          y_range = ['Tek',\n",
    "                     'Slco1c1',\n",
    "                     'Slco1a4',\n",
    "                     'Slc7a1',\n",
    "                     'Slc6a6',\n",
    "                     'Slc2a1', \n",
    "                     'Slc22a8',\n",
    "                     'Serinc3',\n",
    "                     'Prom1',\n",
    "                     'Podxl',\n",
    "                     'Pecam1', \n",
    "                     'Paqr5', \n",
    "                     'Ocln', \n",
    "                     'Ly6e', \n",
    "                     'Ly6c1', \n",
    "                     'Ly6a', \n",
    "                     'Kitl', \n",
    "                     'Kdr', \n",
    "                     'Itm2b', \n",
    "                     'Igf1r', \n",
    "                     'Ifitm3', \n",
    "                     'Ifitm2', \n",
    "                     'Flt1', \n",
    "                     'Fcgrt', \n",
    "                     'Esam', \n",
    "                     'Eng',\n",
    "                     'Clic4', \n",
    "                     'Clic1', \n",
    "                     'Clec2d', \n",
    "                     'Cldn5', \n",
    "                     'Cdh5', \n",
    "                     'Cd34', \n",
    "                     'Car4', \n",
    "                     'Bsg', \n",
    "                     'App', \n",
    "                     'Adgrl4',\n",
    "                     'Adgrf5', \n",
    "                     'Acvrl1', \n",
    "                     'Abcg2', \n",
    "                     'Abcb1a'],\n",
    "           title = 'Candidate Receptors',\n",
    "           y_axis_label = 'Receptor',\n",
    "           x_axis_label = 'Virus',\n",
    "           width=800, \n",
    "           height=1000)\n",
    "\n",
    "color_mapper = LinearColorMapper(palette = Viridis256, low = df_edf8['Total Brightness per Signal Area'].min(), high = df_edf8['Total Brightness per Signal Area'].max())\n",
    "\n",
    "color_bar = ColorBar(color_mapper = color_mapper,\n",
    "                     location = (0, 0),\n",
    "                     ticker = BasicTicker())\n",
    "\n",
    "p.add_layout(color_bar, 'right')\n",
    "\n",
    "p.scatter(x = 'Virus', y = 'Receptor', size = 'Percent Positive', fill_color = transform('Total Brightness per Signal Area', color_mapper), source = source)\n",
    "\n",
    "p.add_tools(HoverTool(tooltips = [('Round', '@Round'), ('Plate', '@Plate'), ('Well', '@Well'), ('Virus', '@Virus'), ('Receptor', '@Receptor'), ('Dose', '@Dose')]))\n",
    "\n",
    "p.xaxis.major_label_orientation = np.pi/2\n",
    "\n",
    "p.output_backend = \"svg\"\n",
    "\n",
    "show(p)"
   ]
  },
  {
   "cell_type": "code",
   "execution_count": null,
   "id": "11a48175",
   "metadata": {},
   "outputs": [],
   "source": [
    "min(df_edf8['Percent Positive']), max(df_edf8['Percent Positive']), df_edf8['Total Brightness per Signal Area'].min(), df_edf8['Total Brightness per Signal Area'].max()"
   ]
  },
  {
   "cell_type": "code",
   "execution_count": null,
   "id": "0ca2bbd3",
   "metadata": {},
   "outputs": [],
   "source": [
    "inds = (df_reduced['Dose'] == 1e9)\n",
    "\n",
    "df_edf8_2 = df_reduced.loc[inds]"
   ]
  },
  {
   "cell_type": "code",
   "execution_count": null,
   "id": "74e1c28b",
   "metadata": {},
   "outputs": [],
   "source": [
    "# Next, we can reduce this to just to round 7.\n",
    "inds = ((df_edf8_2['Virus'] == '9P31') | (df_edf8_2['Virus'] == '9P36')) & ((df_edf8_2['Round'] > 6) & (df_edf8_2['Round'] < 10))\n",
    "\n",
    "df_edf8_2 = df_edf8_2.loc[inds]"
   ]
  },
  {
   "cell_type": "code",
   "execution_count": null,
   "id": "f50c5c63",
   "metadata": {},
   "outputs": [],
   "source": [
    "# We can determine the mean of each of the values\n",
    "df_edf8_2 = df_edf8_2.groupby(['Virus', 'Receptor', 'Dose']).mean().reset_index()"
   ]
  },
  {
   "cell_type": "code",
   "execution_count": null,
   "id": "0a0929c6",
   "metadata": {},
   "outputs": [],
   "source": [
    "source = ColumnDataSource(df_edf8_2)\n",
    "\n",
    "p = figure(x_range = ['9P31',\n",
    "                      '9P36'],\n",
    "          y_range = ['Tek',\n",
    "                     'Sclo1c1',\n",
    "                     'Slco1a4',\n",
    "                     'Slc7a1',\n",
    "                     'Slc6a6',\n",
    "                     'Slc2a1', \n",
    "                     'Slc22a8',\n",
    "                     'Serinc3',\n",
    "                     'Prom1',\n",
    "                     'Podxl',\n",
    "                     'Pecam1', \n",
    "                     'Paqr5', \n",
    "                     'Ocln', \n",
    "                     'Ly6e', \n",
    "                     'Ly6c1', \n",
    "                     'Ly6a', \n",
    "                     'Kitl', \n",
    "                     'Kdr', \n",
    "                     'Itm2b', \n",
    "                     'Igf1r', \n",
    "                     'Ifitm3', \n",
    "                     'Ifitm2', \n",
    "                     'Flt1', \n",
    "                     'Fcgrt', \n",
    "                     'Esam', \n",
    "                     'Eng',\n",
    "                     'Clic4', \n",
    "                     'Clic1', \n",
    "                     'Clec2d', \n",
    "                     'Cldn5', \n",
    "                     'Cdh5', \n",
    "                     'Cd34', \n",
    "                     'Car4', \n",
    "                     'Bsg', \n",
    "                     'App', \n",
    "                     'Adgrl4',\n",
    "                     'Adgrf5', \n",
    "                     'Acvrl1', \n",
    "                     'Abcg2', \n",
    "                     'Abcb1a'],\n",
    "           title = 'Candidate Receptors',\n",
    "           y_axis_label = 'Receptor',\n",
    "           x_axis_label = 'Virus',\n",
    "           width=300, \n",
    "           height=1000)\n",
    "\n",
    "color_mapper = LinearColorMapper(palette = Viridis256, low = df_edf8['Total Brightness per Signal Area'].min(), high = df_edf8['Total Brightness per Signal Area'].max())\n",
    "\n",
    "color_bar = ColorBar(color_mapper = color_mapper,\n",
    "                     location = (0, 0),\n",
    "                     ticker = BasicTicker())\n",
    "\n",
    "p.add_layout(color_bar, 'right')\n",
    "\n",
    "p.scatter(x = 'Virus', y = 'Receptor', size = 'Percent Positive Scaled', fill_color = transform('Total Brightness per Signal Area', color_mapper), source = source)\n",
    "\n",
    "p.add_tools(HoverTool(tooltips = [('Round', '@Round'), ('Plate', '@Plate'), ('Well', '@Well'), ('Virus', '@Virus'), ('Receptor', '@Receptor'), ('Dose', '@Dose')]))\n",
    "\n",
    "p.xaxis.major_label_orientation = np.pi/2\n",
    "\n",
    "p.output_backend = \"svg\"\n",
    "\n",
    "show(p)"
   ]
  },
  {
   "cell_type": "code",
   "execution_count": null,
   "id": "cfb4438e",
   "metadata": {},
   "outputs": [],
   "source": [
    "inds = (df_edf8_2['Virus'] != 'PHP.C1') & (df_edf8_2['Virus'] != 'PHP.C3')\n",
    "min(df_edf8_2.loc[inds]['Percent Positive']), max(df_edf8_2.loc[inds]['Percent Positive']), min(df_edf8_2.loc[inds]['Total Brightness per Signal Area']), max(df_edf8_2.loc[inds]['Total Brightness per Signal Area'])"
   ]
  },
  {
   "cell_type": "markdown",
   "id": "449d9197",
   "metadata": {},
   "source": [
    "## Extended Data Figure 10"
   ]
  },
  {
   "cell_type": "code",
   "execution_count": null,
   "id": "68366a6a",
   "metadata": {},
   "outputs": [],
   "source": [
    "# Select the round for the corresponding figure\n",
    "inds = (df_reduced['Round'] == 11) & (df_reduced['Dose'] != 5e8)\n",
    "\n",
    "# Make this a new dataframe df_edf10\n",
    "df_edf10 = df_reduced.loc[inds]"
   ]
  },
  {
   "cell_type": "code",
   "execution_count": null,
   "id": "b15c11cd",
   "metadata": {},
   "outputs": [],
   "source": [
    "# We need to convert the dose values to a string to allow us to plot catagorically\n",
    "df_edf10 = df_edf10.astype({\"Dose\": str})"
   ]
  },
  {
   "cell_type": "code",
   "execution_count": null,
   "id": "a00850f6",
   "metadata": {},
   "outputs": [],
   "source": [
    "# We can determine the mean of each of the values\n",
    "df_edf10 = df_edf10.groupby(['Virus', 'Receptor', 'Dose']).mean().reset_index()"
   ]
  },
  {
   "cell_type": "code",
   "execution_count": null,
   "id": "a6a2f2c8",
   "metadata": {},
   "outputs": [],
   "source": [
    "df_edf10"
   ]
  },
  {
   "cell_type": "code",
   "execution_count": null,
   "id": "b6f52d5e",
   "metadata": {},
   "outputs": [],
   "source": [
    "for virus in ['PHP.eB', 'PHP.C2', 'AAV-F', 'eC 1', 'eC 3', 'eC 4', 'eC 5', 'eC 8','eC 9', 'eC 11', 'eC 12', 'eC 14', 'eC 15', 'eC 16', 'eC 19']:\n",
    "    inds = (df_edf10['Virus'] == virus)\n",
    "    \n",
    "    source = ColumnDataSource(df_edf10[inds])\n",
    "\n",
    "    p = figure(x_range = ['None',\n",
    "                         'Ly6c1'],\n",
    "              y_range = ['50000000.0',\n",
    "                         '100000000.0',\n",
    "                         '1000000000.0'],\n",
    "               title = virus,\n",
    "               x_axis_label = 'Receptor',\n",
    "               y_axis_label = 'Dose',\n",
    "               width=400, \n",
    "               height=400)\n",
    "\n",
    "    color_mapper = LinearColorMapper(palette = Viridis256, low = df_edf10['Total Brightness per Signal Area'].min(), high = df_edf10['Total Brightness per Signal Area'].max())\n",
    "\n",
    "    color_bar = ColorBar(color_mapper = color_mapper,\n",
    "                         location = (0, 0),\n",
    "                         ticker = BasicTicker())\n",
    "\n",
    "    p.add_layout(color_bar, 'right')\n",
    "\n",
    "    p.scatter(x = 'Receptor', y = 'Dose', size = 'Percent Positive', fill_color = transform('Total Brightness per Signal Area', color_mapper), source = source)\n",
    "\n",
    "    p.add_tools(HoverTool(tooltips = [('Round', '@Round'), ('Plate', '@Plate'), ('Well', '@Well'), ('Virus', '@Virus'), ('Receptor', '@Receptor'), ('Dose', '@Dose')]))\n",
    "\n",
    "    p.xaxis.major_label_orientation = np.pi/2\n",
    "\n",
    "    p.output_backend = \"svg\"\n",
    "\n",
    "    show(p)"
   ]
  },
  {
   "cell_type": "code",
   "execution_count": null,
   "id": "6dd2e9a0",
   "metadata": {},
   "outputs": [],
   "source": [
    "min(df_edf10['Percent Positive']), max(df_edf10['Percent Positive']), min(df_edf10['Total Brightness per Signal Area']), max(df_edf10['Total Brightness per Signal Area'])"
   ]
  },
  {
   "cell_type": "markdown",
   "id": "897b02be",
   "metadata": {},
   "source": [
    "## Figure 4"
   ]
  },
  {
   "cell_type": "markdown",
   "id": "bdc2ad8f",
   "metadata": {},
   "source": [
    "### Ly6a mutated"
   ]
  },
  {
   "cell_type": "code",
   "execution_count": null,
   "id": "0e842c10",
   "metadata": {},
   "outputs": [],
   "source": [
    "inds = (df_reduced['Virus'] == 'PHP.eB') & (df_reduced['Round'] == 12) & (df_reduced['Dose'] != 1e10) \n",
    "\n",
    "df_4_pt1 = df_reduced.loc[inds]"
   ]
  },
  {
   "cell_type": "code",
   "execution_count": null,
   "id": "b5729b4c",
   "metadata": {
    "tags": []
   },
   "outputs": [],
   "source": [
    "# We need to convert the dose values to a string to allow us to plot catagorically\n",
    "df_4_pt1 = df_4_pt1.astype({\"Dose\": str})"
   ]
  },
  {
   "cell_type": "code",
   "execution_count": null,
   "id": "11ee0471",
   "metadata": {},
   "outputs": [],
   "source": [
    "# We can determine the mean of each of the values\n",
    "df_4_pt1 = df_4_pt1.groupby(['Virus', 'Receptor', 'Dose']).mean().reset_index()"
   ]
  },
  {
   "cell_type": "code",
   "execution_count": null,
   "id": "92981c42",
   "metadata": {},
   "outputs": [],
   "source": [
    "df_4_pt1"
   ]
  },
  {
   "cell_type": "code",
   "execution_count": null,
   "id": "2652ed62",
   "metadata": {},
   "outputs": [],
   "source": [
    "source = ColumnDataSource(df_4_pt1)\n",
    "\n",
    "p = figure(x_range = ['10000000.0',\n",
    "                      '100000000.0',\n",
    "                      '1000000000.0'],\n",
    "          y_range = ['Ly6a A58R',\n",
    "                     'Ly6a'],\n",
    "           title = 'Mutated Ly6a Infectivity Assay',\n",
    "           x_axis_label = 'Dose',\n",
    "           y_axis_label = 'Receptor',\n",
    "           width=400, \n",
    "           height=300)\n",
    "\n",
    "color_mapper = LinearColorMapper(palette = Viridis256, low = df_4_pt1['Total Brightness per Signal Area'].min(), high = df_4_pt1['Total Brightness per Signal Area'].max())\n",
    "\n",
    "color_bar = ColorBar(color_mapper = color_mapper,\n",
    "                     location = (0, 0),\n",
    "                     ticker = BasicTicker())\n",
    "\n",
    "p.add_layout(color_bar, 'right')\n",
    "\n",
    "p.scatter(x = 'Dose', y = 'Receptor', size = 'Percent Positive', fill_color = transform('Total Brightness per Signal Area', color_mapper), source = source)\n",
    "\n",
    "p.add_tools(HoverTool(tooltips = [('Round', '@Round'), ('Plate', '@Plate'), ('Well', '@Well'), ('Virus', '@Virus'), ('Receptor', '@Receptor'), ('Dose', '@Dose')]))\n",
    "\n",
    "p.xaxis.major_label_orientation = np.pi/2\n",
    "\n",
    "p.output_backend = \"svg\"\n",
    "\n",
    "show(p)"
   ]
  },
  {
   "cell_type": "code",
   "execution_count": null,
   "id": "6daba493",
   "metadata": {},
   "outputs": [],
   "source": [
    "min(df_4_pt1['Percent Positive']), max(df_4_pt1['Percent Positive']), min(df_4_pt1['Total Brightness per Signal Area']), max(df_4_pt1['Total Brightness per Signal Area'])"
   ]
  },
  {
   "cell_type": "code",
   "execution_count": null,
   "id": "2e8419d7",
   "metadata": {},
   "outputs": [],
   "source": [
    "inds = (df_reduced['Virus'] == '9P31') & (df_reduced['Round'] == 12) & (df_reduced['Dose'] != 1e10) \n",
    "\n",
    "df_4_pt2 = df_reduced.loc[inds]"
   ]
  },
  {
   "cell_type": "code",
   "execution_count": null,
   "id": "eb25b9ce",
   "metadata": {},
   "outputs": [],
   "source": [
    "# We need to convert the dose values to a string to allow us to plot catagorically\n",
    "df_4_pt2 = df_4_pt2.astype({\"Dose\": str})"
   ]
  },
  {
   "cell_type": "code",
   "execution_count": null,
   "id": "6d2bb825",
   "metadata": {},
   "outputs": [],
   "source": [
    "# We can determine the mean of each of the values\n",
    "df_4_pt2 = df_4_pt2.groupby(['Virus', 'Receptor', 'Dose']).mean().reset_index()"
   ]
  },
  {
   "cell_type": "code",
   "execution_count": null,
   "id": "43976176",
   "metadata": {},
   "outputs": [],
   "source": [
    "df_4_pt2"
   ]
  },
  {
   "cell_type": "code",
   "execution_count": null,
   "id": "74c3436b",
   "metadata": {},
   "outputs": [],
   "source": [
    "source = ColumnDataSource(df_4_pt2)\n",
    "\n",
    "p = figure(x_range = ['10000000.0',\n",
    "                      '100000000.0',\n",
    "                      '1000000000.0'],\n",
    "          y_range = ['msCar4 L71R',\n",
    "                     'msCar4'],\n",
    "           title = 'Mutated Car4 Infectivity Assay',\n",
    "           x_axis_label = 'Dose',\n",
    "           y_axis_label = 'Receptor',\n",
    "           width=400, \n",
    "           height=300)\n",
    "\n",
    "color_mapper = LinearColorMapper(palette = Viridis256, low = df_4_pt2['Total Brightness per Signal Area'].min(), high = df_4_pt2['Total Brightness per Signal Area'].max())\n",
    "\n",
    "color_bar = ColorBar(color_mapper = color_mapper,\n",
    "                     location = (0, 0),\n",
    "                     ticker = BasicTicker())\n",
    "\n",
    "p.add_layout(color_bar, 'right')\n",
    "\n",
    "p.scatter(x = 'Dose', y = 'Receptor', size = 'Percent Positive Scaled', fill_color = transform('Total Brightness per Signal Area', color_mapper), source = source)\n",
    "\n",
    "p.add_tools(HoverTool(tooltips = [('Round', '@Round'), ('Plate', '@Plate'), ('Well', '@Well'), ('Virus', '@Virus'), ('Receptor', '@Receptor'), ('Dose', '@Dose')]))\n",
    "\n",
    "p.xaxis.major_label_orientation = np.pi/2\n",
    "\n",
    "p.output_backend = \"svg\"\n",
    "\n",
    "show(p)"
   ]
  },
  {
   "cell_type": "code",
   "execution_count": null,
   "id": "b27553dc",
   "metadata": {},
   "outputs": [],
   "source": [
    "min(df_4_pt2['Percent Positive']), max(df_4_pt2['Percent Positive']), min(df_4_pt2['Total Brightness per Signal Area']), max(df_4_pt2['Total Brightness per Signal Area'])"
   ]
  },
  {
   "cell_type": "code",
   "execution_count": null,
   "id": "eb4273d0",
   "metadata": {},
   "outputs": [],
   "source": [
    "inds = (df_reduced['Dose'] == 1e9) & (df_reduced['Round'] == 10)\n",
    "\n",
    "df_4_pt3 = df_reduced.loc[inds]"
   ]
  },
  {
   "cell_type": "code",
   "execution_count": null,
   "id": "925273d9",
   "metadata": {},
   "outputs": [],
   "source": [
    "inds = (df_4_pt3['Virus'] == '9P31') | (df_4_pt3['Virus'] == '9P36')\n",
    "\n",
    "df_4_pt3 = df_4_pt3.loc[inds]"
   ]
  },
  {
   "cell_type": "code",
   "execution_count": null,
   "id": "15d931e2",
   "metadata": {},
   "outputs": [],
   "source": [
    "inds = (df_4_pt3['Receptor'] == 'Car4') | (df_4_pt3['Receptor'] == 'rsCar4') | (df_4_pt3['Receptor'] == 'hsCar4')\n",
    "\n",
    "df_4_pt3 = df_4_pt3.loc[inds]"
   ]
  },
  {
   "cell_type": "code",
   "execution_count": null,
   "id": "6912c045",
   "metadata": {},
   "outputs": [],
   "source": [
    "# We can determine the mean of each of the values\n",
    "df_4_pt3 = df_4_pt3.groupby(['Virus', 'Receptor', 'Dose']).mean().reset_index()"
   ]
  },
  {
   "cell_type": "code",
   "execution_count": null,
   "id": "759e55ba",
   "metadata": {},
   "outputs": [],
   "source": [
    "source = ColumnDataSource(df_4_pt3)\n",
    "\n",
    "p = figure(x_range = ['Car4',\n",
    "                     'rsCar4',\n",
    "                     'hsCar4'],\n",
    "          y_range = ['9P36',\n",
    "                     '9P31'],\n",
    "           title = 'Car4 comparison',\n",
    "           x_axis_label = 'Receptor',\n",
    "           y_axis_label = 'Virus',\n",
    "           width=400, \n",
    "           height=300)\n",
    "\n",
    "color_mapper = LinearColorMapper(palette = Viridis256, low = df_4_pt3['Total Brightness per Signal Area'].min(), high = df_4_pt3['Total Brightness per Signal Area'].max())\n",
    "\n",
    "color_bar = ColorBar(color_mapper = color_mapper,\n",
    "                     location = (0, 0),\n",
    "                     ticker = BasicTicker())\n",
    "\n",
    "p.add_layout(color_bar, 'right')\n",
    "\n",
    "p.scatter(x = 'Receptor', y = 'Virus', size = 'Percent Positive', fill_color = transform('Total Brightness per Signal Area', color_mapper), source = source)\n",
    "\n",
    "p.add_tools(HoverTool(tooltips = [('Round', '@Round'), ('Plate', '@Plate'), ('Well', '@Well'), ('Virus', '@Virus'), ('Receptor', '@Receptor'), ('Dose', '@Dose')]))\n",
    "\n",
    "p.xaxis.major_label_orientation = np.pi/2\n",
    "\n",
    "p.output_backend = \"svg\"\n",
    "\n",
    "show(p)"
   ]
  },
  {
   "cell_type": "code",
   "execution_count": null,
   "id": "f29f7845",
   "metadata": {},
   "outputs": [],
   "source": [
    "min(df_4_pt3['Percent Positive']), max(df_4_pt3['Percent Positive']), min(df_4_pt3['Total Brightness per Signal Area']), max(df_4_pt3['Total Brightness per Signal Area'])"
   ]
  },
  {
   "cell_type": "code",
   "execution_count": null,
   "id": "23c7b40e",
   "metadata": {},
   "outputs": [],
   "source": [
    "inds = (df_reduced['Round'] == 12)\n",
    "\n",
    "df_4_pt4 = df_reduced.loc[inds]"
   ]
  },
  {
   "cell_type": "code",
   "execution_count": null,
   "id": "28def4dd",
   "metadata": {},
   "outputs": [],
   "source": [
    "inds = (df_4_pt4['Virus'] == '9P31') | (df_4_pt4['Virus'] == '9P36')\n",
    "\n",
    "df_4_pt4 = df_4_pt4.loc[inds]"
   ]
  },
  {
   "cell_type": "code",
   "execution_count": null,
   "id": "16bace54",
   "metadata": {},
   "outputs": [],
   "source": [
    "# We need to convert the dose values to a string to allow us to plot catagorically\n",
    "df_4_pt4 = df_4_pt4.astype({\"Dose\": str})"
   ]
  },
  {
   "cell_type": "code",
   "execution_count": null,
   "id": "f82be539",
   "metadata": {},
   "outputs": [],
   "source": [
    "# We can determine the mean of each of the values\n",
    "df_4_pt4 = df_4_pt4.groupby(['Virus', 'Receptor', 'Dose']).mean().reset_index()"
   ]
  },
  {
   "cell_type": "code",
   "execution_count": null,
   "id": "c52f518a",
   "metadata": {},
   "outputs": [],
   "source": [
    "df_4_pt4"
   ]
  },
  {
   "cell_type": "code",
   "execution_count": null,
   "id": "4bc0d984",
   "metadata": {},
   "outputs": [],
   "source": [
    "for receptor in ['msCar4', 'huCar4', 'TM 118', 'TM 119', 'TM 120', 'TM 121']:\n",
    "    inds = (df_4_pt4['Receptor'] == receptor)\n",
    "    \n",
    "    source = ColumnDataSource(df_4_pt4[inds])\n",
    "\n",
    "    p = figure(x_range = ['9P31',\n",
    "                          '9P36'],\n",
    "              y_range = ['10000000.0',\n",
    "                         '100000000.0',\n",
    "                         '1000000000.0',\n",
    "                         '10000000000.0'],\n",
    "               title = receptor,\n",
    "               x_axis_label = 'Virus',\n",
    "               y_axis_label = 'Dose',\n",
    "               width=400, \n",
    "               height=400)\n",
    "\n",
    "    color_mapper = LinearColorMapper(palette = Viridis256, low = df_4_pt4['Total Brightness per Signal Area'].min(), high = df_4_pt4['Total Brightness per Signal Area'].max())\n",
    "\n",
    "    color_bar = ColorBar(color_mapper = color_mapper,\n",
    "                         location = (0, 0),\n",
    "                         ticker = BasicTicker())\n",
    "\n",
    "    p.add_layout(color_bar, 'right')\n",
    "\n",
    "    p.scatter(x = 'Virus', y = 'Dose', size = 'Percent Positive Scaled', fill_color = transform('Total Brightness per Signal Area', color_mapper), source = source)\n",
    "\n",
    "    p.add_tools(HoverTool(tooltips = [('Round', '@Round'), ('Plate', '@Plate'), ('Well', '@Well'), ('Virus', '@Virus'), ('Receptor', '@Receptor'), ('Dose', '@Dose')]))\n",
    "\n",
    "    p.xaxis.major_label_orientation = np.pi/2\n",
    "\n",
    "    p.output_backend = \"svg\"\n",
    "\n",
    "    show(p)"
   ]
  },
  {
   "cell_type": "code",
   "execution_count": null,
   "id": "0b0548e6",
   "metadata": {},
   "outputs": [],
   "source": [
    "inds = (df_reduced['Dose'] == 1e9) & (df_reduced['Round'] == 12)\n",
    "\n",
    "df_4_pt4 = df_reduced.loc[inds]"
   ]
  },
  {
   "cell_type": "code",
   "execution_count": null,
   "id": "996624f2",
   "metadata": {},
   "outputs": [],
   "source": [
    "inds = (df_4_pt4['Virus'] == '9P31') | (df_4_pt4['Virus'] == '9P36')\n",
    "\n",
    "df_4_pt4 = df_4_pt4.loc[inds]"
   ]
  },
  {
   "cell_type": "code",
   "execution_count": null,
   "id": "139a46cc",
   "metadata": {},
   "outputs": [],
   "source": [
    "inds = (df_4_pt4['Receptor'] == 'msCar4') | (df_4_pt4['Receptor'] == 'huCar4') | (df_4_pt4['Receptor'] == 'TM 118') | (df_4_pt4['Receptor'] == 'TM 119') | (df_4_pt4['Receptor'] == 'TM 120') | (df_4_pt4['Receptor'] == 'TM 121')\n",
    " \n",
    "df_4_pt4 = df_4_pt4.loc[inds]"
   ]
  },
  {
   "cell_type": "code",
   "execution_count": null,
   "id": "08e138cd",
   "metadata": {},
   "outputs": [],
   "source": [
    "# We can determine the mean of each of the values\n",
    "df_4_pt4 = df_4_pt4.groupby(['Virus', 'Receptor', 'Dose']).mean().reset_index()"
   ]
  },
  {
   "cell_type": "code",
   "execution_count": null,
   "id": "9b941ef0",
   "metadata": {},
   "outputs": [],
   "source": [
    "source = ColumnDataSource(df_4_pt4)\n",
    "\n",
    "p = figure(x_range = ['msCar4', \n",
    "                      'huCar4', \n",
    "                      'TM 118', \n",
    "                      'TM 119', \n",
    "                      'TM 120', \n",
    "                      'TM 121'],\n",
    "          y_range = ['9P36',\n",
    "                     '9P31'],\n",
    "           title = 'Receptor comparison',\n",
    "           x_axis_label = 'Receptor',\n",
    "           y_axis_label = 'Virus',\n",
    "           width=400, \n",
    "           height=300)\n",
    "\n",
    "color_mapper = LinearColorMapper(palette = Viridis256, low = df_4_pt4['Total Brightness per Signal Area'].min(), high = df_4_pt4['Total Brightness per Signal Area'].max())\n",
    "\n",
    "color_bar = ColorBar(color_mapper = color_mapper,\n",
    "                     location = (0, 0),\n",
    "                     ticker = BasicTicker())\n",
    "\n",
    "p.add_layout(color_bar, 'right')\n",
    "\n",
    "p.scatter(x = 'Receptor', y = 'Virus', size = 'Percent Positive Scaled', fill_color = transform('Total Brightness per Signal Area', color_mapper), source = source)\n",
    "\n",
    "p.add_tools(HoverTool(tooltips = [('Round', '@Round'), ('Plate', '@Plate'), ('Well', '@Well'), ('Virus', '@Virus'), ('Receptor', '@Receptor'), ('Dose', '@Dose')]))\n",
    "\n",
    "p.xaxis.major_label_orientation = np.pi/2\n",
    "\n",
    "p.output_backend = \"svg\"\n",
    "\n",
    "show(p)"
   ]
  },
  {
   "cell_type": "markdown",
   "id": "c58d3868",
   "metadata": {},
   "source": [
    "---------"
   ]
  },
  {
   "cell_type": "code",
   "execution_count": null,
   "id": "d7bbe296",
   "metadata": {},
   "outputs": [],
   "source": [
    "inds = (df_reduced['DMSO (%)'] == 0.3)\n",
    "\n",
    "df_x = df_reduced.loc[inds]"
   ]
  },
  {
   "cell_type": "code",
   "execution_count": null,
   "id": "52fd8cf4",
   "metadata": {},
   "outputs": [],
   "source": [
    "inds = df_x['Signal Area'].astype(float) < df_x['Bright Field Area']*1\n",
    "df_x_tempfix = df_x.loc[inds]"
   ]
  },
  {
   "cell_type": "code",
   "execution_count": null,
   "id": "69f960e5",
   "metadata": {},
   "outputs": [],
   "source": [
    "# We can determine the mean of each of the values\n",
    "df_x_grouped = df_x_tempfix.groupby(['Virus', 'Receptor', 'Dose', 'Brinzolamide (nM)']).mean().reset_index()"
   ]
  },
  {
   "cell_type": "code",
   "execution_count": null,
   "id": "457a6336",
   "metadata": {},
   "outputs": [],
   "source": [
    "df_x_grouped"
   ]
  },
  {
   "cell_type": "code",
   "execution_count": null,
   "id": "8779a8cc",
   "metadata": {},
   "outputs": [],
   "source": [
    "# We need to convert the dose values to a string to allow us to plot catagorically\n",
    "df_x_grouped = df_x_grouped.astype({\"Brinzolamide (nM)\": str})\n",
    "df_x_grouped = df_x_grouped.astype({\"Dose\": str})"
   ]
  },
  {
   "cell_type": "code",
   "execution_count": null,
   "id": "9466a837",
   "metadata": {},
   "outputs": [],
   "source": [
    "for receptor in ['msCar4', 'Ly6a']:\n",
    "    for virus in ['9P31', '9P36', 'PHP.eB']:\n",
    "        inds = (df_x_grouped['Receptor'] == receptor) & (df_x_grouped['Virus'] == virus)\n",
    "\n",
    "        source = ColumnDataSource(df_x_grouped[inds])\n",
    "\n",
    "        p = figure(x_range = ['500000000.0',\n",
    "                              '1000000000.0'],\n",
    "                  y_range = ['0.0',\n",
    "                             '1.0',\n",
    "                             '100.0',\n",
    "                             '300.0'],\n",
    "                   title = receptor + ' and ' + virus,\n",
    "                   x_axis_label = 'Virus',\n",
    "                   y_axis_label = 'Dose',\n",
    "                   width=300, \n",
    "                   height=400)\n",
    "\n",
    "        color_mapper = LinearColorMapper(palette = Viridis256, low = df_x_grouped[ 'Total Brightness per Signal Area'].min(), high = df_x_grouped['Total Brightness per Signal Area'].max())\n",
    "\n",
    "        color_bar = ColorBar(color_mapper = color_mapper,\n",
    "                             location = (0, 0),\n",
    "                             ticker = BasicTicker())\n",
    "\n",
    "        p.add_layout(color_bar, 'right')\n",
    "\n",
    "        p.scatter(x = 'Dose', y = 'Brinzolamide (nM)', size = 'Percent Positive Scaled', fill_color = transform('Total Brightness per Signal Area', color_mapper), source = source)\n",
    "\n",
    "        p.add_tools(HoverTool(tooltips = [('Round', '@Round'), ('Plate', '@Plate'), ('Well', '@Well'), ('Virus', '@Virus'), ('Receptor', '@Receptor'), ('Dose', '@Dose')]))\n",
    "\n",
    "        p.xaxis.major_label_orientation = np.pi/2\n",
    "\n",
    "        p.output_backend = \"svg\"\n",
    "\n",
    "        show(p)"
   ]
  },
  {
   "cell_type": "markdown",
   "id": "db7905f8",
   "metadata": {},
   "source": [
    "----------"
   ]
  },
  {
   "cell_type": "code",
   "execution_count": null,
   "id": "ad940745",
   "metadata": {},
   "outputs": [],
   "source": [
    "inds = (df_reduced['Round'] == 15) & (df_reduced['Dose'] == 1e9)\n",
    "df_y = df_reduced.loc[inds]"
   ]
  },
  {
   "cell_type": "code",
   "execution_count": null,
   "id": "d8af959c",
   "metadata": {},
   "outputs": [],
   "source": [
    "# We can determine the mean of each of the values\n",
    "df_y_grouped = df_y.groupby(['Virus', 'Receptor', 'Dose']).mean().reset_index()"
   ]
  },
  {
   "cell_type": "code",
   "execution_count": null,
   "id": "6cb62435",
   "metadata": {},
   "outputs": [],
   "source": [
    "inds = (df_y_grouped['Virus'] == 'TM126') | (df_y_grouped['Virus'] == 'TM127')\n",
    "\n",
    "df_y_grouped = df_y_grouped.loc[inds]"
   ]
  },
  {
   "cell_type": "code",
   "execution_count": null,
   "id": "dccb485e",
   "metadata": {},
   "outputs": [],
   "source": [
    "source = ColumnDataSource(df_y_grouped)\n",
    "\n",
    "p = figure(x_range = ['None',\n",
    "                      'msCar4',\n",
    "                      'rhCar4',\n",
    "                      'huCar4'],\n",
    "          y_range = ['TM127',\n",
    "                     'TM126'],\n",
    "           title = 'Car4 comparison',\n",
    "           x_axis_label = 'Receptor',\n",
    "           y_axis_label = 'Virus',\n",
    "           width=300, \n",
    "           height=300)\n",
    "\n",
    "color_mapper = LinearColorMapper(palette = Viridis256, low = df_y_grouped['Total Brightness per Signal Area'].min(), high = df_y_grouped['Total Brightness per Signal Area'].max())\n",
    "\n",
    "color_bar = ColorBar(color_mapper = color_mapper,\n",
    "                     location = (0, 0),\n",
    "                     ticker = BasicTicker())\n",
    "\n",
    "p.add_layout(color_bar, 'right')\n",
    "\n",
    "p.scatter(x = 'Receptor', y = 'Virus', size = 'Percent Positive', fill_color = transform('Total Brightness per Signal Area', color_mapper), source = source)\n",
    "\n",
    "p.add_tools(HoverTool(tooltips = [('Round', '@Round'), ('Plate', '@Plate'), ('Well', '@Well'), ('Virus', '@Virus'), ('Receptor', '@Receptor'), ('Dose', '@Dose')]))\n",
    "\n",
    "p.xaxis.major_label_orientation = np.pi/2\n",
    "\n",
    "p.output_backend = \"svg\"\n",
    "\n",
    "show(p)"
   ]
  },
  {
   "cell_type": "code",
   "execution_count": null,
   "id": "1b14c230",
   "metadata": {},
   "outputs": [],
   "source": [
    "# We can determine the mean of each of the values\n",
    "df_y_grouped = df_y.groupby(['Virus', 'Receptor', 'Dose']).mean().reset_index()"
   ]
  },
  {
   "cell_type": "code",
   "execution_count": null,
   "id": "90cb02ef",
   "metadata": {},
   "outputs": [],
   "source": [
    "inds = (df_y_grouped['Virus'] == 'RR045') | (df_y_grouped['Virus'] == 'RR475') | \\\n",
    "(df_y_grouped['Virus'] == 'RD4') | (df_y_grouped['Virus'] == 'RDC16') | (df_y_grouped['Virus'] == 'MP3') | (df_y_grouped['Virus'] == 'RDM18') | \\\n",
    "(df_y_grouped['Virus'] == 'MP1A') | (df_y_grouped['Virus'] == 'RDM5') | (df_y_grouped['Virus'] == 'RD2') | (df_y_grouped['Virus'] == 'RDC9') | \\\n",
    "(df_y_grouped['Virus'] == 'RM174') | (df_y_grouped['Virus'] == 'RD5') | (df_y_grouped['Virus'] == 'MR2') | (df_y_grouped['Virus'] == 'RDC8')| \\\n",
    "(df_y_grouped['Virus'] == 'MP13') | (df_y_grouped['Virus'] == 'RM222')\n",
    "\n",
    "df_y_grouped = df_y_grouped.loc[inds]"
   ]
  },
  {
   "cell_type": "code",
   "execution_count": null,
   "id": "403f0ffa",
   "metadata": {},
   "outputs": [],
   "source": [
    "source = ColumnDataSource(df_y_grouped)\n",
    "\n",
    "p = figure(x_range = ['None',\n",
    "                      'msCar4',\n",
    "                      'rhCar4',\n",
    "                      'huCar4'],\n",
    "          y_range = ['RR045',\n",
    "                     'RR475',\n",
    "                     'RD4',\n",
    "                     'RDC16',\n",
    "                     'MP3',\n",
    "                     'RDM18',\n",
    "                     'MP1A',\n",
    "                     'RDM5',\n",
    "                     'RD2',\n",
    "                     'RDC9',\n",
    "                     'RM174',\n",
    "                     'RD5',\n",
    "                     'MR2',\n",
    "                     'RDC8',\n",
    "                     'MP13',\n",
    "                     'RM222'],\n",
    "           title = 'Car4 comparison',\n",
    "           x_axis_label = 'Receptor',\n",
    "           y_axis_label = 'Virus',\n",
    "           width=300, \n",
    "           height=700)\n",
    "\n",
    "color_mapper = LinearColorMapper(palette = Viridis256, low = df_y_grouped['Total Brightness per Signal Area'].min(), high = df_y_grouped['Total Brightness per Signal Area'].max())\n",
    "\n",
    "color_bar = ColorBar(color_mapper = color_mapper,\n",
    "                     location = (0, 0),\n",
    "                     ticker = BasicTicker())\n",
    "\n",
    "p.add_layout(color_bar, 'right')\n",
    "\n",
    "p.scatter(x = 'Receptor', y = 'Virus', size = 'Percent Positive', fill_color = transform('Total Brightness per Signal Area', color_mapper), source = source)\n",
    "\n",
    "p.add_tools(HoverTool(tooltips = [('Round', '@Round'), ('Plate', '@Plate'), ('Well', '@Well'), ('Virus', '@Virus'), ('Receptor', '@Receptor'), ('Dose', '@Dose')]))\n",
    "\n",
    "p.xaxis.major_label_orientation = np.pi/2\n",
    "\n",
    "p.output_backend = \"svg\"\n",
    "\n",
    "show(p)"
   ]
  },
  {
   "cell_type": "markdown",
   "id": "0de8d2c0",
   "metadata": {},
   "source": [
    "----------------"
   ]
  },
  {
   "cell_type": "code",
   "execution_count": null,
   "id": "ef274e27",
   "metadata": {},
   "outputs": [],
   "source": [
    "# We want to make a new dataframe with just the 1e9 dose.\n",
    "# First, we can find the indices of these receptors.\n",
    "inds = (df_reduced['Round'] == 13) & (df_reduced['Dose'] == 1e9)\n",
    "\n",
    "# Make this a new dataframe df_edf5\n",
    "df_3c = df_reduced.loc[inds]"
   ]
  },
  {
   "cell_type": "code",
   "execution_count": null,
   "id": "84426d43",
   "metadata": {},
   "outputs": [],
   "source": [
    "# We can determine the mean of each of the values\n",
    "df_3c = df_3c.groupby(['Virus', 'Receptor', 'Dose']).mean().reset_index()"
   ]
  },
  {
   "cell_type": "code",
   "execution_count": null,
   "id": "11644fd5",
   "metadata": {
    "tags": []
   },
   "outputs": [],
   "source": [
    "source = ColumnDataSource(df_3c)\n",
    "\n",
    "p = figure(x_range = ['PHP.eB',\n",
    "                      'CAP-B10',\n",
    "                      'CAP-B22',\n",
    "                      '9P08',\n",
    "                      '9P16',\n",
    "                      'PHP.N',\n",
    "                      'PHP.C1',\n",
    "                      'PHP.C2',\n",
    "                      'PHP.C3',\n",
    "                      'PHP.C4',\n",
    "                      'AAV-F',\n",
    "                      '9P13',\n",
    "                      '9P33',\n",
    "                      '9P39'],\n",
    "          y_range = ['CD59',\n",
    "                     'Ly6S',\n",
    "                     'Lynx1',\n",
    "                     'Lypd5',\n",
    "                     'Ly6h',\n",
    "                     'Ly6e', \n",
    "                     'Ly6c1',\n",
    "                     'Ly6a'],\n",
    "           title = 'Receptor screen of Ly6 family',\n",
    "           y_axis_label = 'Receptor',\n",
    "           x_axis_label = 'Virus',\n",
    "           width=800, \n",
    "           height=400)\n",
    "\n",
    "color_mapper = LinearColorMapper(palette = Viridis256, low = df_3c['Total Brightness per Signal Area'].min(), high = df_3c['Total Brightness per Signal Area'].max())\n",
    "\n",
    "color_bar = ColorBar(color_mapper = color_mapper,\n",
    "                     location = (0, 0),\n",
    "                     ticker = BasicTicker())\n",
    "\n",
    "p.add_layout(color_bar, 'right')\n",
    "\n",
    "p.scatter(x = 'Virus', y = 'Receptor', size = 'Percent Positive', fill_color = transform('Total Brightness per Signal Area', color_mapper), source = source)\n",
    "\n",
    "p.add_tools(HoverTool(tooltips = [('Round', '@Round'), ('Plate', '@Plate'), ('Well', '@Well'), ('Virus', '@Virus'), ('Receptor', '@Receptor'), ('Dose', '@Dose')]))\n",
    "\n",
    "p.xaxis.major_label_orientation = np.pi/2\n",
    "\n",
    "p.output_backend = \"svg\"\n",
    "\n",
    "show(p)"
   ]
  },
  {
   "cell_type": "markdown",
   "id": "8359413b",
   "metadata": {},
   "source": [
    "--------------"
   ]
  },
  {
   "cell_type": "code",
   "execution_count": null,
   "id": "969a2153",
   "metadata": {},
   "outputs": [],
   "source": [
    "inds = (df_reduced['Round'] == 16) & (df_reduced['Dose'] == 1e9)\n",
    "df_z = df_reduced.loc[inds]"
   ]
  },
  {
   "cell_type": "code",
   "execution_count": null,
   "id": "b6d26b0f",
   "metadata": {},
   "outputs": [],
   "source": [
    "# We can determine the mean of each of the values\n",
    "df_z_grouped = df_z.groupby(['Virus', 'Receptor', 'Dose']).mean().reset_index()"
   ]
  },
  {
   "cell_type": "code",
   "execution_count": null,
   "id": "7dff1c56",
   "metadata": {},
   "outputs": [],
   "source": [
    "df_z_grouped['Virus'].unique()\n"
   ]
  },
  {
   "cell_type": "code",
   "execution_count": null,
   "id": "1f419209",
   "metadata": {},
   "outputs": [],
   "source": [
    "source = ColumnDataSource(df_z_grouped)\n",
    "\n",
    "p = figure(x_range = ['None',\n",
    "                      'msCar4',\n",
    "                      'rhCar4',\n",
    "                      'huCar4'],\n",
    "          y_range = ['TM127', 'TM126', '9P36', '9P31', 'PHP.eB'],\n",
    "           title = 'Car4 comparison',\n",
    "           x_axis_label = 'Receptor',\n",
    "           y_axis_label = 'Virus',\n",
    "           width=300, \n",
    "           height=800)\n",
    "\n",
    "color_mapper = LinearColorMapper(palette = Viridis256, low = df_z_grouped['Total Brightness per Signal Area'].min(), high = df_z_grouped['Total Brightness per Signal Area'].max())\n",
    "\n",
    "color_bar = ColorBar(color_mapper = color_mapper,\n",
    "                     location = (0, 0),\n",
    "                     ticker = BasicTicker())\n",
    "\n",
    "p.add_layout(color_bar, 'right')\n",
    "\n",
    "p.scatter(x = 'Receptor', y = 'Virus', size = 'Percent Positive', fill_color = transform('Total Brightness per Signal Area', color_mapper), source = source)\n",
    "\n",
    "p.add_tools(HoverTool(tooltips = [('Round', '@Round'), ('Plate', '@Plate'), ('Well', '@Well'), ('Virus', '@Virus'), ('Receptor', '@Receptor'), ('Dose', '@Dose')]))\n",
    "\n",
    "p.xaxis.major_label_orientation = np.pi/2\n",
    "\n",
    "#p.output_backend = \"svg\"\n",
    "\n",
    "show(p)"
   ]
  },
  {
   "cell_type": "code",
   "execution_count": null,
   "id": "21359543",
   "metadata": {},
   "outputs": [],
   "source": [
    "min(df_z_grouped['Percent Positive']), max(df_z_grouped['Percent Positive']), min(df_z_grouped['Total Brightness per Signal Area']), max(df_z_grouped['Total Brightness per Signal Area'])"
   ]
  },
  {
   "cell_type": "markdown",
   "id": "c5ea43ae",
   "metadata": {},
   "source": [
    "-----------------"
   ]
  },
  {
   "cell_type": "code",
   "execution_count": null,
   "id": "ea50ef49",
   "metadata": {},
   "outputs": [],
   "source": [
    "inds = (df_reduced['Round'] == 17) & (df_reduced['Dose'] == 1e9) & (df_reduced['Virus'].isin(['PHP.eB', 'CAP-B10', 'CAP-B22']))\n",
    "df_supp3c = df_reduced.loc[inds]"
   ]
  },
  {
   "cell_type": "code",
   "execution_count": null,
   "id": "ff1b9bc5",
   "metadata": {},
   "outputs": [],
   "source": [
    "# We can determine the mean of each of the values\n",
    "df_supp3c_grouped = df_supp3c.groupby(['Virus', 'Receptor', 'Dose']).mean().reset_index()"
   ]
  },
  {
   "cell_type": "code",
   "execution_count": null,
   "id": "bc43506b",
   "metadata": {},
   "outputs": [],
   "source": [
    "source = ColumnDataSource(df_supp3c_grouped)\n",
    "\n",
    "p = figure(x_range = ['None',\n",
    "                      'Ly6a',\n",
    "                      'Marmoset Ly6E',\n",
    "                      'Marmoset LyPD5',\n",
    "                      'Marmoset Lynx1',\n",
    "                      'Marmoset CD59'],\n",
    "          y_range = ['CAP-B22','CAP-B10', 'PHP.eB'],\n",
    "           title = 'Marmoset Receptor Comparison',\n",
    "           x_axis_label = 'Receptor',\n",
    "           y_axis_label = 'Virus',\n",
    "           width=400, \n",
    "           height=400)\n",
    "\n",
    "color_mapper = LinearColorMapper(palette = Viridis256, low = df_supp3c_grouped['Total Brightness per Signal Area'].min(), high = df_supp3c_grouped['Total Brightness per Signal Area'].max())\n",
    "\n",
    "color_bar = ColorBar(color_mapper = color_mapper,\n",
    "                     location = (0, 0),\n",
    "                     ticker = BasicTicker())\n",
    "\n",
    "p.add_layout(color_bar, 'right')\n",
    "\n",
    "p.scatter(x = 'Receptor', y = 'Virus', size = 'Percent Positive', fill_color = transform('Total Brightness per Signal Area', color_mapper), source = source)\n",
    "\n",
    "p.add_tools(HoverTool(tooltips = [('Round', '@Round'), ('Plate', '@Plate'), ('Well', '@Well'), ('Virus', '@Virus'), ('Receptor', '@Receptor'), ('Dose', '@Dose')]))\n",
    "\n",
    "p.xaxis.major_label_orientation = np.pi/2\n",
    "\n",
    "p.output_backend = \"svg\"\n",
    "\n",
    "show(p)"
   ]
  },
  {
   "cell_type": "code",
   "execution_count": null,
   "id": "50163baa-4140-454c-9937-095146ee40ff",
   "metadata": {},
   "outputs": [],
   "source": [
    "inds = (df_reduced['Round'] == 17) & (df_reduced['Dose'] == 1e9) & (df_reduced['Virus'].isin(['9P31', '9P36'])) & (df_reduced['Receptor'].isin(['None', 'msCar4', 'msCar4 L71A', 'msCar4 L71E', 'msCar4 L71R']))\n",
    "df_supp7b = df_reduced.loc[inds]"
   ]
  },
  {
   "cell_type": "code",
   "execution_count": null,
   "id": "4efa46ed-66d8-42d8-bbba-7d877dc3a762",
   "metadata": {},
   "outputs": [],
   "source": [
    "# We can determine the mean of each of the values\n",
    "df_supp7b_grouped = df_supp7b.groupby(['Virus', 'Receptor', 'Dose', 'Round']).mean().reset_index()"
   ]
  },
  {
   "cell_type": "code",
   "execution_count": null,
   "id": "ceb974a5",
   "metadata": {},
   "outputs": [],
   "source": [
    "source = ColumnDataSource(df_supp7b_grouped)\n",
    "\n",
    "p = figure(x_range = ['None',\n",
    "                      'msCar4', \n",
    "                      'msCar4 L71A',\n",
    "                      'msCar4 L71E'],\n",
    "           y_range = ['9P36',\n",
    "                      '9P31'],\n",
    "           title = 'Mouse Car4 Mutants',\n",
    "           x_axis_label = 'Receptor',\n",
    "           y_axis_label = 'Virus',\n",
    "           width=500, \n",
    "           height=400)\n",
    "\n",
    "color_mapper = LinearColorMapper(palette = Viridis256, low = df_supp7b_grouped['Total Brightness per Signal Area'].min(), high = df_supp7b_grouped['Total Brightness per Signal Area'].max())\n",
    "\n",
    "color_bar = ColorBar(color_mapper = color_mapper,\n",
    "                     location = (0, 0),\n",
    "                     ticker = BasicTicker())\n",
    "\n",
    "p.add_layout(color_bar, 'right')\n",
    "\n",
    "p.scatter(x = 'Receptor', y = 'Virus', size = 'Percent Positive', fill_color = transform('Total Brightness per Signal Area', color_mapper), source = source)\n",
    "\n",
    "p.add_tools(HoverTool(tooltips = [('Round', '@Round'), ('Plate', '@Plate'), ('Well', '@Well'), ('Virus', '@Virus'), ('Receptor', '@Receptor'), ('Dose', '@Dose')]))\n",
    "\n",
    "p.xaxis.major_label_orientation = np.pi/2\n",
    "\n",
    "p.output_backend = \"svg\"\n",
    "\n",
    "show(p)"
   ]
  },
  {
   "cell_type": "code",
   "execution_count": null,
   "id": "b8098fed-5af9-406d-8077-a69bfae8173c",
   "metadata": {
    "tags": []
   },
   "outputs": [],
   "source": [
    "inds = (df_reduced['Round'] == 12) & (df_reduced['Dose'] == 1e9) & (df_reduced['Virus'].isin(['9P31', '9P36'])) & (df_reduced['Receptor'].isin(['None', 'msCar4', 'msCar4 L71A', 'msCar4 L71E', 'msCar4 L71R']))\n",
    "df_supp7b = df_reduced.loc[inds]"
   ]
  },
  {
   "cell_type": "code",
   "execution_count": null,
   "id": "b74140ce-05b7-4440-80fb-166c706cadf4",
   "metadata": {
    "tags": []
   },
   "outputs": [],
   "source": [
    "# We can determine the mean of each of the values\n",
    "df_supp7b_grouped = df_supp7b.groupby(['Virus', 'Receptor', 'Dose', 'Round']).mean().reset_index()"
   ]
  },
  {
   "cell_type": "code",
   "execution_count": null,
   "id": "ba63f90e-1627-423c-91db-f421124061f8",
   "metadata": {
    "tags": []
   },
   "outputs": [],
   "source": [
    "source = ColumnDataSource(df_supp7b_grouped)\n",
    "\n",
    "p = figure(x_range = ['None',\n",
    "                      'msCar4', \n",
    "                      'msCar4 L71R'],\n",
    "           y_range = ['9P36',\n",
    "                      '9P31'],\n",
    "           title = 'Mouse Car4 Mutants',\n",
    "           x_axis_label = 'Receptor',\n",
    "           y_axis_label = 'Virus',\n",
    "           width=500, \n",
    "           height=400)\n",
    "\n",
    "color_mapper = LinearColorMapper(palette = Viridis256, low = df_supp7b_grouped['Total Brightness per Signal Area'].min(), high = df_supp7b_grouped['Total Brightness per Signal Area'].max())\n",
    "\n",
    "color_bar = ColorBar(color_mapper = color_mapper,\n",
    "                     location = (0, 0),\n",
    "                     ticker = BasicTicker())\n",
    "\n",
    "p.add_layout(color_bar, 'right')\n",
    "\n",
    "p.scatter(x = 'Receptor', y = 'Virus', size = 'Percent Positive', fill_color = transform('Total Brightness per Signal Area', color_mapper), source = source)\n",
    "\n",
    "p.add_tools(HoverTool(tooltips = [('Round', '@Round'), ('Plate', '@Plate'), ('Well', '@Well'), ('Virus', '@Virus'), ('Receptor', '@Receptor'), ('Dose', '@Dose')]))\n",
    "\n",
    "p.xaxis.major_label_orientation = np.pi/2\n",
    "\n",
    "p.output_backend = \"svg\"\n",
    "\n",
    "show(p)"
   ]
  },
  {
   "cell_type": "code",
   "execution_count": null,
   "id": "19d2e5b0-7149-42ad-95cc-98cc445bf37f",
   "metadata": {
    "tags": []
   },
   "outputs": [],
   "source": [
    "inds = (df_reduced['Round'] == 17) & (df_reduced['Dose'] == 1e9) & (df_reduced['Virus'] == 'PHP.C2') & (df_reduced['Receptor'].isin(['None', 'Ly6c1', 'Ly6c1 E31R', 'Ly6c1 Q56A', 'Ly6c1 S94E', 'Ly6c1 triple mutant']))\n",
    "df_supp7a = df_reduced.loc[inds]"
   ]
  },
  {
   "cell_type": "code",
   "execution_count": null,
   "id": "6aab630e-3a91-40bd-9de1-f0ad7f005bc8",
   "metadata": {
    "tags": []
   },
   "outputs": [],
   "source": [
    "# We can determine the mean of each of the values\n",
    "df_supp7a_grouped = df_supp7a.groupby(['Virus', 'Receptor', 'Dose']).mean().reset_index()"
   ]
  },
  {
   "cell_type": "code",
   "execution_count": null,
   "id": "d0e921c4",
   "metadata": {
    "jupyter": {
     "source_hidden": true
    },
    "tags": []
   },
   "outputs": [],
   "source": [
    "source = ColumnDataSource(df_supp7a_grouped)\n",
    "\n",
    "p = figure(x_range = ['None',\n",
    "                      'Ly6c1', \n",
    "                      'Ly6c1 E31R', \n",
    "                      'Ly6c1 Q56A',\n",
    "                      'Ly6c1 S94E'],\n",
    "          y_range = ['PHP.C2'],\n",
    "           title = 'Ly6c1 Mutants',\n",
    "           x_axis_label = 'Receptor',\n",
    "           y_axis_label = 'Virus',\n",
    "           width=600, \n",
    "           height=250)\n",
    "\n",
    "color_mapper = LinearColorMapper(palette = Viridis256, low = df_supp7a_grouped['Total Brightness per Signal Area'].min(), high = df_supp7a_grouped['Total Brightness per Signal Area'].max())\n",
    "\n",
    "color_bar = ColorBar(color_mapper = color_mapper,\n",
    "                     location = (0, 0),\n",
    "                     ticker = BasicTicker())\n",
    "\n",
    "p.add_layout(color_bar, 'right')\n",
    "\n",
    "p.scatter(x = 'Receptor', y = 'Virus', size = 'Percent Positive', fill_color = transform('Total Brightness per Signal Area', color_mapper), source = source)\n",
    "\n",
    "p.add_tools(HoverTool(tooltips = [('Round', '@Round'), ('Plate', '@Plate'), ('Well', '@Well'), ('Virus', '@Virus'), ('Receptor', '@Receptor'), ('Dose', '@Dose')]))\n",
    "\n",
    "p.xaxis.major_label_orientation = np.pi/2\n",
    "\n",
    "p.output_backend = \"svg\"\n",
    "\n",
    "show(p)"
   ]
  },
  {
   "cell_type": "code",
   "execution_count": null,
   "id": "b2065548",
   "metadata": {
    "tags": []
   },
   "outputs": [],
   "source": [
    "# source = ColumnDataSource(df_a_grouped)\n",
    "\n",
    "# p = figure(x_range = ['None',\n",
    "#                       'msCar4',\n",
    "#                       'msCar4 Q63G', \n",
    "#                       'rhCar4', \n",
    "#                       'rhCar4 G63Q',\n",
    "#                       'huCar4', \n",
    "#                       'huCar4 G63Q'],\n",
    "#           y_range = ['TTD-008',\n",
    "#                      'TTD-004',\n",
    "#                      'TTD-001',\n",
    "#                      '9P36',\n",
    "#                      '9P31'],\n",
    "#            title = 'Car4 species comparison with mutation',\n",
    "#            x_axis_label = 'Receptor',\n",
    "#            y_axis_label = 'Virus',\n",
    "#            width=700, \n",
    "#            height=500)\n",
    "\n",
    "# color_mapper = LinearColorMapper(palette = Viridis256, low = df_a_grouped['Total Brightness per Signal Area'].min(), high = df_a_grouped['Total Brightness per Signal Area'].max())\n",
    "\n",
    "# color_bar = ColorBar(color_mapper = color_mapper,\n",
    "#                      location = (0, 0),\n",
    "#                      ticker = BasicTicker())\n",
    "\n",
    "# p.add_layout(color_bar, 'right')\n",
    "\n",
    "# p.scatter(x = 'Receptor', y = 'Virus', size = 'Percent Positive', fill_color = transform('Total Brightness per Signal Area', color_mapper), source = source)\n",
    "\n",
    "# p.add_tools(HoverTool(tooltips = [('Round', '@Round'), ('Plate', '@Plate'), ('Well', '@Well'), ('Virus', '@Virus'), ('Receptor', '@Receptor'), ('Dose', '@Dose')]))\n",
    "\n",
    "# p.xaxis.major_label_orientation = np.pi/2\n",
    "\n",
    "# p.output_backend = \"svg\"\n",
    "\n",
    "# show(p)"
   ]
  },
  {
   "cell_type": "markdown",
   "id": "2e9ecc95-0aef-4d10-a5ba-54fe13469c50",
   "metadata": {},
   "source": [
    "-------------"
   ]
  },
  {
   "cell_type": "code",
   "execution_count": null,
   "id": "5cc4fa49",
   "metadata": {
    "tags": []
   },
   "outputs": [],
   "source": [
    "inds = (df_reduced['Round'] == 18) & (df_reduced['Dose'] == 1e9)\n",
    "df_b = df_reduced.loc[inds]"
   ]
  },
  {
   "cell_type": "code",
   "execution_count": null,
   "id": "016479be-696d-4cac-ac99-f35ee1034900",
   "metadata": {
    "tags": []
   },
   "outputs": [],
   "source": [
    "# We can determine the mean of each of the values\n",
    "df_b_grouped = df_b.groupby(['Virus', 'Receptor', 'Dose']).mean().reset_index()"
   ]
  },
  {
   "cell_type": "code",
   "execution_count": null,
   "id": "4fce802f-ad53-4a8f-8549-d00cff01cf36",
   "metadata": {
    "tags": []
   },
   "outputs": [],
   "source": [
    "source = ColumnDataSource(df_b_grouped)\n",
    "\n",
    "p = figure(x_range = ['None',\n",
    "                      'msCar4',\n",
    "                      #'huCar4',\n",
    "                      'TM 122',\n",
    "                      'TM 123'],\n",
    "          y_range = ['9P36',\n",
    "                     '9P31'],\n",
    "           title = 'Car4 species and mutants comparison',\n",
    "           x_axis_label = 'Receptor',\n",
    "           y_axis_label = 'Virus',\n",
    "           width=500, \n",
    "           height=300)\n",
    "\n",
    "color_mapper = LinearColorMapper(palette = Viridis256, low = df_b_grouped['Total Brightness per Signal Area'].min(), high = df_b_grouped['Total Brightness per Signal Area'].max())\n",
    "\n",
    "color_bar = ColorBar(color_mapper = color_mapper,\n",
    "                     location = (0, 0),\n",
    "                     ticker = BasicTicker())\n",
    "\n",
    "p.add_layout(color_bar, 'right')\n",
    "\n",
    "p.scatter(x = 'Receptor', y = 'Virus', size = 'Percent Positive', fill_color = transform('Total Brightness per Signal Area', color_mapper), source = source)\n",
    "\n",
    "p.add_tools(HoverTool(tooltips = [('Round', '@Round'), ('Plate', '@Plate'), ('Well', '@Well'), ('Virus', '@Virus'), ('Receptor', '@Receptor'), ('Dose', '@Dose')]))\n",
    "\n",
    "p.xaxis.major_label_orientation = np.pi/2\n",
    "\n",
    "p.output_backend = \"svg\"\n",
    "\n",
    "show(p)"
   ]
  }
 ],
 "metadata": {
  "kernelspec": {
   "display_name": "Python 3 (ipykernel)",
   "language": "python",
   "name": "python3"
  },
  "language_info": {
   "codemirror_mode": {
    "name": "ipython",
    "version": 3
   },
   "file_extension": ".py",
   "mimetype": "text/x-python",
   "name": "python",
   "nbconvert_exporter": "python",
   "pygments_lexer": "ipython3",
   "version": "3.8.11"
  }
 },
 "nbformat": 4,
 "nbformat_minor": 5
}
