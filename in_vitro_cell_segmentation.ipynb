{
 "cells": [
  {
   "cell_type": "code",
   "execution_count": null,
   "id": "7aa0406f-d98f-4312-b68a-d740183212bf",
   "metadata": {},
   "outputs": [],
   "source": [
    "# Basic imports\n",
    "import numpy as np\n",
    "import pandas as pd\n",
    "import skimage\n",
    "\n",
    "import glob\n",
    "import os\n",
    "\n",
    "import numba\n",
    "import time\n",
    "import datetime\n",
    "\n",
    "import cellseg"
   ]
  },
  {
   "cell_type": "markdown",
   "id": "e904157e-b990-408b-aa11-89fb74a867bc",
   "metadata": {},
   "source": [
    "# High-throughput in vitro image segmentation workflow"
   ]
  },
  {
   "cell_type": "markdown",
   "id": "ba2fdc81-24c0-40ba-aa8c-23abc1830628",
   "metadata": {},
   "source": [
    "The purpose of this code is to analyze a group of in vitro images for their overall transduction frequency and their brightness, to compare different virus based on their affinity to a receptor.\n",
    "\n",
    "This code was written by David Goertsen in the  Gradinaru Lab, 2022, to analyze images from the following publication: \n",
    "\n",
    "---"
   ]
  },
  {
   "cell_type": "markdown",
   "id": "1465032d-b8c4-4e17-8b36-9dfb03cef5f0",
   "metadata": {},
   "source": [
    "For the pipeline, files are organized in a folders by the Round (which are generally a group of experiments), Plate (which would contain at most 96 conditions), and Well (which would be a specific condition). To analyze this data, we first want to use a look up table to obtain the `Round`, `Plate`, and `Well` data.  "
   ]
  },
  {
   "cell_type": "code",
   "execution_count": null,
   "id": "d46ef12e-1382-45a5-850a-2c9573aa0e6c",
   "metadata": {},
   "outputs": [],
   "source": [
    "# Read the CSV file into a pandas dataframe\n",
    "df_lut = pd.read_csv('data/quantification/20220829_data_lookup_table.csv', comment='#')"
   ]
  },
  {
   "cell_type": "markdown",
   "id": "d711b5b5-2f2c-4cc8-8575-f7c5dd9d8421",
   "metadata": {},
   "source": [
    "If you are running your own images, or want to run a subset of the images, the following code block facilitates this sort of analysis. "
   ]
  },
  {
   "cell_type": "code",
   "execution_count": null,
   "id": "9031c814-069d-4181-b7bc-9d4ff45b340f",
   "metadata": {},
   "outputs": [],
   "source": [
    "## To run a specific round/plate/well:\n",
    "# inds = ((df_lut['Round'] == 3) & (df_lut['Plate'] == 7) & (df_lut['Well'] == 59))\n",
    "# df_lut = df_lut.loc[inds]\n",
    "\n",
    "## To run all cells up to a point in the table, use the following: \n",
    "# df_lut = df_lut.loc[inds]\n",
    "# df_lut = df_lut[:8023]"
   ]
  },
  {
   "cell_type": "markdown",
   "id": "34527148-dad8-4639-a23f-29a0a109acb0",
   "metadata": {},
   "source": [
    "Not all of the wells are filled, so we want to make sure the `Include` condition is set for these data. If an imaging error occured, you can exclude those wells in the Look Up Table."
   ]
  },
  {
   "cell_type": "code",
   "execution_count": null,
   "id": "f3597880-aa8d-4c18-8128-83e4eb4c7589",
   "metadata": {},
   "outputs": [],
   "source": [
    "# Only consider the wells marked to include\n",
    "inds = (df_lut['Include'] == True) \n",
    "df_lut = df_lut.loc[inds]\n",
    "\n",
    "#Display the table\n",
    "df_lut.head()"
   ]
  },
  {
   "cell_type": "markdown",
   "id": "78bf9801-c000-489f-afe8-18115e4f8882",
   "metadata": {},
   "source": [
    "Next, we want to create the dataframe that we will use for the analysis. If you are continuing a previously interrupted analysis, you can instead set the dataframe as what was used previously. "
   ]
  },
  {
   "cell_type": "code",
   "execution_count": null,
   "id": "ae2b8972-c2ad-4f8b-b780-c20b9a765d89",
   "metadata": {},
   "outputs": [],
   "source": [
    "# Initialize a dataframe\n",
    "df = pd.DataFrame(columns=['Date',\n",
    "                           'Round',\n",
    "                           'Plate',\n",
    "                           'Well',\n",
    "                           'Count',\n",
    "                           'Cells Quantified',\n",
    "                           'Brightness List',\n",
    "                           'Bright Field Area',\n",
    "                           'Signal Area',\n",
    "                           'Total Brightness',\n",
    "                           'Median Cell Brightness',\n",
    "                           '90% Confidence Interval'])\n",
    "\n",
    "# # or, use an old dataframe (FILL IN THE NAME)\n",
    "#df = pd.read_csv('data/quantification/OLD-DATAFRAME-NAME.csv', comment='#')\n"
   ]
  },
  {
   "cell_type": "markdown",
   "id": "be0184ca-1d9f-424b-bb06-a52ae47bff75",
   "metadata": {},
   "source": [
    "Then, we want to cycle through the images, get the data from them, and add it to the dataframe that we've set. We will save the dataframe after each well (just in case something fails). "
   ]
  },
  {
   "cell_type": "code",
   "execution_count": null,
   "id": "06520d09-58b7-43ba-a894-b79dbffd2081",
   "metadata": {},
   "outputs": [],
   "source": [
    "# Set the directory location for the images, which would then contain a series of folders as: 'data/images/round_1/plate_1/XY01/' \n",
    "directory = 'data/images'\n",
    "\n",
    "# Cycle through the rows in the look up table\n",
    "for index, row in df_lut.iterrows():\n",
    "    \n",
    "    #Get the file location:\n",
    "    if row['Well'] < 10:\n",
    "        well_directory = directory + '/round_' + str(row['Round']) + '/plate_' + str(row['Plate']) + '/XY0' + str(row['Well']) +'/'\n",
    "    else:\n",
    "        well_directory = directory + '/round_' + str(row['Round']) + '/plate_' + str(row['Plate']) + '/XY' + str(row['Well']) +'/'\n",
    "        \n",
    "    #Collect all the images from the final folder (there should be four images), although only two will be used.\n",
    "    file_list = glob.glob(well_directory + '*.tif')\n",
    "\n",
    "    # If there are less than four images, the code jumps to the next folder\n",
    "    if len(file_list) == 4:\n",
    "        \n",
    "        # Initialize the images\n",
    "        im_sig = skimage.img_as_float(skimage.io.imread(file_list[0])[:,:,1])\n",
    "        im_bf = skimage.img_as_float(skimage.io.imread(file_list[1])[:,:])\n",
    "        im_dapi = skimage.img_as_float(skimage.io.imread(file_list[2])[:,:,2])\n",
    "\n",
    "        # Collect data from the image by running it through the cellseg.quant package. For more information, see that code.  \n",
    "        n_cells, cell_list, cell_intensity_list, bf_area, signal_area, total_brightness, median, nintyfifth, fifth  = cellseg.quant.in_vitro_quantification(im_bf, im_sig)\n",
    "\n",
    "        # Write all the information into a tidy dataframe\n",
    "        df = df.append({'Date' : datetime.datetime.now(),\n",
    "                        'Round': row['Round'],\n",
    "                        'Plate': row['Plate'],\n",
    "                        'Well': row['Well'], \n",
    "                        'Count' : int(n_cells),\n",
    "                        'Cells Quantified' : cell_list, \n",
    "                        'Brightness List': cell_intensity_list, \n",
    "                        'Bright Field Area': bf_area,\n",
    "                        'Signal Area': signal_area,\n",
    "                        'Total Brightness': total_brightness,\n",
    "                        'Median Cell Brightness': median, \n",
    "                        '90% Confidence Interval': [fifth, nintyfifth]},\n",
    "                       ignore_index=True)\n",
    "\n",
    "        # Save the dataframe (commented out to avoid overwriting)\n",
    "        df.to_csv('data/quantification/20220901-data.csv', index=False)\n",
    "\n",
    "    else:\n",
    "        continue\n",
    "\n",
    "    # Print that the well was completed. This could be adapted to be more intricate, but is not necessary for anything. \n",
    "    print('Analysis for round %s, plate %s, well %s completed' % (str(row['Round']), str(row['Plate']), str(row['Well'])))\n"
   ]
  }
 ],
 "metadata": {
  "kernelspec": {
   "display_name": "Python 3 (ipykernel)",
   "language": "python",
   "name": "python3"
  },
  "language_info": {
   "codemirror_mode": {
    "name": "ipython",
    "version": 3
   },
   "file_extension": ".py",
   "mimetype": "text/x-python",
   "name": "python",
   "nbconvert_exporter": "python",
   "pygments_lexer": "ipython3",
   "version": "3.8.11"
  }
 },
 "nbformat": 4,
 "nbformat_minor": 5
}
