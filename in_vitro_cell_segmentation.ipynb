{
 "cells": [
  {
   "cell_type": "code",
   "execution_count": 1,
   "id": "67ba0b68",
   "metadata": {},
   "outputs": [],
   "source": [
    "# Basic imports\n",
    "import numpy as np\n",
    "import pandas as pd\n",
    "\n",
    "import cellseg"
   ]
  },
  {
   "cell_type": "markdown",
   "id": "f63c8ee5",
   "metadata": {},
   "source": [
    "# High-throughput in vitro image segmentation workflow"
   ]
  },
  {
   "cell_type": "markdown",
   "id": "62c159ee",
   "metadata": {},
   "source": [
    "The purpose of this code is to analyze a group of in vitro images for their overall transduction frequency and their brightness, to compare different virus based on their affinity to a receptor.\n",
    "\n",
    "This specific notebook takes in a look up table containing experimental data, obtains images from a data directory using that information, and runs an image analysis workflow over those images to determine important characteristics about it. To test the same workflow on single images, please use the `analysis_pipeline.ipynb` notebook.\n",
    "\n",
    "---"
   ]
  },
  {
   "cell_type": "markdown",
   "id": "b8d906ae",
   "metadata": {},
   "source": [
    "For the pipeline, files are organized in a folders by the Round (which are generally a group of experiments), Plate (which would contain at most 96 conditions), and Well (which would be a specific condition). To analyze this data, we first want to use a look up table to obtain the `Round`, `Plate`, and `Well` data. "
   ]
  },
  {
   "cell_type": "code",
   "execution_count": 2,
   "id": "a50bd5b7-72b1-44ea-937b-8e002555c025",
   "metadata": {},
   "outputs": [],
   "source": [
    "# We can start by indicating the filepath for the data look up table:\n",
    "lut_filepath = 'data/quantification/20220927_data_lookup_table.csv'\n",
    "\n",
    "# Read the CSV file into a pandas dataframe\n",
    "df_lut = pd.read_csv(lut_filepath, comment='#')"
   ]
  },
  {
   "cell_type": "markdown",
   "id": "7ecedda8",
   "metadata": {},
   "source": [
    "If you are running your own images, or want to run a subset of the images, manipulation of the following code blocks facilitates this sort of analysis. Otherwise, all the images will be analyzed each time. To run a specific round/plate/well, we can set an index with that information. For example, to run a single well (i.e. Round 18, Plate 7, Well 59), the index would be written as follows (commented out to only apply as desired):"
   ]
  },
  {
   "cell_type": "code",
   "execution_count": 3,
   "id": "027097b1",
   "metadata": {},
   "outputs": [],
   "source": [
    "# # Set an index of a subset of the data.\n",
    "# inds = (df_lut['Round'] == 18) & (df_lut['Plate'] == 7) & (df_lut['Well'] == 59))\n",
    "\n",
    "# # Create a dataframe with those indices:\n",
    "# df_lut = df_lut.loc[inds]"
   ]
  },
  {
   "cell_type": "markdown",
   "id": "c8ee6176-6a13-478f-a116-ce84a1c0a5c8",
   "metadata": {},
   "source": [
    "If we wanted to instead run all the cells up to a certain point, we could define the index as follows: "
   ]
  },
  {
   "cell_type": "code",
   "execution_count": 4,
   "id": "147a9378-2457-4b0b-899d-43f28ceeac30",
   "metadata": {},
   "outputs": [],
   "source": [
    "# # To run all cells up to a point in the table, use the following: \n",
    "# df_lut = df_lut[:8023]"
   ]
  },
  {
   "cell_type": "markdown",
   "id": "be8a3a62",
   "metadata": {},
   "source": [
    "Not all of the wells are filled, so we want to make sure the `Include` condition is set for these data. If an imaging error occured, you can exclude those wells in the look up table."
   ]
  },
  {
   "cell_type": "code",
   "execution_count": 5,
   "id": "5c079ec7",
   "metadata": {},
   "outputs": [
    {
     "data": {
      "text/html": [
       "<div>\n",
       "<style scoped>\n",
       "    .dataframe tbody tr th:only-of-type {\n",
       "        vertical-align: middle;\n",
       "    }\n",
       "\n",
       "    .dataframe tbody tr th {\n",
       "        vertical-align: top;\n",
       "    }\n",
       "\n",
       "    .dataframe thead th {\n",
       "        text-align: right;\n",
       "    }\n",
       "</style>\n",
       "<table border=\"1\" class=\"dataframe\">\n",
       "  <thead>\n",
       "    <tr style=\"text-align: right;\">\n",
       "      <th></th>\n",
       "      <th>Round</th>\n",
       "      <th>Plate</th>\n",
       "      <th>Well</th>\n",
       "      <th>Virus</th>\n",
       "      <th>Receptor</th>\n",
       "      <th>Include</th>\n",
       "      <th>Dose</th>\n",
       "      <th>DMSO (%)</th>\n",
       "      <th>Brinzolamide (nM)</th>\n",
       "    </tr>\n",
       "  </thead>\n",
       "  <tbody>\n",
       "    <tr>\n",
       "      <th>0</th>\n",
       "      <td>1</td>\n",
       "      <td>1</td>\n",
       "      <td>1</td>\n",
       "      <td>PHP.eB</td>\n",
       "      <td>Ly6a</td>\n",
       "      <td>True</td>\n",
       "      <td>1.000000e+09</td>\n",
       "      <td>0.0</td>\n",
       "      <td>0.0</td>\n",
       "    </tr>\n",
       "    <tr>\n",
       "      <th>1</th>\n",
       "      <td>1</td>\n",
       "      <td>1</td>\n",
       "      <td>2</td>\n",
       "      <td>PHP.eB</td>\n",
       "      <td>Ly6a</td>\n",
       "      <td>True</td>\n",
       "      <td>1.000000e+09</td>\n",
       "      <td>0.0</td>\n",
       "      <td>0.0</td>\n",
       "    </tr>\n",
       "    <tr>\n",
       "      <th>2</th>\n",
       "      <td>1</td>\n",
       "      <td>1</td>\n",
       "      <td>3</td>\n",
       "      <td>PHP.eB</td>\n",
       "      <td>Ly6a</td>\n",
       "      <td>True</td>\n",
       "      <td>1.000000e+09</td>\n",
       "      <td>0.0</td>\n",
       "      <td>0.0</td>\n",
       "    </tr>\n",
       "    <tr>\n",
       "      <th>3</th>\n",
       "      <td>1</td>\n",
       "      <td>1</td>\n",
       "      <td>4</td>\n",
       "      <td>PHP.eB</td>\n",
       "      <td>Ly6a</td>\n",
       "      <td>True</td>\n",
       "      <td>5.000000e+08</td>\n",
       "      <td>0.0</td>\n",
       "      <td>0.0</td>\n",
       "    </tr>\n",
       "    <tr>\n",
       "      <th>4</th>\n",
       "      <td>1</td>\n",
       "      <td>1</td>\n",
       "      <td>5</td>\n",
       "      <td>PHP.eB</td>\n",
       "      <td>Ly6a</td>\n",
       "      <td>True</td>\n",
       "      <td>5.000000e+08</td>\n",
       "      <td>0.0</td>\n",
       "      <td>0.0</td>\n",
       "    </tr>\n",
       "    <tr>\n",
       "      <th>...</th>\n",
       "      <td>...</td>\n",
       "      <td>...</td>\n",
       "      <td>...</td>\n",
       "      <td>...</td>\n",
       "      <td>...</td>\n",
       "      <td>...</td>\n",
       "      <td>...</td>\n",
       "      <td>...</td>\n",
       "      <td>...</td>\n",
       "    </tr>\n",
       "    <tr>\n",
       "      <th>12491</th>\n",
       "      <td>18</td>\n",
       "      <td>1</td>\n",
       "      <td>65</td>\n",
       "      <td>9P36</td>\n",
       "      <td>None</td>\n",
       "      <td>True</td>\n",
       "      <td>1.000000e+09</td>\n",
       "      <td>0.0</td>\n",
       "      <td>0.0</td>\n",
       "    </tr>\n",
       "    <tr>\n",
       "      <th>12492</th>\n",
       "      <td>18</td>\n",
       "      <td>1</td>\n",
       "      <td>66</td>\n",
       "      <td>9P36</td>\n",
       "      <td>None</td>\n",
       "      <td>True</td>\n",
       "      <td>1.000000e+09</td>\n",
       "      <td>0.0</td>\n",
       "      <td>0.0</td>\n",
       "    </tr>\n",
       "    <tr>\n",
       "      <th>12493</th>\n",
       "      <td>18</td>\n",
       "      <td>1</td>\n",
       "      <td>67</td>\n",
       "      <td>9P36</td>\n",
       "      <td>None</td>\n",
       "      <td>True</td>\n",
       "      <td>5.000000e+08</td>\n",
       "      <td>0.0</td>\n",
       "      <td>0.0</td>\n",
       "    </tr>\n",
       "    <tr>\n",
       "      <th>12494</th>\n",
       "      <td>18</td>\n",
       "      <td>1</td>\n",
       "      <td>68</td>\n",
       "      <td>9P36</td>\n",
       "      <td>None</td>\n",
       "      <td>True</td>\n",
       "      <td>5.000000e+08</td>\n",
       "      <td>0.0</td>\n",
       "      <td>0.0</td>\n",
       "    </tr>\n",
       "    <tr>\n",
       "      <th>12495</th>\n",
       "      <td>18</td>\n",
       "      <td>1</td>\n",
       "      <td>69</td>\n",
       "      <td>9P36</td>\n",
       "      <td>None</td>\n",
       "      <td>True</td>\n",
       "      <td>5.000000e+08</td>\n",
       "      <td>0.0</td>\n",
       "      <td>0.0</td>\n",
       "    </tr>\n",
       "  </tbody>\n",
       "</table>\n",
       "<p>10768 rows × 9 columns</p>\n",
       "</div>"
      ],
      "text/plain": [
       "       Round  Plate  Well   Virus Receptor Include          Dose  DMSO (%)  \\\n",
       "0          1      1     1  PHP.eB     Ly6a    True  1.000000e+09       0.0   \n",
       "1          1      1     2  PHP.eB     Ly6a    True  1.000000e+09       0.0   \n",
       "2          1      1     3  PHP.eB     Ly6a    True  1.000000e+09       0.0   \n",
       "3          1      1     4  PHP.eB     Ly6a    True  5.000000e+08       0.0   \n",
       "4          1      1     5  PHP.eB     Ly6a    True  5.000000e+08       0.0   \n",
       "...      ...    ...   ...     ...      ...     ...           ...       ...   \n",
       "12491     18      1    65    9P36     None    True  1.000000e+09       0.0   \n",
       "12492     18      1    66    9P36     None    True  1.000000e+09       0.0   \n",
       "12493     18      1    67    9P36     None    True  5.000000e+08       0.0   \n",
       "12494     18      1    68    9P36     None    True  5.000000e+08       0.0   \n",
       "12495     18      1    69    9P36     None    True  5.000000e+08       0.0   \n",
       "\n",
       "       Brinzolamide (nM)  \n",
       "0                    0.0  \n",
       "1                    0.0  \n",
       "2                    0.0  \n",
       "3                    0.0  \n",
       "4                    0.0  \n",
       "...                  ...  \n",
       "12491                0.0  \n",
       "12492                0.0  \n",
       "12493                0.0  \n",
       "12494                0.0  \n",
       "12495                0.0  \n",
       "\n",
       "[10768 rows x 9 columns]"
      ]
     },
     "execution_count": 5,
     "metadata": {},
     "output_type": "execute_result"
    }
   ],
   "source": [
    "# Only consider the wells marked to include\n",
    "inds = (df_lut['Include'] == True) \n",
    "df_lut = df_lut.loc[inds]\n",
    "\n",
    "#Display the table\n",
    "df_lut"
   ]
  },
  {
   "cell_type": "markdown",
   "id": "9157b40c-abd9-4a0a-9d04-fa055d6f0aff",
   "metadata": {},
   "source": [
    "Next, we want to run the image analysis workflow over our images. To do this, we need to specify a number of things. First, we need to supply the look up table `df_lut`. Then, we want to supply the data directory of the images we want to analyze. Next, we want to indicate the name of the output file, as a data path. Finally, we want to indicate whether there is an input file or not. \n",
    "\n",
    "Typically, you will have a previously run data file that you will want to update. To update this, first ensure that the supplied look up table doesn't overlap with the one you have set. Second, set `input_file` to the path of the data directory you want to update.\n",
    "\n",
    "The cell below will then run the lookup table over the images in the data directory you set. It will save the data as a .csv file in the location you specify. A progress bar will indicate the progress (it will take a few seconds per well). "
   ]
  },
  {
   "cell_type": "code",
   "execution_count": null,
   "id": "edcbbc52-a3a6-4f5e-9ce3-2c927e8e8a45",
   "metadata": {},
   "outputs": [],
   "source": [
    "cellseg.quant.workflow(df_lut, 'data/images', 'data/quantification/20230105-data.csv', input_file = None)"
   ]
  },
  {
   "cell_type": "markdown",
   "id": "19a467f0-19cb-4ebe-8aa8-c8f16d3397da",
   "metadata": {},
   "source": [
    "The output (besides the saved data csv), is a dataframe that you can further work with if necessary. "
   ]
  }
 ],
 "metadata": {
  "kernelspec": {
   "display_name": "Python 3 (ipykernel)",
   "language": "python",
   "name": "python3"
  },
  "language_info": {
   "codemirror_mode": {
    "name": "ipython",
    "version": 3
   },
   "file_extension": ".py",
   "mimetype": "text/x-python",
   "name": "python",
   "nbconvert_exporter": "python",
   "pygments_lexer": "ipython3",
   "version": "3.10.7"
  }
 },
 "nbformat": 4,
 "nbformat_minor": 5
}
